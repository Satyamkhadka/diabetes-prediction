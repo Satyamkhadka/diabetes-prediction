{
 "cells": [
  {
   "cell_type": "code",
   "execution_count": null,
   "id": "bd5a38af",
   "metadata": {},
   "outputs": [],
   "source": [
    "pip install autoviz\n",
    "from autoviz.AutoViz_Class import AutoViz_Class#Instantiate the AutoViz class\n",
    "AV = AutoViz_Class()"
   ]
  },
  {
   "cell_type": "code",
   "execution_count": null,
   "id": "4d944411",
   "metadata": {},
   "outputs": [],
   "source": []
  }
 ],
 "metadata": {
  "kernelspec": {
   "display_name": ".env",
   "language": "python",
   "name": ".env"
  },
  "language_info": {
   "codemirror_mode": {
    "name": "ipython",
    "version": 3
   },
   "file_extension": ".py",
   "mimetype": "text/x-python",
   "name": "python",
   "nbconvert_exporter": "python",
   "pygments_lexer": "ipython3",
   "version": "3.8.10"
  }
 },
 "nbformat": 4,
 "nbformat_minor": 5
}
