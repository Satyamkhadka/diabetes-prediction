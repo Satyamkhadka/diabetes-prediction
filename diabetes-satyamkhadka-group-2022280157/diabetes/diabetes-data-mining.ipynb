{
 "cells": [
  {
   "cell_type": "code",
   "execution_count": 167,
   "id": "02e66c26",
   "metadata": {
    "_cell_guid": "b1076dfc-b9ad-4769-8c92-a6c4dae69d19",
    "_kg_hide-input": true,
    "_uuid": "8f2839f25d086af736a60e9eeb907d3b93b6e0e5",
    "execution": {
     "iopub.execute_input": "2022-11-11T21:11:00.936644Z",
     "iopub.status.busy": "2022-11-11T21:11:00.935964Z",
     "iopub.status.idle": "2022-11-11T21:11:00.958515Z",
     "shell.execute_reply": "2022-11-11T21:11:00.957261Z"
    },
    "papermill": {
     "duration": 0.053365,
     "end_time": "2022-11-11T21:11:00.961239",
     "exception": false,
     "start_time": "2022-11-11T21:11:00.907874",
     "status": "completed"
    },
    "tags": []
   },
   "outputs": [],
   "source": [
    "import numpy as np # array function\n",
    "import pandas as pd # for tabular\n"
   ]
  },
  {
   "cell_type": "code",
   "execution_count": 168,
   "id": "ed5a5787",
   "metadata": {
    "execution": {
     "iopub.execute_input": "2022-11-11T21:11:01.152502Z",
     "iopub.status.busy": "2022-11-11T21:11:01.152069Z",
     "iopub.status.idle": "2022-11-11T21:11:02.865614Z",
     "shell.execute_reply": "2022-11-11T21:11:02.864364Z"
    },
    "papermill": {
     "duration": 1.739246,
     "end_time": "2022-11-11T21:11:02.868705",
     "exception": false,
     "start_time": "2022-11-11T21:11:01.129459",
     "status": "completed"
    },
    "tags": []
   },
   "outputs": [],
   "source": [
    "import warnings\n",
    "warnings.filterwarnings('ignore') #ignore warning messages\n",
    "from sklearn.preprocessing import MinMaxScaler #minmax for age\n",
    "from sklearn.model_selection import train_test_split,cross_val_score \n",
    "from sklearn.linear_model import LogisticRegression\n",
    "from sklearn.metrics import  accuracy_score, f1_score, precision_score,confusion_matrix, recall_score, roc_auc_score #metrics\n",
    "from sklearn.ensemble import RandomForestClassifier\n",
    "from sklearn.svm import SVC\n",
    "import matplotlib.pyplot as pplot\n",
    "%matplotlib inline\n",
    "import seaborn as sbn\n",
    "from sklearn.model_selection import train_test_split\n",
    "from sklearn import model_selection\n",
    "from sklearn.metrics import classification_report\n",
    "from sklearn.naive_bayes import GaussianNB\n",
    "from sklearn.neighbors import KNeighborsClassifier\n",
    "from sklearn import metrics"
   ]
  },
  {
   "cell_type": "code",
   "execution_count": 169,
   "id": "7dc7169e",
   "metadata": {
    "execution": {
     "iopub.execute_input": "2022-11-11T21:11:02.958901Z",
     "iopub.status.busy": "2022-11-11T21:11:02.958231Z",
     "iopub.status.idle": "2022-11-11T21:11:03.001583Z",
     "shell.execute_reply": "2022-11-11T21:11:03.000642Z"
    },
    "papermill": {
     "duration": 0.069282,
     "end_time": "2022-11-11T21:11:03.003909",
     "exception": false,
     "start_time": "2022-11-11T21:11:02.934627",
     "status": "completed"
    },
    "tags": []
   },
   "outputs": [
    {
     "data": {
      "text/html": [
       "<div>\n",
       "<style scoped>\n",
       "    .dataframe tbody tr th:only-of-type {\n",
       "        vertical-align: middle;\n",
       "    }\n",
       "\n",
       "    .dataframe tbody tr th {\n",
       "        vertical-align: top;\n",
       "    }\n",
       "\n",
       "    .dataframe thead th {\n",
       "        text-align: right;\n",
       "    }\n",
       "</style>\n",
       "<table border=\"1\" class=\"dataframe\">\n",
       "  <thead>\n",
       "    <tr style=\"text-align: right;\">\n",
       "      <th></th>\n",
       "      <th>Age</th>\n",
       "      <th>Gender</th>\n",
       "      <th>Polyuria</th>\n",
       "      <th>Polydipsia</th>\n",
       "      <th>sudden weight loss</th>\n",
       "      <th>weakness</th>\n",
       "      <th>Polyphagia</th>\n",
       "      <th>Genital thrush</th>\n",
       "      <th>visual blurring</th>\n",
       "      <th>Itching</th>\n",
       "      <th>Irritability</th>\n",
       "      <th>delayed healing</th>\n",
       "      <th>partial paresis</th>\n",
       "      <th>muscle stiffness</th>\n",
       "      <th>Alopecia</th>\n",
       "      <th>Obesity</th>\n",
       "      <th>class</th>\n",
       "    </tr>\n",
       "  </thead>\n",
       "  <tbody>\n",
       "    <tr>\n",
       "      <th>0</th>\n",
       "      <td>40</td>\n",
       "      <td>Male</td>\n",
       "      <td>No</td>\n",
       "      <td>Yes</td>\n",
       "      <td>No</td>\n",
       "      <td>Yes</td>\n",
       "      <td>No</td>\n",
       "      <td>No</td>\n",
       "      <td>No</td>\n",
       "      <td>Yes</td>\n",
       "      <td>No</td>\n",
       "      <td>Yes</td>\n",
       "      <td>No</td>\n",
       "      <td>Yes</td>\n",
       "      <td>Yes</td>\n",
       "      <td>Yes</td>\n",
       "      <td>Positive</td>\n",
       "    </tr>\n",
       "    <tr>\n",
       "      <th>1</th>\n",
       "      <td>58</td>\n",
       "      <td>Male</td>\n",
       "      <td>No</td>\n",
       "      <td>No</td>\n",
       "      <td>No</td>\n",
       "      <td>Yes</td>\n",
       "      <td>No</td>\n",
       "      <td>No</td>\n",
       "      <td>Yes</td>\n",
       "      <td>No</td>\n",
       "      <td>No</td>\n",
       "      <td>No</td>\n",
       "      <td>Yes</td>\n",
       "      <td>No</td>\n",
       "      <td>Yes</td>\n",
       "      <td>No</td>\n",
       "      <td>Positive</td>\n",
       "    </tr>\n",
       "    <tr>\n",
       "      <th>2</th>\n",
       "      <td>41</td>\n",
       "      <td>Male</td>\n",
       "      <td>Yes</td>\n",
       "      <td>No</td>\n",
       "      <td>No</td>\n",
       "      <td>Yes</td>\n",
       "      <td>Yes</td>\n",
       "      <td>No</td>\n",
       "      <td>No</td>\n",
       "      <td>Yes</td>\n",
       "      <td>No</td>\n",
       "      <td>Yes</td>\n",
       "      <td>No</td>\n",
       "      <td>Yes</td>\n",
       "      <td>Yes</td>\n",
       "      <td>No</td>\n",
       "      <td>Positive</td>\n",
       "    </tr>\n",
       "    <tr>\n",
       "      <th>3</th>\n",
       "      <td>45</td>\n",
       "      <td>Male</td>\n",
       "      <td>No</td>\n",
       "      <td>No</td>\n",
       "      <td>Yes</td>\n",
       "      <td>Yes</td>\n",
       "      <td>Yes</td>\n",
       "      <td>Yes</td>\n",
       "      <td>No</td>\n",
       "      <td>Yes</td>\n",
       "      <td>No</td>\n",
       "      <td>Yes</td>\n",
       "      <td>No</td>\n",
       "      <td>No</td>\n",
       "      <td>No</td>\n",
       "      <td>No</td>\n",
       "      <td>Positive</td>\n",
       "    </tr>\n",
       "    <tr>\n",
       "      <th>4</th>\n",
       "      <td>60</td>\n",
       "      <td>Male</td>\n",
       "      <td>Yes</td>\n",
       "      <td>Yes</td>\n",
       "      <td>Yes</td>\n",
       "      <td>Yes</td>\n",
       "      <td>Yes</td>\n",
       "      <td>No</td>\n",
       "      <td>Yes</td>\n",
       "      <td>Yes</td>\n",
       "      <td>Yes</td>\n",
       "      <td>Yes</td>\n",
       "      <td>Yes</td>\n",
       "      <td>Yes</td>\n",
       "      <td>Yes</td>\n",
       "      <td>Yes</td>\n",
       "      <td>Positive</td>\n",
       "    </tr>\n",
       "  </tbody>\n",
       "</table>\n",
       "</div>"
      ],
      "text/plain": [
       "   Age Gender Polyuria Polydipsia sudden weight loss weakness Polyphagia  \\\n",
       "0   40   Male       No        Yes                 No      Yes         No   \n",
       "1   58   Male       No         No                 No      Yes         No   \n",
       "2   41   Male      Yes         No                 No      Yes        Yes   \n",
       "3   45   Male       No         No                Yes      Yes        Yes   \n",
       "4   60   Male      Yes        Yes                Yes      Yes        Yes   \n",
       "\n",
       "  Genital thrush visual blurring Itching Irritability delayed healing  \\\n",
       "0             No              No     Yes           No             Yes   \n",
       "1             No             Yes      No           No              No   \n",
       "2             No              No     Yes           No             Yes   \n",
       "3            Yes              No     Yes           No             Yes   \n",
       "4             No             Yes     Yes          Yes             Yes   \n",
       "\n",
       "  partial paresis muscle stiffness Alopecia Obesity     class  \n",
       "0              No              Yes      Yes     Yes  Positive  \n",
       "1             Yes               No      Yes      No  Positive  \n",
       "2              No              Yes      Yes      No  Positive  \n",
       "3              No               No       No      No  Positive  \n",
       "4             Yes              Yes      Yes     Yes  Positive  "
      ]
     },
     "execution_count": 169,
     "metadata": {},
     "output_type": "execute_result"
    }
   ],
   "source": [
    "orig_df = pd.read_csv('diabetes_data.csv') #importing dataset\n",
    "#vewing the top 5 for the headings\n",
    "orig_df.head(5)"
   ]
  },
  {
   "cell_type": "markdown",
   "id": "cd997d73",
   "metadata": {
    "papermill": {
     "duration": 0.030472,
     "end_time": "2022-11-11T21:11:03.120363",
     "exception": false,
     "start_time": "2022-11-11T21:11:03.089891",
     "status": "completed"
    },
    "tags": []
   },
   "source": [
    "> **Dealing with missing values**"
   ]
  },
  {
   "cell_type": "code",
   "execution_count": 170,
   "id": "0dc031f9",
   "metadata": {
    "execution": {
     "iopub.execute_input": "2022-11-11T21:11:03.166407Z",
     "iopub.status.busy": "2022-11-11T21:11:03.165751Z",
     "iopub.status.idle": "2022-11-11T21:11:03.174883Z",
     "shell.execute_reply": "2022-11-11T21:11:03.174077Z"
    },
    "papermill": {
     "duration": 0.034836,
     "end_time": "2022-11-11T21:11:03.177409",
     "exception": false,
     "start_time": "2022-11-11T21:11:03.142573",
     "status": "completed"
    },
    "tags": []
   },
   "outputs": [
    {
     "data": {
      "text/plain": [
       "Age                   0\n",
       "Gender                0\n",
       "Polyuria              0\n",
       "Polydipsia            0\n",
       "sudden weight loss    0\n",
       "weakness              0\n",
       "Polyphagia            0\n",
       "Genital thrush        0\n",
       "visual blurring       0\n",
       "Itching               0\n",
       "Irritability          0\n",
       "delayed healing       0\n",
       "partial paresis       0\n",
       "muscle stiffness      0\n",
       "Alopecia              0\n",
       "Obesity               0\n",
       "class                 0\n",
       "dtype: int64"
      ]
     },
     "execution_count": 170,
     "metadata": {},
     "output_type": "execute_result"
    }
   ],
   "source": [
    "# checking is there is any na value\n",
    "orig_df.isna().sum() "
   ]
  },
  {
   "cell_type": "code",
   "execution_count": 171,
   "id": "27513485",
   "metadata": {
    "execution": {
     "iopub.execute_input": "2022-11-11T21:11:03.225687Z",
     "iopub.status.busy": "2022-11-11T21:11:03.225040Z",
     "iopub.status.idle": "2022-11-11T21:11:03.251755Z",
     "shell.execute_reply": "2022-11-11T21:11:03.250299Z"
    },
    "papermill": {
     "duration": 0.053211,
     "end_time": "2022-11-11T21:11:03.254527",
     "exception": false,
     "start_time": "2022-11-11T21:11:03.201316",
     "status": "completed"
    },
    "tags": []
   },
   "outputs": [
    {
     "name": "stdout",
     "output_type": "stream",
     "text": [
      "<class 'pandas.core.frame.DataFrame'>\n",
      "RangeIndex: 520 entries, 0 to 519\n",
      "Data columns (total 17 columns):\n",
      " #   Column              Non-Null Count  Dtype \n",
      "---  ------              --------------  ----- \n",
      " 0   Age                 520 non-null    int64 \n",
      " 1   Gender              520 non-null    object\n",
      " 2   Polyuria            520 non-null    object\n",
      " 3   Polydipsia          520 non-null    object\n",
      " 4   sudden weight loss  520 non-null    object\n",
      " 5   weakness            520 non-null    object\n",
      " 6   Polyphagia          520 non-null    object\n",
      " 7   Genital thrush      520 non-null    object\n",
      " 8   visual blurring     520 non-null    object\n",
      " 9   Itching             520 non-null    object\n",
      " 10  Irritability        520 non-null    object\n",
      " 11  delayed healing     520 non-null    object\n",
      " 12  partial paresis     520 non-null    object\n",
      " 13  muscle stiffness    520 non-null    object\n",
      " 14  Alopecia            520 non-null    object\n",
      " 15  Obesity             520 non-null    object\n",
      " 16  class               520 non-null    object\n",
      "dtypes: int64(1), object(16)\n",
      "memory usage: 69.2+ KB\n"
     ]
    }
   ],
   "source": [
    "#viewing data information\n",
    "orig_df.info() "
   ]
  },
  {
   "cell_type": "code",
   "execution_count": 172,
   "id": "0311ddb9",
   "metadata": {
    "execution": {
     "iopub.execute_input": "2022-11-11T21:11:03.430559Z",
     "iopub.status.busy": "2022-11-11T21:11:03.429679Z",
     "iopub.status.idle": "2022-11-11T21:11:03.864681Z",
     "shell.execute_reply": "2022-11-11T21:11:03.863433Z"
    },
    "papermill": {
     "duration": 0.461046,
     "end_time": "2022-11-11T21:11:03.867412",
     "exception": false,
     "start_time": "2022-11-11T21:11:03.406366",
     "status": "completed"
    },
    "tags": []
   },
   "outputs": [
    {
     "data": {
      "image/png": "[encoded data removed]",
      "text/plain": [
       "<Figure size 640x480 with 1 Axes>"
      ]
     },
     "metadata": {},
     "output_type": "display_data"
    },
    {
     "data": {
      "image/png": "[encoded data removed]",
      "text/plain": [
       "<Figure size 1400x700 with 2 Axes>"
      ]
     },
     "metadata": {},
     "output_type": "display_data"
    }
   ],
   "source": [
    "#distribution of target var\n",
    "#countplor, x = class\n",
    "sbn.countplot(x=orig_df['class'],data=orig_df)\n",
    "\n",
    "# create pie chart and bar plot \n",
    "pplot.figure(figsize=(14,7))\n",
    "pplot.subplot(121)\n",
    "orig_df[\"class\"].value_counts().plot.pie(autopct = \"%1.0f%%\",colors = sbn.color_palette(\"prism\",7),startangle = 60,labels=[\"Positive\",\"Negative\"],\n",
    "wedgeprops={\"linewidth\":2,\"edgecolor\":\"k\"},explode=[.1,0],shadow =True)\n",
    "pplot.title(\"Distribution of Target  Variable\")\n",
    "\n",
    "pplot.subplot(122)\n",
    "ax = orig_df[\"class\"].value_counts().plot(kind=\"barh\")\n",
    "\n",
    "for i,j in enumerate(orig_df[\"class\"].value_counts().values):\n",
    "    ax.text(.7,i,j,weight = \"bold\",fontsize=20)\n",
    "\n",
    "pplot.title(\"Count of Target Variable\")\n",
    "pplot.show()"
   ]
  },
  {
   "cell_type": "code",
   "execution_count": 173,
   "id": "3c8239a1",
   "metadata": {
    "execution": {
     "iopub.execute_input": "2022-11-11T21:11:03.962034Z",
     "iopub.status.busy": "2022-11-11T21:11:03.960855Z",
     "iopub.status.idle": "2022-11-11T21:11:04.218664Z",
     "shell.execute_reply": "2022-11-11T21:11:04.217233Z"
    },
    "papermill": {
     "duration": 0.284846,
     "end_time": "2022-11-11T21:11:04.221496",
     "exception": false,
     "start_time": "2022-11-11T21:11:03.936650",
     "status": "completed"
    },
    "tags": []
   },
   "outputs": [
    {
     "data": {
      "text/html": [
       "<style type=\"text/css\">\n",
       "#T_0164a_row0_col0, #T_0164a_row1_col1 {\n",
       "  background-color: #f3f0f0;\n",
       "  color: #000000;\n",
       "}\n",
       "#T_0164a_row0_col1, #T_0164a_row1_col0 {\n",
       "  background-color: #ff0000;\n",
       "  color: #f1f1f1;\n",
       "}\n",
       "</style>\n",
       "<table id=\"T_0164a\">\n",
       "  <thead>\n",
       "    <tr>\n",
       "      <th class=\"index_name level0\" >class</th>\n",
       "      <th id=\"T_0164a_level0_col0\" class=\"col_heading level0 col0\" >Negative</th>\n",
       "      <th id=\"T_0164a_level0_col1\" class=\"col_heading level0 col1\" >Positive</th>\n",
       "    </tr>\n",
       "    <tr>\n",
       "      <th class=\"index_name level0\" >Gender</th>\n",
       "      <th class=\"blank col0\" >&nbsp;</th>\n",
       "      <th class=\"blank col1\" >&nbsp;</th>\n",
       "    </tr>\n",
       "  </thead>\n",
       "  <tbody>\n",
       "    <tr>\n",
       "      <th id=\"T_0164a_level0_row0\" class=\"row_heading level0 row0\" >Female</th>\n",
       "      <td id=\"T_0164a_row0_col0\" class=\"data row0 col0\" >9.500000</td>\n",
       "      <td id=\"T_0164a_row0_col1\" class=\"data row0 col1\" >54.060000</td>\n",
       "    </tr>\n",
       "    <tr>\n",
       "      <th id=\"T_0164a_level0_row1\" class=\"row_heading level0 row1\" >Male</th>\n",
       "      <td id=\"T_0164a_row1_col0\" class=\"data row1 col0\" >90.500000</td>\n",
       "      <td id=\"T_0164a_row1_col1\" class=\"data row1 col1\" >45.940000</td>\n",
       "    </tr>\n",
       "  </tbody>\n",
       "</table>\n"
      ],
      "text/plain": [
       "<pandas.io.formats.style.Styler at 0x7f7b7ce6df10>"
      ]
     },
     "execution_count": 173,
     "metadata": {},
     "output_type": "execute_result"
    },
    {
     "data": {
      "image/png": "[encoded data removed]",
      "text/plain": [
       "<Figure size 640x480 with 1 Axes>"
      ]
     },
     "metadata": {},
     "output_type": "display_data"
    }
   ],
   "source": [
    "#distribution of gender\n",
    "sbn.countplot(x=orig_df['Gender'],hue=orig_df['class'], data=orig_df)\n",
    "\n",
    "plot_criteria= ['Gender', 'class']\n",
    "cm = sbn.light_palette(\"red\", as_cmap=True)\n",
    "(round(pd.crosstab(orig_df[plot_criteria[0]], orig_df[plot_criteria[1]], normalize='columns') * 100,2)).style.background_gradient(cmap = cm)"
   ]
  },
  {
   "cell_type": "code",
   "execution_count": 174,
   "id": "f9397e79",
   "metadata": {
    "execution": {
     "iopub.execute_input": "2022-11-11T21:11:04.318888Z",
     "iopub.status.busy": "2022-11-11T21:11:04.318510Z",
     "iopub.status.idle": "2022-11-11T21:11:04.510607Z",
     "shell.execute_reply": "2022-11-11T21:11:04.508860Z"
    },
    "papermill": {
     "duration": 0.220568,
     "end_time": "2022-11-11T21:11:04.513773",
     "exception": false,
     "start_time": "2022-11-11T21:11:04.293205",
     "status": "completed"
    },
    "tags": []
   },
   "outputs": [
    {
     "data": {
      "text/html": [
       "<style type=\"text/css\">\n",
       "#T_bf66e_row0_col0, #T_bf66e_row1_col1 {\n",
       "  background-color: #ff0000;\n",
       "  color: #f1f1f1;\n",
       "}\n",
       "#T_bf66e_row0_col1, #T_bf66e_row1_col0 {\n",
       "  background-color: #f3f0f0;\n",
       "  color: #000000;\n",
       "}\n",
       "</style>\n",
       "<table id=\"T_bf66e\">\n",
       "  <thead>\n",
       "    <tr>\n",
       "      <th class=\"index_name level0\" >class</th>\n",
       "      <th id=\"T_bf66e_level0_col0\" class=\"col_heading level0 col0\" >Negative</th>\n",
       "      <th id=\"T_bf66e_level0_col1\" class=\"col_heading level0 col1\" >Positive</th>\n",
       "    </tr>\n",
       "    <tr>\n",
       "      <th class=\"index_name level0\" >Polyuria</th>\n",
       "      <th class=\"blank col0\" >&nbsp;</th>\n",
       "      <th class=\"blank col1\" >&nbsp;</th>\n",
       "    </tr>\n",
       "  </thead>\n",
       "  <tbody>\n",
       "    <tr>\n",
       "      <th id=\"T_bf66e_level0_row0\" class=\"row_heading level0 row0\" >No</th>\n",
       "      <td id=\"T_bf66e_row0_col0\" class=\"data row0 col0\" >92.500000</td>\n",
       "      <td id=\"T_bf66e_row0_col1\" class=\"data row0 col1\" >24.060000</td>\n",
       "    </tr>\n",
       "    <tr>\n",
       "      <th id=\"T_bf66e_level0_row1\" class=\"row_heading level0 row1\" >Yes</th>\n",
       "      <td id=\"T_bf66e_row1_col0\" class=\"data row1 col0\" >7.500000</td>\n",
       "      <td id=\"T_bf66e_row1_col1\" class=\"data row1 col1\" >75.940000</td>\n",
       "    </tr>\n",
       "  </tbody>\n",
       "</table>\n"
      ],
      "text/plain": [
       "<pandas.io.formats.style.Styler at 0x7f7b5e80d490>"
      ]
     },
     "execution_count": 174,
     "metadata": {},
     "output_type": "execute_result"
    },
    {
     "data": {
      "image/png": "[encoded data removed]",
      "text/plain": [
       "<Figure size 640x480 with 1 Axes>"
      ]
     },
     "metadata": {},
     "output_type": "display_data"
    }
   ],
   "source": [
    "#distribution of polyuria\n",
    "sbn.countplot(x=orig_df['Polyuria'],hue=orig_df['class'], data=orig_df)\n",
    "\n",
    "\n",
    "plot_criteria= ['Polyuria', 'class']\n",
    "cm = sbn.light_palette(\"red\", as_cmap=True)\n",
    "(round(pd.crosstab(orig_df[plot_criteria[0]], orig_df[plot_criteria[1]], normalize='columns') * 100,2)).style.background_gradient(cmap = cm)"
   ]
  },
  {
   "cell_type": "code",
   "execution_count": 175,
   "id": "8568ad26",
   "metadata": {
    "execution": {
     "iopub.execute_input": "2022-11-11T21:11:04.612287Z",
     "iopub.status.busy": "2022-11-11T21:11:04.611500Z",
     "iopub.status.idle": "2022-11-11T21:11:04.870260Z",
     "shell.execute_reply": "2022-11-11T21:11:04.868957Z"
    },
    "papermill": {
     "duration": 0.287695,
     "end_time": "2022-11-11T21:11:04.872709",
     "exception": false,
     "start_time": "2022-11-11T21:11:04.585014",
     "status": "completed"
    },
    "tags": []
   },
   "outputs": [
    {
     "data": {
      "text/html": [
       "<style type=\"text/css\">\n",
       "#T_2a8a2_row0_col0, #T_2a8a2_row1_col1 {\n",
       "  background-color: #ff0000;\n",
       "  color: #f1f1f1;\n",
       "}\n",
       "#T_2a8a2_row0_col1, #T_2a8a2_row1_col0 {\n",
       "  background-color: #f3f0f0;\n",
       "  color: #000000;\n",
       "}\n",
       "</style>\n",
       "<table id=\"T_2a8a2\">\n",
       "  <thead>\n",
       "    <tr>\n",
       "      <th class=\"index_name level0\" >class</th>\n",
       "      <th id=\"T_2a8a2_level0_col0\" class=\"col_heading level0 col0\" >Negative</th>\n",
       "      <th id=\"T_2a8a2_level0_col1\" class=\"col_heading level0 col1\" >Positive</th>\n",
       "    </tr>\n",
       "    <tr>\n",
       "      <th class=\"index_name level0\" >sudden weight loss</th>\n",
       "      <th class=\"blank col0\" >&nbsp;</th>\n",
       "      <th class=\"blank col1\" >&nbsp;</th>\n",
       "    </tr>\n",
       "  </thead>\n",
       "  <tbody>\n",
       "    <tr>\n",
       "      <th id=\"T_2a8a2_level0_row0\" class=\"row_heading level0 row0\" >No</th>\n",
       "      <td id=\"T_2a8a2_row0_col0\" class=\"data row0 col0\" >85.500000</td>\n",
       "      <td id=\"T_2a8a2_row0_col1\" class=\"data row0 col1\" >41.250000</td>\n",
       "    </tr>\n",
       "    <tr>\n",
       "      <th id=\"T_2a8a2_level0_row1\" class=\"row_heading level0 row1\" >Yes</th>\n",
       "      <td id=\"T_2a8a2_row1_col0\" class=\"data row1 col0\" >14.500000</td>\n",
       "      <td id=\"T_2a8a2_row1_col1\" class=\"data row1 col1\" >58.750000</td>\n",
       "    </tr>\n",
       "  </tbody>\n",
       "</table>\n"
      ],
      "text/plain": [
       "<pandas.io.formats.style.Styler at 0x7f7b5e8b6760>"
      ]
     },
     "execution_count": 175,
     "metadata": {},
     "output_type": "execute_result"
    },
    {
     "data": {
      "image/png": "[encoded data removed]",
      "text/plain": [
       "<Figure size 640x480 with 1 Axes>"
      ]
     },
     "metadata": {},
     "output_type": "display_data"
    }
   ],
   "source": [
    "#distribution of sudden weight loss\n",
    "sbn.countplot(x=orig_df['sudden weight loss'], hue = orig_df['class'], data = orig_df)\n",
    "plot_criteria = ['sudden weight loss','class']\n",
    "(round(pd.crosstab(orig_df[plot_criteria[0]], orig_df[plot_criteria[1]], normalize='columns') * 100,2)).style.background_gradient(cmap = cm)"
   ]
  },
  {
   "cell_type": "code",
   "execution_count": 176,
   "id": "016b3c96",
   "metadata": {
    "execution": {
     "iopub.execute_input": "2022-11-11T21:11:04.970878Z",
     "iopub.status.busy": "2022-11-11T21:11:04.970403Z",
     "iopub.status.idle": "2022-11-11T21:11:05.213901Z",
     "shell.execute_reply": "2022-11-11T21:11:05.212692Z"
    },
    "papermill": {
     "duration": 0.271772,
     "end_time": "2022-11-11T21:11:05.216621",
     "exception": false,
     "start_time": "2022-11-11T21:11:04.944849",
     "status": "completed"
    },
    "tags": []
   },
   "outputs": [
    {
     "data": {
      "text/html": [
       "<style type=\"text/css\">\n",
       "#T_68e73_row0_col0, #T_68e73_row1_col1 {\n",
       "  background-color: #ff0000;\n",
       "  color: #f1f1f1;\n",
       "}\n",
       "#T_68e73_row0_col1, #T_68e73_row1_col0 {\n",
       "  background-color: #f3f0f0;\n",
       "  color: #000000;\n",
       "}\n",
       "</style>\n",
       "<table id=\"T_68e73\">\n",
       "  <thead>\n",
       "    <tr>\n",
       "      <th class=\"index_name level0\" >class</th>\n",
       "      <th id=\"T_68e73_level0_col0\" class=\"col_heading level0 col0\" >Negative</th>\n",
       "      <th id=\"T_68e73_level0_col1\" class=\"col_heading level0 col1\" >Positive</th>\n",
       "    </tr>\n",
       "    <tr>\n",
       "      <th class=\"index_name level0\" >weakness</th>\n",
       "      <th class=\"blank col0\" >&nbsp;</th>\n",
       "      <th class=\"blank col1\" >&nbsp;</th>\n",
       "    </tr>\n",
       "  </thead>\n",
       "  <tbody>\n",
       "    <tr>\n",
       "      <th id=\"T_68e73_level0_row0\" class=\"row_heading level0 row0\" >No</th>\n",
       "      <td id=\"T_68e73_row0_col0\" class=\"data row0 col0\" >56.500000</td>\n",
       "      <td id=\"T_68e73_row0_col1\" class=\"data row0 col1\" >31.870000</td>\n",
       "    </tr>\n",
       "    <tr>\n",
       "      <th id=\"T_68e73_level0_row1\" class=\"row_heading level0 row1\" >Yes</th>\n",
       "      <td id=\"T_68e73_row1_col0\" class=\"data row1 col0\" >43.500000</td>\n",
       "      <td id=\"T_68e73_row1_col1\" class=\"data row1 col1\" >68.120000</td>\n",
       "    </tr>\n",
       "  </tbody>\n",
       "</table>\n"
      ],
      "text/plain": [
       "<pandas.io.formats.style.Styler at 0x7f7b5e707130>"
      ]
     },
     "execution_count": 176,
     "metadata": {},
     "output_type": "execute_result"
    },
    {
     "data": {
      "image/png": "[encoded data removed]",
      "text/plain": [
       "<Figure size 640x480 with 1 Axes>"
      ]
     },
     "metadata": {},
     "output_type": "display_data"
    }
   ],
   "source": [
    "#distribution of weakness\n",
    "sbn.countplot(x=orig_df['weakness'],hue=orig_df['class'], data=orig_df)\n",
    "\n",
    "\n",
    "plot_criteria= ['weakness', 'class']\n",
    "cm = sbn.light_palette(\"red\", as_cmap=True)\n",
    "(round(pd.crosstab(orig_df[plot_criteria[0]], orig_df[plot_criteria[1]], normalize='columns') * 100,2)).style.background_gradient(cmap = cm)"
   ]
  },
  {
   "cell_type": "code",
   "execution_count": 177,
   "id": "c2a3acec",
   "metadata": {
    "execution": {
     "iopub.execute_input": "2022-11-11T21:11:05.318259Z",
     "iopub.status.busy": "2022-11-11T21:11:05.317847Z",
     "iopub.status.idle": "2022-11-11T21:11:05.564451Z",
     "shell.execute_reply": "2022-11-11T21:11:05.562813Z"
    },
    "papermill": {
     "duration": 0.275894,
     "end_time": "2022-11-11T21:11:05.567256",
     "exception": false,
     "start_time": "2022-11-11T21:11:05.291362",
     "status": "completed"
    },
    "tags": []
   },
   "outputs": [
    {
     "data": {
      "text/html": [
       "<style type=\"text/css\">\n",
       "#T_50614_row0_col0, #T_50614_row0_col1 {\n",
       "  background-color: #ff0000;\n",
       "  color: #f1f1f1;\n",
       "}\n",
       "#T_50614_row1_col0, #T_50614_row1_col1 {\n",
       "  background-color: #f3f0f0;\n",
       "  color: #000000;\n",
       "}\n",
       "</style>\n",
       "<table id=\"T_50614\">\n",
       "  <thead>\n",
       "    <tr>\n",
       "      <th class=\"index_name level0\" >class</th>\n",
       "      <th id=\"T_50614_level0_col0\" class=\"col_heading level0 col0\" >Negative</th>\n",
       "      <th id=\"T_50614_level0_col1\" class=\"col_heading level0 col1\" >Positive</th>\n",
       "    </tr>\n",
       "    <tr>\n",
       "      <th class=\"index_name level0\" >Genital thrush</th>\n",
       "      <th class=\"blank col0\" >&nbsp;</th>\n",
       "      <th class=\"blank col1\" >&nbsp;</th>\n",
       "    </tr>\n",
       "  </thead>\n",
       "  <tbody>\n",
       "    <tr>\n",
       "      <th id=\"T_50614_level0_row0\" class=\"row_heading level0 row0\" >No</th>\n",
       "      <td id=\"T_50614_row0_col0\" class=\"data row0 col0\" >83.500000</td>\n",
       "      <td id=\"T_50614_row0_col1\" class=\"data row0 col1\" >74.060000</td>\n",
       "    </tr>\n",
       "    <tr>\n",
       "      <th id=\"T_50614_level0_row1\" class=\"row_heading level0 row1\" >Yes</th>\n",
       "      <td id=\"T_50614_row1_col0\" class=\"data row1 col0\" >16.500000</td>\n",
       "      <td id=\"T_50614_row1_col1\" class=\"data row1 col1\" >25.940000</td>\n",
       "    </tr>\n",
       "  </tbody>\n",
       "</table>\n"
      ],
      "text/plain": [
       "<pandas.io.formats.style.Styler at 0x7f7b5c467e20>"
      ]
     },
     "execution_count": 177,
     "metadata": {},
     "output_type": "execute_result"
    },
    {
     "data": {
      "image/png": "[encoded data removed]",
      "text/plain": [
       "<Figure size 640x480 with 1 Axes>"
      ]
     },
     "metadata": {},
     "output_type": "display_data"
    }
   ],
   "source": [
    "#distribution of genital thrush\n",
    "sbn.countplot(x=orig_df['Genital thrush'],hue=orig_df['class'], data=orig_df)\n",
    "\n",
    "\n",
    "plot_criteria= ['Genital thrush', 'class']\n",
    "cm = sbn.light_palette(\"red\", as_cmap=True)\n",
    "(round(pd.crosstab(orig_df[plot_criteria[0]], orig_df[plot_criteria[1]], normalize='columns') * 100,2)).style.background_gradient(cmap = cm)"
   ]
  },
  {
   "cell_type": "markdown",
   "id": "5d670ba1",
   "metadata": {
    "papermill": {
     "duration": 0.025399,
     "end_time": "2022-11-11T21:11:05.617636",
     "exception": false,
     "start_time": "2022-11-11T21:11:05.592237",
     "status": "completed"
    },
    "tags": []
   },
   "source": [
    "> **Distribution of visual blurring**"
   ]
  },
  {
   "cell_type": "code",
   "execution_count": 178,
   "id": "06290309",
   "metadata": {
    "execution": {
     "iopub.execute_input": "2022-11-11T21:11:05.669280Z",
     "iopub.status.busy": "2022-11-11T21:11:05.668879Z",
     "iopub.status.idle": "2022-11-11T21:11:05.931244Z",
     "shell.execute_reply": "2022-11-11T21:11:05.930041Z"
    },
    "papermill": {
     "duration": 0.291231,
     "end_time": "2022-11-11T21:11:05.933843",
     "exception": false,
     "start_time": "2022-11-11T21:11:05.642612",
     "status": "completed"
    },
    "tags": []
   },
   "outputs": [
    {
     "data": {
      "text/html": [
       "<style type=\"text/css\">\n",
       "#T_c4ca5_row0_col0, #T_c4ca5_row1_col1 {\n",
       "  background-color: #ff0000;\n",
       "  color: #f1f1f1;\n",
       "}\n",
       "#T_c4ca5_row0_col1, #T_c4ca5_row1_col0 {\n",
       "  background-color: #f3f0f0;\n",
       "  color: #000000;\n",
       "}\n",
       "</style>\n",
       "<table id=\"T_c4ca5\">\n",
       "  <thead>\n",
       "    <tr>\n",
       "      <th class=\"index_name level0\" >class</th>\n",
       "      <th id=\"T_c4ca5_level0_col0\" class=\"col_heading level0 col0\" >Negative</th>\n",
       "      <th id=\"T_c4ca5_level0_col1\" class=\"col_heading level0 col1\" >Positive</th>\n",
       "    </tr>\n",
       "    <tr>\n",
       "      <th class=\"index_name level0\" >visual blurring</th>\n",
       "      <th class=\"blank col0\" >&nbsp;</th>\n",
       "      <th class=\"blank col1\" >&nbsp;</th>\n",
       "    </tr>\n",
       "  </thead>\n",
       "  <tbody>\n",
       "    <tr>\n",
       "      <th id=\"T_c4ca5_level0_row0\" class=\"row_heading level0 row0\" >No</th>\n",
       "      <td id=\"T_c4ca5_row0_col0\" class=\"data row0 col0\" >71.000000</td>\n",
       "      <td id=\"T_c4ca5_row0_col1\" class=\"data row0 col1\" >45.310000</td>\n",
       "    </tr>\n",
       "    <tr>\n",
       "      <th id=\"T_c4ca5_level0_row1\" class=\"row_heading level0 row1\" >Yes</th>\n",
       "      <td id=\"T_c4ca5_row1_col0\" class=\"data row1 col0\" >29.000000</td>\n",
       "      <td id=\"T_c4ca5_row1_col1\" class=\"data row1 col1\" >54.690000</td>\n",
       "    </tr>\n",
       "  </tbody>\n",
       "</table>\n"
      ],
      "text/plain": [
       "<pandas.io.formats.style.Styler at 0x7f7b60e71490>"
      ]
     },
     "execution_count": 178,
     "metadata": {},
     "output_type": "execute_result"
    },
    {
     "data": {
      "image/png": "[encoded data removed]",
      "text/plain": [
       "<Figure size 640x480 with 1 Axes>"
      ]
     },
     "metadata": {},
     "output_type": "display_data"
    }
   ],
   "source": [
    "#distribution of bisual blurring\n",
    "sbn.countplot(x=orig_df['visual blurring'],hue=orig_df['class'], data=orig_df)\n",
    "\n",
    "\n",
    "plot_criteria= ['visual blurring', 'class']\n",
    "cm = sbn.light_palette(\"red\", as_cmap=True)\n",
    "(round(pd.crosstab(orig_df[plot_criteria[0]], orig_df[plot_criteria[1]], normalize='columns') * 100,2)).style.background_gradient(cmap = cm)"
   ]
  },
  {
   "cell_type": "code",
   "execution_count": 179,
   "id": "670fff0e",
   "metadata": {
    "execution": {
     "iopub.execute_input": "2022-11-11T21:11:06.037802Z",
     "iopub.status.busy": "2022-11-11T21:11:06.037273Z",
     "iopub.status.idle": "2022-11-11T21:11:06.296316Z",
     "shell.execute_reply": "2022-11-11T21:11:06.295190Z"
    },
    "papermill": {
     "duration": 0.288803,
     "end_time": "2022-11-11T21:11:06.299257",
     "exception": false,
     "start_time": "2022-11-11T21:11:06.010454",
     "status": "completed"
    },
    "tags": []
   },
   "outputs": [
    {
     "data": {
      "text/html": [
       "<style type=\"text/css\">\n",
       "#T_4b444_row0_col0, #T_4b444_row0_col1 {\n",
       "  background-color: #ff0000;\n",
       "  color: #f1f1f1;\n",
       "}\n",
       "#T_4b444_row1_col0, #T_4b444_row1_col1 {\n",
       "  background-color: #f3f0f0;\n",
       "  color: #000000;\n",
       "}\n",
       "</style>\n",
       "<table id=\"T_4b444\">\n",
       "  <thead>\n",
       "    <tr>\n",
       "      <th class=\"index_name level0\" >class</th>\n",
       "      <th id=\"T_4b444_level0_col0\" class=\"col_heading level0 col0\" >Negative</th>\n",
       "      <th id=\"T_4b444_level0_col1\" class=\"col_heading level0 col1\" >Positive</th>\n",
       "    </tr>\n",
       "    <tr>\n",
       "      <th class=\"index_name level0\" >Itching</th>\n",
       "      <th class=\"blank col0\" >&nbsp;</th>\n",
       "      <th class=\"blank col1\" >&nbsp;</th>\n",
       "    </tr>\n",
       "  </thead>\n",
       "  <tbody>\n",
       "    <tr>\n",
       "      <th id=\"T_4b444_level0_row0\" class=\"row_heading level0 row0\" >No</th>\n",
       "      <td id=\"T_4b444_row0_col0\" class=\"data row0 col0\" >50.500000</td>\n",
       "      <td id=\"T_4b444_row0_col1\" class=\"data row0 col1\" >51.880000</td>\n",
       "    </tr>\n",
       "    <tr>\n",
       "      <th id=\"T_4b444_level0_row1\" class=\"row_heading level0 row1\" >Yes</th>\n",
       "      <td id=\"T_4b444_row1_col0\" class=\"data row1 col0\" >49.500000</td>\n",
       "      <td id=\"T_4b444_row1_col1\" class=\"data row1 col1\" >48.120000</td>\n",
       "    </tr>\n",
       "  </tbody>\n",
       "</table>\n"
      ],
      "text/plain": [
       "<pandas.io.formats.style.Styler at 0x7f7b5c519d00>"
      ]
     },
     "execution_count": 179,
     "metadata": {},
     "output_type": "execute_result"
    },
    {
     "data": {
      "image/png": "[encoded data removed]",
      "text/plain": [
       "<Figure size 640x480 with 1 Axes>"
      ]
     },
     "metadata": {},
     "output_type": "display_data"
    }
   ],
   "source": [
    "#distribution of itching\n",
    "sbn.countplot(x=orig_df['Itching'],hue=orig_df['class'], data=orig_df)\n",
    "\n",
    "\n",
    "plot_criteria= ['Itching', 'class']\n",
    "cm = sbn.light_palette(\"red\", as_cmap=True)\n",
    "(round(pd.crosstab(orig_df[plot_criteria[0]], orig_df[plot_criteria[1]], normalize='columns') * 100,2)).style.background_gradient(cmap = cm)"
   ]
  },
  {
   "cell_type": "code",
   "execution_count": 180,
   "id": "8c738220",
   "metadata": {
    "execution": {
     "iopub.execute_input": "2022-11-11T21:11:06.407516Z",
     "iopub.status.busy": "2022-11-11T21:11:06.406598Z",
     "iopub.status.idle": "2022-11-11T21:11:06.663909Z",
     "shell.execute_reply": "2022-11-11T21:11:06.662592Z"
    },
    "papermill": {
     "duration": 0.288583,
     "end_time": "2022-11-11T21:11:06.666704",
     "exception": false,
     "start_time": "2022-11-11T21:11:06.378121",
     "status": "completed"
    },
    "tags": []
   },
   "outputs": [
    {
     "data": {
      "text/html": [
       "<style type=\"text/css\">\n",
       "#T_2566d_row0_col0, #T_2566d_row0_col1 {\n",
       "  background-color: #ff0000;\n",
       "  color: #f1f1f1;\n",
       "}\n",
       "#T_2566d_row1_col0, #T_2566d_row1_col1 {\n",
       "  background-color: #f3f0f0;\n",
       "  color: #000000;\n",
       "}\n",
       "</style>\n",
       "<table id=\"T_2566d\">\n",
       "  <thead>\n",
       "    <tr>\n",
       "      <th class=\"index_name level0\" >class</th>\n",
       "      <th id=\"T_2566d_level0_col0\" class=\"col_heading level0 col0\" >Negative</th>\n",
       "      <th id=\"T_2566d_level0_col1\" class=\"col_heading level0 col1\" >Positive</th>\n",
       "    </tr>\n",
       "    <tr>\n",
       "      <th class=\"index_name level0\" >Irritability</th>\n",
       "      <th class=\"blank col0\" >&nbsp;</th>\n",
       "      <th class=\"blank col1\" >&nbsp;</th>\n",
       "    </tr>\n",
       "  </thead>\n",
       "  <tbody>\n",
       "    <tr>\n",
       "      <th id=\"T_2566d_level0_row0\" class=\"row_heading level0 row0\" >No</th>\n",
       "      <td id=\"T_2566d_row0_col0\" class=\"data row0 col0\" >92.000000</td>\n",
       "      <td id=\"T_2566d_row0_col1\" class=\"data row0 col1\" >65.620000</td>\n",
       "    </tr>\n",
       "    <tr>\n",
       "      <th id=\"T_2566d_level0_row1\" class=\"row_heading level0 row1\" >Yes</th>\n",
       "      <td id=\"T_2566d_row1_col0\" class=\"data row1 col0\" >8.000000</td>\n",
       "      <td id=\"T_2566d_row1_col1\" class=\"data row1 col1\" >34.380000</td>\n",
       "    </tr>\n",
       "  </tbody>\n",
       "</table>\n"
      ],
      "text/plain": [
       "<pandas.io.formats.style.Styler at 0x7f7b7ce320d0>"
      ]
     },
     "execution_count": 180,
     "metadata": {},
     "output_type": "execute_result"
    },
    {
     "data": {
      "image/png": "[encoded data removed]",
      "text/plain": [
       "<Figure size 640x480 with 1 Axes>"
      ]
     },
     "metadata": {},
     "output_type": "display_data"
    }
   ],
   "source": [
    "#distribution of irritability\n",
    "sbn.countplot(x=orig_df['Irritability'],hue=orig_df['class'], data=orig_df)\n",
    "\n",
    "\n",
    "plot_criteria= ['Irritability', 'class']\n",
    "cm = sbn.light_palette(\"red\", as_cmap=True)\n",
    "(round(pd.crosstab(orig_df[plot_criteria[0]], orig_df[plot_criteria[1]], normalize='columns') * 100,2)).style.background_gradient(cmap = cm)"
   ]
  },
  {
   "cell_type": "markdown",
   "id": "7f53c5fe",
   "metadata": {
    "papermill": {
     "duration": 0.025861,
     "end_time": "2022-11-11T21:11:06.719094",
     "exception": false,
     "start_time": "2022-11-11T21:11:06.693233",
     "status": "completed"
    },
    "tags": []
   },
   "source": [
    "> **Distribution of delayed healing**"
   ]
  },
  {
   "cell_type": "code",
   "execution_count": 181,
   "id": "acf705d1",
   "metadata": {
    "execution": {
     "iopub.execute_input": "2022-11-11T21:11:06.776454Z",
     "iopub.status.busy": "2022-11-11T21:11:06.776010Z",
     "iopub.status.idle": "2022-11-11T21:11:07.042389Z",
     "shell.execute_reply": "2022-11-11T21:11:07.041178Z"
    },
    "papermill": {
     "duration": 0.297531,
     "end_time": "2022-11-11T21:11:07.044941",
     "exception": false,
     "start_time": "2022-11-11T21:11:06.747410",
     "status": "completed"
    },
    "tags": []
   },
   "outputs": [
    {
     "data": {
      "text/html": [
       "<style type=\"text/css\">\n",
       "#T_4bc37_row0_col0, #T_4bc37_row0_col1 {\n",
       "  background-color: #ff0000;\n",
       "  color: #f1f1f1;\n",
       "}\n",
       "#T_4bc37_row1_col0, #T_4bc37_row1_col1 {\n",
       "  background-color: #f3f0f0;\n",
       "  color: #000000;\n",
       "}\n",
       "</style>\n",
       "<table id=\"T_4bc37\">\n",
       "  <thead>\n",
       "    <tr>\n",
       "      <th class=\"index_name level0\" >class</th>\n",
       "      <th id=\"T_4bc37_level0_col0\" class=\"col_heading level0 col0\" >Negative</th>\n",
       "      <th id=\"T_4bc37_level0_col1\" class=\"col_heading level0 col1\" >Positive</th>\n",
       "    </tr>\n",
       "    <tr>\n",
       "      <th class=\"index_name level0\" >delayed healing</th>\n",
       "      <th class=\"blank col0\" >&nbsp;</th>\n",
       "      <th class=\"blank col1\" >&nbsp;</th>\n",
       "    </tr>\n",
       "  </thead>\n",
       "  <tbody>\n",
       "    <tr>\n",
       "      <th id=\"T_4bc37_level0_row0\" class=\"row_heading level0 row0\" >No</th>\n",
       "      <td id=\"T_4bc37_row0_col0\" class=\"data row0 col0\" >57.000000</td>\n",
       "      <td id=\"T_4bc37_row0_col1\" class=\"data row0 col1\" >52.190000</td>\n",
       "    </tr>\n",
       "    <tr>\n",
       "      <th id=\"T_4bc37_level0_row1\" class=\"row_heading level0 row1\" >Yes</th>\n",
       "      <td id=\"T_4bc37_row1_col0\" class=\"data row1 col0\" >43.000000</td>\n",
       "      <td id=\"T_4bc37_row1_col1\" class=\"data row1 col1\" >47.810000</td>\n",
       "    </tr>\n",
       "  </tbody>\n",
       "</table>\n"
      ],
      "text/plain": [
       "<pandas.io.formats.style.Styler at 0x7f7b5e687dc0>"
      ]
     },
     "execution_count": 181,
     "metadata": {},
     "output_type": "execute_result"
    },
    {
     "data": {
      "image/png": "[encoded data removed]",
      "text/plain": [
       "<Figure size 640x480 with 1 Axes>"
      ]
     },
     "metadata": {},
     "output_type": "display_data"
    }
   ],
   "source": [
    "#distribution of delayed healing\n",
    "sbn.countplot(x=orig_df['delayed healing'],hue=orig_df['class'], data=orig_df)\n",
    "\n",
    "\n",
    "plot_criteria= ['delayed healing', 'class']\n",
    "cm = sbn.light_palette(\"red\", as_cmap=True)\n",
    "(round(pd.crosstab(orig_df[plot_criteria[0]], orig_df[plot_criteria[1]], normalize='columns') * 100,2)).style.background_gradient(cmap = cm)"
   ]
  },
  {
   "cell_type": "code",
   "execution_count": 182,
   "id": "cd57b380",
   "metadata": {
    "execution": {
     "iopub.execute_input": "2022-11-11T21:11:07.154246Z",
     "iopub.status.busy": "2022-11-11T21:11:07.153831Z",
     "iopub.status.idle": "2022-11-11T21:11:07.417924Z",
     "shell.execute_reply": "2022-11-11T21:11:07.416563Z"
    },
    "papermill": {
     "duration": 0.295062,
     "end_time": "2022-11-11T21:11:07.420452",
     "exception": false,
     "start_time": "2022-11-11T21:11:07.125390",
     "status": "completed"
    },
    "tags": []
   },
   "outputs": [
    {
     "data": {
      "text/html": [
       "<style type=\"text/css\">\n",
       "#T_eb92a_row0_col0, #T_eb92a_row1_col1 {\n",
       "  background-color: #ff0000;\n",
       "  color: #f1f1f1;\n",
       "}\n",
       "#T_eb92a_row0_col1, #T_eb92a_row1_col0 {\n",
       "  background-color: #f3f0f0;\n",
       "  color: #000000;\n",
       "}\n",
       "</style>\n",
       "<table id=\"T_eb92a\">\n",
       "  <thead>\n",
       "    <tr>\n",
       "      <th class=\"index_name level0\" >class</th>\n",
       "      <th id=\"T_eb92a_level0_col0\" class=\"col_heading level0 col0\" >Negative</th>\n",
       "      <th id=\"T_eb92a_level0_col1\" class=\"col_heading level0 col1\" >Positive</th>\n",
       "    </tr>\n",
       "    <tr>\n",
       "      <th class=\"index_name level0\" >partial paresis</th>\n",
       "      <th class=\"blank col0\" >&nbsp;</th>\n",
       "      <th class=\"blank col1\" >&nbsp;</th>\n",
       "    </tr>\n",
       "  </thead>\n",
       "  <tbody>\n",
       "    <tr>\n",
       "      <th id=\"T_eb92a_level0_row0\" class=\"row_heading level0 row0\" >No</th>\n",
       "      <td id=\"T_eb92a_row0_col0\" class=\"data row0 col0\" >84.000000</td>\n",
       "      <td id=\"T_eb92a_row0_col1\" class=\"data row0 col1\" >40.000000</td>\n",
       "    </tr>\n",
       "    <tr>\n",
       "      <th id=\"T_eb92a_level0_row1\" class=\"row_heading level0 row1\" >Yes</th>\n",
       "      <td id=\"T_eb92a_row1_col0\" class=\"data row1 col0\" >16.000000</td>\n",
       "      <td id=\"T_eb92a_row1_col1\" class=\"data row1 col1\" >60.000000</td>\n",
       "    </tr>\n",
       "  </tbody>\n",
       "</table>\n"
      ],
      "text/plain": [
       "<pandas.io.formats.style.Styler at 0x7f7b60e022e0>"
      ]
     },
     "execution_count": 182,
     "metadata": {},
     "output_type": "execute_result"
    },
    {
     "data": {
      "image/png": "[encoded data removed]",
      "text/plain": [
       "<Figure size 640x480 with 1 Axes>"
      ]
     },
     "metadata": {},
     "output_type": "display_data"
    }
   ],
   "source": [
    "#distribution of partial paresis\n",
    "sbn.countplot(x=orig_df['partial paresis'],hue=orig_df['class'], data=orig_df)\n",
    "\n",
    "\n",
    "plot_criteria= ['partial paresis', 'class']\n",
    "cm = sbn.light_palette(\"red\", as_cmap=True)\n",
    "(round(pd.crosstab(orig_df[plot_criteria[0]], orig_df[plot_criteria[1]], normalize='columns') * 100,2)).style.background_gradient(cmap = cm)"
   ]
  },
  {
   "cell_type": "code",
   "execution_count": 183,
   "id": "f2e5d990",
   "metadata": {
    "execution": {
     "iopub.execute_input": "2022-11-11T21:11:07.535512Z",
     "iopub.status.busy": "2022-11-11T21:11:07.535096Z",
     "iopub.status.idle": "2022-11-11T21:11:07.935721Z",
     "shell.execute_reply": "2022-11-11T21:11:07.934526Z"
    },
    "papermill": {
     "duration": 0.433146,
     "end_time": "2022-11-11T21:11:07.938139",
     "exception": false,
     "start_time": "2022-11-11T21:11:07.504993",
     "status": "completed"
    },
    "tags": []
   },
   "outputs": [
    {
     "data": {
      "text/html": [
       "<style type=\"text/css\">\n",
       "#T_fefbb_row0_col0, #T_fefbb_row0_col1 {\n",
       "  background-color: #ff0000;\n",
       "  color: #f1f1f1;\n",
       "}\n",
       "#T_fefbb_row1_col0, #T_fefbb_row1_col1 {\n",
       "  background-color: #f3f0f0;\n",
       "  color: #000000;\n",
       "}\n",
       "</style>\n",
       "<table id=\"T_fefbb\">\n",
       "  <thead>\n",
       "    <tr>\n",
       "      <th class=\"index_name level0\" >class</th>\n",
       "      <th id=\"T_fefbb_level0_col0\" class=\"col_heading level0 col0\" >Negative</th>\n",
       "      <th id=\"T_fefbb_level0_col1\" class=\"col_heading level0 col1\" >Positive</th>\n",
       "    </tr>\n",
       "    <tr>\n",
       "      <th class=\"index_name level0\" >muscle stiffness</th>\n",
       "      <th class=\"blank col0\" >&nbsp;</th>\n",
       "      <th class=\"blank col1\" >&nbsp;</th>\n",
       "    </tr>\n",
       "  </thead>\n",
       "  <tbody>\n",
       "    <tr>\n",
       "      <th id=\"T_fefbb_level0_row0\" class=\"row_heading level0 row0\" >No</th>\n",
       "      <td id=\"T_fefbb_row0_col0\" class=\"data row0 col0\" >70.000000</td>\n",
       "      <td id=\"T_fefbb_row0_col1\" class=\"data row0 col1\" >57.810000</td>\n",
       "    </tr>\n",
       "    <tr>\n",
       "      <th id=\"T_fefbb_level0_row1\" class=\"row_heading level0 row1\" >Yes</th>\n",
       "      <td id=\"T_fefbb_row1_col0\" class=\"data row1 col0\" >30.000000</td>\n",
       "      <td id=\"T_fefbb_row1_col1\" class=\"data row1 col1\" >42.190000</td>\n",
       "    </tr>\n",
       "  </tbody>\n",
       "</table>\n"
      ],
      "text/plain": [
       "<pandas.io.formats.style.Styler at 0x7f7b7ce49d60>"
      ]
     },
     "execution_count": 183,
     "metadata": {},
     "output_type": "execute_result"
    },
    {
     "data": {
      "image/png": "[encoded data removed]",
      "text/plain": [
       "<Figure size 640x480 with 1 Axes>"
      ]
     },
     "metadata": {},
     "output_type": "display_data"
    }
   ],
   "source": [
    "#distribution of muscle stiffness\n",
    "sbn.countplot(x=orig_df['muscle stiffness'],hue=orig_df['class'], data=orig_df)\n",
    "\n",
    "\n",
    "plot_criteria= ['muscle stiffness', 'class']\n",
    "cm = sbn.light_palette(\"red\", as_cmap=True)\n",
    "(round(pd.crosstab(orig_df[plot_criteria[0]], orig_df[plot_criteria[1]], normalize='columns') * 100,2)).style.background_gradient(cmap = cm)"
   ]
  },
  {
   "cell_type": "code",
   "execution_count": 184,
   "id": "11487558",
   "metadata": {
    "execution": {
     "iopub.execute_input": "2022-11-11T21:11:08.051686Z",
     "iopub.status.busy": "2022-11-11T21:11:08.050550Z",
     "iopub.status.idle": "2022-11-11T21:11:08.297531Z",
     "shell.execute_reply": "2022-11-11T21:11:08.296270Z"
    },
    "papermill": {
     "duration": 0.278848,
     "end_time": "2022-11-11T21:11:08.300329",
     "exception": false,
     "start_time": "2022-11-11T21:11:08.021481",
     "status": "completed"
    },
    "tags": []
   },
   "outputs": [
    {
     "data": {
      "text/html": [
       "<style type=\"text/css\">\n",
       "#T_a2952_row0_col0, #T_a2952_row1_col1 {\n",
       "  background-color: #f3f0f0;\n",
       "  color: #000000;\n",
       "}\n",
       "#T_a2952_row0_col1, #T_a2952_row1_col0 {\n",
       "  background-color: #ff0000;\n",
       "  color: #f1f1f1;\n",
       "}\n",
       "</style>\n",
       "<table id=\"T_a2952\">\n",
       "  <thead>\n",
       "    <tr>\n",
       "      <th class=\"index_name level0\" >class</th>\n",
       "      <th id=\"T_a2952_level0_col0\" class=\"col_heading level0 col0\" >Negative</th>\n",
       "      <th id=\"T_a2952_level0_col1\" class=\"col_heading level0 col1\" >Positive</th>\n",
       "    </tr>\n",
       "    <tr>\n",
       "      <th class=\"index_name level0\" >Alopecia</th>\n",
       "      <th class=\"blank col0\" >&nbsp;</th>\n",
       "      <th class=\"blank col1\" >&nbsp;</th>\n",
       "    </tr>\n",
       "  </thead>\n",
       "  <tbody>\n",
       "    <tr>\n",
       "      <th id=\"T_a2952_level0_row0\" class=\"row_heading level0 row0\" >No</th>\n",
       "      <td id=\"T_a2952_row0_col0\" class=\"data row0 col0\" >49.500000</td>\n",
       "      <td id=\"T_a2952_row0_col1\" class=\"data row0 col1\" >75.620000</td>\n",
       "    </tr>\n",
       "    <tr>\n",
       "      <th id=\"T_a2952_level0_row1\" class=\"row_heading level0 row1\" >Yes</th>\n",
       "      <td id=\"T_a2952_row1_col0\" class=\"data row1 col0\" >50.500000</td>\n",
       "      <td id=\"T_a2952_row1_col1\" class=\"data row1 col1\" >24.380000</td>\n",
       "    </tr>\n",
       "  </tbody>\n",
       "</table>\n"
      ],
      "text/plain": [
       "<pandas.io.formats.style.Styler at 0x7f7b5c804e20>"
      ]
     },
     "execution_count": 184,
     "metadata": {},
     "output_type": "execute_result"
    },
    {
     "data": {
      "image/png": "[encoded data removed]",
      "text/plain": [
       "<Figure size 640x480 with 1 Axes>"
      ]
     },
     "metadata": {},
     "output_type": "display_data"
    }
   ],
   "source": [
    "#distribution of alopecia\n",
    "sbn.countplot(x=orig_df['Alopecia'],hue=orig_df['class'], data=orig_df)\n",
    "\n",
    "\n",
    "plot_criteria= ['Alopecia', 'class']\n",
    "cm = sbn.light_palette(\"red\", as_cmap=True)\n",
    "(round(pd.crosstab(orig_df[plot_criteria[0]], orig_df[plot_criteria[1]], normalize='columns') * 100,2)).style.background_gradient(cmap = cm)"
   ]
  },
  {
   "cell_type": "code",
   "execution_count": 185,
   "id": "c8d211f7",
   "metadata": {
    "execution": {
     "iopub.execute_input": "2022-11-11T21:11:08.414785Z",
     "iopub.status.busy": "2022-11-11T21:11:08.414332Z",
     "iopub.status.idle": "2022-11-11T21:11:08.659053Z",
     "shell.execute_reply": "2022-11-11T21:11:08.657716Z"
    },
    "papermill": {
     "duration": 0.277467,
     "end_time": "2022-11-11T21:11:08.661859",
     "exception": false,
     "start_time": "2022-11-11T21:11:08.384392",
     "status": "completed"
    },
    "tags": []
   },
   "outputs": [
    {
     "data": {
      "text/html": [
       "<style type=\"text/css\">\n",
       "#T_c493e_row0_col0, #T_c493e_row0_col1 {\n",
       "  background-color: #ff0000;\n",
       "  color: #f1f1f1;\n",
       "}\n",
       "#T_c493e_row1_col0, #T_c493e_row1_col1 {\n",
       "  background-color: #f3f0f0;\n",
       "  color: #000000;\n",
       "}\n",
       "</style>\n",
       "<table id=\"T_c493e\">\n",
       "  <thead>\n",
       "    <tr>\n",
       "      <th class=\"index_name level0\" >class</th>\n",
       "      <th id=\"T_c493e_level0_col0\" class=\"col_heading level0 col0\" >Negative</th>\n",
       "      <th id=\"T_c493e_level0_col1\" class=\"col_heading level0 col1\" >Positive</th>\n",
       "    </tr>\n",
       "    <tr>\n",
       "      <th class=\"index_name level0\" >Obesity</th>\n",
       "      <th class=\"blank col0\" >&nbsp;</th>\n",
       "      <th class=\"blank col1\" >&nbsp;</th>\n",
       "    </tr>\n",
       "  </thead>\n",
       "  <tbody>\n",
       "    <tr>\n",
       "      <th id=\"T_c493e_level0_row0\" class=\"row_heading level0 row0\" >No</th>\n",
       "      <td id=\"T_c493e_row0_col0\" class=\"data row0 col0\" >86.500000</td>\n",
       "      <td id=\"T_c493e_row0_col1\" class=\"data row0 col1\" >80.940000</td>\n",
       "    </tr>\n",
       "    <tr>\n",
       "      <th id=\"T_c493e_level0_row1\" class=\"row_heading level0 row1\" >Yes</th>\n",
       "      <td id=\"T_c493e_row1_col0\" class=\"data row1 col0\" >13.500000</td>\n",
       "      <td id=\"T_c493e_row1_col1\" class=\"data row1 col1\" >19.060000</td>\n",
       "    </tr>\n",
       "  </tbody>\n",
       "</table>\n"
      ],
      "text/plain": [
       "<pandas.io.formats.style.Styler at 0x7f7b7cf6d400>"
      ]
     },
     "execution_count": 185,
     "metadata": {},
     "output_type": "execute_result"
    },
    {
     "data": {
      "image/png": "[encoded data removed]",
      "text/plain": [
       "<Figure size 640x480 with 1 Axes>"
      ]
     },
     "metadata": {},
     "output_type": "display_data"
    }
   ],
   "source": [
    "#distribution of obesity\n",
    "sbn.countplot(x=orig_df['Obesity'],hue=orig_df['class'], data=orig_df)\n",
    "\n",
    "\n",
    "plot_criteria= ['Obesity', 'class']\n",
    "cm = sbn.light_palette(\"red\", as_cmap=True)\n",
    "(round(pd.crosstab(orig_df[plot_criteria[0]], orig_df[plot_criteria[1]], normalize='columns') * 100,2)).style.background_gradient(cmap = cm)"
   ]
  },
  {
   "cell_type": "code",
   "execution_count": 186,
   "id": "68ecaba1",
   "metadata": {
    "execution": {
     "iopub.execute_input": "2022-11-11T21:12:17.206048Z",
     "iopub.status.busy": "2022-11-11T21:12:17.204824Z",
     "iopub.status.idle": "2022-11-11T21:12:17.217781Z",
     "shell.execute_reply": "2022-11-11T21:12:17.216548Z"
    },
    "papermill": {
     "duration": 0.164834,
     "end_time": "2022-11-11T21:12:17.220577",
     "exception": false,
     "start_time": "2022-11-11T21:12:17.055743",
     "status": "completed"
    },
    "tags": []
   },
   "outputs": [
    {
     "data": {
      "text/plain": [
       "0    1\n",
       "1    1\n",
       "Name: class, dtype: int64"
      ]
     },
     "execution_count": 186,
     "metadata": {},
     "output_type": "execute_result"
    }
   ],
   "source": [
    "#data labeling -- changing negetive/positive into 0 1\n",
    "orig_df['class'] = orig_df['class'].apply(lambda x: 0 if x=='Negative' else 1)\n",
    "orig_df['class'].head(2)"
   ]
  },
  {
   "cell_type": "code",
   "execution_count": 187,
   "id": "f5dc4d59",
   "metadata": {
    "execution": {
     "iopub.execute_input": "2022-11-11T21:12:17.816237Z",
     "iopub.status.busy": "2022-11-11T21:12:17.815833Z",
     "iopub.status.idle": "2022-11-11T21:12:17.823681Z",
     "shell.execute_reply": "2022-11-11T21:12:17.822670Z"
    },
    "papermill": {
     "duration": 0.159249,
     "end_time": "2022-11-11T21:12:17.827347",
     "exception": false,
     "start_time": "2022-11-11T21:12:17.668098",
     "status": "completed"
    },
    "tags": []
   },
   "outputs": [],
   "source": [
    "#dropping the target var from the dataset\n",
    "input = orig_df.drop(['class'], axis=1)\n",
    "output = orig_df['class']"
   ]
  },
  {
   "cell_type": "code",
   "execution_count": 188,
   "id": "1ccfc3d1",
   "metadata": {
    "execution": {
     "iopub.execute_input": "2022-11-11T21:12:18.419223Z",
     "iopub.status.busy": "2022-11-11T21:12:18.418485Z",
     "iopub.status.idle": "2022-11-11T21:12:18.426664Z",
     "shell.execute_reply": "2022-11-11T21:12:18.425446Z"
    },
    "papermill": {
     "duration": 0.162545,
     "end_time": "2022-11-11T21:12:18.428983",
     "exception": false,
     "start_time": "2022-11-11T21:12:18.266438",
     "status": "completed"
    },
    "tags": []
   },
   "outputs": [
    {
     "name": "stdout",
     "output_type": "stream",
     "text": [
      "Index(['Gender', 'Polyuria', 'Polydipsia', 'sudden weight loss', 'weakness',\n",
      "       'Polyphagia', 'Genital thrush', 'visual blurring', 'Itching',\n",
      "       'Irritability', 'delayed healing', 'partial paresis',\n",
      "       'muscle stiffness', 'Alopecia', 'Obesity'],\n",
      "      dtype='object')\n"
     ]
    }
   ],
   "source": [
    "#storing features\n",
    "objList = input.select_dtypes(include = \"object\").columns\n",
    "print(objList)"
   ]
  },
  {
   "cell_type": "code",
   "execution_count": 189,
   "id": "e88bc065",
   "metadata": {
    "execution": {
     "iopub.execute_input": "2022-11-11T21:12:19.022560Z",
     "iopub.status.busy": "2022-11-11T21:12:19.022126Z",
     "iopub.status.idle": "2022-11-11T21:12:19.051004Z",
     "shell.execute_reply": "2022-11-11T21:12:19.049630Z"
    },
    "papermill": {
     "duration": 0.182213,
     "end_time": "2022-11-11T21:12:19.053488",
     "exception": false,
     "start_time": "2022-11-11T21:12:18.871275",
     "status": "completed"
    },
    "tags": []
   },
   "outputs": [
    {
     "name": "stdout",
     "output_type": "stream",
     "text": [
      "<class 'pandas.core.frame.DataFrame'>\n",
      "RangeIndex: 520 entries, 0 to 519\n",
      "Data columns (total 16 columns):\n",
      " #   Column              Non-Null Count  Dtype\n",
      "---  ------              --------------  -----\n",
      " 0   Age                 520 non-null    int64\n",
      " 1   Gender              520 non-null    int64\n",
      " 2   Polyuria            520 non-null    int64\n",
      " 3   Polydipsia          520 non-null    int64\n",
      " 4   sudden weight loss  520 non-null    int64\n",
      " 5   weakness            520 non-null    int64\n",
      " 6   Polyphagia          520 non-null    int64\n",
      " 7   Genital thrush      520 non-null    int64\n",
      " 8   visual blurring     520 non-null    int64\n",
      " 9   Itching             520 non-null    int64\n",
      " 10  Irritability        520 non-null    int64\n",
      " 11  delayed healing     520 non-null    int64\n",
      " 12  partial paresis     520 non-null    int64\n",
      " 13  muscle stiffness    520 non-null    int64\n",
      " 14  Alopecia            520 non-null    int64\n",
      " 15  Obesity             520 non-null    int64\n",
      "dtypes: int64(16)\n",
      "memory usage: 65.1 KB\n",
      "None\n"
     ]
    }
   ],
   "source": [
    "#encoding label using sklearn library\n",
    "from sklearn.preprocessing import LabelEncoder\n",
    "le = LabelEncoder()\n",
    "\n",
    "for feat in objList:\n",
    "    input[feat] = le.fit_transform(input[feature].astype(str))  \n",
    "\n",
    "print (input.info())"
   ]
  },
  {
   "cell_type": "markdown",
   "id": "6730f26a",
   "metadata": {
    "papermill": {
     "duration": 0.148962,
     "end_time": "2022-11-11T21:12:19.346081",
     "exception": false,
     "start_time": "2022-11-11T21:12:19.197119",
     "status": "completed"
    },
    "tags": []
   },
   "source": [
    "Here astype is used for casting the data type into int64"
   ]
  },
  {
   "cell_type": "code",
   "execution_count": 190,
   "id": "6e533fb1",
   "metadata": {
    "execution": {
     "iopub.execute_input": "2022-11-11T21:12:19.648567Z",
     "iopub.status.busy": "2022-11-11T21:12:19.648162Z",
     "iopub.status.idle": "2022-11-11T21:12:19.664497Z",
     "shell.execute_reply": "2022-11-11T21:12:19.663153Z"
    },
    "papermill": {
     "duration": 0.170669,
     "end_time": "2022-11-11T21:12:19.667101",
     "exception": false,
     "start_time": "2022-11-11T21:12:19.496432",
     "status": "completed"
    },
    "tags": []
   },
   "outputs": [
    {
     "data": {
      "text/html": [
       "<div>\n",
       "<style scoped>\n",
       "    .dataframe tbody tr th:only-of-type {\n",
       "        vertical-align: middle;\n",
       "    }\n",
       "\n",
       "    .dataframe tbody tr th {\n",
       "        vertical-align: top;\n",
       "    }\n",
       "\n",
       "    .dataframe thead th {\n",
       "        text-align: right;\n",
       "    }\n",
       "</style>\n",
       "<table border=\"1\" class=\"dataframe\">\n",
       "  <thead>\n",
       "    <tr style=\"text-align: right;\">\n",
       "      <th></th>\n",
       "      <th>Age</th>\n",
       "      <th>Gender</th>\n",
       "      <th>Polyuria</th>\n",
       "      <th>Polydipsia</th>\n",
       "      <th>sudden weight loss</th>\n",
       "      <th>weakness</th>\n",
       "      <th>Polyphagia</th>\n",
       "      <th>Genital thrush</th>\n",
       "      <th>visual blurring</th>\n",
       "      <th>Itching</th>\n",
       "      <th>Irritability</th>\n",
       "      <th>delayed healing</th>\n",
       "      <th>partial paresis</th>\n",
       "      <th>muscle stiffness</th>\n",
       "      <th>Alopecia</th>\n",
       "      <th>Obesity</th>\n",
       "    </tr>\n",
       "  </thead>\n",
       "  <tbody>\n",
       "    <tr>\n",
       "      <th>0</th>\n",
       "      <td>40</td>\n",
       "      <td>1</td>\n",
       "      <td>1</td>\n",
       "      <td>1</td>\n",
       "      <td>1</td>\n",
       "      <td>1</td>\n",
       "      <td>1</td>\n",
       "      <td>1</td>\n",
       "      <td>1</td>\n",
       "      <td>1</td>\n",
       "      <td>1</td>\n",
       "      <td>1</td>\n",
       "      <td>1</td>\n",
       "      <td>1</td>\n",
       "      <td>1</td>\n",
       "      <td>1</td>\n",
       "    </tr>\n",
       "    <tr>\n",
       "      <th>1</th>\n",
       "      <td>58</td>\n",
       "      <td>0</td>\n",
       "      <td>0</td>\n",
       "      <td>0</td>\n",
       "      <td>0</td>\n",
       "      <td>0</td>\n",
       "      <td>0</td>\n",
       "      <td>0</td>\n",
       "      <td>0</td>\n",
       "      <td>0</td>\n",
       "      <td>0</td>\n",
       "      <td>0</td>\n",
       "      <td>0</td>\n",
       "      <td>0</td>\n",
       "      <td>0</td>\n",
       "      <td>0</td>\n",
       "    </tr>\n",
       "    <tr>\n",
       "      <th>2</th>\n",
       "      <td>41</td>\n",
       "      <td>0</td>\n",
       "      <td>0</td>\n",
       "      <td>0</td>\n",
       "      <td>0</td>\n",
       "      <td>0</td>\n",
       "      <td>0</td>\n",
       "      <td>0</td>\n",
       "      <td>0</td>\n",
       "      <td>0</td>\n",
       "      <td>0</td>\n",
       "      <td>0</td>\n",
       "      <td>0</td>\n",
       "      <td>0</td>\n",
       "      <td>0</td>\n",
       "      <td>0</td>\n",
       "    </tr>\n",
       "    <tr>\n",
       "      <th>3</th>\n",
       "      <td>45</td>\n",
       "      <td>0</td>\n",
       "      <td>0</td>\n",
       "      <td>0</td>\n",
       "      <td>0</td>\n",
       "      <td>0</td>\n",
       "      <td>0</td>\n",
       "      <td>0</td>\n",
       "      <td>0</td>\n",
       "      <td>0</td>\n",
       "      <td>0</td>\n",
       "      <td>0</td>\n",
       "      <td>0</td>\n",
       "      <td>0</td>\n",
       "      <td>0</td>\n",
       "      <td>0</td>\n",
       "    </tr>\n",
       "    <tr>\n",
       "      <th>4</th>\n",
       "      <td>60</td>\n",
       "      <td>1</td>\n",
       "      <td>1</td>\n",
       "      <td>1</td>\n",
       "      <td>1</td>\n",
       "      <td>1</td>\n",
       "      <td>1</td>\n",
       "      <td>1</td>\n",
       "      <td>1</td>\n",
       "      <td>1</td>\n",
       "      <td>1</td>\n",
       "      <td>1</td>\n",
       "      <td>1</td>\n",
       "      <td>1</td>\n",
       "      <td>1</td>\n",
       "      <td>1</td>\n",
       "    </tr>\n",
       "  </tbody>\n",
       "</table>\n",
       "</div>"
      ],
      "text/plain": [
       "   Age  Gender  Polyuria  Polydipsia  sudden weight loss  weakness  \\\n",
       "0   40       1         1           1                   1         1   \n",
       "1   58       0         0           0                   0         0   \n",
       "2   41       0         0           0                   0         0   \n",
       "3   45       0         0           0                   0         0   \n",
       "4   60       1         1           1                   1         1   \n",
       "\n",
       "   Polyphagia  Genital thrush  visual blurring  Itching  Irritability  \\\n",
       "0           1               1                1        1             1   \n",
       "1           0               0                0        0             0   \n",
       "2           0               0                0        0             0   \n",
       "3           0               0                0        0             0   \n",
       "4           1               1                1        1             1   \n",
       "\n",
       "   delayed healing  partial paresis  muscle stiffness  Alopecia  Obesity  \n",
       "0                1                1                 1         1        1  \n",
       "1                0                0                 0         0        0  \n",
       "2                0                0                 0         0        0  \n",
       "3                0                0                 0         0        0  \n",
       "4                1                1                 1         1        1  "
      ]
     },
     "execution_count": 190,
     "metadata": {},
     "output_type": "execute_result"
    }
   ],
   "source": [
    "input.head()"
   ]
  },
  {
   "cell_type": "code",
   "execution_count": 191,
   "id": "3fc6aa3d",
   "metadata": {
    "execution": {
     "iopub.execute_input": "2022-11-11T21:12:20.288875Z",
     "iopub.status.busy": "2022-11-11T21:12:20.288455Z",
     "iopub.status.idle": "2022-11-11T21:12:20.304247Z",
     "shell.execute_reply": "2022-11-11T21:12:20.303005Z"
    },
    "papermill": {
     "duration": 0.166202,
     "end_time": "2022-11-11T21:12:20.306893",
     "exception": false,
     "start_time": "2022-11-11T21:12:20.140691",
     "status": "completed"
    },
    "tags": []
   },
   "outputs": [
    {
     "data": {
      "text/plain": [
       "Age                   0.108679\n",
       "Gender                0.072173\n",
       "Polyuria              0.072173\n",
       "Polydipsia            0.072173\n",
       "sudden weight loss    0.072173\n",
       "weakness              0.072173\n",
       "Polyphagia            0.072173\n",
       "Genital thrush        0.072173\n",
       "visual blurring       0.072173\n",
       "Itching               0.072173\n",
       "Irritability          0.072173\n",
       "delayed healing       0.072173\n",
       "partial paresis       0.072173\n",
       "muscle stiffness      0.072173\n",
       "Alopecia              0.072173\n",
       "Obesity               0.072173\n",
       "dtype: float64"
      ]
     },
     "execution_count": 191,
     "metadata": {},
     "output_type": "execute_result"
    }
   ],
   "source": [
    "# finding corelation with features\n",
    "input.corrwith(output)"
   ]
  },
  {
   "cell_type": "code",
   "execution_count": 192,
   "id": "1ef52091",
   "metadata": {
    "execution": {
     "iopub.execute_input": "2022-11-11T21:12:20.897684Z",
     "iopub.status.busy": "2022-11-11T21:12:20.896992Z",
     "iopub.status.idle": "2022-11-11T21:12:21.367407Z",
     "shell.execute_reply": "2022-11-11T21:12:21.366199Z"
    },
    "papermill": {
     "duration": 0.619442,
     "end_time": "2022-11-11T21:12:21.370074",
     "exception": false,
     "start_time": "2022-11-11T21:12:20.750632",
     "status": "completed"
    },
    "tags": []
   },
   "outputs": [
    {
     "data": {
      "text/plain": [
       "<AxesSubplot: title={'center': 'Correlation with Diabetes'}>"
      ]
     },
     "execution_count": 192,
     "metadata": {},
     "output_type": "execute_result"
    },
    {
     "data": {
      "image/png": "[encoded data removed]",
      "text/plain": [
       "<Figure size 1600x600 with 1 Axes>"
      ]
     },
     "metadata": {},
     "output_type": "display_data"
    }
   ],
   "source": [
    "#corelation with respect to the output class\n",
    "input.corrwith(output).plot.bar(\n",
    "        figsize = (16, 6), title = \"Correlation with Diabetes\", fontsize = 15,\n",
    "        rot = 90, grid = True)\n"
   ]
  },
  {
   "cell_type": "code",
   "execution_count": 193,
   "id": "92987659",
   "metadata": {
    "execution": {
     "iopub.execute_input": "2022-11-11T21:12:21.979065Z",
     "iopub.status.busy": "2022-11-11T21:12:21.977949Z",
     "iopub.status.idle": "2022-11-11T21:12:21.984944Z",
     "shell.execute_reply": "2022-11-11T21:12:21.983865Z"
    },
    "papermill": {
     "duration": 0.159282,
     "end_time": "2022-11-11T21:12:21.987209",
     "exception": false,
     "start_time": "2022-11-11T21:12:21.827927",
     "status": "completed"
    },
    "tags": []
   },
   "outputs": [
    {
     "data": {
      "text/plain": [
       "Index(['Age', 'Gender', 'Polyuria', 'Polydipsia', 'sudden weight loss',\n",
       "       'weakness', 'Polyphagia', 'Genital thrush', 'visual blurring',\n",
       "       'Itching', 'Irritability', 'delayed healing', 'partial paresis',\n",
       "       'muscle stiffness', 'Alopecia', 'Obesity'],\n",
       "      dtype='object')"
      ]
     },
     "execution_count": 193,
     "metadata": {},
     "output_type": "execute_result"
    }
   ],
   "source": [
    "#showing input cols\n",
    "input.columns"
   ]
  },
  {
   "cell_type": "code",
   "execution_count": 194,
   "id": "6a12c940",
   "metadata": {},
   "outputs": [
    {
     "name": "stdout",
     "output_type": "stream",
     "text": [
      "Best alpha using builtin lassocv %f 0.015899459036461595\n",
      "Best score using builtin lassocv 0.011804\n",
      "Lasso picked 1variables and eliminated the other 15variables\n",
      "Age                   0.004247\n",
      "Gender                0.000000\n",
      "Polyuria              0.000000\n",
      "Polydipsia            0.000000\n",
      "sudden weight loss    0.000000\n",
      "weakness              0.000000\n",
      "Polyphagia            0.000000\n",
      "Genital thrush        0.000000\n",
      "visual blurring       0.000000\n",
      "Itching               0.000000\n",
      "Irritability          0.000000\n",
      "delayed healing       0.000000\n",
      "partial paresis       0.000000\n",
      "muscle stiffness      0.000000\n",
      "Alopecia              0.000000\n",
      "Obesity               0.000000\n",
      "dtype: float64\n"
     ]
    },
    {
     "data": {
      "image/png": "[encoded data removed]",
      "text/plain": [
       "<Figure size 640x480 with 1 Axes>"
      ]
     },
     "metadata": {},
     "output_type": "display_data"
    }
   ],
   "source": [
    "# feature selsction using lasso\n",
    "from sklearn.linear_model import LassoCV\n",
    "import matplotlib as matplotlib\n",
    "reg = LassoCV()\n",
    "reg.fit(input,output)\n",
    "print(\"Best alpha using builtin lassocv %f\" ,reg.alpha_)\n",
    "print(\"Best score using builtin lassocv %f\" %reg.score(input,output))\n",
    "coef = pd.Series(reg.coef_,index=input.columns)\n",
    "print(\"Lasso picked \"+ str(sum(coef!=0))+ \"variables and eliminated the other \" + str(sum(coef==0)) + \"variables\" )\n",
    "imp_coef = coef.sort_values()\n",
    "# matplotlib.rcparams['figure.figsize'] =(8.0,10.0)\n",
    "imp_coef.plot(kind=\"barh\")\n",
    "pplot.title(\"feature importance using Lasso model\")\n",
    "print(coef)\n"
   ]
  },
  {
   "cell_type": "code",
   "execution_count": 195,
   "id": "c17f2580",
   "metadata": {
    "execution": {
     "iopub.execute_input": "2022-11-11T21:12:22.609692Z",
     "iopub.status.busy": "2022-11-11T21:12:22.608582Z",
     "iopub.status.idle": "2022-11-11T21:12:22.616019Z",
     "shell.execute_reply": "2022-11-11T21:12:22.614951Z"
    },
    "papermill": {
     "duration": 0.158513,
     "end_time": "2022-11-11T21:12:22.618518",
     "exception": false,
     "start_time": "2022-11-11T21:12:22.460005",
     "status": "completed"
    },
    "tags": []
   },
   "outputs": [],
   "source": [
    "# dropping the least relevant feature\n",
    "input_feature_selected = input = input.drop(['Alopecia'], axis=1)"
   ]
  },
  {
   "cell_type": "code",
   "execution_count": 196,
   "id": "5963c5b3",
   "metadata": {
    "execution": {
     "iopub.execute_input": "2022-11-11T21:12:22.914708Z",
     "iopub.status.busy": "2022-11-11T21:12:22.914004Z",
     "iopub.status.idle": "2022-11-11T21:12:22.920581Z",
     "shell.execute_reply": "2022-11-11T21:12:22.919704Z"
    },
    "papermill": {
     "duration": 0.157558,
     "end_time": "2022-11-11T21:12:22.922950",
     "exception": false,
     "start_time": "2022-11-11T21:12:22.765392",
     "status": "completed"
    },
    "tags": []
   },
   "outputs": [
    {
     "data": {
      "text/plain": [
       "15"
      ]
     },
     "execution_count": 196,
     "metadata": {},
     "output_type": "execute_result"
    }
   ],
   "source": [
    "input_feature_selected.shape[1]"
   ]
  },
  {
   "cell_type": "code",
   "execution_count": 197,
   "id": "cbfe7716",
   "metadata": {
    "execution": {
     "iopub.execute_input": "2022-11-11T21:12:23.224948Z",
     "iopub.status.busy": "2022-11-11T21:12:23.224236Z",
     "iopub.status.idle": "2022-11-11T21:12:23.230504Z",
     "shell.execute_reply": "2022-11-11T21:12:23.229426Z"
    },
    "papermill": {
     "duration": 0.160769,
     "end_time": "2022-11-11T21:12:23.232747",
     "exception": false,
     "start_time": "2022-11-11T21:12:23.071978",
     "status": "completed"
    },
    "tags": []
   },
   "outputs": [
    {
     "data": {
      "text/plain": [
       "Index(['Age', 'Gender', 'Polyuria', 'Polydipsia', 'sudden weight loss',\n",
       "       'weakness', 'Polyphagia', 'Genital thrush', 'visual blurring',\n",
       "       'Itching', 'Irritability', 'delayed healing', 'partial paresis',\n",
       "       'muscle stiffness', 'Obesity'],\n",
       "      dtype='object')"
      ]
     },
     "execution_count": 197,
     "metadata": {},
     "output_type": "execute_result"
    }
   ],
   "source": [
    "#new input\n",
    "input_feature_selected.columns"
   ]
  },
  {
   "cell_type": "code",
   "execution_count": 226,
   "id": "3523a893",
   "metadata": {
    "execution": {
     "iopub.execute_input": "2022-11-11T21:12:23.534683Z",
     "iopub.status.busy": "2022-11-11T21:12:23.533385Z",
     "iopub.status.idle": "2022-11-11T21:12:23.539001Z",
     "shell.execute_reply": "2022-11-11T21:12:23.537975Z"
    },
    "papermill": {
     "duration": 0.161566,
     "end_time": "2022-11-11T21:12:23.541515",
     "exception": false,
     "start_time": "2022-11-11T21:12:23.379949",
     "status": "completed"
    },
    "tags": []
   },
   "outputs": [
    {
     "name": "stdout",
     "output_type": "stream",
     "text": [
      "['Age', 'Gender', 'Polyuria', 'Polydipsia', 'sudden weight loss', 'weakness', 'Polyphagia', 'Genital thrush', 'visual blurring', 'Itching', 'Irritability', 'delayed healing', 'partial paresis', 'muscle stiffness', 'Alopecia', 'Obesity', 'class']\n"
     ]
    }
   ],
   "source": [
    "l1 = list(df.columns)\n",
    "l2 = list(input_feature_selected.columns)\n",
    "print(l1)"
   ]
  },
  {
   "cell_type": "code",
   "execution_count": 227,
   "id": "4d64bd6f",
   "metadata": {
    "execution": {
     "iopub.execute_input": "2022-11-11T21:12:24.151313Z",
     "iopub.status.busy": "2022-11-11T21:12:24.150919Z",
     "iopub.status.idle": "2022-11-11T21:12:24.157781Z",
     "shell.execute_reply": "2022-11-11T21:12:24.156355Z"
    },
    "papermill": {
     "duration": 0.166306,
     "end_time": "2022-11-11T21:12:24.160410",
     "exception": false,
     "start_time": "2022-11-11T21:12:23.994104",
     "status": "completed"
    },
    "tags": []
   },
   "outputs": [
    {
     "name": "stdout",
     "output_type": "stream",
     "text": [
      "['Alopecia', 'class']\n"
     ]
    }
   ],
   "source": [
    "miss = []\n",
    "for i in l1:\n",
    "    if i not in l2:\n",
    "        miss.append(i)\n",
    "print(miss)"
   ]
  },
  {
   "cell_type": "code",
   "execution_count": 200,
   "id": "5255088b",
   "metadata": {
    "execution": {
     "iopub.execute_input": "2022-11-11T21:12:24.753654Z",
     "iopub.status.busy": "2022-11-11T21:12:24.752562Z",
     "iopub.status.idle": "2022-11-11T21:12:24.762891Z",
     "shell.execute_reply": "2022-11-11T21:12:24.761770Z"
    },
    "papermill": {
     "duration": 0.162747,
     "end_time": "2022-11-11T21:12:24.765385",
     "exception": false,
     "start_time": "2022-11-11T21:12:24.602638",
     "status": "completed"
    },
    "tags": []
   },
   "outputs": [],
   "source": [
    "# splitting into test train 20/80\n",
    "x_train, x_test, y_train,y_test = train_test_split(input_feature_selected,output, test_size = 0.2, stratify = output, random_state = 12345)"
   ]
  },
  {
   "cell_type": "code",
   "execution_count": 201,
   "id": "b11f2e17",
   "metadata": {
    "execution": {
     "iopub.execute_input": "2022-11-11T21:12:25.354198Z",
     "iopub.status.busy": "2022-11-11T21:12:25.353215Z",
     "iopub.status.idle": "2022-11-11T21:12:25.367694Z",
     "shell.execute_reply": "2022-11-11T21:12:25.366681Z"
    },
    "papermill": {
     "duration": 0.165466,
     "end_time": "2022-11-11T21:12:25.370292",
     "exception": false,
     "start_time": "2022-11-11T21:12:25.204826",
     "status": "completed"
    },
    "tags": []
   },
   "outputs": [],
   "source": [
    "#normalize - -- age into 0-1\n",
    "minmax = MinMaxScaler()\n",
    "x_train[['Age']] = minmax.fit_transform(x_train[['Age']])\n",
    "x_test[['Age']] = minmax.transform(x_test[['Age']])"
   ]
  },
  {
   "cell_type": "code",
   "execution_count": 202,
   "id": "13e31a13",
   "metadata": {
    "execution": {
     "iopub.execute_input": "2022-11-11T21:12:26.281900Z",
     "iopub.status.busy": "2022-11-11T21:12:26.280917Z",
     "iopub.status.idle": "2022-11-11T21:12:26.348601Z",
     "shell.execute_reply": "2022-11-11T21:12:26.347378Z"
    },
    "papermill": {
     "duration": 0.217999,
     "end_time": "2022-11-11T21:12:26.351156",
     "exception": false,
     "start_time": "2022-11-11T21:12:26.133157",
     "status": "completed"
    },
    "tags": []
   },
   "outputs": [
    {
     "data": {
      "text/html": [
       "<style>#sk-container-id-13 {color: black;background-color: white;}#sk-container-id-13 pre{padding: 0;}#sk-container-id-13 div.sk-toggleable {background-color: white;}#sk-container-id-13 label.sk-toggleable__label {cursor: pointer;display: block;width: 100%;margin-bottom: 0;padding: 0.3em;box-sizing: border-box;text-align: center;}#sk-container-id-13 label.sk-toggleable__label-arrow:before {content: \"▸\";float: left;margin-right: 0.25em;color: #696969;}#sk-container-id-13 label.sk-toggleable__label-arrow:hover:before {color: black;}#sk-container-id-13 div.sk-estimator:hover label.sk-toggleable__label-arrow:before {color: black;}#sk-container-id-13 div.sk-toggleable__content {max-height: 0;max-width: 0;overflow: hidden;text-align: left;background-color: #f0f8ff;}#sk-container-id-13 div.sk-toggleable__content pre {margin: 0.2em;color: black;border-radius: 0.25em;background-color: #f0f8ff;}#sk-container-id-13 input.sk-toggleable__control:checked~div.sk-toggleable__content {max-height: 200px;max-width: 100%;overflow: auto;}#sk-container-id-13 input.sk-toggleable__control:checked~label.sk-toggleable__label-arrow:before {content: \"▾\";}#sk-container-id-13 div.sk-estimator input.sk-toggleable__control:checked~label.sk-toggleable__label {background-color: #d4ebff;}#sk-container-id-13 div.sk-label input.sk-toggleable__control:checked~label.sk-toggleable__label {background-color: #d4ebff;}#sk-container-id-13 input.sk-hidden--visually {border: 0;clip: rect(1px 1px 1px 1px);clip: rect(1px, 1px, 1px, 1px);height: 1px;margin: -1px;overflow: hidden;padding: 0;position: absolute;width: 1px;}#sk-container-id-13 div.sk-estimator {font-family: monospace;background-color: #f0f8ff;border: 1px dotted black;border-radius: 0.25em;box-sizing: border-box;margin-bottom: 0.5em;}#sk-container-id-13 div.sk-estimator:hover {background-color: #d4ebff;}#sk-container-id-13 div.sk-parallel-item::after {content: \"\";width: 100%;border-bottom: 1px solid gray;flex-grow: 1;}#sk-container-id-13 div.sk-label:hover label.sk-toggleable__label {background-color: #d4ebff;}#sk-container-id-13 div.sk-serial::before {content: \"\";position: absolute;border-left: 1px solid gray;box-sizing: border-box;top: 0;bottom: 0;left: 50%;z-index: 0;}#sk-container-id-13 div.sk-serial {display: flex;flex-direction: column;align-items: center;background-color: white;padding-right: 0.2em;padding-left: 0.2em;position: relative;}#sk-container-id-13 div.sk-item {position: relative;z-index: 1;}#sk-container-id-13 div.sk-parallel {display: flex;align-items: stretch;justify-content: center;background-color: white;position: relative;}#sk-container-id-13 div.sk-item::before, #sk-container-id-13 div.sk-parallel-item::before {content: \"\";position: absolute;border-left: 1px solid gray;box-sizing: border-box;top: 0;bottom: 0;left: 50%;z-index: -1;}#sk-container-id-13 div.sk-parallel-item {display: flex;flex-direction: column;z-index: 1;position: relative;background-color: white;}#sk-container-id-13 div.sk-parallel-item:first-child::after {align-self: flex-end;width: 50%;}#sk-container-id-13 div.sk-parallel-item:last-child::after {align-self: flex-start;width: 50%;}#sk-container-id-13 div.sk-parallel-item:only-child::after {width: 0;}#sk-container-id-13 div.sk-dashed-wrapped {border: 1px dashed gray;margin: 0 0.4em 0.5em 0.4em;box-sizing: border-box;padding-bottom: 0.4em;background-color: white;}#sk-container-id-13 div.sk-label label {font-family: monospace;font-weight: bold;display: inline-block;line-height: 1.2em;}#sk-container-id-13 div.sk-label-container {text-align: center;}#sk-container-id-13 div.sk-container {/* jupyter's `normalize.less` sets `[hidden] { display: none; }` but bootstrap.min.css set `[hidden] { display: none !important; }` so we also need the `!important` here to be able to override the default hidden behavior on the sphinx rendered scikit-learn.org. See: https://github.com/scikit-learn/scikit-learn/issues/21755 */display: inline-block !important;position: relative;}#sk-container-id-13 div.sk-text-repr-fallback {display: none;}</style><div id=\"sk-container-id-13\" class=\"sk-top-container\"><div class=\"sk-text-repr-fallback\"><pre>LogisticRegression(random_state=0)</pre><b>In a Jupyter environment, please rerun this cell to show the HTML representation or trust the notebook. <br />On GitHub, the HTML representation is unable to render, please try loading this page with nbviewer.org.</b></div><div class=\"sk-container\" hidden><div class=\"sk-item\"><div class=\"sk-estimator sk-toggleable\"><input class=\"sk-toggleable__control sk-hidden--visually\" id=\"sk-estimator-id-13\" type=\"checkbox\" checked><label for=\"sk-estimator-id-13\" class=\"sk-toggleable__label sk-toggleable__label-arrow\">LogisticRegression</label><div class=\"sk-toggleable__content\"><pre>LogisticRegression(random_state=0)</pre></div></div></div></div></div>"
      ],
      "text/plain": [
       "LogisticRegression(random_state=0)"
      ]
     },
     "execution_count": 202,
     "metadata": {},
     "output_type": "execute_result"
    }
   ],
   "source": [
    "#logistic regression\n",
    "logic = LogisticRegression(random_state = 0,  penalty='l2')\n",
    "logic.fit(x_train, y_train)"
   ]
  },
  {
   "cell_type": "code",
   "execution_count": 203,
   "id": "ff11fc04",
   "metadata": {
    "execution": {
     "iopub.execute_input": "2022-11-11T21:12:26.941226Z",
     "iopub.status.busy": "2022-11-11T21:12:26.940779Z",
     "iopub.status.idle": "2022-11-11T21:12:27.039711Z",
     "shell.execute_reply": "2022-11-11T21:12:27.038542Z"
    },
    "papermill": {
     "duration": 0.25025,
     "end_time": "2022-11-11T21:12:27.042440",
     "exception": false,
     "start_time": "2022-11-11T21:12:26.792190",
     "status": "completed"
    },
    "tags": []
   },
   "outputs": [],
   "source": [
    "#kfold \n",
    "kfold = model_selection.KFold(n_splits=8, random_state=7,shuffle = True)\n",
    "\n",
    "acc_logis = cross_val_score(estimator=logic,X = x_train,y =y_train, cv = kfold,scoring='accuracy')"
   ]
  },
  {
   "cell_type": "code",
   "execution_count": 204,
   "id": "8f5dc8b2",
   "metadata": {
    "execution": {
     "iopub.execute_input": "2022-11-11T21:12:27.645576Z",
     "iopub.status.busy": "2022-11-11T21:12:27.644341Z",
     "iopub.status.idle": "2022-11-11T21:12:27.667664Z",
     "shell.execute_reply": "2022-11-11T21:12:27.666454Z"
    },
    "papermill": {
     "duration": 0.178571,
     "end_time": "2022-11-11T21:12:27.670325",
     "exception": false,
     "start_time": "2022-11-11T21:12:27.491754",
     "status": "completed"
    },
    "tags": []
   },
   "outputs": [
    {
     "data": {
      "text/html": [
       "<div>\n",
       "<style scoped>\n",
       "    .dataframe tbody tr th:only-of-type {\n",
       "        vertical-align: middle;\n",
       "    }\n",
       "\n",
       "    .dataframe tbody tr th {\n",
       "        vertical-align: top;\n",
       "    }\n",
       "\n",
       "    .dataframe thead th {\n",
       "        text-align: right;\n",
       "    }\n",
       "</style>\n",
       "<table border=\"1\" class=\"dataframe\">\n",
       "  <thead>\n",
       "    <tr style=\"text-align: right;\">\n",
       "      <th></th>\n",
       "      <th>Model</th>\n",
       "      <th>Accuracy</th>\n",
       "      <th>Cross Val Accuracy</th>\n",
       "      <th>Precision</th>\n",
       "      <th>Recall</th>\n",
       "      <th>F1 Score</th>\n",
       "      <th>ROC</th>\n",
       "    </tr>\n",
       "  </thead>\n",
       "  <tbody>\n",
       "    <tr>\n",
       "      <th>0</th>\n",
       "      <td>Logistic Regression</td>\n",
       "      <td>0.615385</td>\n",
       "      <td>0.615385</td>\n",
       "      <td>0.615385</td>\n",
       "      <td>1.0</td>\n",
       "      <td>0.761905</td>\n",
       "      <td>0.5</td>\n",
       "    </tr>\n",
       "  </tbody>\n",
       "</table>\n",
       "</div>"
      ],
      "text/plain": [
       "                 Model  Accuracy  Cross Val Accuracy  Precision  Recall  \\\n",
       "0  Logistic Regression  0.615385            0.615385   0.615385     1.0   \n",
       "\n",
       "   F1 Score  ROC  \n",
       "0  0.761905  0.5  "
      ]
     },
     "execution_count": 204,
     "metadata": {},
     "output_type": "execute_result"
    }
   ],
   "source": [
    "# Model Evaluation logistic regression\n",
    "y_predict_logi = logic.predict(x_test)\n",
    "acc = accuracy_score(y_test, y_predict_logi)\n",
    "roc = roc_auc_score(y_test, y_predict_logi)\n",
    "prec = precision_score(y_test, y_predict_logi)\n",
    "rec = recall_score(y_test, y_predict_logi)\n",
    "f1 = f1_score(y_test, y_predict_logi)\n",
    "\n",
    "results = pd.DataFrame([['Logistic Regression',acc, acc_logis.mean(), prec, rec, f1,roc]], columns = ['Model', 'Accuracy','Cross Val Accuracy', 'Precision', 'Recall', 'F1 Score','ROC'])\n",
    "results"
   ]
  },
  {
   "cell_type": "code",
   "execution_count": 205,
   "id": "8eb41585",
   "metadata": {
    "execution": {
     "iopub.execute_input": "2022-11-11T21:12:27.978063Z",
     "iopub.status.busy": "2022-11-11T21:12:27.976938Z",
     "iopub.status.idle": "2022-11-11T21:12:27.986763Z",
     "shell.execute_reply": "2022-11-11T21:12:27.985606Z"
    },
    "papermill": {
     "duration": 0.168542,
     "end_time": "2022-11-11T21:12:27.989251",
     "exception": false,
     "start_time": "2022-11-11T21:12:27.820709",
     "status": "completed"
    },
    "tags": []
   },
   "outputs": [
    {
     "name": "stdout",
     "output_type": "stream",
     "text": [
      "              precision    recall  f1-score   support\n",
      "\n",
      "           0       0.00      0.00      0.00         0\n",
      "           1       1.00      0.62      0.76       104\n",
      "\n",
      "    accuracy                           0.62       104\n",
      "   macro avg       0.50      0.31      0.38       104\n",
      "weighted avg       1.00      0.62      0.76       104\n",
      "\n"
     ]
    }
   ],
   "source": [
    "print(classification_report(y_predict_logi,y_test))"
   ]
  },
  {
   "cell_type": "code",
   "execution_count": 206,
   "id": "93c7f369",
   "metadata": {
    "execution": {
     "iopub.execute_input": "2022-11-11T21:12:28.595205Z",
     "iopub.status.busy": "2022-11-11T21:12:28.594320Z",
     "iopub.status.idle": "2022-11-11T21:12:28.763822Z",
     "shell.execute_reply": "2022-11-11T21:12:28.762692Z"
    },
    "papermill": {
     "duration": 0.329516,
     "end_time": "2022-11-11T21:12:28.766214",
     "exception": false,
     "start_time": "2022-11-11T21:12:28.436698",
     "status": "completed"
    },
    "tags": []
   },
   "outputs": [
    {
     "data": {
      "text/html": [
       "<style>#sk-container-id-14 {color: black;background-color: white;}#sk-container-id-14 pre{padding: 0;}#sk-container-id-14 div.sk-toggleable {background-color: white;}#sk-container-id-14 label.sk-toggleable__label {cursor: pointer;display: block;width: 100%;margin-bottom: 0;padding: 0.3em;box-sizing: border-box;text-align: center;}#sk-container-id-14 label.sk-toggleable__label-arrow:before {content: \"▸\";float: left;margin-right: 0.25em;color: #696969;}#sk-container-id-14 label.sk-toggleable__label-arrow:hover:before {color: black;}#sk-container-id-14 div.sk-estimator:hover label.sk-toggleable__label-arrow:before {color: black;}#sk-container-id-14 div.sk-toggleable__content {max-height: 0;max-width: 0;overflow: hidden;text-align: left;background-color: #f0f8ff;}#sk-container-id-14 div.sk-toggleable__content pre {margin: 0.2em;color: black;border-radius: 0.25em;background-color: #f0f8ff;}#sk-container-id-14 input.sk-toggleable__control:checked~div.sk-toggleable__content {max-height: 200px;max-width: 100%;overflow: auto;}#sk-container-id-14 input.sk-toggleable__control:checked~label.sk-toggleable__label-arrow:before {content: \"▾\";}#sk-container-id-14 div.sk-estimator input.sk-toggleable__control:checked~label.sk-toggleable__label {background-color: #d4ebff;}#sk-container-id-14 div.sk-label input.sk-toggleable__control:checked~label.sk-toggleable__label {background-color: #d4ebff;}#sk-container-id-14 input.sk-hidden--visually {border: 0;clip: rect(1px 1px 1px 1px);clip: rect(1px, 1px, 1px, 1px);height: 1px;margin: -1px;overflow: hidden;padding: 0;position: absolute;width: 1px;}#sk-container-id-14 div.sk-estimator {font-family: monospace;background-color: #f0f8ff;border: 1px dotted black;border-radius: 0.25em;box-sizing: border-box;margin-bottom: 0.5em;}#sk-container-id-14 div.sk-estimator:hover {background-color: #d4ebff;}#sk-container-id-14 div.sk-parallel-item::after {content: \"\";width: 100%;border-bottom: 1px solid gray;flex-grow: 1;}#sk-container-id-14 div.sk-label:hover label.sk-toggleable__label {background-color: #d4ebff;}#sk-container-id-14 div.sk-serial::before {content: \"\";position: absolute;border-left: 1px solid gray;box-sizing: border-box;top: 0;bottom: 0;left: 50%;z-index: 0;}#sk-container-id-14 div.sk-serial {display: flex;flex-direction: column;align-items: center;background-color: white;padding-right: 0.2em;padding-left: 0.2em;position: relative;}#sk-container-id-14 div.sk-item {position: relative;z-index: 1;}#sk-container-id-14 div.sk-parallel {display: flex;align-items: stretch;justify-content: center;background-color: white;position: relative;}#sk-container-id-14 div.sk-item::before, #sk-container-id-14 div.sk-parallel-item::before {content: \"\";position: absolute;border-left: 1px solid gray;box-sizing: border-box;top: 0;bottom: 0;left: 50%;z-index: -1;}#sk-container-id-14 div.sk-parallel-item {display: flex;flex-direction: column;z-index: 1;position: relative;background-color: white;}#sk-container-id-14 div.sk-parallel-item:first-child::after {align-self: flex-end;width: 50%;}#sk-container-id-14 div.sk-parallel-item:last-child::after {align-self: flex-start;width: 50%;}#sk-container-id-14 div.sk-parallel-item:only-child::after {width: 0;}#sk-container-id-14 div.sk-dashed-wrapped {border: 1px dashed gray;margin: 0 0.4em 0.5em 0.4em;box-sizing: border-box;padding-bottom: 0.4em;background-color: white;}#sk-container-id-14 div.sk-label label {font-family: monospace;font-weight: bold;display: inline-block;line-height: 1.2em;}#sk-container-id-14 div.sk-label-container {text-align: center;}#sk-container-id-14 div.sk-container {/* jupyter's `normalize.less` sets `[hidden] { display: none; }` but bootstrap.min.css set `[hidden] { display: none !important; }` so we also need the `!important` here to be able to override the default hidden behavior on the sphinx rendered scikit-learn.org. See: https://github.com/scikit-learn/scikit-learn/issues/21755 */display: inline-block !important;position: relative;}#sk-container-id-14 div.sk-text-repr-fallback {display: none;}</style><div id=\"sk-container-id-14\" class=\"sk-top-container\"><div class=\"sk-text-repr-fallback\"><pre>RandomForestClassifier()</pre><b>In a Jupyter environment, please rerun this cell to show the HTML representation or trust the notebook. <br />On GitHub, the HTML representation is unable to render, please try loading this page with nbviewer.org.</b></div><div class=\"sk-container\" hidden><div class=\"sk-item\"><div class=\"sk-estimator sk-toggleable\"><input class=\"sk-toggleable__control sk-hidden--visually\" id=\"sk-estimator-id-14\" type=\"checkbox\" checked><label for=\"sk-estimator-id-14\" class=\"sk-toggleable__label sk-toggleable__label-arrow\">RandomForestClassifier</label><div class=\"sk-toggleable__content\"><pre>RandomForestClassifier()</pre></div></div></div></div></div>"
      ],
      "text/plain": [
       "RandomForestClassifier()"
      ]
     },
     "execution_count": 206,
     "metadata": {},
     "output_type": "execute_result"
    }
   ],
   "source": [
    "\n",
    "# random forest\n",
    "rf = RandomForestClassifier(criterion='gini',n_estimators=100,)\n",
    "rf.fit(x_train,y_train)"
   ]
  },
  {
   "cell_type": "code",
   "execution_count": 207,
   "id": "926da4ec",
   "metadata": {
    "execution": {
     "iopub.execute_input": "2022-11-11T21:12:29.072251Z",
     "iopub.status.busy": "2022-11-11T21:12:29.070918Z",
     "iopub.status.idle": "2022-11-11T21:12:30.416762Z",
     "shell.execute_reply": "2022-11-11T21:12:30.415547Z"
    },
    "papermill": {
     "duration": 1.502297,
     "end_time": "2022-11-11T21:12:30.419604",
     "exception": false,
     "start_time": "2022-11-11T21:12:28.917307",
     "status": "completed"
    },
    "tags": []
   },
   "outputs": [],
   "source": [
    "# preparing for k fold\n",
    "kfold = model_selection.KFold(n_splits=8, random_state=7,shuffle = True)\n",
    "\n",
    "acc_rf = cross_val_score(estimator=rf\n",
    ",X = x_train,y =y_train, cv = kfold,scoring='accuracy')"
   ]
  },
  {
   "cell_type": "code",
   "execution_count": 208,
   "id": "0c3531c7",
   "metadata": {
    "execution": {
     "iopub.execute_input": "2022-11-11T21:12:30.803368Z",
     "iopub.status.busy": "2022-11-11T21:12:30.802979Z",
     "iopub.status.idle": "2022-11-11T21:12:30.845685Z",
     "shell.execute_reply": "2022-11-11T21:12:30.844413Z"
    },
    "papermill": {
     "duration": 0.204783,
     "end_time": "2022-11-11T21:12:30.848663",
     "exception": false,
     "start_time": "2022-11-11T21:12:30.643880",
     "status": "completed"
    },
    "tags": []
   },
   "outputs": [
    {
     "data": {
      "text/html": [
       "<div>\n",
       "<style scoped>\n",
       "    .dataframe tbody tr th:only-of-type {\n",
       "        vertical-align: middle;\n",
       "    }\n",
       "\n",
       "    .dataframe tbody tr th {\n",
       "        vertical-align: top;\n",
       "    }\n",
       "\n",
       "    .dataframe thead th {\n",
       "        text-align: right;\n",
       "    }\n",
       "</style>\n",
       "<table border=\"1\" class=\"dataframe\">\n",
       "  <thead>\n",
       "    <tr style=\"text-align: right;\">\n",
       "      <th></th>\n",
       "      <th>Model</th>\n",
       "      <th>Accuracy</th>\n",
       "      <th>Cross Val Accuracy</th>\n",
       "      <th>Precision</th>\n",
       "      <th>Recall</th>\n",
       "      <th>F1 Score</th>\n",
       "      <th>ROC</th>\n",
       "    </tr>\n",
       "  </thead>\n",
       "  <tbody>\n",
       "    <tr>\n",
       "      <th>0</th>\n",
       "      <td>Logistic Regression</td>\n",
       "      <td>0.615385</td>\n",
       "      <td>0.615385</td>\n",
       "      <td>0.615385</td>\n",
       "      <td>1.0000</td>\n",
       "      <td>0.761905</td>\n",
       "      <td>0.50000</td>\n",
       "    </tr>\n",
       "    <tr>\n",
       "      <th>1</th>\n",
       "      <td>Random Forest</td>\n",
       "      <td>0.740385</td>\n",
       "      <td>0.653846</td>\n",
       "      <td>0.722892</td>\n",
       "      <td>0.9375</td>\n",
       "      <td>0.816327</td>\n",
       "      <td>0.68125</td>\n",
       "    </tr>\n",
       "  </tbody>\n",
       "</table>\n",
       "</div>"
      ],
      "text/plain": [
       "                 Model  Accuracy  Cross Val Accuracy  Precision  Recall  \\\n",
       "0  Logistic Regression  0.615385            0.615385   0.615385  1.0000   \n",
       "1        Random Forest  0.740385            0.653846   0.722892  0.9375   \n",
       "\n",
       "   F1 Score      ROC  \n",
       "0  0.761905  0.50000  \n",
       "1  0.816327  0.68125  "
      ]
     },
     "execution_count": 208,
     "metadata": {},
     "output_type": "execute_result"
    }
   ],
   "source": [
    "# Model Evaluation random forest\n",
    "\n",
    "y_predict_r = rf.predict(x_test)\n",
    "roc=roc_auc_score(y_test, y_predict_r)\n",
    "acc = accuracy_score(y_test, y_predict_r)\n",
    "prec = precision_score(y_test, y_predict_r)\n",
    "rec = recall_score(y_test, y_predict_r)\n",
    "f1 = f1_score(y_test, y_predict_r)\n",
    "\n",
    "model_results = pd.DataFrame([['Random Forest',acc, acc_rf.mean(),prec,rec, f1,roc]], columns = ['Model', 'Accuracy','Cross Val Accuracy', 'Precision', 'Recall', 'F1 Score','ROC'])\n",
    "\n",
    "results = results.append(model_results, ignore_index = True)\n",
    "results"
   ]
  },
  {
   "cell_type": "code",
   "execution_count": 209,
   "id": "7ea3923d",
   "metadata": {
    "execution": {
     "iopub.execute_input": "2022-11-11T21:12:31.181933Z",
     "iopub.status.busy": "2022-11-11T21:12:31.181143Z",
     "iopub.status.idle": "2022-11-11T21:12:31.190794Z",
     "shell.execute_reply": "2022-11-11T21:12:31.189381Z"
    },
    "papermill": {
     "duration": 0.18763,
     "end_time": "2022-11-11T21:12:31.193322",
     "exception": false,
     "start_time": "2022-11-11T21:12:31.005692",
     "status": "completed"
    },
    "tags": []
   },
   "outputs": [
    {
     "name": "stdout",
     "output_type": "stream",
     "text": [
      "              precision    recall  f1-score   support\n",
      "\n",
      "           0       0.42      0.81      0.56        21\n",
      "           1       0.94      0.72      0.82        83\n",
      "\n",
      "    accuracy                           0.74       104\n",
      "   macro avg       0.68      0.77      0.69       104\n",
      "weighted avg       0.83      0.74      0.76       104\n",
      "\n"
     ]
    }
   ],
   "source": [
    "print(classification_report(y_predict_r,y_test))"
   ]
  },
  {
   "cell_type": "code",
   "execution_count": 210,
   "id": "730f3eb0",
   "metadata": {
    "execution": {
     "iopub.execute_input": "2022-11-11T21:12:31.798423Z",
     "iopub.status.busy": "2022-11-11T21:12:31.798015Z",
     "iopub.status.idle": "2022-11-11T21:12:31.814553Z",
     "shell.execute_reply": "2022-11-11T21:12:31.813343Z"
    },
    "papermill": {
     "duration": 0.171568,
     "end_time": "2022-11-11T21:12:31.816936",
     "exception": false,
     "start_time": "2022-11-11T21:12:31.645368",
     "status": "completed"
    },
    "tags": []
   },
   "outputs": [
    {
     "data": {
      "text/html": [
       "<style>#sk-container-id-15 {color: black;background-color: white;}#sk-container-id-15 pre{padding: 0;}#sk-container-id-15 div.sk-toggleable {background-color: white;}#sk-container-id-15 label.sk-toggleable__label {cursor: pointer;display: block;width: 100%;margin-bottom: 0;padding: 0.3em;box-sizing: border-box;text-align: center;}#sk-container-id-15 label.sk-toggleable__label-arrow:before {content: \"▸\";float: left;margin-right: 0.25em;color: #696969;}#sk-container-id-15 label.sk-toggleable__label-arrow:hover:before {color: black;}#sk-container-id-15 div.sk-estimator:hover label.sk-toggleable__label-arrow:before {color: black;}#sk-container-id-15 div.sk-toggleable__content {max-height: 0;max-width: 0;overflow: hidden;text-align: left;background-color: #f0f8ff;}#sk-container-id-15 div.sk-toggleable__content pre {margin: 0.2em;color: black;border-radius: 0.25em;background-color: #f0f8ff;}#sk-container-id-15 input.sk-toggleable__control:checked~div.sk-toggleable__content {max-height: 200px;max-width: 100%;overflow: auto;}#sk-container-id-15 input.sk-toggleable__control:checked~label.sk-toggleable__label-arrow:before {content: \"▾\";}#sk-container-id-15 div.sk-estimator input.sk-toggleable__control:checked~label.sk-toggleable__label {background-color: #d4ebff;}#sk-container-id-15 div.sk-label input.sk-toggleable__control:checked~label.sk-toggleable__label {background-color: #d4ebff;}#sk-container-id-15 input.sk-hidden--visually {border: 0;clip: rect(1px 1px 1px 1px);clip: rect(1px, 1px, 1px, 1px);height: 1px;margin: -1px;overflow: hidden;padding: 0;position: absolute;width: 1px;}#sk-container-id-15 div.sk-estimator {font-family: monospace;background-color: #f0f8ff;border: 1px dotted black;border-radius: 0.25em;box-sizing: border-box;margin-bottom: 0.5em;}#sk-container-id-15 div.sk-estimator:hover {background-color: #d4ebff;}#sk-container-id-15 div.sk-parallel-item::after {content: \"\";width: 100%;border-bottom: 1px solid gray;flex-grow: 1;}#sk-container-id-15 div.sk-label:hover label.sk-toggleable__label {background-color: #d4ebff;}#sk-container-id-15 div.sk-serial::before {content: \"\";position: absolute;border-left: 1px solid gray;box-sizing: border-box;top: 0;bottom: 0;left: 50%;z-index: 0;}#sk-container-id-15 div.sk-serial {display: flex;flex-direction: column;align-items: center;background-color: white;padding-right: 0.2em;padding-left: 0.2em;position: relative;}#sk-container-id-15 div.sk-item {position: relative;z-index: 1;}#sk-container-id-15 div.sk-parallel {display: flex;align-items: stretch;justify-content: center;background-color: white;position: relative;}#sk-container-id-15 div.sk-item::before, #sk-container-id-15 div.sk-parallel-item::before {content: \"\";position: absolute;border-left: 1px solid gray;box-sizing: border-box;top: 0;bottom: 0;left: 50%;z-index: -1;}#sk-container-id-15 div.sk-parallel-item {display: flex;flex-direction: column;z-index: 1;position: relative;background-color: white;}#sk-container-id-15 div.sk-parallel-item:first-child::after {align-self: flex-end;width: 50%;}#sk-container-id-15 div.sk-parallel-item:last-child::after {align-self: flex-start;width: 50%;}#sk-container-id-15 div.sk-parallel-item:only-child::after {width: 0;}#sk-container-id-15 div.sk-dashed-wrapped {border: 1px dashed gray;margin: 0 0.4em 0.5em 0.4em;box-sizing: border-box;padding-bottom: 0.4em;background-color: white;}#sk-container-id-15 div.sk-label label {font-family: monospace;font-weight: bold;display: inline-block;line-height: 1.2em;}#sk-container-id-15 div.sk-label-container {text-align: center;}#sk-container-id-15 div.sk-container {/* jupyter's `normalize.less` sets `[hidden] { display: none; }` but bootstrap.min.css set `[hidden] { display: none !important; }` so we also need the `!important` here to be able to override the default hidden behavior on the sphinx rendered scikit-learn.org. See: https://github.com/scikit-learn/scikit-learn/issues/21755 */display: inline-block !important;position: relative;}#sk-container-id-15 div.sk-text-repr-fallback {display: none;}</style><div id=\"sk-container-id-15\" class=\"sk-top-container\"><div class=\"sk-text-repr-fallback\"><pre>SVC(kernel=&#x27;linear&#x27;, random_state=0)</pre><b>In a Jupyter environment, please rerun this cell to show the HTML representation or trust the notebook. <br />On GitHub, the HTML representation is unable to render, please try loading this page with nbviewer.org.</b></div><div class=\"sk-container\" hidden><div class=\"sk-item\"><div class=\"sk-estimator sk-toggleable\"><input class=\"sk-toggleable__control sk-hidden--visually\" id=\"sk-estimator-id-15\" type=\"checkbox\" checked><label for=\"sk-estimator-id-15\" class=\"sk-toggleable__label sk-toggleable__label-arrow\">SVC</label><div class=\"sk-toggleable__content\"><pre>SVC(kernel=&#x27;linear&#x27;, random_state=0)</pre></div></div></div></div></div>"
      ],
      "text/plain": [
       "SVC(kernel='linear', random_state=0)"
      ]
     },
     "execution_count": 210,
     "metadata": {},
     "output_type": "execute_result"
    }
   ],
   "source": [
    "#model svm\n",
    "sv=SVC(kernel='linear',random_state=0)\n",
    "sv.fit(x_train,y_train)"
   ]
  },
  {
   "cell_type": "code",
   "execution_count": 211,
   "id": "623034a5",
   "metadata": {
    "execution": {
     "iopub.execute_input": "2022-11-11T21:12:32.113947Z",
     "iopub.status.busy": "2022-11-11T21:12:32.113572Z",
     "iopub.status.idle": "2022-11-11T21:12:32.186972Z",
     "shell.execute_reply": "2022-11-11T21:12:32.185872Z"
    },
    "papermill": {
     "duration": 0.225438,
     "end_time": "2022-11-11T21:12:32.189934",
     "exception": false,
     "start_time": "2022-11-11T21:12:31.964496",
     "status": "completed"
    },
    "tags": []
   },
   "outputs": [],
   "source": [
    "#prepping for kfold\n",
    "kfold = model_selection.KFold(n_splits=8, random_state=7,shuffle = True)\n",
    "\n",
    "acc_sv = cross_val_score(estimator=sv,X = x_train,y =y_train, cv = kfold,scoring='accuracy')"
   ]
  },
  {
   "cell_type": "code",
   "execution_count": 212,
   "id": "a6ab297b",
   "metadata": {
    "execution": {
     "iopub.execute_input": "2022-11-11T21:12:32.487902Z",
     "iopub.status.busy": "2022-11-11T21:12:32.487531Z",
     "iopub.status.idle": "2022-11-11T21:12:32.530640Z",
     "shell.execute_reply": "2022-11-11T21:12:32.529406Z"
    },
    "papermill": {
     "duration": 0.196211,
     "end_time": "2022-11-11T21:12:32.533843",
     "exception": false,
     "start_time": "2022-11-11T21:12:32.337632",
     "status": "completed"
    },
    "tags": []
   },
   "outputs": [
    {
     "data": {
      "text/html": [
       "<div>\n",
       "<style scoped>\n",
       "    .dataframe tbody tr th:only-of-type {\n",
       "        vertical-align: middle;\n",
       "    }\n",
       "\n",
       "    .dataframe tbody tr th {\n",
       "        vertical-align: top;\n",
       "    }\n",
       "\n",
       "    .dataframe thead th {\n",
       "        text-align: right;\n",
       "    }\n",
       "</style>\n",
       "<table border=\"1\" class=\"dataframe\">\n",
       "  <thead>\n",
       "    <tr style=\"text-align: right;\">\n",
       "      <th></th>\n",
       "      <th>Model</th>\n",
       "      <th>Accuracy</th>\n",
       "      <th>Cross Val Accuracy</th>\n",
       "      <th>Precision</th>\n",
       "      <th>Recall</th>\n",
       "      <th>F1 Score</th>\n",
       "      <th>ROC</th>\n",
       "    </tr>\n",
       "  </thead>\n",
       "  <tbody>\n",
       "    <tr>\n",
       "      <th>0</th>\n",
       "      <td>Logistic Regression</td>\n",
       "      <td>0.615385</td>\n",
       "      <td>0.615385</td>\n",
       "      <td>0.615385</td>\n",
       "      <td>1.0000</td>\n",
       "      <td>0.761905</td>\n",
       "      <td>0.50000</td>\n",
       "    </tr>\n",
       "    <tr>\n",
       "      <th>1</th>\n",
       "      <td>Random Forest</td>\n",
       "      <td>0.740385</td>\n",
       "      <td>0.653846</td>\n",
       "      <td>0.722892</td>\n",
       "      <td>0.9375</td>\n",
       "      <td>0.816327</td>\n",
       "      <td>0.68125</td>\n",
       "    </tr>\n",
       "    <tr>\n",
       "      <th>2</th>\n",
       "      <td>SVC</td>\n",
       "      <td>0.740385</td>\n",
       "      <td>0.615385</td>\n",
       "      <td>0.722892</td>\n",
       "      <td>0.9375</td>\n",
       "      <td>0.816327</td>\n",
       "      <td>0.68125</td>\n",
       "    </tr>\n",
       "  </tbody>\n",
       "</table>\n",
       "</div>"
      ],
      "text/plain": [
       "                 Model  Accuracy  Cross Val Accuracy  Precision  Recall  \\\n",
       "0  Logistic Regression  0.615385            0.615385   0.615385  1.0000   \n",
       "1        Random Forest  0.740385            0.653846   0.722892  0.9375   \n",
       "2                  SVC  0.740385            0.615385   0.722892  0.9375   \n",
       "\n",
       "   F1 Score      ROC  \n",
       "0  0.761905  0.50000  \n",
       "1  0.816327  0.68125  \n",
       "2  0.816327  0.68125  "
      ]
     },
     "execution_count": 212,
     "metadata": {},
     "output_type": "execute_result"
    }
   ],
   "source": [
    "# Model Evaluation svm\n",
    "y_predict_svm = rf.predict(x_test)\n",
    "roc=roc_auc_score(y_test, y_predict_svm)\n",
    "acc = accuracy_score(y_test, y_predict_svm)\n",
    "prec = precision_score(y_test, y_predict_svm)\n",
    "rec = recall_score(y_test, y_predict_svm)\n",
    "f1 = f1_score(y_test, y_predict_svm)\n",
    "\n",
    "model_results = pd.DataFrame([['SVC',acc, acc_sv.mean(),prec,rec, f1,roc]], columns = ['Model', 'Accuracy','Cross Val Accuracy', 'Precision', 'Recall', 'F1 Score','ROC'])\n",
    "\n",
    "results = results.append(model_results, ignore_index = True)\n",
    "results.head()"
   ]
  },
  {
   "cell_type": "code",
   "execution_count": 213,
   "id": "98d919bd",
   "metadata": {
    "execution": {
     "iopub.execute_input": "2022-11-11T21:12:32.858592Z",
     "iopub.status.busy": "2022-11-11T21:12:32.857888Z",
     "iopub.status.idle": "2022-11-11T21:12:32.869976Z",
     "shell.execute_reply": "2022-11-11T21:12:32.868650Z"
    },
    "papermill": {
     "duration": 0.175737,
     "end_time": "2022-11-11T21:12:32.872440",
     "exception": false,
     "start_time": "2022-11-11T21:12:32.696703",
     "status": "completed"
    },
    "tags": []
   },
   "outputs": [
    {
     "name": "stdout",
     "output_type": "stream",
     "text": [
      "              precision    recall  f1-score   support\n",
      "\n",
      "           0       0.42      0.81      0.56        21\n",
      "           1       0.94      0.72      0.82        83\n",
      "\n",
      "    accuracy                           0.74       104\n",
      "   macro avg       0.68      0.77      0.69       104\n",
      "weighted avg       0.83      0.74      0.76       104\n",
      "\n"
     ]
    }
   ],
   "source": [
    "print(classification_report(y_predict_svm,y_test))"
   ]
  },
  {
   "cell_type": "code",
   "execution_count": 214,
   "id": "774b064d",
   "metadata": {
    "execution": {
     "iopub.execute_input": "2022-11-11T21:12:33.468710Z",
     "iopub.status.busy": "2022-11-11T21:12:33.467676Z",
     "iopub.status.idle": "2022-11-11T21:12:33.623930Z",
     "shell.execute_reply": "2022-11-11T21:12:33.622279Z"
    },
    "papermill": {
     "duration": 0.311265,
     "end_time": "2022-11-11T21:12:33.628537",
     "exception": false,
     "start_time": "2022-11-11T21:12:33.317272",
     "status": "completed"
    },
    "tags": []
   },
   "outputs": [],
   "source": [
    "#model evaluation of KNN\n",
    "scores = []\n",
    "dic = {}\n",
    "for i in range(1,10):\n",
    "    knn = KNeighborsClassifier(n_neighbors = i,metric='minkowski',p=2)  #minkowski and p = 2 ,euclidean distance\n",
    "    knn.fit(x_train,y_train)\n",
    "    predict = knn.predict(x_test)\n",
    "    score = accuracy_score(predict, y_test)\n",
    "    scores.append(round(100*score,2))"
   ]
  },
  {
   "cell_type": "code",
   "execution_count": 215,
   "id": "28fe1057",
   "metadata": {
    "execution": {
     "iopub.execute_input": "2022-11-11T21:12:33.988253Z",
     "iopub.status.busy": "2022-11-11T21:12:33.987585Z",
     "iopub.status.idle": "2022-11-11T21:12:33.994740Z",
     "shell.execute_reply": "2022-11-11T21:12:33.993520Z"
    },
    "papermill": {
     "duration": 0.159719,
     "end_time": "2022-11-11T21:12:33.998224",
     "exception": false,
     "start_time": "2022-11-11T21:12:33.838505",
     "status": "completed"
    },
    "tags": []
   },
   "outputs": [
    {
     "name": "stdout",
     "output_type": "stream",
     "text": [
      "[74.04, 72.12, 71.15, 71.15, 70.19, 69.23, 68.27, 67.31, 66.35]\n"
     ]
    }
   ],
   "source": [
    "print(sorted(scores, reverse = True))"
   ]
  },
  {
   "cell_type": "code",
   "execution_count": 216,
   "id": "288cf84d",
   "metadata": {
    "execution": {
     "iopub.execute_input": "2022-11-11T21:12:34.294734Z",
     "iopub.status.busy": "2022-11-11T21:12:34.294322Z",
     "iopub.status.idle": "2022-11-11T21:12:34.464343Z",
     "shell.execute_reply": "2022-11-11T21:12:34.463176Z"
    },
    "papermill": {
     "duration": 0.322761,
     "end_time": "2022-11-11T21:12:34.468326",
     "exception": false,
     "start_time": "2022-11-11T21:12:34.145565",
     "status": "completed"
    },
    "tags": []
   },
   "outputs": [
    {
     "data": {
      "text/html": [
       "<div>\n",
       "<style scoped>\n",
       "    .dataframe tbody tr th:only-of-type {\n",
       "        vertical-align: middle;\n",
       "    }\n",
       "\n",
       "    .dataframe tbody tr th {\n",
       "        vertical-align: top;\n",
       "    }\n",
       "\n",
       "    .dataframe thead th {\n",
       "        text-align: right;\n",
       "    }\n",
       "</style>\n",
       "<table border=\"1\" class=\"dataframe\">\n",
       "  <thead>\n",
       "    <tr style=\"text-align: right;\">\n",
       "      <th></th>\n",
       "      <th>Model</th>\n",
       "      <th>Accuracy</th>\n",
       "      <th>Cross Val Accuracy</th>\n",
       "      <th>Precision</th>\n",
       "      <th>Recall</th>\n",
       "      <th>F1 Score</th>\n",
       "      <th>ROC</th>\n",
       "    </tr>\n",
       "  </thead>\n",
       "  <tbody>\n",
       "    <tr>\n",
       "      <th>0</th>\n",
       "      <td>Logistic Regression</td>\n",
       "      <td>0.615385</td>\n",
       "      <td>0.615385</td>\n",
       "      <td>0.615385</td>\n",
       "      <td>1.0000</td>\n",
       "      <td>0.761905</td>\n",
       "      <td>0.50000</td>\n",
       "    </tr>\n",
       "    <tr>\n",
       "      <th>1</th>\n",
       "      <td>Random Forest</td>\n",
       "      <td>0.740385</td>\n",
       "      <td>0.653846</td>\n",
       "      <td>0.722892</td>\n",
       "      <td>0.9375</td>\n",
       "      <td>0.816327</td>\n",
       "      <td>0.68125</td>\n",
       "    </tr>\n",
       "    <tr>\n",
       "      <th>2</th>\n",
       "      <td>SVC</td>\n",
       "      <td>0.740385</td>\n",
       "      <td>0.615385</td>\n",
       "      <td>0.722892</td>\n",
       "      <td>0.9375</td>\n",
       "      <td>0.816327</td>\n",
       "      <td>0.68125</td>\n",
       "    </tr>\n",
       "    <tr>\n",
       "      <th>3</th>\n",
       "      <td>KNN</td>\n",
       "      <td>0.692308</td>\n",
       "      <td>0.625000</td>\n",
       "      <td>0.722222</td>\n",
       "      <td>0.8125</td>\n",
       "      <td>0.764706</td>\n",
       "      <td>0.68125</td>\n",
       "    </tr>\n",
       "  </tbody>\n",
       "</table>\n",
       "</div>"
      ],
      "text/plain": [
       "                 Model  Accuracy  Cross Val Accuracy  Precision  Recall  \\\n",
       "0  Logistic Regression  0.615385            0.615385   0.615385  1.0000   \n",
       "1        Random Forest  0.740385            0.653846   0.722892  0.9375   \n",
       "2                  SVC  0.740385            0.615385   0.722892  0.9375   \n",
       "3                  KNN  0.692308            0.625000   0.722222  0.8125   \n",
       "\n",
       "   F1 Score      ROC  \n",
       "0  0.761905  0.50000  \n",
       "1  0.816327  0.68125  \n",
       "2  0.816327  0.68125  \n",
       "3  0.764706  0.68125  "
      ]
     },
     "execution_count": 216,
     "metadata": {},
     "output_type": "execute_result"
    }
   ],
   "source": [
    "# Model Evaluation of Kneighbours\n",
    "knn = KNeighborsClassifier(n_neighbors = 1,metric='minkowski',p=2)  #minkowski and p = 2 ,euclidean distance\n",
    "knn.fit(x_train,y_train)\n",
    "predict = knn.predict(x_test)\n",
    "score = accuracy_score(predict, y_test)\n",
    "\n",
    "\n",
    "prec = precision_score(y_test, predict)\n",
    "rec = recall_score(y_test, predict)\n",
    "f1 = f1_score(y_test, predict)\n",
    "\n",
    "\n",
    "kfold = model_selection.KFold(n_splits=8, random_state=7,shuffle = True)\n",
    "\n",
    "acc_knn = cross_val_score(estimator=knn,X = x_train,y =y_train, cv = kfold,scoring='accuracy')\n",
    "\n",
    "\n",
    "model_results = pd.DataFrame([['KNN',score, acc_knn.mean(),prec,rec, f1,roc]], columns = ['Model', 'Accuracy','Cross Val Accuracy', 'Precision', 'Recall', 'F1 Score','ROC'])\n",
    "\n",
    "results = results.append(model_results, ignore_index = True)\n",
    "results"
   ]
  },
  {
   "cell_type": "code",
   "execution_count": 217,
   "id": "71212138",
   "metadata": {
    "execution": {
     "iopub.execute_input": "2022-11-11T21:12:35.171285Z",
     "iopub.status.busy": "2022-11-11T21:12:35.170877Z",
     "iopub.status.idle": "2022-11-11T21:12:35.182895Z",
     "shell.execute_reply": "2022-11-11T21:12:35.181559Z"
    },
    "papermill": {
     "duration": 0.179108,
     "end_time": "2022-11-11T21:12:35.185399",
     "exception": false,
     "start_time": "2022-11-11T21:12:35.006291",
     "status": "completed"
    },
    "tags": []
   },
   "outputs": [
    {
     "data": {
      "text/html": [
       "<style>#sk-container-id-16 {color: black;background-color: white;}#sk-container-id-16 pre{padding: 0;}#sk-container-id-16 div.sk-toggleable {background-color: white;}#sk-container-id-16 label.sk-toggleable__label {cursor: pointer;display: block;width: 100%;margin-bottom: 0;padding: 0.3em;box-sizing: border-box;text-align: center;}#sk-container-id-16 label.sk-toggleable__label-arrow:before {content: \"▸\";float: left;margin-right: 0.25em;color: #696969;}#sk-container-id-16 label.sk-toggleable__label-arrow:hover:before {color: black;}#sk-container-id-16 div.sk-estimator:hover label.sk-toggleable__label-arrow:before {color: black;}#sk-container-id-16 div.sk-toggleable__content {max-height: 0;max-width: 0;overflow: hidden;text-align: left;background-color: #f0f8ff;}#sk-container-id-16 div.sk-toggleable__content pre {margin: 0.2em;color: black;border-radius: 0.25em;background-color: #f0f8ff;}#sk-container-id-16 input.sk-toggleable__control:checked~div.sk-toggleable__content {max-height: 200px;max-width: 100%;overflow: auto;}#sk-container-id-16 input.sk-toggleable__control:checked~label.sk-toggleable__label-arrow:before {content: \"▾\";}#sk-container-id-16 div.sk-estimator input.sk-toggleable__control:checked~label.sk-toggleable__label {background-color: #d4ebff;}#sk-container-id-16 div.sk-label input.sk-toggleable__control:checked~label.sk-toggleable__label {background-color: #d4ebff;}#sk-container-id-16 input.sk-hidden--visually {border: 0;clip: rect(1px 1px 1px 1px);clip: rect(1px, 1px, 1px, 1px);height: 1px;margin: -1px;overflow: hidden;padding: 0;position: absolute;width: 1px;}#sk-container-id-16 div.sk-estimator {font-family: monospace;background-color: #f0f8ff;border: 1px dotted black;border-radius: 0.25em;box-sizing: border-box;margin-bottom: 0.5em;}#sk-container-id-16 div.sk-estimator:hover {background-color: #d4ebff;}#sk-container-id-16 div.sk-parallel-item::after {content: \"\";width: 100%;border-bottom: 1px solid gray;flex-grow: 1;}#sk-container-id-16 div.sk-label:hover label.sk-toggleable__label {background-color: #d4ebff;}#sk-container-id-16 div.sk-serial::before {content: \"\";position: absolute;border-left: 1px solid gray;box-sizing: border-box;top: 0;bottom: 0;left: 50%;z-index: 0;}#sk-container-id-16 div.sk-serial {display: flex;flex-direction: column;align-items: center;background-color: white;padding-right: 0.2em;padding-left: 0.2em;position: relative;}#sk-container-id-16 div.sk-item {position: relative;z-index: 1;}#sk-container-id-16 div.sk-parallel {display: flex;align-items: stretch;justify-content: center;background-color: white;position: relative;}#sk-container-id-16 div.sk-item::before, #sk-container-id-16 div.sk-parallel-item::before {content: \"\";position: absolute;border-left: 1px solid gray;box-sizing: border-box;top: 0;bottom: 0;left: 50%;z-index: -1;}#sk-container-id-16 div.sk-parallel-item {display: flex;flex-direction: column;z-index: 1;position: relative;background-color: white;}#sk-container-id-16 div.sk-parallel-item:first-child::after {align-self: flex-end;width: 50%;}#sk-container-id-16 div.sk-parallel-item:last-child::after {align-self: flex-start;width: 50%;}#sk-container-id-16 div.sk-parallel-item:only-child::after {width: 0;}#sk-container-id-16 div.sk-dashed-wrapped {border: 1px dashed gray;margin: 0 0.4em 0.5em 0.4em;box-sizing: border-box;padding-bottom: 0.4em;background-color: white;}#sk-container-id-16 div.sk-label label {font-family: monospace;font-weight: bold;display: inline-block;line-height: 1.2em;}#sk-container-id-16 div.sk-label-container {text-align: center;}#sk-container-id-16 div.sk-container {/* jupyter's `normalize.less` sets `[hidden] { display: none; }` but bootstrap.min.css set `[hidden] { display: none !important; }` so we also need the `!important` here to be able to override the default hidden behavior on the sphinx rendered scikit-learn.org. See: https://github.com/scikit-learn/scikit-learn/issues/21755 */display: inline-block !important;position: relative;}#sk-container-id-16 div.sk-text-repr-fallback {display: none;}</style><div id=\"sk-container-id-16\" class=\"sk-top-container\"><div class=\"sk-text-repr-fallback\"><pre>GaussianNB()</pre><b>In a Jupyter environment, please rerun this cell to show the HTML representation or trust the notebook. <br />On GitHub, the HTML representation is unable to render, please try loading this page with nbviewer.org.</b></div><div class=\"sk-container\" hidden><div class=\"sk-item\"><div class=\"sk-estimator sk-toggleable\"><input class=\"sk-toggleable__control sk-hidden--visually\" id=\"sk-estimator-id-16\" type=\"checkbox\" checked><label for=\"sk-estimator-id-16\" class=\"sk-toggleable__label sk-toggleable__label-arrow\">GaussianNB</label><div class=\"sk-toggleable__content\"><pre>GaussianNB()</pre></div></div></div></div></div>"
      ],
      "text/plain": [
       "GaussianNB()"
      ]
     },
     "execution_count": 217,
     "metadata": {},
     "output_type": "execute_result"
    }
   ],
   "source": [
    "#naivebays gaussian nb\n",
    "gb=GaussianNB()\n",
    "gb.fit(x_train,y_train)\n"
   ]
  },
  {
   "cell_type": "code",
   "execution_count": 218,
   "id": "da414068",
   "metadata": {
    "execution": {
     "iopub.execute_input": "2022-11-11T21:12:35.490276Z",
     "iopub.status.busy": "2022-11-11T21:12:35.489435Z",
     "iopub.status.idle": "2022-11-11T21:12:35.541198Z",
     "shell.execute_reply": "2022-11-11T21:12:35.540174Z"
    },
    "papermill": {
     "duration": 0.208242,
     "end_time": "2022-11-11T21:12:35.544386",
     "exception": false,
     "start_time": "2022-11-11T21:12:35.336144",
     "status": "completed"
    },
    "tags": []
   },
   "outputs": [],
   "source": [
    "# kfold preparation\n",
    "kfold = model_selection.KFold(n_splits=8, random_state=7,shuffle = True)\n",
    "\n",
    "acc_gb = cross_val_score(estimator=gb,X = x_train,y =y_train, cv = kfold,scoring='accuracy')"
   ]
  },
  {
   "cell_type": "code",
   "execution_count": 219,
   "id": "95e9d1d5",
   "metadata": {
    "execution": {
     "iopub.execute_input": "2022-11-11T21:12:35.870544Z",
     "iopub.status.busy": "2022-11-11T21:12:35.870076Z",
     "iopub.status.idle": "2022-11-11T21:12:35.898685Z",
     "shell.execute_reply": "2022-11-11T21:12:35.897287Z"
    },
    "papermill": {
     "duration": 0.19442,
     "end_time": "2022-11-11T21:12:35.901407",
     "exception": false,
     "start_time": "2022-11-11T21:12:35.706987",
     "status": "completed"
    },
    "tags": []
   },
   "outputs": [
    {
     "data": {
      "text/html": [
       "<div>\n",
       "<style scoped>\n",
       "    .dataframe tbody tr th:only-of-type {\n",
       "        vertical-align: middle;\n",
       "    }\n",
       "\n",
       "    .dataframe tbody tr th {\n",
       "        vertical-align: top;\n",
       "    }\n",
       "\n",
       "    .dataframe thead th {\n",
       "        text-align: right;\n",
       "    }\n",
       "</style>\n",
       "<table border=\"1\" class=\"dataframe\">\n",
       "  <thead>\n",
       "    <tr style=\"text-align: right;\">\n",
       "      <th></th>\n",
       "      <th>Model</th>\n",
       "      <th>Accuracy</th>\n",
       "      <th>Cross Val Accuracy</th>\n",
       "      <th>Precision</th>\n",
       "      <th>Recall</th>\n",
       "      <th>F1 Score</th>\n",
       "      <th>ROC</th>\n",
       "    </tr>\n",
       "  </thead>\n",
       "  <tbody>\n",
       "    <tr>\n",
       "      <th>0</th>\n",
       "      <td>Logistic Regression</td>\n",
       "      <td>0.615385</td>\n",
       "      <td>0.615385</td>\n",
       "      <td>0.615385</td>\n",
       "      <td>1.000000</td>\n",
       "      <td>0.761905</td>\n",
       "      <td>0.500000</td>\n",
       "    </tr>\n",
       "    <tr>\n",
       "      <th>1</th>\n",
       "      <td>Random Forest</td>\n",
       "      <td>0.740385</td>\n",
       "      <td>0.653846</td>\n",
       "      <td>0.722892</td>\n",
       "      <td>0.937500</td>\n",
       "      <td>0.816327</td>\n",
       "      <td>0.681250</td>\n",
       "    </tr>\n",
       "    <tr>\n",
       "      <th>2</th>\n",
       "      <td>SVC</td>\n",
       "      <td>0.740385</td>\n",
       "      <td>0.615385</td>\n",
       "      <td>0.722892</td>\n",
       "      <td>0.937500</td>\n",
       "      <td>0.816327</td>\n",
       "      <td>0.681250</td>\n",
       "    </tr>\n",
       "    <tr>\n",
       "      <th>3</th>\n",
       "      <td>KNN</td>\n",
       "      <td>0.692308</td>\n",
       "      <td>0.625000</td>\n",
       "      <td>0.722222</td>\n",
       "      <td>0.812500</td>\n",
       "      <td>0.764706</td>\n",
       "      <td>0.681250</td>\n",
       "    </tr>\n",
       "    <tr>\n",
       "      <th>4</th>\n",
       "      <td>GB</td>\n",
       "      <td>0.413462</td>\n",
       "      <td>0.459135</td>\n",
       "      <td>0.578947</td>\n",
       "      <td>0.171875</td>\n",
       "      <td>0.265060</td>\n",
       "      <td>0.485938</td>\n",
       "    </tr>\n",
       "  </tbody>\n",
       "</table>\n",
       "</div>"
      ],
      "text/plain": [
       "                 Model  Accuracy  Cross Val Accuracy  Precision    Recall  \\\n",
       "0  Logistic Regression  0.615385            0.615385   0.615385  1.000000   \n",
       "1        Random Forest  0.740385            0.653846   0.722892  0.937500   \n",
       "2                  SVC  0.740385            0.615385   0.722892  0.937500   \n",
       "3                  KNN  0.692308            0.625000   0.722222  0.812500   \n",
       "4                   GB  0.413462            0.459135   0.578947  0.171875   \n",
       "\n",
       "   F1 Score       ROC  \n",
       "0  0.761905  0.500000  \n",
       "1  0.816327  0.681250  \n",
       "2  0.816327  0.681250  \n",
       "3  0.764706  0.681250  \n",
       "4  0.265060  0.485938  "
      ]
     },
     "execution_count": 219,
     "metadata": {},
     "output_type": "execute_result"
    }
   ],
   "source": [
    "# Model Evaluation gb\n",
    "y_predict_gb = gb.predict(x_test)\n",
    "roc=roc_auc_score(y_test, y_predict_gb)\n",
    "acc = accuracy_score(y_test, y_predict_gb)\n",
    "prec = precision_score(y_test, y_predict_gb)\n",
    "rec = recall_score(y_test, y_predict_gb)\n",
    "f1 = f1_score(y_test, y_predict_gb)\n",
    "\n",
    "model_results = pd.DataFrame([['GB',acc, acc_gb.mean(),prec,rec, f1,roc]], columns = ['Model', 'Accuracy','Cross Val Accuracy', 'Precision', 'Recall', 'F1 Score','ROC'])\n",
    "\n",
    "results = results.append(model_results, ignore_index = True)\n",
    "results.head()"
   ]
  },
  {
   "cell_type": "code",
   "execution_count": 220,
   "id": "963e6004",
   "metadata": {
    "papermill": {
     "duration": 0.153946,
     "end_time": "2022-11-11T21:12:36.205539",
     "exception": false,
     "start_time": "2022-11-11T21:12:36.051593",
     "status": "completed"
    },
    "tags": []
   },
   "outputs": [
    {
     "data": {
      "text/plain": [
       "['gb.joblib']"
      ]
     },
     "execution_count": 220,
     "metadata": {},
     "output_type": "execute_result"
    }
   ],
   "source": [
    "# exporting models into joblib files\n",
    "import joblib\n",
    "filename = \"logic.joblib\"\n",
    "joblib.dump(logic, filename)\n",
    "filename = \"rf.joblib\"\n",
    "joblib.dump(rf, filename) # we will use this in the gui\n",
    "filename = \"sv.joblib\"\n",
    "joblib.dump(sv, filename)\n",
    "filename = \"knn.joblib\"\n",
    "joblib.dump(knn, filename)\n",
    "filename = \"gb.joblib\"\n",
    "joblib.dump(gb, filename)"
   ]
  },
  {
   "cell_type": "code",
   "execution_count": null,
   "id": "c2a51aec",
   "metadata": {},
   "outputs": [],
   "source": []
  }
 ],
 "metadata": {
  "kernelspec": {
   "display_name": ".env",
   "language": "python",
   "name": ".env"
  },
  "language_info": {
   "codemirror_mode": {
    "name": "ipython",
    "version": 3
   },
   "file_extension": ".py",
   "mimetype": "text/x-python",
   "name": "python",
   "nbconvert_exporter": "python",
   "pygments_lexer": "ipython3",
   "version": "3.8.10"
  },
  "papermill": {
   "default_parameters": {},
   "duration": 106.982898,
   "end_time": "2022-11-11T21:12:38.981663",
   "environment_variables": {},
   "exception": null,
   "input_path": "__notebook__.ipynb",
   "output_path": "__notebook__.ipynb",
   "parameters": {},
   "start_time": "2022-11-11T21:10:51.998765",
   "version": "2.3.4"
  },
  "vscode": {
   "interpreter": {
    "hash": "189280c297e700faaa359c7e5196c9fcfa81eeb564c4b0e3a60309fcf7880a5b"
   }
  },
  "widgets": {
   "application/vnd.jupyter.widget-state+json": {
    "state": {
     "066388f555b04258bc79975be612995d": {
      "model_module": "@jupyter-widgets/controls",
      "model_module_version": "1.5.0",
      "model_name": "HTMLModel",
      "state": {
       "_dom_classes": [],
       "_model_module": "@jupyter-widgets/controls",
       "_model_module_version": "1.5.0",
       "_model_name": "HTMLModel",
       "_view_count": null,
       "_view_module": "@jupyter-widgets/controls",
       "_view_module_version": "1.5.0",
       "_view_name": "HTMLView",
       "description": "",
       "description_tooltip": null,
       "layout": "IPY_MODEL_1dd7704516a94caeb03119e530a74b85",
       "placeholder": "​",
       "style": "IPY_MODEL_71216f705b824f2599531d626674256b",
       "value": " 1/1 [00:00&lt;00:00, 31.46it/s]"
      }
     },
     "09f1ab6190764090a88d6602eb2a76e3": {
      "model_module": "@jupyter-widgets/base",
      "model_module_version": "1.2.0",
      "model_name": "LayoutModel",
      "state": {
       "_model_module": "@jupyter-widgets/base",
       "_model_module_version": "1.2.0",
       "_model_name": "LayoutModel",
       "_view_count": null,
       "_view_module": "@jupyter-widgets/base",
       "_view_module_version": "1.2.0",
       "_view_name": "LayoutView",
       "align_content": null,
       "align_items": null,
       "align_self": null,
       "border": null,
       "bottom": null,
       "display": null,
       "flex": null,
       "flex_flow": null,
       "grid_area": null,
       "grid_auto_columns": null,
       "grid_auto_flow": null,
       "grid_auto_rows": null,
       "grid_column": null,
       "grid_gap": null,
       "grid_row": null,
       "grid_template_areas": null,
       "grid_template_columns": null,
       "grid_template_rows": null,
       "height": null,
       "justify_content": null,
       "justify_items": null,
       "left": null,
       "margin": null,
       "max_height": null,
       "max_width": null,
       "min_height": null,
       "min_width": null,
       "object_fit": null,
       "object_position": null,
       "order": null,
       "overflow": null,
       "overflow_x": null,
       "overflow_y": null,
       "padding": null,
       "right": null,
       "top": null,
       "visibility": null,
       "width": null
      }
     },
     "0a621e3b84cb4387bbe57674d139f9ce": {
      "model_module": "@jupyter-widgets/controls",
      "model_module_version": "1.5.0",
      "model_name": "DescriptionStyleModel",
      "state": {
       "_model_module": "@jupyter-widgets/controls",
       "_model_module_version": "1.5.0",
       "_model_name": "DescriptionStyleModel",
       "_view_count": null,
       "_view_module": "@jupyter-widgets/base",
       "_view_module_version": "1.2.0",
       "_view_name": "StyleView",
       "description_width": ""
      }
     },
     "0aa17d9c42484c1a8d19f3eca589b432": {
      "model_module": "@jupyter-widgets/controls",
      "model_module_version": "1.5.0",
      "model_name": "HBoxModel",
      "state": {
       "_dom_classes": [],
       "_model_module": "@jupyter-widgets/controls",
       "_model_module_version": "1.5.0",
       "_model_name": "HBoxModel",
       "_view_count": null,
       "_view_module": "@jupyter-widgets/controls",
       "_view_module_version": "1.5.0",
       "_view_name": "HBoxView",
       "box_style": "",
       "children": [
        "IPY_MODEL_b4b624fa7e0c4107ab96981be94ac5ad",
        "IPY_MODEL_5c17d82891eb4007bb4d64979f62d129",
        "IPY_MODEL_90da7973ab7641438b8ad642844d7e7f"
       ],
       "layout": "IPY_MODEL_94c3cbc2b36643d3b0d1e1004c936352"
      }
     },
     "0d62d79d63d243049645e9441d9d1782": {
      "model_module": "@jupyter-widgets/controls",
      "model_module_version": "1.5.0",
      "model_name": "HTMLModel",
      "state": {
       "_dom_classes": [],
       "_model_module": "@jupyter-widgets/controls",
       "_model_module_version": "1.5.0",
       "_model_name": "HTMLModel",
       "_view_count": null,
       "_view_module": "@jupyter-widgets/controls",
       "_view_module_version": "1.5.0",
       "_view_name": "HTMLView",
       "description": "",
       "description_tooltip": null,
       "layout": "IPY_MODEL_677900d98f9d4ad2a10ebcdcd390e554",
       "placeholder": "​",
       "style": "IPY_MODEL_eefd703f272446b29e03ea0d8a51a74e",
       "value": " [100%]   00:01 -&gt; (00:00 left)"
      }
     },
     "0ebf933a8ffa46918de1324ecbe77ef5": {
      "model_module": "@jupyter-widgets/base",
      "model_module_version": "1.2.0",
      "model_name": "LayoutModel",
      "state": {
       "_model_module": "@jupyter-widgets/base",
       "_model_module_version": "1.2.0",
       "_model_name": "LayoutModel",
       "_view_count": null,
       "_view_module": "@jupyter-widgets/base",
       "_view_module_version": "1.2.0",
       "_view_name": "LayoutView",
       "align_content": null,
       "align_items": null,
       "align_self": null,
       "border": null,
       "bottom": null,
       "display": null,
       "flex": null,
       "flex_flow": null,
       "grid_area": null,
       "grid_auto_columns": null,
       "grid_auto_flow": null,
       "grid_auto_rows": null,
       "grid_column": null,
       "grid_gap": null,
       "grid_row": null,
       "grid_template_areas": null,
       "grid_template_columns": null,
       "grid_template_rows": null,
       "height": null,
       "justify_content": null,
       "justify_items": null,
       "left": null,
       "margin": null,
       "max_height": null,
       "max_width": null,
       "min_height": null,
       "min_width": null,
       "object_fit": null,
       "object_position": null,
       "order": null,
       "overflow": null,
       "overflow_x": null,
       "overflow_y": null,
       "padding": null,
       "right": null,
       "top": null,
       "visibility": null,
       "width": null
      }
     },
     "10a7d43dcb1a4afe907c82b0b4fae4e1": {
      "model_module": "@jupyter-widgets/controls",
      "model_module_version": "1.5.0",
      "model_name": "FloatProgressModel",
      "state": {
       "_dom_classes": [],
       "_model_module": "@jupyter-widgets/controls",
       "_model_module_version": "1.5.0",
       "_model_name": "FloatProgressModel",
       "_view_count": null,
       "_view_module": "@jupyter-widgets/controls",
       "_view_module_version": "1.5.0",
       "_view_name": "ProgressView",
       "bar_style": "success",
       "description": "",
       "description_tooltip": null,
       "layout": "IPY_MODEL_5f1cb476531d45a887321e4249db2c39",
       "max": 5,
       "min": 0,
       "orientation": "horizontal",
       "style": "IPY_MODEL_6047109f943d4e8c94ef417a77cccbf0",
       "value": 5
      }
     },
     "1221484284a8413991382b483bb7c988": {
      "model_module": "@jupyter-widgets/base",
      "model_module_version": "1.2.0",
      "model_name": "LayoutModel",
      "state": {
       "_model_module": "@jupyter-widgets/base",
       "_model_module_version": "1.2.0",
       "_model_name": "LayoutModel",
       "_view_count": null,
       "_view_module": "@jupyter-widgets/base",
       "_view_module_version": "1.2.0",
       "_view_name": "LayoutView",
       "align_content": null,
       "align_items": null,
       "align_self": null,
       "border": null,
       "bottom": null,
       "display": null,
       "flex": null,
       "flex_flow": null,
       "grid_area": null,
       "grid_auto_columns": null,
       "grid_auto_flow": null,
       "grid_auto_rows": null,
       "grid_column": null,
       "grid_gap": null,
       "grid_row": null,
       "grid_template_areas": null,
       "grid_template_columns": null,
       "grid_template_rows": null,
       "height": null,
       "justify_content": null,
       "justify_items": null,
       "left": null,
       "margin": null,
       "max_height": null,
       "max_width": null,
       "min_height": null,
       "min_width": null,
       "object_fit": null,
       "object_position": null,
       "order": null,
       "overflow": null,
       "overflow_x": null,
       "overflow_y": null,
       "padding": null,
       "right": null,
       "top": null,
       "visibility": null,
       "width": null
      }
     },
     "15109bb60abd4fbaa595a1fd9e0b434c": {
      "model_module": "@jupyter-widgets/controls",
      "model_module_version": "1.5.0",
      "model_name": "ProgressStyleModel",
      "state": {
       "_model_module": "@jupyter-widgets/controls",
       "_model_module_version": "1.5.0",
       "_model_name": "ProgressStyleModel",
       "_view_count": null,
       "_view_module": "@jupyter-widgets/base",
       "_view_module_version": "1.2.0",
       "_view_name": "StyleView",
       "bar_color": null,
       "description_width": ""
      }
     },
     "1dd7704516a94caeb03119e530a74b85": {
      "model_module": "@jupyter-widgets/base",
      "model_module_version": "1.2.0",
      "model_name": "LayoutModel",
      "state": {
       "_model_module": "@jupyter-widgets/base",
       "_model_module_version": "1.2.0",
       "_model_name": "LayoutModel",
       "_view_count": null,
       "_view_module": "@jupyter-widgets/base",
       "_view_module_version": "1.2.0",
       "_view_name": "LayoutView",
       "align_content": null,
       "align_items": null,
       "align_self": null,
       "border": null,
       "bottom": null,
       "display": null,
       "flex": null,
       "flex_flow": null,
       "grid_area": null,
       "grid_auto_columns": null,
       "grid_auto_flow": null,
       "grid_auto_rows": null,
       "grid_column": null,
       "grid_gap": null,
       "grid_row": null,
       "grid_template_areas": null,
       "grid_template_columns": null,
       "grid_template_rows": null,
       "height": null,
       "justify_content": null,
       "justify_items": null,
       "left": null,
       "margin": null,
       "max_height": null,
       "max_width": null,
       "min_height": null,
       "min_width": null,
       "object_fit": null,
       "object_position": null,
       "order": null,
       "overflow": null,
       "overflow_x": null,
       "overflow_y": null,
       "padding": null,
       "right": null,
       "top": null,
       "visibility": null,
       "width": null
      }
     },
     "249991677022448dbcba53a5f7f36cb8": {
      "model_module": "@jupyter-widgets/base",
      "model_module_version": "1.2.0",
      "model_name": "LayoutModel",
      "state": {
       "_model_module": "@jupyter-widgets/base",
       "_model_module_version": "1.2.0",
       "_model_name": "LayoutModel",
       "_view_count": null,
       "_view_module": "@jupyter-widgets/base",
       "_view_module_version": "1.2.0",
       "_view_name": "LayoutView",
       "align_content": null,
       "align_items": null,
       "align_self": null,
       "border": null,
       "bottom": null,
       "display": null,
       "flex": null,
       "flex_flow": null,
       "grid_area": null,
       "grid_auto_columns": null,
       "grid_auto_flow": null,
       "grid_auto_rows": null,
       "grid_column": null,
       "grid_gap": null,
       "grid_row": null,
       "grid_template_areas": null,
       "grid_template_columns": null,
       "grid_template_rows": null,
       "height": null,
       "justify_content": null,
       "justify_items": null,
       "left": null,
       "margin": null,
       "max_height": null,
       "max_width": null,
       "min_height": null,
       "min_width": null,
       "object_fit": null,
       "object_position": null,
       "order": null,
       "overflow": null,
       "overflow_x": null,
       "overflow_y": null,
       "padding": null,
       "right": null,
       "top": null,
       "visibility": null,
       "width": null
      }
     },
     "25b3f6fc15094d7ab095afe5b5831120": {
      "model_module": "@jupyter-widgets/base",
      "model_module_version": "1.2.0",
      "model_name": "LayoutModel",
      "state": {
       "_model_module": "@jupyter-widgets/base",
       "_model_module_version": "1.2.0",
       "_model_name": "LayoutModel",
       "_view_count": null,
       "_view_module": "@jupyter-widgets/base",
       "_view_module_version": "1.2.0",
       "_view_name": "LayoutView",
       "align_content": null,
       "align_items": null,
       "align_self": null,
       "border": null,
       "bottom": null,
       "display": null,
       "flex": null,
       "flex_flow": null,
       "grid_area": null,
       "grid_auto_columns": null,
       "grid_auto_flow": null,
       "grid_auto_rows": null,
       "grid_column": null,
       "grid_gap": null,
       "grid_row": null,
       "grid_template_areas": null,
       "grid_template_columns": null,
       "grid_template_rows": null,
       "height": null,
       "justify_content": null,
       "justify_items": null,
       "left": null,
       "margin": null,
       "max_height": null,
       "max_width": null,
       "min_height": null,
       "min_width": null,
       "object_fit": null,
       "object_position": null,
       "order": null,
       "overflow": null,
       "overflow_x": null,
       "overflow_y": null,
       "padding": null,
       "right": null,
       "top": null,
       "visibility": null,
       "width": null
      }
     },
     "36d0971476d34bac9bce92ab2938f180": {
      "model_module": "@jupyter-widgets/base",
      "model_module_version": "1.2.0",
      "model_name": "LayoutModel",
      "state": {
       "_model_module": "@jupyter-widgets/base",
       "_model_module_version": "1.2.0",
       "_model_name": "LayoutModel",
       "_view_count": null,
       "_view_module": "@jupyter-widgets/base",
       "_view_module_version": "1.2.0",
       "_view_name": "LayoutView",
       "align_content": null,
       "align_items": null,
       "align_self": null,
       "border": null,
       "bottom": null,
       "display": null,
       "flex": null,
       "flex_flow": null,
       "grid_area": null,
       "grid_auto_columns": null,
       "grid_auto_flow": null,
       "grid_auto_rows": null,
       "grid_column": null,
       "grid_gap": null,
       "grid_row": null,
       "grid_template_areas": null,
       "grid_template_columns": null,
       "grid_template_rows": null,
       "height": null,
       "justify_content": null,
       "justify_items": null,
       "left": null,
       "margin": null,
       "max_height": null,
       "max_width": null,
       "min_height": null,
       "min_width": null,
       "object_fit": null,
       "object_position": null,
       "order": null,
       "overflow": null,
       "overflow_x": null,
       "overflow_y": null,
       "padding": null,
       "right": null,
       "top": null,
       "visibility": null,
       "width": null
      }
     },
     "3be042bb63b44cc3b44d0c6b2bd7fad2": {
      "model_module": "@jupyter-widgets/controls",
      "model_module_version": "1.5.0",
      "model_name": "ProgressStyleModel",
      "state": {
       "_model_module": "@jupyter-widgets/controls",
       "_model_module_version": "1.5.0",
       "_model_name": "ProgressStyleModel",
       "_view_count": null,
       "_view_module": "@jupyter-widgets/base",
       "_view_module_version": "1.2.0",
       "_view_name": "StyleView",
       "bar_color": null,
       "description_width": ""
      }
     },
     "410f8bc83f894e7da738beed358b1fbf": {
      "model_module": "@jupyter-widgets/controls",
      "model_module_version": "1.5.0",
      "model_name": "DescriptionStyleModel",
      "state": {
       "_model_module": "@jupyter-widgets/controls",
       "_model_module_version": "1.5.0",
       "_model_name": "DescriptionStyleModel",
       "_view_count": null,
       "_view_module": "@jupyter-widgets/base",
       "_view_module_version": "1.2.0",
       "_view_name": "StyleView",
       "description_width": ""
      }
     },
     "42b648c5fc7a401c8067c05175adcf3a": {
      "model_module": "@jupyter-widgets/controls",
      "model_module_version": "1.5.0",
      "model_name": "HTMLModel",
      "state": {
       "_dom_classes": [],
       "_model_module": "@jupyter-widgets/controls",
       "_model_module_version": "1.5.0",
       "_model_name": "HTMLModel",
       "_view_count": null,
       "_view_module": "@jupyter-widgets/controls",
       "_view_module_version": "1.5.0",
       "_view_name": "HTMLView",
       "description": "",
       "description_tooltip": null,
       "layout": "IPY_MODEL_09f1ab6190764090a88d6602eb2a76e3",
       "placeholder": "​",
       "style": "IPY_MODEL_0a621e3b84cb4387bbe57674d139f9ce",
       "value": "Render HTML: 100%"
      }
     },
     "478deaf4961146ee9762e2a511ed1500": {
      "model_module": "@jupyter-widgets/base",
      "model_module_version": "1.2.0",
      "model_name": "LayoutModel",
      "state": {
       "_model_module": "@jupyter-widgets/base",
       "_model_module_version": "1.2.0",
       "_model_name": "LayoutModel",
       "_view_count": null,
       "_view_module": "@jupyter-widgets/base",
       "_view_module_version": "1.2.0",
       "_view_name": "LayoutView",
       "align_content": null,
       "align_items": null,
       "align_self": null,
       "border": null,
       "bottom": null,
       "display": null,
       "flex": null,
       "flex_flow": null,
       "grid_area": null,
       "grid_auto_columns": null,
       "grid_auto_flow": null,
       "grid_auto_rows": null,
       "grid_column": null,
       "grid_gap": null,
       "grid_row": null,
       "grid_template_areas": null,
       "grid_template_columns": null,
       "grid_template_rows": null,
       "height": null,
       "justify_content": null,
       "justify_items": null,
       "left": null,
       "margin": null,
       "max_height": null,
       "max_width": null,
       "min_height": null,
       "min_width": null,
       "object_fit": null,
       "object_position": null,
       "order": null,
       "overflow": null,
       "overflow_x": null,
       "overflow_y": null,
       "padding": null,
       "right": null,
       "top": null,
       "visibility": null,
       "width": null
      }
     },
     "4b2de17fee79408d88d4ca4bddfe17bd": {
      "model_module": "@jupyter-widgets/controls",
      "model_module_version": "1.5.0",
      "model_name": "HBoxModel",
      "state": {
       "_dom_classes": [],
       "_model_module": "@jupyter-widgets/controls",
       "_model_module_version": "1.5.0",
       "_model_name": "HBoxModel",
       "_view_count": null,
       "_view_module": "@jupyter-widgets/controls",
       "_view_module_version": "1.5.0",
       "_view_name": "HBoxView",
       "box_style": "",
       "children": [
        "IPY_MODEL_a333440bbaaf44348af72c1e45550049",
        "IPY_MODEL_abdcade99e37479f8c7c2b6ca399ecea",
        "IPY_MODEL_066388f555b04258bc79975be612995d"
       ],
       "layout": "IPY_MODEL_478deaf4961146ee9762e2a511ed1500"
      }
     },
     "4c3e0622e4c640eabeb6b32de0295217": {
      "model_module": "@jupyter-widgets/controls",
      "model_module_version": "1.5.0",
      "model_name": "DescriptionStyleModel",
      "state": {
       "_model_module": "@jupyter-widgets/controls",
       "_model_module_version": "1.5.0",
       "_model_name": "DescriptionStyleModel",
       "_view_count": null,
       "_view_module": "@jupyter-widgets/base",
       "_view_module_version": "1.2.0",
       "_view_name": "StyleView",
       "description_width": ""
      }
     },
     "568cdc97e6de4d4d81e767ce573496b2": {
      "model_module": "@jupyter-widgets/base",
      "model_module_version": "1.2.0",
      "model_name": "LayoutModel",
      "state": {
       "_model_module": "@jupyter-widgets/base",
       "_model_module_version": "1.2.0",
       "_model_name": "LayoutModel",
       "_view_count": null,
       "_view_module": "@jupyter-widgets/base",
       "_view_module_version": "1.2.0",
       "_view_name": "LayoutView",
       "align_content": null,
       "align_items": null,
       "align_self": null,
       "border": null,
       "bottom": null,
       "display": null,
       "flex": null,
       "flex_flow": null,
       "grid_area": null,
       "grid_auto_columns": null,
       "grid_auto_flow": null,
       "grid_auto_rows": null,
       "grid_column": null,
       "grid_gap": null,
       "grid_row": null,
       "grid_template_areas": null,
       "grid_template_columns": null,
       "grid_template_rows": null,
       "height": null,
       "justify_content": null,
       "justify_items": null,
       "left": null,
       "margin": null,
       "max_height": null,
       "max_width": null,
       "min_height": null,
       "min_width": null,
       "object_fit": null,
       "object_position": null,
       "order": null,
       "overflow": null,
       "overflow_x": null,
       "overflow_y": null,
       "padding": null,
       "right": null,
       "top": null,
       "visibility": null,
       "width": null
      }
     },
     "5c17d82891eb4007bb4d64979f62d129": {
      "model_module": "@jupyter-widgets/controls",
      "model_module_version": "1.5.0",
      "model_name": "FloatProgressModel",
      "state": {
       "_dom_classes": [],
       "_model_module": "@jupyter-widgets/controls",
       "_model_module_version": "1.5.0",
       "_model_name": "FloatProgressModel",
       "_view_count": null,
       "_view_module": "@jupyter-widgets/controls",
       "_view_module_version": "1.5.0",
       "_view_name": "ProgressView",
       "bar_style": "success",
       "description": "",
       "description_tooltip": null,
       "layout": "IPY_MODEL_0ebf933a8ffa46918de1324ecbe77ef5",
       "max": 1,
       "min": 0,
       "orientation": "horizontal",
       "style": "IPY_MODEL_15109bb60abd4fbaa595a1fd9e0b434c",
       "value": 1
      }
     },
     "5f1cb476531d45a887321e4249db2c39": {
      "model_module": "@jupyter-widgets/base",
      "model_module_version": "1.2.0",
      "model_name": "LayoutModel",
      "state": {
       "_model_module": "@jupyter-widgets/base",
       "_model_module_version": "1.2.0",
       "_model_name": "LayoutModel",
       "_view_count": null,
       "_view_module": "@jupyter-widgets/base",
       "_view_module_version": "1.2.0",
       "_view_name": "LayoutView",
       "align_content": null,
       "align_items": null,
       "align_self": null,
       "border": null,
       "bottom": null,
       "display": null,
       "flex": null,
       "flex_flow": null,
       "grid_area": null,
       "grid_auto_columns": null,
       "grid_auto_flow": null,
       "grid_auto_rows": null,
       "grid_column": null,
       "grid_gap": null,
       "grid_row": null,
       "grid_template_areas": null,
       "grid_template_columns": null,
       "grid_template_rows": null,
       "height": null,
       "justify_content": null,
       "justify_items": null,
       "left": null,
       "margin": null,
       "max_height": null,
       "max_width": null,
       "min_height": null,
       "min_width": null,
       "object_fit": null,
       "object_position": null,
       "order": null,
       "overflow": null,
       "overflow_x": null,
       "overflow_y": null,
       "padding": null,
       "right": null,
       "top": null,
       "visibility": null,
       "width": null
      }
     },
     "6047109f943d4e8c94ef417a77cccbf0": {
      "model_module": "@jupyter-widgets/controls",
      "model_module_version": "1.5.0",
      "model_name": "ProgressStyleModel",
      "state": {
       "_model_module": "@jupyter-widgets/controls",
       "_model_module_version": "1.5.0",
       "_model_name": "ProgressStyleModel",
       "_view_count": null,
       "_view_module": "@jupyter-widgets/base",
       "_view_module_version": "1.2.0",
       "_view_name": "StyleView",
       "bar_color": null,
       "description_width": ""
      }
     },
     "677900d98f9d4ad2a10ebcdcd390e554": {
      "model_module": "@jupyter-widgets/base",
      "model_module_version": "1.2.0",
      "model_name": "LayoutModel",
      "state": {
       "_model_module": "@jupyter-widgets/base",
       "_model_module_version": "1.2.0",
       "_model_name": "LayoutModel",
       "_view_count": null,
       "_view_module": "@jupyter-widgets/base",
       "_view_module_version": "1.2.0",
       "_view_name": "LayoutView",
       "align_content": null,
       "align_items": null,
       "align_self": null,
       "border": null,
       "bottom": null,
       "display": null,
       "flex": null,
       "flex_flow": null,
       "grid_area": null,
       "grid_auto_columns": null,
       "grid_auto_flow": null,
       "grid_auto_rows": null,
       "grid_column": null,
       "grid_gap": null,
       "grid_row": null,
       "grid_template_areas": null,
       "grid_template_columns": null,
       "grid_template_rows": null,
       "height": null,
       "justify_content": null,
       "justify_items": null,
       "left": null,
       "margin": null,
       "max_height": null,
       "max_width": null,
       "min_height": null,
       "min_width": null,
       "object_fit": null,
       "object_position": null,
       "order": null,
       "overflow": null,
       "overflow_x": null,
       "overflow_y": null,
       "padding": null,
       "right": null,
       "top": null,
       "visibility": null,
       "width": null
      }
     },
     "67b8333565df4888a929765d2ce67303": {
      "model_module": "@jupyter-widgets/controls",
      "model_module_version": "1.5.0",
      "model_name": "HTMLModel",
      "state": {
       "_dom_classes": [],
       "_model_module": "@jupyter-widgets/controls",
       "_model_module_version": "1.5.0",
       "_model_name": "HTMLModel",
       "_view_count": null,
       "_view_module": "@jupyter-widgets/controls",
       "_view_module_version": "1.5.0",
       "_view_name": "HTMLView",
       "description": "",
       "description_tooltip": null,
       "layout": "IPY_MODEL_249991677022448dbcba53a5f7f36cb8",
       "placeholder": "​",
       "style": "IPY_MODEL_4c3e0622e4c640eabeb6b32de0295217",
       "value": " 31/31 [00:05&lt;00:00,  3.06it/s, Completed]"
      }
     },
     "6904f35963104a71885482250019f988": {
      "model_module": "@jupyter-widgets/base",
      "model_module_version": "1.2.0",
      "model_name": "LayoutModel",
      "state": {
       "_model_module": "@jupyter-widgets/base",
       "_model_module_version": "1.2.0",
       "_model_name": "LayoutModel",
       "_view_count": null,
       "_view_module": "@jupyter-widgets/base",
       "_view_module_version": "1.2.0",
       "_view_name": "LayoutView",
       "align_content": null,
       "align_items": null,
       "align_self": null,
       "border": null,
       "bottom": null,
       "display": null,
       "flex": null,
       "flex_flow": null,
       "grid_area": null,
       "grid_auto_columns": null,
       "grid_auto_flow": null,
       "grid_auto_rows": null,
       "grid_column": null,
       "grid_gap": null,
       "grid_row": null,
       "grid_template_areas": null,
       "grid_template_columns": null,
       "grid_template_rows": null,
       "height": null,
       "justify_content": null,
       "justify_items": null,
       "left": null,
       "margin": null,
       "max_height": null,
       "max_width": null,
       "min_height": null,
       "min_width": null,
       "object_fit": null,
       "object_position": null,
       "order": null,
       "overflow": null,
       "overflow_x": null,
       "overflow_y": null,
       "padding": null,
       "right": null,
       "top": null,
       "visibility": null,
       "width": null
      }
     },
     "6d0c3240e820446f93ac875870408c90": {
      "model_module": "@jupyter-widgets/controls",
      "model_module_version": "1.5.0",
      "model_name": "DescriptionStyleModel",
      "state": {
       "_model_module": "@jupyter-widgets/controls",
       "_model_module_version": "1.5.0",
       "_model_name": "DescriptionStyleModel",
       "_view_count": null,
       "_view_module": "@jupyter-widgets/base",
       "_view_module_version": "1.2.0",
       "_view_name": "StyleView",
       "description_width": ""
      }
     },
     "6ec9dfb9601e486aa0883e05fa8a685f": {
      "model_module": "@jupyter-widgets/controls",
      "model_module_version": "1.5.0",
      "model_name": "HTMLModel",
      "state": {
       "_dom_classes": [],
       "_model_module": "@jupyter-widgets/controls",
       "_model_module_version": "1.5.0",
       "_model_name": "HTMLModel",
       "_view_count": null,
       "_view_module": "@jupyter-widgets/controls",
       "_view_module_version": "1.5.0",
       "_view_name": "HTMLView",
       "description": "",
       "description_tooltip": null,
       "layout": "IPY_MODEL_6904f35963104a71885482250019f988",
       "placeholder": "​",
       "style": "IPY_MODEL_9ba371e461e94d019f9a7ce868d0a18c",
       "value": "Done! Use &#x27;show&#x27; commands to display/save.   "
      }
     },
     "6efe165975904bb191ff5a4c5edf0640": {
      "model_module": "@jupyter-widgets/controls",
      "model_module_version": "1.5.0",
      "model_name": "ProgressStyleModel",
      "state": {
       "_model_module": "@jupyter-widgets/controls",
       "_model_module_version": "1.5.0",
       "_model_name": "ProgressStyleModel",
       "_view_count": null,
       "_view_module": "@jupyter-widgets/base",
       "_view_module_version": "1.2.0",
       "_view_name": "StyleView",
       "bar_color": null,
       "description_width": ""
      }
     },
     "71216f705b824f2599531d626674256b": {
      "model_module": "@jupyter-widgets/controls",
      "model_module_version": "1.5.0",
      "model_name": "DescriptionStyleModel",
      "state": {
       "_model_module": "@jupyter-widgets/controls",
       "_model_module_version": "1.5.0",
       "_model_name": "DescriptionStyleModel",
       "_view_count": null,
       "_view_module": "@jupyter-widgets/base",
       "_view_module_version": "1.2.0",
       "_view_name": "StyleView",
       "description_width": ""
      }
     },
     "75440a31349b4cb58595aa384dca8b89": {
      "model_module": "@jupyter-widgets/controls",
      "model_module_version": "1.5.0",
      "model_name": "HBoxModel",
      "state": {
       "_dom_classes": [],
       "_model_module": "@jupyter-widgets/controls",
       "_model_module_version": "1.5.0",
       "_model_name": "HBoxModel",
       "_view_count": null,
       "_view_module": "@jupyter-widgets/controls",
       "_view_module_version": "1.5.0",
       "_view_name": "HBoxView",
       "box_style": "",
       "children": [
        "IPY_MODEL_6ec9dfb9601e486aa0883e05fa8a685f",
        "IPY_MODEL_8948f13ebd59445d9bfee35fbd336d28",
        "IPY_MODEL_0d62d79d63d243049645e9441d9d1782"
       ],
       "layout": "IPY_MODEL_fc17bfc338bc495eb41d15440cc29c1b"
      }
     },
     "761df81e519a4e67af0b1f61e35ecfec": {
      "model_module": "@jupyter-widgets/controls",
      "model_module_version": "1.5.0",
      "model_name": "HBoxModel",
      "state": {
       "_dom_classes": [],
       "_model_module": "@jupyter-widgets/controls",
       "_model_module_version": "1.5.0",
       "_model_name": "HBoxModel",
       "_view_count": null,
       "_view_module": "@jupyter-widgets/controls",
       "_view_module_version": "1.5.0",
       "_view_name": "HBoxView",
       "box_style": "",
       "children": [
        "IPY_MODEL_9744a69a369c47688cd69cc06fd3e3b3",
        "IPY_MODEL_10a7d43dcb1a4afe907c82b0b4fae4e1",
        "IPY_MODEL_67b8333565df4888a929765d2ce67303"
       ],
       "layout": "IPY_MODEL_905f75a6d1214fb59e1501500fea8c5a"
      }
     },
     "762da78f2b454640a2df375585cf664a": {
      "model_module": "@jupyter-widgets/controls",
      "model_module_version": "1.5.0",
      "model_name": "ProgressStyleModel",
      "state": {
       "_model_module": "@jupyter-widgets/controls",
       "_model_module_version": "1.5.0",
       "_model_name": "ProgressStyleModel",
       "_view_count": null,
       "_view_module": "@jupyter-widgets/base",
       "_view_module_version": "1.2.0",
       "_view_name": "StyleView",
       "bar_color": null,
       "description_width": ""
      }
     },
     "77daa84ad27340d8a4295d1403917191": {
      "model_module": "@jupyter-widgets/base",
      "model_module_version": "1.2.0",
      "model_name": "LayoutModel",
      "state": {
       "_model_module": "@jupyter-widgets/base",
       "_model_module_version": "1.2.0",
       "_model_name": "LayoutModel",
       "_view_count": null,
       "_view_module": "@jupyter-widgets/base",
       "_view_module_version": "1.2.0",
       "_view_name": "LayoutView",
       "align_content": null,
       "align_items": null,
       "align_self": null,
       "border": null,
       "bottom": null,
       "display": null,
       "flex": null,
       "flex_flow": null,
       "grid_area": null,
       "grid_auto_columns": null,
       "grid_auto_flow": null,
       "grid_auto_rows": null,
       "grid_column": null,
       "grid_gap": null,
       "grid_row": null,
       "grid_template_areas": null,
       "grid_template_columns": null,
       "grid_template_rows": null,
       "height": null,
       "justify_content": null,
       "justify_items": null,
       "left": null,
       "margin": null,
       "max_height": null,
       "max_width": null,
       "min_height": null,
       "min_width": null,
       "object_fit": null,
       "object_position": null,
       "order": null,
       "overflow": null,
       "overflow_x": null,
       "overflow_y": null,
       "padding": null,
       "right": null,
       "top": null,
       "visibility": null,
       "width": null
      }
     },
     "78ad71e4e92240fa8df647a4db2c8720": {
      "model_module": "@jupyter-widgets/base",
      "model_module_version": "1.2.0",
      "model_name": "LayoutModel",
      "state": {
       "_model_module": "@jupyter-widgets/base",
       "_model_module_version": "1.2.0",
       "_model_name": "LayoutModel",
       "_view_count": null,
       "_view_module": "@jupyter-widgets/base",
       "_view_module_version": "1.2.0",
       "_view_name": "LayoutView",
       "align_content": null,
       "align_items": null,
       "align_self": null,
       "border": null,
       "bottom": null,
       "display": null,
       "flex": null,
       "flex_flow": null,
       "grid_area": null,
       "grid_auto_columns": null,
       "grid_auto_flow": null,
       "grid_auto_rows": null,
       "grid_column": null,
       "grid_gap": null,
       "grid_row": null,
       "grid_template_areas": null,
       "grid_template_columns": null,
       "grid_template_rows": null,
       "height": null,
       "justify_content": null,
       "justify_items": null,
       "left": null,
       "margin": null,
       "max_height": null,
       "max_width": null,
       "min_height": null,
       "min_width": null,
       "object_fit": null,
       "object_position": null,
       "order": null,
       "overflow": null,
       "overflow_x": null,
       "overflow_y": null,
       "padding": null,
       "right": null,
       "top": null,
       "visibility": null,
       "width": null
      }
     },
     "7b282fadc94b4a66ad7d0e22d9aca07a": {
      "model_module": "@jupyter-widgets/base",
      "model_module_version": "1.2.0",
      "model_name": "LayoutModel",
      "state": {
       "_model_module": "@jupyter-widgets/base",
       "_model_module_version": "1.2.0",
       "_model_name": "LayoutModel",
       "_view_count": null,
       "_view_module": "@jupyter-widgets/base",
       "_view_module_version": "1.2.0",
       "_view_name": "LayoutView",
       "align_content": null,
       "align_items": null,
       "align_self": null,
       "border": null,
       "bottom": null,
       "display": null,
       "flex": null,
       "flex_flow": null,
       "grid_area": null,
       "grid_auto_columns": null,
       "grid_auto_flow": null,
       "grid_auto_rows": null,
       "grid_column": null,
       "grid_gap": null,
       "grid_row": null,
       "grid_template_areas": null,
       "grid_template_columns": null,
       "grid_template_rows": null,
       "height": null,
       "justify_content": null,
       "justify_items": null,
       "left": null,
       "margin": null,
       "max_height": null,
       "max_width": null,
       "min_height": null,
       "min_width": null,
       "object_fit": null,
       "object_position": null,
       "order": null,
       "overflow": null,
       "overflow_x": null,
       "overflow_y": null,
       "padding": null,
       "right": null,
       "top": null,
       "visibility": null,
       "width": null
      }
     },
     "7e27ef64a9b244daaa3f7c240f9b9dd8": {
      "model_module": "@jupyter-widgets/controls",
      "model_module_version": "1.5.0",
      "model_name": "FloatProgressModel",
      "state": {
       "_dom_classes": [],
       "_model_module": "@jupyter-widgets/controls",
       "_model_module_version": "1.5.0",
       "_model_name": "FloatProgressModel",
       "_view_count": null,
       "_view_module": "@jupyter-widgets/controls",
       "_view_module_version": "1.5.0",
       "_view_name": "ProgressView",
       "bar_style": "success",
       "description": "",
       "description_tooltip": null,
       "layout": "IPY_MODEL_77daa84ad27340d8a4295d1403917191",
       "max": 1,
       "min": 0,
       "orientation": "horizontal",
       "style": "IPY_MODEL_6efe165975904bb191ff5a4c5edf0640",
       "value": 1
      }
     },
     "8948f13ebd59445d9bfee35fbd336d28": {
      "model_module": "@jupyter-widgets/controls",
      "model_module_version": "1.5.0",
      "model_name": "FloatProgressModel",
      "state": {
       "_dom_classes": [],
       "_model_module": "@jupyter-widgets/controls",
       "_model_module_version": "1.5.0",
       "_model_name": "FloatProgressModel",
       "_view_count": null,
       "_view_module": "@jupyter-widgets/controls",
       "_view_module_version": "1.5.0",
       "_view_name": "ProgressView",
       "bar_style": "success",
       "description": "",
       "description_tooltip": null,
       "layout": "IPY_MODEL_f7009099d9fa483fb7353701b25c9307",
       "max": 1,
       "min": 0,
       "orientation": "horizontal",
       "style": "IPY_MODEL_762da78f2b454640a2df375585cf664a",
       "value": 1
      }
     },
     "905f75a6d1214fb59e1501500fea8c5a": {
      "model_module": "@jupyter-widgets/base",
      "model_module_version": "1.2.0",
      "model_name": "LayoutModel",
      "state": {
       "_model_module": "@jupyter-widgets/base",
       "_model_module_version": "1.2.0",
       "_model_name": "LayoutModel",
       "_view_count": null,
       "_view_module": "@jupyter-widgets/base",
       "_view_module_version": "1.2.0",
       "_view_name": "LayoutView",
       "align_content": null,
       "align_items": null,
       "align_self": null,
       "border": null,
       "bottom": null,
       "display": null,
       "flex": null,
       "flex_flow": null,
       "grid_area": null,
       "grid_auto_columns": null,
       "grid_auto_flow": null,
       "grid_auto_rows": null,
       "grid_column": null,
       "grid_gap": null,
       "grid_row": null,
       "grid_template_areas": null,
       "grid_template_columns": null,
       "grid_template_rows": null,
       "height": null,
       "justify_content": null,
       "justify_items": null,
       "left": null,
       "margin": null,
       "max_height": null,
       "max_width": null,
       "min_height": null,
       "min_width": null,
       "object_fit": null,
       "object_position": null,
       "order": null,
       "overflow": null,
       "overflow_x": null,
       "overflow_y": null,
       "padding": null,
       "right": null,
       "top": null,
       "visibility": null,
       "width": null
      }
     },
     "90da7973ab7641438b8ad642844d7e7f": {
      "model_module": "@jupyter-widgets/controls",
      "model_module_version": "1.5.0",
      "model_name": "HTMLModel",
      "state": {
       "_dom_classes": [],
       "_model_module": "@jupyter-widgets/controls",
       "_model_module_version": "1.5.0",
       "_model_name": "HTMLModel",
       "_view_count": null,
       "_view_module": "@jupyter-widgets/controls",
       "_view_module_version": "1.5.0",
       "_view_name": "HTMLView",
       "description": "",
       "description_tooltip": null,
       "layout": "IPY_MODEL_f4c4ec0b5e4e4d8db515520ec4016293",
       "placeholder": "​",
       "style": "IPY_MODEL_410f8bc83f894e7da738beed358b1fbf",
       "value": " 1/1 [00:02&lt;00:00,  2.65s/it]"
      }
     },
     "94c3cbc2b36643d3b0d1e1004c936352": {
      "model_module": "@jupyter-widgets/base",
      "model_module_version": "1.2.0",
      "model_name": "LayoutModel",
      "state": {
       "_model_module": "@jupyter-widgets/base",
       "_model_module_version": "1.2.0",
       "_model_name": "LayoutModel",
       "_view_count": null,
       "_view_module": "@jupyter-widgets/base",
       "_view_module_version": "1.2.0",
       "_view_name": "LayoutView",
       "align_content": null,
       "align_items": null,
       "align_self": null,
       "border": null,
       "bottom": null,
       "display": null,
       "flex": null,
       "flex_flow": null,
       "grid_area": null,
       "grid_auto_columns": null,
       "grid_auto_flow": null,
       "grid_auto_rows": null,
       "grid_column": null,
       "grid_gap": null,
       "grid_row": null,
       "grid_template_areas": null,
       "grid_template_columns": null,
       "grid_template_rows": null,
       "height": null,
       "justify_content": null,
       "justify_items": null,
       "left": null,
       "margin": null,
       "max_height": null,
       "max_width": null,
       "min_height": null,
       "min_width": null,
       "object_fit": null,
       "object_position": null,
       "order": null,
       "overflow": null,
       "overflow_x": null,
       "overflow_y": null,
       "padding": null,
       "right": null,
       "top": null,
       "visibility": null,
       "width": null
      }
     },
     "9744a69a369c47688cd69cc06fd3e3b3": {
      "model_module": "@jupyter-widgets/controls",
      "model_module_version": "1.5.0",
      "model_name": "HTMLModel",
      "state": {
       "_dom_classes": [],
       "_model_module": "@jupyter-widgets/controls",
       "_model_module_version": "1.5.0",
       "_model_name": "HTMLModel",
       "_view_count": null,
       "_view_module": "@jupyter-widgets/controls",
       "_view_module_version": "1.5.0",
       "_view_name": "HTMLView",
       "description": "",
       "description_tooltip": null,
       "layout": "IPY_MODEL_36d0971476d34bac9bce92ab2938f180",
       "placeholder": "​",
       "style": "IPY_MODEL_a801d8c984e64f23abf1493009eb406c",
       "value": "Summarize dataset: 100%"
      }
     },
     "9ba371e461e94d019f9a7ce868d0a18c": {
      "model_module": "@jupyter-widgets/controls",
      "model_module_version": "1.5.0",
      "model_name": "DescriptionStyleModel",
      "state": {
       "_model_module": "@jupyter-widgets/controls",
       "_model_module_version": "1.5.0",
       "_model_name": "DescriptionStyleModel",
       "_view_count": null,
       "_view_module": "@jupyter-widgets/base",
       "_view_module_version": "1.2.0",
       "_view_name": "StyleView",
       "description_width": ""
      }
     },
     "a333440bbaaf44348af72c1e45550049": {
      "model_module": "@jupyter-widgets/controls",
      "model_module_version": "1.5.0",
      "model_name": "HTMLModel",
      "state": {
       "_dom_classes": [],
       "_model_module": "@jupyter-widgets/controls",
       "_model_module_version": "1.5.0",
       "_model_name": "HTMLModel",
       "_view_count": null,
       "_view_module": "@jupyter-widgets/controls",
       "_view_module_version": "1.5.0",
       "_view_name": "HTMLView",
       "description": "",
       "description_tooltip": null,
       "layout": "IPY_MODEL_568cdc97e6de4d4d81e767ce573496b2",
       "placeholder": "​",
       "style": "IPY_MODEL_e2c30841341b4d619cfcc0432c099c27",
       "value": "Export report to file: 100%"
      }
     },
     "a801d8c984e64f23abf1493009eb406c": {
      "model_module": "@jupyter-widgets/controls",
      "model_module_version": "1.5.0",
      "model_name": "DescriptionStyleModel",
      "state": {
       "_model_module": "@jupyter-widgets/controls",
       "_model_module_version": "1.5.0",
       "_model_name": "DescriptionStyleModel",
       "_view_count": null,
       "_view_module": "@jupyter-widgets/base",
       "_view_module_version": "1.2.0",
       "_view_name": "StyleView",
       "description_width": ""
      }
     },
     "abdcade99e37479f8c7c2b6ca399ecea": {
      "model_module": "@jupyter-widgets/controls",
      "model_module_version": "1.5.0",
      "model_name": "FloatProgressModel",
      "state": {
       "_dom_classes": [],
       "_model_module": "@jupyter-widgets/controls",
       "_model_module_version": "1.5.0",
       "_model_name": "FloatProgressModel",
       "_view_count": null,
       "_view_module": "@jupyter-widgets/controls",
       "_view_module_version": "1.5.0",
       "_view_name": "ProgressView",
       "bar_style": "success",
       "description": "",
       "description_tooltip": null,
       "layout": "IPY_MODEL_1221484284a8413991382b483bb7c988",
       "max": 1,
       "min": 0,
       "orientation": "horizontal",
       "style": "IPY_MODEL_3be042bb63b44cc3b44d0c6b2bd7fad2",
       "value": 1
      }
     },
     "b4b624fa7e0c4107ab96981be94ac5ad": {
      "model_module": "@jupyter-widgets/controls",
      "model_module_version": "1.5.0",
      "model_name": "HTMLModel",
      "state": {
       "_dom_classes": [],
       "_model_module": "@jupyter-widgets/controls",
       "_model_module_version": "1.5.0",
       "_model_name": "HTMLModel",
       "_view_count": null,
       "_view_module": "@jupyter-widgets/controls",
       "_view_module_version": "1.5.0",
       "_view_name": "HTMLView",
       "description": "",
       "description_tooltip": null,
       "layout": "IPY_MODEL_7b282fadc94b4a66ad7d0e22d9aca07a",
       "placeholder": "​",
       "style": "IPY_MODEL_dfbb34dbd4394a2c952bdbd590f5307d",
       "value": "Generate report structure: 100%"
      }
     },
     "c5d7bae8b52b4b03b7d2c54b8ba556a5": {
      "model_module": "@jupyter-widgets/controls",
      "model_module_version": "1.5.0",
      "model_name": "HBoxModel",
      "state": {
       "_dom_classes": [],
       "_model_module": "@jupyter-widgets/controls",
       "_model_module_version": "1.5.0",
       "_model_name": "HBoxModel",
       "_view_count": null,
       "_view_module": "@jupyter-widgets/controls",
       "_view_module_version": "1.5.0",
       "_view_name": "HBoxView",
       "box_style": "",
       "children": [
        "IPY_MODEL_42b648c5fc7a401c8067c05175adcf3a",
        "IPY_MODEL_7e27ef64a9b244daaa3f7c240f9b9dd8",
        "IPY_MODEL_e72325e770e44821b25471dd0528ccc5"
       ],
       "layout": "IPY_MODEL_78ad71e4e92240fa8df647a4db2c8720"
      }
     },
     "dfbb34dbd4394a2c952bdbd590f5307d": {
      "model_module": "@jupyter-widgets/controls",
      "model_module_version": "1.5.0",
      "model_name": "DescriptionStyleModel",
      "state": {
       "_model_module": "@jupyter-widgets/controls",
       "_model_module_version": "1.5.0",
       "_model_name": "DescriptionStyleModel",
       "_view_count": null,
       "_view_module": "@jupyter-widgets/base",
       "_view_module_version": "1.2.0",
       "_view_name": "StyleView",
       "description_width": ""
      }
     },
     "e2c30841341b4d619cfcc0432c099c27": {
      "model_module": "@jupyter-widgets/controls",
      "model_module_version": "1.5.0",
      "model_name": "DescriptionStyleModel",
      "state": {
       "_model_module": "@jupyter-widgets/controls",
       "_model_module_version": "1.5.0",
       "_model_name": "DescriptionStyleModel",
       "_view_count": null,
       "_view_module": "@jupyter-widgets/base",
       "_view_module_version": "1.2.0",
       "_view_name": "StyleView",
       "description_width": ""
      }
     },
     "e72325e770e44821b25471dd0528ccc5": {
      "model_module": "@jupyter-widgets/controls",
      "model_module_version": "1.5.0",
      "model_name": "HTMLModel",
      "state": {
       "_dom_classes": [],
       "_model_module": "@jupyter-widgets/controls",
       "_model_module_version": "1.5.0",
       "_model_name": "HTMLModel",
       "_view_count": null,
       "_view_module": "@jupyter-widgets/controls",
       "_view_module_version": "1.5.0",
       "_view_name": "HTMLView",
       "description": "",
       "description_tooltip": null,
       "layout": "IPY_MODEL_25b3f6fc15094d7ab095afe5b5831120",
       "placeholder": "​",
       "style": "IPY_MODEL_6d0c3240e820446f93ac875870408c90",
       "value": " 1/1 [00:00&lt;00:00,  1.59it/s]"
      }
     },
     "eefd703f272446b29e03ea0d8a51a74e": {
      "model_module": "@jupyter-widgets/controls",
      "model_module_version": "1.5.0",
      "model_name": "DescriptionStyleModel",
      "state": {
       "_model_module": "@jupyter-widgets/controls",
       "_model_module_version": "1.5.0",
       "_model_name": "DescriptionStyleModel",
       "_view_count": null,
       "_view_module": "@jupyter-widgets/base",
       "_view_module_version": "1.2.0",
       "_view_name": "StyleView",
       "description_width": ""
      }
     },
     "f4c4ec0b5e4e4d8db515520ec4016293": {
      "model_module": "@jupyter-widgets/base",
      "model_module_version": "1.2.0",
      "model_name": "LayoutModel",
      "state": {
       "_model_module": "@jupyter-widgets/base",
       "_model_module_version": "1.2.0",
       "_model_name": "LayoutModel",
       "_view_count": null,
       "_view_module": "@jupyter-widgets/base",
       "_view_module_version": "1.2.0",
       "_view_name": "LayoutView",
       "align_content": null,
       "align_items": null,
       "align_self": null,
       "border": null,
       "bottom": null,
       "display": null,
       "flex": null,
       "flex_flow": null,
       "grid_area": null,
       "grid_auto_columns": null,
       "grid_auto_flow": null,
       "grid_auto_rows": null,
       "grid_column": null,
       "grid_gap": null,
       "grid_row": null,
       "grid_template_areas": null,
       "grid_template_columns": null,
       "grid_template_rows": null,
       "height": null,
       "justify_content": null,
       "justify_items": null,
       "left": null,
       "margin": null,
       "max_height": null,
       "max_width": null,
       "min_height": null,
       "min_width": null,
       "object_fit": null,
       "object_position": null,
       "order": null,
       "overflow": null,
       "overflow_x": null,
       "overflow_y": null,
       "padding": null,
       "right": null,
       "top": null,
       "visibility": null,
       "width": null
      }
     },
     "f7009099d9fa483fb7353701b25c9307": {
      "model_module": "@jupyter-widgets/base",
      "model_module_version": "1.2.0",
      "model_name": "LayoutModel",
      "state": {
       "_model_module": "@jupyter-widgets/base",
       "_model_module_version": "1.2.0",
       "_model_name": "LayoutModel",
       "_view_count": null,
       "_view_module": "@jupyter-widgets/base",
       "_view_module_version": "1.2.0",
       "_view_name": "LayoutView",
       "align_content": null,
       "align_items": null,
       "align_self": null,
       "border": null,
       "bottom": null,
       "display": null,
       "flex": "2",
       "flex_flow": null,
       "grid_area": null,
       "grid_auto_columns": null,
       "grid_auto_flow": null,
       "grid_auto_rows": null,
       "grid_column": null,
       "grid_gap": null,
       "grid_row": null,
       "grid_template_areas": null,
       "grid_template_columns": null,
       "grid_template_rows": null,
       "height": null,
       "justify_content": null,
       "justify_items": null,
       "left": null,
       "margin": null,
       "max_height": null,
       "max_width": null,
       "min_height": null,
       "min_width": null,
       "object_fit": null,
       "object_position": null,
       "order": null,
       "overflow": null,
       "overflow_x": null,
       "overflow_y": null,
       "padding": null,
       "right": null,
       "top": null,
       "visibility": null,
       "width": null
      }
     },
     "fc17bfc338bc495eb41d15440cc29c1b": {
      "model_module": "@jupyter-widgets/base",
      "model_module_version": "1.2.0",
      "model_name": "LayoutModel",
      "state": {
       "_model_module": "@jupyter-widgets/base",
       "_model_module_version": "1.2.0",
       "_model_name": "LayoutModel",
       "_view_count": null,
       "_view_module": "@jupyter-widgets/base",
       "_view_module_version": "1.2.0",
       "_view_name": "LayoutView",
       "align_content": null,
       "align_items": null,
       "align_self": null,
       "border": null,
       "bottom": null,
       "display": "inline-flex",
       "flex": null,
       "flex_flow": "row wrap",
       "grid_area": null,
       "grid_auto_columns": null,
       "grid_auto_flow": null,
       "grid_auto_rows": null,
       "grid_column": null,
       "grid_gap": null,
       "grid_row": null,
       "grid_template_areas": null,
       "grid_template_columns": null,
       "grid_template_rows": null,
       "height": null,
       "justify_content": null,
       "justify_items": null,
       "left": null,
       "margin": null,
       "max_height": null,
       "max_width": null,
       "min_height": null,
       "min_width": null,
       "object_fit": null,
       "object_position": null,
       "order": null,
       "overflow": null,
       "overflow_x": null,
       "overflow_y": null,
       "padding": null,
       "right": null,
       "top": null,
       "visibility": null,
       "width": "100%"
      }
     }
    },
    "version_major": 2,
    "version_minor": 0
   }
  }
 },
 "nbformat": 4,
 "nbformat_minor": 5
}
