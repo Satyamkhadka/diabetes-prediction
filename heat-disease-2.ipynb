{
 "cells": [
  {
   "cell_type": "code",
   "execution_count": 1,
   "id": "02e66c26",
   "metadata": {
    "_cell_guid": "b1076dfc-b9ad-4769-8c92-a6c4dae69d19",
    "_kg_hide-input": true,
    "_uuid": "8f2839f25d086af736a60e9eeb907d3b93b6e0e5",
    "execution": {
     "iopub.execute_input": "2022-11-11T21:11:00.936644Z",
     "iopub.status.busy": "2022-11-11T21:11:00.935964Z",
     "iopub.status.idle": "2022-11-11T21:11:00.958515Z",
     "shell.execute_reply": "2022-11-11T21:11:00.957261Z"
    },
    "papermill": {
     "duration": 0.053365,
     "end_time": "2022-11-11T21:11:00.961239",
     "exception": false,
     "start_time": "2022-11-11T21:11:00.907874",
     "status": "completed"
    },
    "tags": []
   },
   "outputs": [],
   "source": [
    "# This Python 3 environment comes with many helpful analytics libraries installed\n",
    "# It is defined by the kaggle/python Docker image: https://github.com/kaggle/docker-python\n",
    "# For example, here's several helpful packages to load\n",
    "\n",
    "import numpy as np # linear algebra\n",
    "import pandas as pd # data processing, CSV file I/O (e.g. pd.read_csv)\n",
    "\n",
    "# Input data files are available in the read-only \"../input/\" directory\n",
    "# For example, running this (by clicking run or pressing Shift+Enter) will list all files under the input directory\n",
    "\n",
    "# import os\n",
    "# for dirname, _, filenames in os.walk('/kaggle/input'):\n",
    "#     for filename in filenames:\n",
    "#         print(os.path.join(dirname, filename))\n",
    "\n",
    "# You can write up to 20GB to the current directory (/kaggle/working/) that gets preserved as output when you create a version using \"Save & Run All\" \n",
    "# You can also write temporary files to /kaggle/temp/, but they won't be saved outside of the current session"
   ]
  },
  {
   "cell_type": "markdown",
   "id": "51131f50",
   "metadata": {
    "papermill": {
     "duration": 0.021108,
     "end_time": "2022-11-11T21:11:01.004714",
     "exception": false,
     "start_time": "2022-11-11T21:11:00.983606",
     "status": "completed"
    },
    "tags": []
   },
   "source": [
    "# **Early Stage Diabetes Prediction**"
   ]
  },
  {
   "cell_type": "markdown",
   "id": "5ac777cf",
   "metadata": {
    "papermill": {
     "duration": 0.027753,
     "end_time": "2022-11-11T21:11:01.059625",
     "exception": false,
     "start_time": "2022-11-11T21:11:01.031872",
     "status": "completed"
    },
    "tags": []
   },
   "source": [
    "About Data\n",
    "This dataset contains the sign and symptpom data of newly diabetic or would be diabetic patient.This has been collected using direct questionnaires from the patients of Sylhet Diabetes Hospital in Sylhet, Bangladesh and approved by a doctor.\n",
    "\n",
    "Features of the dataset\n",
    "The dataset consist of total 15 features and one target variable named class.\n",
    "\n",
    "1. Age: Age in years ranging from (20years to 65 years)\n",
    "2. Gender: Male / Female\n",
    "3. Polyuria: Yes / No\n",
    "4. Polydipsia: Yes/ No\n",
    "5. Sudden weight loss: Yes/ No\n",
    "6. Weakness: Yes/ No\n",
    "7. Polyphagia: Yes/ No\n",
    "8. Genital Thrush: Yes/ No\n",
    "9. Visual blurring: Yes/ No\n",
    "10. Itching: Yes/ No\n",
    "11. Irritability: Yes/No\n",
    "12. Delayed healing: Yes/ No\n",
    "13. Partial Paresis: Yes/ No\n",
    "14. Muscle stiffness: yes/ No\n",
    "15. Alopecia: Yes/ No\n",
    "16. Obesity: Yes/ No\n",
    "\n",
    "Class: Positive / Negative"
   ]
  },
  {
   "cell_type": "markdown",
   "id": "42b52333",
   "metadata": {
    "papermill": {
     "duration": 0.021093,
     "end_time": "2022-11-11T21:11:01.106811",
     "exception": false,
     "start_time": "2022-11-11T21:11:01.085718",
     "status": "completed"
    },
    "tags": []
   },
   "source": [
    "# **Importing libraries**"
   ]
  },
  {
   "cell_type": "code",
   "execution_count": 2,
   "id": "ed5a5787",
   "metadata": {
    "execution": {
     "iopub.execute_input": "2022-11-11T21:11:01.152502Z",
     "iopub.status.busy": "2022-11-11T21:11:01.152069Z",
     "iopub.status.idle": "2022-11-11T21:11:02.865614Z",
     "shell.execute_reply": "2022-11-11T21:11:02.864364Z"
    },
    "papermill": {
     "duration": 1.739246,
     "end_time": "2022-11-11T21:11:02.868705",
     "exception": false,
     "start_time": "2022-11-11T21:11:01.129459",
     "status": "completed"
    },
    "tags": []
   },
   "outputs": [],
   "source": [
    "import warnings\n",
    "warnings.filterwarnings('ignore')\n",
    "import numpy as np\n",
    "import pandas as pd\n",
    "from sklearn.preprocessing import MinMaxScaler\n",
    "from sklearn.model_selection import train_test_split,cross_val_score\n",
    "from sklearn.linear_model import LogisticRegression\n",
    "from sklearn.metrics import  accuracy_score, f1_score, precision_score,confusion_matrix, recall_score, roc_auc_score\n",
    "from xgboost import XGBClassifier\n",
    "from sklearn.ensemble import RandomForestClassifier,AdaBoostClassifier\n",
    "from sklearn.svm import SVC\n",
    "import matplotlib.pyplot as plt\n",
    "%matplotlib inline\n",
    "import seaborn as sns\n",
    "from sklearn.model_selection import train_test_split\n",
    "from sklearn import model_selection\n",
    "from sklearn.metrics import classification_report\n",
    "from sklearn.naive_bayes import GaussianNB\n",
    "from sklearn.neighbors import KNeighborsClassifier\n",
    "from sklearn import metrics"
   ]
  },
  {
   "cell_type": "markdown",
   "id": "f898c964",
   "metadata": {
    "papermill": {
     "duration": 0.022358,
     "end_time": "2022-11-11T21:11:02.912725",
     "exception": false,
     "start_time": "2022-11-11T21:11:02.890367",
     "status": "completed"
    },
    "tags": []
   },
   "source": [
    "# **Importing Dataset**"
   ]
  },
  {
   "cell_type": "code",
   "execution_count": 3,
   "id": "7dc7169e",
   "metadata": {
    "execution": {
     "iopub.execute_input": "2022-11-11T21:11:02.958901Z",
     "iopub.status.busy": "2022-11-11T21:11:02.958231Z",
     "iopub.status.idle": "2022-11-11T21:11:03.001583Z",
     "shell.execute_reply": "2022-11-11T21:11:03.000642Z"
    },
    "papermill": {
     "duration": 0.069282,
     "end_time": "2022-11-11T21:11:03.003909",
     "exception": false,
     "start_time": "2022-11-11T21:11:02.934627",
     "status": "completed"
    },
    "tags": []
   },
   "outputs": [
    {
     "data": {
      "text/html": [
       "<div>\n",
       "<style scoped>\n",
       "    .dataframe tbody tr th:only-of-type {\n",
       "        vertical-align: middle;\n",
       "    }\n",
       "\n",
       "    .dataframe tbody tr th {\n",
       "        vertical-align: top;\n",
       "    }\n",
       "\n",
       "    .dataframe thead th {\n",
       "        text-align: right;\n",
       "    }\n",
       "</style>\n",
       "<table border=\"1\" class=\"dataframe\">\n",
       "  <thead>\n",
       "    <tr style=\"text-align: right;\">\n",
       "      <th></th>\n",
       "      <th>Age</th>\n",
       "      <th>Gender</th>\n",
       "      <th>Polyuria</th>\n",
       "      <th>Polydipsia</th>\n",
       "      <th>sudden weight loss</th>\n",
       "      <th>weakness</th>\n",
       "      <th>Polyphagia</th>\n",
       "      <th>Genital thrush</th>\n",
       "      <th>visual blurring</th>\n",
       "      <th>Itching</th>\n",
       "      <th>Irritability</th>\n",
       "      <th>delayed healing</th>\n",
       "      <th>partial paresis</th>\n",
       "      <th>muscle stiffness</th>\n",
       "      <th>Alopecia</th>\n",
       "      <th>Obesity</th>\n",
       "      <th>class</th>\n",
       "    </tr>\n",
       "  </thead>\n",
       "  <tbody>\n",
       "    <tr>\n",
       "      <th>0</th>\n",
       "      <td>40</td>\n",
       "      <td>Male</td>\n",
       "      <td>No</td>\n",
       "      <td>Yes</td>\n",
       "      <td>No</td>\n",
       "      <td>Yes</td>\n",
       "      <td>No</td>\n",
       "      <td>No</td>\n",
       "      <td>No</td>\n",
       "      <td>Yes</td>\n",
       "      <td>No</td>\n",
       "      <td>Yes</td>\n",
       "      <td>No</td>\n",
       "      <td>Yes</td>\n",
       "      <td>Yes</td>\n",
       "      <td>Yes</td>\n",
       "      <td>Positive</td>\n",
       "    </tr>\n",
       "    <tr>\n",
       "      <th>1</th>\n",
       "      <td>58</td>\n",
       "      <td>Male</td>\n",
       "      <td>No</td>\n",
       "      <td>No</td>\n",
       "      <td>No</td>\n",
       "      <td>Yes</td>\n",
       "      <td>No</td>\n",
       "      <td>No</td>\n",
       "      <td>Yes</td>\n",
       "      <td>No</td>\n",
       "      <td>No</td>\n",
       "      <td>No</td>\n",
       "      <td>Yes</td>\n",
       "      <td>No</td>\n",
       "      <td>Yes</td>\n",
       "      <td>No</td>\n",
       "      <td>Positive</td>\n",
       "    </tr>\n",
       "    <tr>\n",
       "      <th>2</th>\n",
       "      <td>41</td>\n",
       "      <td>Male</td>\n",
       "      <td>Yes</td>\n",
       "      <td>No</td>\n",
       "      <td>No</td>\n",
       "      <td>Yes</td>\n",
       "      <td>Yes</td>\n",
       "      <td>No</td>\n",
       "      <td>No</td>\n",
       "      <td>Yes</td>\n",
       "      <td>No</td>\n",
       "      <td>Yes</td>\n",
       "      <td>No</td>\n",
       "      <td>Yes</td>\n",
       "      <td>Yes</td>\n",
       "      <td>No</td>\n",
       "      <td>Positive</td>\n",
       "    </tr>\n",
       "    <tr>\n",
       "      <th>3</th>\n",
       "      <td>45</td>\n",
       "      <td>Male</td>\n",
       "      <td>No</td>\n",
       "      <td>No</td>\n",
       "      <td>Yes</td>\n",
       "      <td>Yes</td>\n",
       "      <td>Yes</td>\n",
       "      <td>Yes</td>\n",
       "      <td>No</td>\n",
       "      <td>Yes</td>\n",
       "      <td>No</td>\n",
       "      <td>Yes</td>\n",
       "      <td>No</td>\n",
       "      <td>No</td>\n",
       "      <td>No</td>\n",
       "      <td>No</td>\n",
       "      <td>Positive</td>\n",
       "    </tr>\n",
       "    <tr>\n",
       "      <th>4</th>\n",
       "      <td>60</td>\n",
       "      <td>Male</td>\n",
       "      <td>Yes</td>\n",
       "      <td>Yes</td>\n",
       "      <td>Yes</td>\n",
       "      <td>Yes</td>\n",
       "      <td>Yes</td>\n",
       "      <td>No</td>\n",
       "      <td>Yes</td>\n",
       "      <td>Yes</td>\n",
       "      <td>Yes</td>\n",
       "      <td>Yes</td>\n",
       "      <td>Yes</td>\n",
       "      <td>Yes</td>\n",
       "      <td>Yes</td>\n",
       "      <td>Yes</td>\n",
       "      <td>Positive</td>\n",
       "    </tr>\n",
       "  </tbody>\n",
       "</table>\n",
       "</div>"
      ],
      "text/plain": [
       "   Age Gender Polyuria Polydipsia sudden weight loss weakness Polyphagia  \\\n",
       "0   40   Male       No        Yes                 No      Yes         No   \n",
       "1   58   Male       No         No                 No      Yes         No   \n",
       "2   41   Male      Yes         No                 No      Yes        Yes   \n",
       "3   45   Male       No         No                Yes      Yes        Yes   \n",
       "4   60   Male      Yes        Yes                Yes      Yes        Yes   \n",
       "\n",
       "  Genital thrush visual blurring Itching Irritability delayed healing  \\\n",
       "0             No              No     Yes           No             Yes   \n",
       "1             No             Yes      No           No              No   \n",
       "2             No              No     Yes           No             Yes   \n",
       "3            Yes              No     Yes           No             Yes   \n",
       "4             No             Yes     Yes          Yes             Yes   \n",
       "\n",
       "  partial paresis muscle stiffness Alopecia Obesity     class  \n",
       "0              No              Yes      Yes     Yes  Positive  \n",
       "1             Yes               No      Yes      No  Positive  \n",
       "2              No              Yes      Yes      No  Positive  \n",
       "3              No               No       No      No  Positive  \n",
       "4             Yes              Yes      Yes     Yes  Positive  "
      ]
     },
     "execution_count": 3,
     "metadata": {},
     "output_type": "execute_result"
    }
   ],
   "source": [
    "df = pd.read_csv('diabetes_data.csv')\n",
    "df.head(5)"
   ]
  },
  {
   "cell_type": "markdown",
   "id": "82c0b0f9",
   "metadata": {
    "papermill": {
     "duration": 0.030029,
     "end_time": "2022-11-11T21:11:03.063815",
     "exception": false,
     "start_time": "2022-11-11T21:11:03.033786",
     "status": "completed"
    },
    "tags": []
   },
   "source": [
    "# **EDA (Custome way)**"
   ]
  },
  {
   "cell_type": "markdown",
   "id": "cd997d73",
   "metadata": {
    "papermill": {
     "duration": 0.030472,
     "end_time": "2022-11-11T21:11:03.120363",
     "exception": false,
     "start_time": "2022-11-11T21:11:03.089891",
     "status": "completed"
    },
    "tags": []
   },
   "source": [
    "> **Dealing with missing values**"
   ]
  },
  {
   "cell_type": "code",
   "execution_count": 4,
   "id": "0dc031f9",
   "metadata": {
    "execution": {
     "iopub.execute_input": "2022-11-11T21:11:03.166407Z",
     "iopub.status.busy": "2022-11-11T21:11:03.165751Z",
     "iopub.status.idle": "2022-11-11T21:11:03.174883Z",
     "shell.execute_reply": "2022-11-11T21:11:03.174077Z"
    },
    "papermill": {
     "duration": 0.034836,
     "end_time": "2022-11-11T21:11:03.177409",
     "exception": false,
     "start_time": "2022-11-11T21:11:03.142573",
     "status": "completed"
    },
    "tags": []
   },
   "outputs": [
    {
     "data": {
      "text/plain": [
       "Age                   0\n",
       "Gender                0\n",
       "Polyuria              0\n",
       "Polydipsia            0\n",
       "sudden weight loss    0\n",
       "weakness              0\n",
       "Polyphagia            0\n",
       "Genital thrush        0\n",
       "visual blurring       0\n",
       "Itching               0\n",
       "Irritability          0\n",
       "delayed healing       0\n",
       "partial paresis       0\n",
       "muscle stiffness      0\n",
       "Alopecia              0\n",
       "Obesity               0\n",
       "class                 0\n",
       "dtype: int64"
      ]
     },
     "execution_count": 4,
     "metadata": {},
     "output_type": "execute_result"
    }
   ],
   "source": [
    "df.isna().sum()"
   ]
  },
  {
   "cell_type": "code",
   "execution_count": 5,
   "id": "27513485",
   "metadata": {
    "execution": {
     "iopub.execute_input": "2022-11-11T21:11:03.225687Z",
     "iopub.status.busy": "2022-11-11T21:11:03.225040Z",
     "iopub.status.idle": "2022-11-11T21:11:03.251755Z",
     "shell.execute_reply": "2022-11-11T21:11:03.250299Z"
    },
    "papermill": {
     "duration": 0.053211,
     "end_time": "2022-11-11T21:11:03.254527",
     "exception": false,
     "start_time": "2022-11-11T21:11:03.201316",
     "status": "completed"
    },
    "tags": []
   },
   "outputs": [
    {
     "name": "stdout",
     "output_type": "stream",
     "text": [
      "<class 'pandas.core.frame.DataFrame'>\n",
      "RangeIndex: 520 entries, 0 to 519\n",
      "Data columns (total 17 columns):\n",
      " #   Column              Non-Null Count  Dtype \n",
      "---  ------              --------------  ----- \n",
      " 0   Age                 520 non-null    int64 \n",
      " 1   Gender              520 non-null    object\n",
      " 2   Polyuria            520 non-null    object\n",
      " 3   Polydipsia          520 non-null    object\n",
      " 4   sudden weight loss  520 non-null    object\n",
      " 5   weakness            520 non-null    object\n",
      " 6   Polyphagia          520 non-null    object\n",
      " 7   Genital thrush      520 non-null    object\n",
      " 8   visual blurring     520 non-null    object\n",
      " 9   Itching             520 non-null    object\n",
      " 10  Irritability        520 non-null    object\n",
      " 11  delayed healing     520 non-null    object\n",
      " 12  partial paresis     520 non-null    object\n",
      " 13  muscle stiffness    520 non-null    object\n",
      " 14  Alopecia            520 non-null    object\n",
      " 15  Obesity             520 non-null    object\n",
      " 16  class               520 non-null    object\n",
      "dtypes: int64(1), object(16)\n",
      "memory usage: 69.2+ KB\n"
     ]
    }
   ],
   "source": [
    "df.info()"
   ]
  },
  {
   "cell_type": "markdown",
   "id": "8eeb60b1",
   "metadata": {
    "papermill": {
     "duration": 0.021564,
     "end_time": "2022-11-11T21:11:03.298075",
     "exception": false,
     "start_time": "2022-11-11T21:11:03.276511",
     "status": "completed"
    },
    "tags": []
   },
   "source": [
    "> As we can see there is no missing value in the dataset"
   ]
  },
  {
   "cell_type": "markdown",
   "id": "6ef9c6a3",
   "metadata": {
    "papermill": {
     "duration": 0.021395,
     "end_time": "2022-11-11T21:11:03.341393",
     "exception": false,
     "start_time": "2022-11-11T21:11:03.319998",
     "status": "completed"
    },
    "tags": []
   },
   "source": [
    "**Distribution of different attributes**"
   ]
  },
  {
   "cell_type": "markdown",
   "id": "2c1e4f19",
   "metadata": {
    "papermill": {
     "duration": 0.02157,
     "end_time": "2022-11-11T21:11:03.384680",
     "exception": false,
     "start_time": "2022-11-11T21:11:03.363110",
     "status": "completed"
    },
    "tags": []
   },
   "source": [
    "> **Distribution of target variable**"
   ]
  },
  {
   "cell_type": "code",
   "execution_count": 6,
   "id": "0311ddb9",
   "metadata": {
    "execution": {
     "iopub.execute_input": "2022-11-11T21:11:03.430559Z",
     "iopub.status.busy": "2022-11-11T21:11:03.429679Z",
     "iopub.status.idle": "2022-11-11T21:11:03.864681Z",
     "shell.execute_reply": "2022-11-11T21:11:03.863433Z"
    },
    "papermill": {
     "duration": 0.461046,
     "end_time": "2022-11-11T21:11:03.867412",
     "exception": false,
     "start_time": "2022-11-11T21:11:03.406366",
     "status": "completed"
    },
    "tags": []
   },
   "outputs": [
    {
     "data": {
      "image/png": "[encoded data removed]",
      "text/plain": [
       "<Figure size 640x480 with 1 Axes>"
      ]
     },
     "metadata": {},
     "output_type": "display_data"
    },
    {
     "data": {
      "image/png": "[encoded data removed]",
      "text/plain": [
       "<Figure size 1400x700 with 2 Axes>"
      ]
     },
     "metadata": {},
     "output_type": "display_data"
    }
   ],
   "source": [
    "\n",
    "sns.countplot(x=df['class'],data=df)\n",
    "\n",
    "# plotting to create pie chart and bar plot as subplots\n",
    "plt.figure(figsize=(14,7))\n",
    "plt.subplot(121)\n",
    "df[\"class\"].value_counts().plot.pie(autopct = \"%1.0f%%\",colors = sns.color_palette(\"prism\",7),startangle = 60,labels=[\"Positive\",\"Negative\"],\n",
    "wedgeprops={\"linewidth\":2,\"edgecolor\":\"k\"},explode=[.1,0],shadow =True)\n",
    "plt.title(\"Distribution of Target  Variable\")\n",
    "\n",
    "plt.subplot(122)\n",
    "ax = df[\"class\"].value_counts().plot(kind=\"barh\")\n",
    "\n",
    "for i,j in enumerate(df[\"class\"].value_counts().values):\n",
    "    ax.text(.7,i,j,weight = \"bold\",fontsize=20)\n",
    "\n",
    "plt.title(\"Count of Target Variable\")\n",
    "plt.show()"
   ]
  },
  {
   "cell_type": "markdown",
   "id": "778ef29d",
   "metadata": {
    "papermill": {
     "duration": 0.022559,
     "end_time": "2022-11-11T21:11:03.913002",
     "exception": false,
     "start_time": "2022-11-11T21:11:03.890443",
     "status": "completed"
    },
    "tags": []
   },
   "source": [
    "> **Distribution of Gender**"
   ]
  },
  {
   "cell_type": "code",
   "execution_count": 7,
   "id": "3c8239a1",
   "metadata": {
    "execution": {
     "iopub.execute_input": "2022-11-11T21:11:03.962034Z",
     "iopub.status.busy": "2022-11-11T21:11:03.960855Z",
     "iopub.status.idle": "2022-11-11T21:11:04.218664Z",
     "shell.execute_reply": "2022-11-11T21:11:04.217233Z"
    },
    "papermill": {
     "duration": 0.284846,
     "end_time": "2022-11-11T21:11:04.221496",
     "exception": false,
     "start_time": "2022-11-11T21:11:03.936650",
     "status": "completed"
    },
    "tags": []
   },
   "outputs": [
    {
     "data": {
      "text/html": [
       "<style type=\"text/css\">\n",
       "#T_89af4_row0_col0, #T_89af4_row1_col1 {\n",
       "  background-color: #f3f0f0;\n",
       "  color: #000000;\n",
       "}\n",
       "#T_89af4_row0_col1, #T_89af4_row1_col0 {\n",
       "  background-color: #ff0000;\n",
       "  color: #f1f1f1;\n",
       "}\n",
       "</style>\n",
       "<table id=\"T_89af4\">\n",
       "  <thead>\n",
       "    <tr>\n",
       "      <th class=\"index_name level0\" >class</th>\n",
       "      <th id=\"T_89af4_level0_col0\" class=\"col_heading level0 col0\" >Negative</th>\n",
       "      <th id=\"T_89af4_level0_col1\" class=\"col_heading level0 col1\" >Positive</th>\n",
       "    </tr>\n",
       "    <tr>\n",
       "      <th class=\"index_name level0\" >Gender</th>\n",
       "      <th class=\"blank col0\" >&nbsp;</th>\n",
       "      <th class=\"blank col1\" >&nbsp;</th>\n",
       "    </tr>\n",
       "  </thead>\n",
       "  <tbody>\n",
       "    <tr>\n",
       "      <th id=\"T_89af4_level0_row0\" class=\"row_heading level0 row0\" >Female</th>\n",
       "      <td id=\"T_89af4_row0_col0\" class=\"data row0 col0\" >9.500000</td>\n",
       "      <td id=\"T_89af4_row0_col1\" class=\"data row0 col1\" >54.060000</td>\n",
       "    </tr>\n",
       "    <tr>\n",
       "      <th id=\"T_89af4_level0_row1\" class=\"row_heading level0 row1\" >Male</th>\n",
       "      <td id=\"T_89af4_row1_col0\" class=\"data row1 col0\" >90.500000</td>\n",
       "      <td id=\"T_89af4_row1_col1\" class=\"data row1 col1\" >45.940000</td>\n",
       "    </tr>\n",
       "  </tbody>\n",
       "</table>\n"
      ],
      "text/plain": [
       "<pandas.io.formats.style.Styler at 0x7f27eb0efeb0>"
      ]
     },
     "execution_count": 7,
     "metadata": {},
     "output_type": "execute_result"
    },
    {
     "data": {
      "image/png": "[encoded data removed]",
      "text/plain": [
       "<Figure size 640x480 with 1 Axes>"
      ]
     },
     "metadata": {},
     "output_type": "display_data"
    }
   ],
   "source": [
    "sns.countplot(x=df['Gender'],hue=df['class'], data=df)\n",
    "\n",
    "plot_criteria= ['Gender', 'class']\n",
    "cm = sns.light_palette(\"red\", as_cmap=True)\n",
    "(round(pd.crosstab(df[plot_criteria[0]], df[plot_criteria[1]], normalize='columns') * 100,2)).style.background_gradient(cmap = cm)"
   ]
  },
  {
   "cell_type": "markdown",
   "id": "fa39d7f2",
   "metadata": {
    "papermill": {
     "duration": 0.023434,
     "end_time": "2022-11-11T21:11:04.269609",
     "exception": false,
     "start_time": "2022-11-11T21:11:04.246175",
     "status": "completed"
    },
    "tags": []
   },
   "source": [
    "> **Distribution of Polyuria**"
   ]
  },
  {
   "cell_type": "code",
   "execution_count": 8,
   "id": "f9397e79",
   "metadata": {
    "execution": {
     "iopub.execute_input": "2022-11-11T21:11:04.318888Z",
     "iopub.status.busy": "2022-11-11T21:11:04.318510Z",
     "iopub.status.idle": "2022-11-11T21:11:04.510607Z",
     "shell.execute_reply": "2022-11-11T21:11:04.508860Z"
    },
    "papermill": {
     "duration": 0.220568,
     "end_time": "2022-11-11T21:11:04.513773",
     "exception": false,
     "start_time": "2022-11-11T21:11:04.293205",
     "status": "completed"
    },
    "tags": []
   },
   "outputs": [
    {
     "data": {
      "text/html": [
       "<style type=\"text/css\">\n",
       "#T_3ad5b_row0_col0, #T_3ad5b_row1_col1 {\n",
       "  background-color: #ff0000;\n",
       "  color: #f1f1f1;\n",
       "}\n",
       "#T_3ad5b_row0_col1, #T_3ad5b_row1_col0 {\n",
       "  background-color: #f3f0f0;\n",
       "  color: #000000;\n",
       "}\n",
       "</style>\n",
       "<table id=\"T_3ad5b\">\n",
       "  <thead>\n",
       "    <tr>\n",
       "      <th class=\"index_name level0\" >class</th>\n",
       "      <th id=\"T_3ad5b_level0_col0\" class=\"col_heading level0 col0\" >Negative</th>\n",
       "      <th id=\"T_3ad5b_level0_col1\" class=\"col_heading level0 col1\" >Positive</th>\n",
       "    </tr>\n",
       "    <tr>\n",
       "      <th class=\"index_name level0\" >Polyuria</th>\n",
       "      <th class=\"blank col0\" >&nbsp;</th>\n",
       "      <th class=\"blank col1\" >&nbsp;</th>\n",
       "    </tr>\n",
       "  </thead>\n",
       "  <tbody>\n",
       "    <tr>\n",
       "      <th id=\"T_3ad5b_level0_row0\" class=\"row_heading level0 row0\" >No</th>\n",
       "      <td id=\"T_3ad5b_row0_col0\" class=\"data row0 col0\" >92.500000</td>\n",
       "      <td id=\"T_3ad5b_row0_col1\" class=\"data row0 col1\" >24.060000</td>\n",
       "    </tr>\n",
       "    <tr>\n",
       "      <th id=\"T_3ad5b_level0_row1\" class=\"row_heading level0 row1\" >Yes</th>\n",
       "      <td id=\"T_3ad5b_row1_col0\" class=\"data row1 col0\" >7.500000</td>\n",
       "      <td id=\"T_3ad5b_row1_col1\" class=\"data row1 col1\" >75.940000</td>\n",
       "    </tr>\n",
       "  </tbody>\n",
       "</table>\n"
      ],
      "text/plain": [
       "<pandas.io.formats.style.Styler at 0x7f27e8e38280>"
      ]
     },
     "execution_count": 8,
     "metadata": {},
     "output_type": "execute_result"
    },
    {
     "data": {
      "image/png": "[encoded data removed]",
      "text/plain": [
       "<Figure size 640x480 with 1 Axes>"
      ]
     },
     "metadata": {},
     "output_type": "display_data"
    }
   ],
   "source": [
    "sns.countplot(x=df['Polyuria'],hue=df['class'], data=df)\n",
    "\n",
    "\n",
    "plot_criteria= ['Polyuria', 'class']\n",
    "cm = sns.light_palette(\"red\", as_cmap=True)\n",
    "(round(pd.crosstab(df[plot_criteria[0]], df[plot_criteria[1]], normalize='columns') * 100,2)).style.background_gradient(cmap = cm)"
   ]
  },
  {
   "cell_type": "markdown",
   "id": "d698685b",
   "metadata": {
    "papermill": {
     "duration": 0.023428,
     "end_time": "2022-11-11T21:11:04.561283",
     "exception": false,
     "start_time": "2022-11-11T21:11:04.537855",
     "status": "completed"
    },
    "tags": []
   },
   "source": [
    "> **Distribution of sudden weight loss**"
   ]
  },
  {
   "cell_type": "code",
   "execution_count": 9,
   "id": "8568ad26",
   "metadata": {
    "execution": {
     "iopub.execute_input": "2022-11-11T21:11:04.612287Z",
     "iopub.status.busy": "2022-11-11T21:11:04.611500Z",
     "iopub.status.idle": "2022-11-11T21:11:04.870260Z",
     "shell.execute_reply": "2022-11-11T21:11:04.868957Z"
    },
    "papermill": {
     "duration": 0.287695,
     "end_time": "2022-11-11T21:11:04.872709",
     "exception": false,
     "start_time": "2022-11-11T21:11:04.585014",
     "status": "completed"
    },
    "tags": []
   },
   "outputs": [
    {
     "data": {
      "text/html": [
       "<style type=\"text/css\">\n",
       "#T_3a197_row0_col0, #T_3a197_row1_col1 {\n",
       "  background-color: #ff0000;\n",
       "  color: #f1f1f1;\n",
       "}\n",
       "#T_3a197_row0_col1, #T_3a197_row1_col0 {\n",
       "  background-color: #f3f0f0;\n",
       "  color: #000000;\n",
       "}\n",
       "</style>\n",
       "<table id=\"T_3a197\">\n",
       "  <thead>\n",
       "    <tr>\n",
       "      <th class=\"index_name level0\" >class</th>\n",
       "      <th id=\"T_3a197_level0_col0\" class=\"col_heading level0 col0\" >Negative</th>\n",
       "      <th id=\"T_3a197_level0_col1\" class=\"col_heading level0 col1\" >Positive</th>\n",
       "    </tr>\n",
       "    <tr>\n",
       "      <th class=\"index_name level0\" >sudden weight loss</th>\n",
       "      <th class=\"blank col0\" >&nbsp;</th>\n",
       "      <th class=\"blank col1\" >&nbsp;</th>\n",
       "    </tr>\n",
       "  </thead>\n",
       "  <tbody>\n",
       "    <tr>\n",
       "      <th id=\"T_3a197_level0_row0\" class=\"row_heading level0 row0\" >No</th>\n",
       "      <td id=\"T_3a197_row0_col0\" class=\"data row0 col0\" >85.500000</td>\n",
       "      <td id=\"T_3a197_row0_col1\" class=\"data row0 col1\" >41.250000</td>\n",
       "    </tr>\n",
       "    <tr>\n",
       "      <th id=\"T_3a197_level0_row1\" class=\"row_heading level0 row1\" >Yes</th>\n",
       "      <td id=\"T_3a197_row1_col0\" class=\"data row1 col0\" >14.500000</td>\n",
       "      <td id=\"T_3a197_row1_col1\" class=\"data row1 col1\" >58.750000</td>\n",
       "    </tr>\n",
       "  </tbody>\n",
       "</table>\n"
      ],
      "text/plain": [
       "<pandas.io.formats.style.Styler at 0x7f27e8b55250>"
      ]
     },
     "execution_count": 9,
     "metadata": {},
     "output_type": "execute_result"
    },
    {
     "data": {
      "image/png": "[encoded data removed]",
      "text/plain": [
       "<Figure size 640x480 with 1 Axes>"
      ]
     },
     "metadata": {},
     "output_type": "display_data"
    }
   ],
   "source": [
    "sns.countplot(x=df['sudden weight loss'], hue = df['class'], data = df)\n",
    "plot_criteria = ['sudden weight loss','class']\n",
    "(round(pd.crosstab(df[plot_criteria[0]], df[plot_criteria[1]], normalize='columns') * 100,2)).style.background_gradient(cmap = cm)"
   ]
  },
  {
   "cell_type": "markdown",
   "id": "0c5bf094",
   "metadata": {
    "papermill": {
     "duration": 0.024021,
     "end_time": "2022-11-11T21:11:04.920770",
     "exception": false,
     "start_time": "2022-11-11T21:11:04.896749",
     "status": "completed"
    },
    "tags": []
   },
   "source": [
    "> **Distribution of weakness**"
   ]
  },
  {
   "cell_type": "code",
   "execution_count": 10,
   "id": "016b3c96",
   "metadata": {
    "execution": {
     "iopub.execute_input": "2022-11-11T21:11:04.970878Z",
     "iopub.status.busy": "2022-11-11T21:11:04.970403Z",
     "iopub.status.idle": "2022-11-11T21:11:05.213901Z",
     "shell.execute_reply": "2022-11-11T21:11:05.212692Z"
    },
    "papermill": {
     "duration": 0.271772,
     "end_time": "2022-11-11T21:11:05.216621",
     "exception": false,
     "start_time": "2022-11-11T21:11:04.944849",
     "status": "completed"
    },
    "tags": []
   },
   "outputs": [
    {
     "data": {
      "text/html": [
       "<style type=\"text/css\">\n",
       "#T_f0298_row0_col0, #T_f0298_row1_col1 {\n",
       "  background-color: #ff0000;\n",
       "  color: #f1f1f1;\n",
       "}\n",
       "#T_f0298_row0_col1, #T_f0298_row1_col0 {\n",
       "  background-color: #f3f0f0;\n",
       "  color: #000000;\n",
       "}\n",
       "</style>\n",
       "<table id=\"T_f0298\">\n",
       "  <thead>\n",
       "    <tr>\n",
       "      <th class=\"index_name level0\" >class</th>\n",
       "      <th id=\"T_f0298_level0_col0\" class=\"col_heading level0 col0\" >Negative</th>\n",
       "      <th id=\"T_f0298_level0_col1\" class=\"col_heading level0 col1\" >Positive</th>\n",
       "    </tr>\n",
       "    <tr>\n",
       "      <th class=\"index_name level0\" >weakness</th>\n",
       "      <th class=\"blank col0\" >&nbsp;</th>\n",
       "      <th class=\"blank col1\" >&nbsp;</th>\n",
       "    </tr>\n",
       "  </thead>\n",
       "  <tbody>\n",
       "    <tr>\n",
       "      <th id=\"T_f0298_level0_row0\" class=\"row_heading level0 row0\" >No</th>\n",
       "      <td id=\"T_f0298_row0_col0\" class=\"data row0 col0\" >56.500000</td>\n",
       "      <td id=\"T_f0298_row0_col1\" class=\"data row0 col1\" >31.870000</td>\n",
       "    </tr>\n",
       "    <tr>\n",
       "      <th id=\"T_f0298_level0_row1\" class=\"row_heading level0 row1\" >Yes</th>\n",
       "      <td id=\"T_f0298_row1_col0\" class=\"data row1 col0\" >43.500000</td>\n",
       "      <td id=\"T_f0298_row1_col1\" class=\"data row1 col1\" >68.120000</td>\n",
       "    </tr>\n",
       "  </tbody>\n",
       "</table>\n"
      ],
      "text/plain": [
       "<pandas.io.formats.style.Styler at 0x7f280b30ea00>"
      ]
     },
     "execution_count": 10,
     "metadata": {},
     "output_type": "execute_result"
    },
    {
     "data": {
      "image/png": "[encoded data removed]",
      "text/plain": [
       "<Figure size 640x480 with 1 Axes>"
      ]
     },
     "metadata": {},
     "output_type": "display_data"
    }
   ],
   "source": [
    "sns.countplot(x=df['weakness'],hue=df['class'], data=df)\n",
    "\n",
    "\n",
    "plot_criteria= ['weakness', 'class']\n",
    "cm = sns.light_palette(\"red\", as_cmap=True)\n",
    "(round(pd.crosstab(df[plot_criteria[0]], df[plot_criteria[1]], normalize='columns') * 100,2)).style.background_gradient(cmap = cm)"
   ]
  },
  {
   "cell_type": "markdown",
   "id": "c983ec7c",
   "metadata": {
    "papermill": {
     "duration": 0.024373,
     "end_time": "2022-11-11T21:11:05.267281",
     "exception": false,
     "start_time": "2022-11-11T21:11:05.242908",
     "status": "completed"
    },
    "tags": []
   },
   "source": [
    "> **Distribution of Genital thrush**"
   ]
  },
  {
   "cell_type": "code",
   "execution_count": 11,
   "id": "c2a3acec",
   "metadata": {
    "execution": {
     "iopub.execute_input": "2022-11-11T21:11:05.318259Z",
     "iopub.status.busy": "2022-11-11T21:11:05.317847Z",
     "iopub.status.idle": "2022-11-11T21:11:05.564451Z",
     "shell.execute_reply": "2022-11-11T21:11:05.562813Z"
    },
    "papermill": {
     "duration": 0.275894,
     "end_time": "2022-11-11T21:11:05.567256",
     "exception": false,
     "start_time": "2022-11-11T21:11:05.291362",
     "status": "completed"
    },
    "tags": []
   },
   "outputs": [
    {
     "data": {
      "text/html": [
       "<style type=\"text/css\">\n",
       "#T_f3ed4_row0_col0, #T_f3ed4_row0_col1 {\n",
       "  background-color: #ff0000;\n",
       "  color: #f1f1f1;\n",
       "}\n",
       "#T_f3ed4_row1_col0, #T_f3ed4_row1_col1 {\n",
       "  background-color: #f3f0f0;\n",
       "  color: #000000;\n",
       "}\n",
       "</style>\n",
       "<table id=\"T_f3ed4\">\n",
       "  <thead>\n",
       "    <tr>\n",
       "      <th class=\"index_name level0\" >class</th>\n",
       "      <th id=\"T_f3ed4_level0_col0\" class=\"col_heading level0 col0\" >Negative</th>\n",
       "      <th id=\"T_f3ed4_level0_col1\" class=\"col_heading level0 col1\" >Positive</th>\n",
       "    </tr>\n",
       "    <tr>\n",
       "      <th class=\"index_name level0\" >Genital thrush</th>\n",
       "      <th class=\"blank col0\" >&nbsp;</th>\n",
       "      <th class=\"blank col1\" >&nbsp;</th>\n",
       "    </tr>\n",
       "  </thead>\n",
       "  <tbody>\n",
       "    <tr>\n",
       "      <th id=\"T_f3ed4_level0_row0\" class=\"row_heading level0 row0\" >No</th>\n",
       "      <td id=\"T_f3ed4_row0_col0\" class=\"data row0 col0\" >83.500000</td>\n",
       "      <td id=\"T_f3ed4_row0_col1\" class=\"data row0 col1\" >74.060000</td>\n",
       "    </tr>\n",
       "    <tr>\n",
       "      <th id=\"T_f3ed4_level0_row1\" class=\"row_heading level0 row1\" >Yes</th>\n",
       "      <td id=\"T_f3ed4_row1_col0\" class=\"data row1 col0\" >16.500000</td>\n",
       "      <td id=\"T_f3ed4_row1_col1\" class=\"data row1 col1\" >25.940000</td>\n",
       "    </tr>\n",
       "  </tbody>\n",
       "</table>\n"
      ],
      "text/plain": [
       "<pandas.io.formats.style.Styler at 0x7f27e8ba6610>"
      ]
     },
     "execution_count": 11,
     "metadata": {},
     "output_type": "execute_result"
    },
    {
     "data": {
      "image/png": "[encoded data removed]",
      "text/plain": [
       "<Figure size 640x480 with 1 Axes>"
      ]
     },
     "metadata": {},
     "output_type": "display_data"
    }
   ],
   "source": [
    "sns.countplot(x=df['Genital thrush'],hue=df['class'], data=df)\n",
    "\n",
    "\n",
    "plot_criteria= ['Genital thrush', 'class']\n",
    "cm = sns.light_palette(\"red\", as_cmap=True)\n",
    "(round(pd.crosstab(df[plot_criteria[0]], df[plot_criteria[1]], normalize='columns') * 100,2)).style.background_gradient(cmap = cm)"
   ]
  },
  {
   "cell_type": "markdown",
   "id": "5d670ba1",
   "metadata": {
    "papermill": {
     "duration": 0.025399,
     "end_time": "2022-11-11T21:11:05.617636",
     "exception": false,
     "start_time": "2022-11-11T21:11:05.592237",
     "status": "completed"
    },
    "tags": []
   },
   "source": [
    "> **Distribution of visual blurring**"
   ]
  },
  {
   "cell_type": "code",
   "execution_count": 12,
   "id": "06290309",
   "metadata": {
    "execution": {
     "iopub.execute_input": "2022-11-11T21:11:05.669280Z",
     "iopub.status.busy": "2022-11-11T21:11:05.668879Z",
     "iopub.status.idle": "2022-11-11T21:11:05.931244Z",
     "shell.execute_reply": "2022-11-11T21:11:05.930041Z"
    },
    "papermill": {
     "duration": 0.291231,
     "end_time": "2022-11-11T21:11:05.933843",
     "exception": false,
     "start_time": "2022-11-11T21:11:05.642612",
     "status": "completed"
    },
    "tags": []
   },
   "outputs": [
    {
     "data": {
      "text/html": [
       "<style type=\"text/css\">\n",
       "#T_6252e_row0_col0, #T_6252e_row1_col1 {\n",
       "  background-color: #ff0000;\n",
       "  color: #f1f1f1;\n",
       "}\n",
       "#T_6252e_row0_col1, #T_6252e_row1_col0 {\n",
       "  background-color: #f3f0f0;\n",
       "  color: #000000;\n",
       "}\n",
       "</style>\n",
       "<table id=\"T_6252e\">\n",
       "  <thead>\n",
       "    <tr>\n",
       "      <th class=\"index_name level0\" >class</th>\n",
       "      <th id=\"T_6252e_level0_col0\" class=\"col_heading level0 col0\" >Negative</th>\n",
       "      <th id=\"T_6252e_level0_col1\" class=\"col_heading level0 col1\" >Positive</th>\n",
       "    </tr>\n",
       "    <tr>\n",
       "      <th class=\"index_name level0\" >visual blurring</th>\n",
       "      <th class=\"blank col0\" >&nbsp;</th>\n",
       "      <th class=\"blank col1\" >&nbsp;</th>\n",
       "    </tr>\n",
       "  </thead>\n",
       "  <tbody>\n",
       "    <tr>\n",
       "      <th id=\"T_6252e_level0_row0\" class=\"row_heading level0 row0\" >No</th>\n",
       "      <td id=\"T_6252e_row0_col0\" class=\"data row0 col0\" >71.000000</td>\n",
       "      <td id=\"T_6252e_row0_col1\" class=\"data row0 col1\" >45.310000</td>\n",
       "    </tr>\n",
       "    <tr>\n",
       "      <th id=\"T_6252e_level0_row1\" class=\"row_heading level0 row1\" >Yes</th>\n",
       "      <td id=\"T_6252e_row1_col0\" class=\"data row1 col0\" >29.000000</td>\n",
       "      <td id=\"T_6252e_row1_col1\" class=\"data row1 col1\" >54.690000</td>\n",
       "    </tr>\n",
       "  </tbody>\n",
       "</table>\n"
      ],
      "text/plain": [
       "<pandas.io.formats.style.Styler at 0x7f27e8e38070>"
      ]
     },
     "execution_count": 12,
     "metadata": {},
     "output_type": "execute_result"
    },
    {
     "data": {
      "image/png": "[encoded data removed]",
      "text/plain": [
       "<Figure size 640x480 with 1 Axes>"
      ]
     },
     "metadata": {},
     "output_type": "display_data"
    }
   ],
   "source": [
    "sns.countplot(x=df['visual blurring'],hue=df['class'], data=df)\n",
    "\n",
    "\n",
    "plot_criteria= ['visual blurring', 'class']\n",
    "cm = sns.light_palette(\"red\", as_cmap=True)\n",
    "(round(pd.crosstab(df[plot_criteria[0]], df[plot_criteria[1]], normalize='columns') * 100,2)).style.background_gradient(cmap = cm)"
   ]
  },
  {
   "cell_type": "markdown",
   "id": "2e4b5f88",
   "metadata": {
    "papermill": {
     "duration": 0.025124,
     "end_time": "2022-11-11T21:11:05.984738",
     "exception": false,
     "start_time": "2022-11-11T21:11:05.959614",
     "status": "completed"
    },
    "tags": []
   },
   "source": [
    "> **Distribution of Itching**"
   ]
  },
  {
   "cell_type": "code",
   "execution_count": 13,
   "id": "670fff0e",
   "metadata": {
    "execution": {
     "iopub.execute_input": "2022-11-11T21:11:06.037802Z",
     "iopub.status.busy": "2022-11-11T21:11:06.037273Z",
     "iopub.status.idle": "2022-11-11T21:11:06.296316Z",
     "shell.execute_reply": "2022-11-11T21:11:06.295190Z"
    },
    "papermill": {
     "duration": 0.288803,
     "end_time": "2022-11-11T21:11:06.299257",
     "exception": false,
     "start_time": "2022-11-11T21:11:06.010454",
     "status": "completed"
    },
    "tags": []
   },
   "outputs": [
    {
     "data": {
      "text/html": [
       "<style type=\"text/css\">\n",
       "#T_51d46_row0_col0, #T_51d46_row0_col1 {\n",
       "  background-color: #ff0000;\n",
       "  color: #f1f1f1;\n",
       "}\n",
       "#T_51d46_row1_col0, #T_51d46_row1_col1 {\n",
       "  background-color: #f3f0f0;\n",
       "  color: #000000;\n",
       "}\n",
       "</style>\n",
       "<table id=\"T_51d46\">\n",
       "  <thead>\n",
       "    <tr>\n",
       "      <th class=\"index_name level0\" >class</th>\n",
       "      <th id=\"T_51d46_level0_col0\" class=\"col_heading level0 col0\" >Negative</th>\n",
       "      <th id=\"T_51d46_level0_col1\" class=\"col_heading level0 col1\" >Positive</th>\n",
       "    </tr>\n",
       "    <tr>\n",
       "      <th class=\"index_name level0\" >Itching</th>\n",
       "      <th class=\"blank col0\" >&nbsp;</th>\n",
       "      <th class=\"blank col1\" >&nbsp;</th>\n",
       "    </tr>\n",
       "  </thead>\n",
       "  <tbody>\n",
       "    <tr>\n",
       "      <th id=\"T_51d46_level0_row0\" class=\"row_heading level0 row0\" >No</th>\n",
       "      <td id=\"T_51d46_row0_col0\" class=\"data row0 col0\" >50.500000</td>\n",
       "      <td id=\"T_51d46_row0_col1\" class=\"data row0 col1\" >51.880000</td>\n",
       "    </tr>\n",
       "    <tr>\n",
       "      <th id=\"T_51d46_level0_row1\" class=\"row_heading level0 row1\" >Yes</th>\n",
       "      <td id=\"T_51d46_row1_col0\" class=\"data row1 col0\" >49.500000</td>\n",
       "      <td id=\"T_51d46_row1_col1\" class=\"data row1 col1\" >48.120000</td>\n",
       "    </tr>\n",
       "  </tbody>\n",
       "</table>\n"
      ],
      "text/plain": [
       "<pandas.io.formats.style.Styler at 0x7f27e6e98e50>"
      ]
     },
     "execution_count": 13,
     "metadata": {},
     "output_type": "execute_result"
    },
    {
     "data": {
      "image/png": "[encoded data removed]",
      "text/plain": [
       "<Figure size 640x480 with 1 Axes>"
      ]
     },
     "metadata": {},
     "output_type": "display_data"
    }
   ],
   "source": [
    "sns.countplot(x=df['Itching'],hue=df['class'], data=df)\n",
    "\n",
    "\n",
    "plot_criteria= ['Itching', 'class']\n",
    "cm = sns.light_palette(\"red\", as_cmap=True)\n",
    "(round(pd.crosstab(df[plot_criteria[0]], df[plot_criteria[1]], normalize='columns') * 100,2)).style.background_gradient(cmap = cm)"
   ]
  },
  {
   "cell_type": "markdown",
   "id": "4b7433e9",
   "metadata": {
    "papermill": {
     "duration": 0.025504,
     "end_time": "2022-11-11T21:11:06.351529",
     "exception": false,
     "start_time": "2022-11-11T21:11:06.326025",
     "status": "completed"
    },
    "tags": []
   },
   "source": [
    "> **Distribution of Irritability**"
   ]
  },
  {
   "cell_type": "code",
   "execution_count": 14,
   "id": "8c738220",
   "metadata": {
    "execution": {
     "iopub.execute_input": "2022-11-11T21:11:06.407516Z",
     "iopub.status.busy": "2022-11-11T21:11:06.406598Z",
     "iopub.status.idle": "2022-11-11T21:11:06.663909Z",
     "shell.execute_reply": "2022-11-11T21:11:06.662592Z"
    },
    "papermill": {
     "duration": 0.288583,
     "end_time": "2022-11-11T21:11:06.666704",
     "exception": false,
     "start_time": "2022-11-11T21:11:06.378121",
     "status": "completed"
    },
    "tags": []
   },
   "outputs": [
    {
     "data": {
      "text/html": [
       "<style type=\"text/css\">\n",
       "#T_3dc40_row0_col0, #T_3dc40_row0_col1 {\n",
       "  background-color: #ff0000;\n",
       "  color: #f1f1f1;\n",
       "}\n",
       "#T_3dc40_row1_col0, #T_3dc40_row1_col1 {\n",
       "  background-color: #f3f0f0;\n",
       "  color: #000000;\n",
       "}\n",
       "</style>\n",
       "<table id=\"T_3dc40\">\n",
       "  <thead>\n",
       "    <tr>\n",
       "      <th class=\"index_name level0\" >class</th>\n",
       "      <th id=\"T_3dc40_level0_col0\" class=\"col_heading level0 col0\" >Negative</th>\n",
       "      <th id=\"T_3dc40_level0_col1\" class=\"col_heading level0 col1\" >Positive</th>\n",
       "    </tr>\n",
       "    <tr>\n",
       "      <th class=\"index_name level0\" >Irritability</th>\n",
       "      <th class=\"blank col0\" >&nbsp;</th>\n",
       "      <th class=\"blank col1\" >&nbsp;</th>\n",
       "    </tr>\n",
       "  </thead>\n",
       "  <tbody>\n",
       "    <tr>\n",
       "      <th id=\"T_3dc40_level0_row0\" class=\"row_heading level0 row0\" >No</th>\n",
       "      <td id=\"T_3dc40_row0_col0\" class=\"data row0 col0\" >92.000000</td>\n",
       "      <td id=\"T_3dc40_row0_col1\" class=\"data row0 col1\" >65.620000</td>\n",
       "    </tr>\n",
       "    <tr>\n",
       "      <th id=\"T_3dc40_level0_row1\" class=\"row_heading level0 row1\" >Yes</th>\n",
       "      <td id=\"T_3dc40_row1_col0\" class=\"data row1 col0\" >8.000000</td>\n",
       "      <td id=\"T_3dc40_row1_col1\" class=\"data row1 col1\" >34.380000</td>\n",
       "    </tr>\n",
       "  </tbody>\n",
       "</table>\n"
      ],
      "text/plain": [
       "<pandas.io.formats.style.Styler at 0x7f27e8a67250>"
      ]
     },
     "execution_count": 14,
     "metadata": {},
     "output_type": "execute_result"
    },
    {
     "data": {
      "image/png": "[encoded data removed]",
      "text/plain": [
       "<Figure size 640x480 with 1 Axes>"
      ]
     },
     "metadata": {},
     "output_type": "display_data"
    }
   ],
   "source": [
    "sns.countplot(x=df['Irritability'],hue=df['class'], data=df)\n",
    "\n",
    "\n",
    "plot_criteria= ['Irritability', 'class']\n",
    "cm = sns.light_palette(\"red\", as_cmap=True)\n",
    "(round(pd.crosstab(df[plot_criteria[0]], df[plot_criteria[1]], normalize='columns') * 100,2)).style.background_gradient(cmap = cm)"
   ]
  },
  {
   "cell_type": "markdown",
   "id": "7f53c5fe",
   "metadata": {
    "papermill": {
     "duration": 0.025861,
     "end_time": "2022-11-11T21:11:06.719094",
     "exception": false,
     "start_time": "2022-11-11T21:11:06.693233",
     "status": "completed"
    },
    "tags": []
   },
   "source": [
    "> **Distribution of delayed healing**"
   ]
  },
  {
   "cell_type": "code",
   "execution_count": 15,
   "id": "acf705d1",
   "metadata": {
    "execution": {
     "iopub.execute_input": "2022-11-11T21:11:06.776454Z",
     "iopub.status.busy": "2022-11-11T21:11:06.776010Z",
     "iopub.status.idle": "2022-11-11T21:11:07.042389Z",
     "shell.execute_reply": "2022-11-11T21:11:07.041178Z"
    },
    "papermill": {
     "duration": 0.297531,
     "end_time": "2022-11-11T21:11:07.044941",
     "exception": false,
     "start_time": "2022-11-11T21:11:06.747410",
     "status": "completed"
    },
    "tags": []
   },
   "outputs": [
    {
     "data": {
      "text/html": [
       "<style type=\"text/css\">\n",
       "#T_9d47c_row0_col0, #T_9d47c_row0_col1 {\n",
       "  background-color: #ff0000;\n",
       "  color: #f1f1f1;\n",
       "}\n",
       "#T_9d47c_row1_col0, #T_9d47c_row1_col1 {\n",
       "  background-color: #f3f0f0;\n",
       "  color: #000000;\n",
       "}\n",
       "</style>\n",
       "<table id=\"T_9d47c\">\n",
       "  <thead>\n",
       "    <tr>\n",
       "      <th class=\"index_name level0\" >class</th>\n",
       "      <th id=\"T_9d47c_level0_col0\" class=\"col_heading level0 col0\" >Negative</th>\n",
       "      <th id=\"T_9d47c_level0_col1\" class=\"col_heading level0 col1\" >Positive</th>\n",
       "    </tr>\n",
       "    <tr>\n",
       "      <th class=\"index_name level0\" >delayed healing</th>\n",
       "      <th class=\"blank col0\" >&nbsp;</th>\n",
       "      <th class=\"blank col1\" >&nbsp;</th>\n",
       "    </tr>\n",
       "  </thead>\n",
       "  <tbody>\n",
       "    <tr>\n",
       "      <th id=\"T_9d47c_level0_row0\" class=\"row_heading level0 row0\" >No</th>\n",
       "      <td id=\"T_9d47c_row0_col0\" class=\"data row0 col0\" >57.000000</td>\n",
       "      <td id=\"T_9d47c_row0_col1\" class=\"data row0 col1\" >52.190000</td>\n",
       "    </tr>\n",
       "    <tr>\n",
       "      <th id=\"T_9d47c_level0_row1\" class=\"row_heading level0 row1\" >Yes</th>\n",
       "      <td id=\"T_9d47c_row1_col0\" class=\"data row1 col0\" >43.000000</td>\n",
       "      <td id=\"T_9d47c_row1_col1\" class=\"data row1 col1\" >47.810000</td>\n",
       "    </tr>\n",
       "  </tbody>\n",
       "</table>\n"
      ],
      "text/plain": [
       "<pandas.io.formats.style.Styler at 0x7f27e6f37850>"
      ]
     },
     "execution_count": 15,
     "metadata": {},
     "output_type": "execute_result"
    },
    {
     "data": {
      "image/png": "[encoded data removed]",
      "text/plain": [
       "<Figure size 640x480 with 1 Axes>"
      ]
     },
     "metadata": {},
     "output_type": "display_data"
    }
   ],
   "source": [
    "sns.countplot(x=df['delayed healing'],hue=df['class'], data=df)\n",
    "\n",
    "\n",
    "plot_criteria= ['delayed healing', 'class']\n",
    "cm = sns.light_palette(\"red\", as_cmap=True)\n",
    "(round(pd.crosstab(df[plot_criteria[0]], df[plot_criteria[1]], normalize='columns') * 100,2)).style.background_gradient(cmap = cm)"
   ]
  },
  {
   "cell_type": "markdown",
   "id": "b4c50636",
   "metadata": {
    "papermill": {
     "duration": 0.026356,
     "end_time": "2022-11-11T21:11:07.098857",
     "exception": false,
     "start_time": "2022-11-11T21:11:07.072501",
     "status": "completed"
    },
    "tags": []
   },
   "source": [
    "> **Distribution of partial paresis**"
   ]
  },
  {
   "cell_type": "code",
   "execution_count": 16,
   "id": "cd57b380",
   "metadata": {
    "execution": {
     "iopub.execute_input": "2022-11-11T21:11:07.154246Z",
     "iopub.status.busy": "2022-11-11T21:11:07.153831Z",
     "iopub.status.idle": "2022-11-11T21:11:07.417924Z",
     "shell.execute_reply": "2022-11-11T21:11:07.416563Z"
    },
    "papermill": {
     "duration": 0.295062,
     "end_time": "2022-11-11T21:11:07.420452",
     "exception": false,
     "start_time": "2022-11-11T21:11:07.125390",
     "status": "completed"
    },
    "tags": []
   },
   "outputs": [
    {
     "data": {
      "text/html": [
       "<style type=\"text/css\">\n",
       "#T_8e953_row0_col0, #T_8e953_row1_col1 {\n",
       "  background-color: #ff0000;\n",
       "  color: #f1f1f1;\n",
       "}\n",
       "#T_8e953_row0_col1, #T_8e953_row1_col0 {\n",
       "  background-color: #f3f0f0;\n",
       "  color: #000000;\n",
       "}\n",
       "</style>\n",
       "<table id=\"T_8e953\">\n",
       "  <thead>\n",
       "    <tr>\n",
       "      <th class=\"index_name level0\" >class</th>\n",
       "      <th id=\"T_8e953_level0_col0\" class=\"col_heading level0 col0\" >Negative</th>\n",
       "      <th id=\"T_8e953_level0_col1\" class=\"col_heading level0 col1\" >Positive</th>\n",
       "    </tr>\n",
       "    <tr>\n",
       "      <th class=\"index_name level0\" >partial paresis</th>\n",
       "      <th class=\"blank col0\" >&nbsp;</th>\n",
       "      <th class=\"blank col1\" >&nbsp;</th>\n",
       "    </tr>\n",
       "  </thead>\n",
       "  <tbody>\n",
       "    <tr>\n",
       "      <th id=\"T_8e953_level0_row0\" class=\"row_heading level0 row0\" >No</th>\n",
       "      <td id=\"T_8e953_row0_col0\" class=\"data row0 col0\" >84.000000</td>\n",
       "      <td id=\"T_8e953_row0_col1\" class=\"data row0 col1\" >40.000000</td>\n",
       "    </tr>\n",
       "    <tr>\n",
       "      <th id=\"T_8e953_level0_row1\" class=\"row_heading level0 row1\" >Yes</th>\n",
       "      <td id=\"T_8e953_row1_col0\" class=\"data row1 col0\" >16.000000</td>\n",
       "      <td id=\"T_8e953_row1_col1\" class=\"data row1 col1\" >60.000000</td>\n",
       "    </tr>\n",
       "  </tbody>\n",
       "</table>\n"
      ],
      "text/plain": [
       "<pandas.io.formats.style.Styler at 0x7f27e8d7ab20>"
      ]
     },
     "execution_count": 16,
     "metadata": {},
     "output_type": "execute_result"
    },
    {
     "data": {
      "image/png": "[encoded data removed]",
      "text/plain": [
       "<Figure size 640x480 with 1 Axes>"
      ]
     },
     "metadata": {},
     "output_type": "display_data"
    }
   ],
   "source": [
    "sns.countplot(x=df['partial paresis'],hue=df['class'], data=df)\n",
    "\n",
    "\n",
    "plot_criteria= ['partial paresis', 'class']\n",
    "cm = sns.light_palette(\"red\", as_cmap=True)\n",
    "(round(pd.crosstab(df[plot_criteria[0]], df[plot_criteria[1]], normalize='columns') * 100,2)).style.background_gradient(cmap = cm)"
   ]
  },
  {
   "cell_type": "markdown",
   "id": "3e2244bd",
   "metadata": {
    "papermill": {
     "duration": 0.02665,
     "end_time": "2022-11-11T21:11:07.477195",
     "exception": false,
     "start_time": "2022-11-11T21:11:07.450545",
     "status": "completed"
    },
    "tags": []
   },
   "source": [
    "> **Distribution of muscle stiffness**"
   ]
  },
  {
   "cell_type": "code",
   "execution_count": 17,
   "id": "f2e5d990",
   "metadata": {
    "execution": {
     "iopub.execute_input": "2022-11-11T21:11:07.535512Z",
     "iopub.status.busy": "2022-11-11T21:11:07.535096Z",
     "iopub.status.idle": "2022-11-11T21:11:07.935721Z",
     "shell.execute_reply": "2022-11-11T21:11:07.934526Z"
    },
    "papermill": {
     "duration": 0.433146,
     "end_time": "2022-11-11T21:11:07.938139",
     "exception": false,
     "start_time": "2022-11-11T21:11:07.504993",
     "status": "completed"
    },
    "tags": []
   },
   "outputs": [
    {
     "data": {
      "text/html": [
       "<style type=\"text/css\">\n",
       "#T_b98d0_row0_col0, #T_b98d0_row0_col1 {\n",
       "  background-color: #ff0000;\n",
       "  color: #f1f1f1;\n",
       "}\n",
       "#T_b98d0_row1_col0, #T_b98d0_row1_col1 {\n",
       "  background-color: #f3f0f0;\n",
       "  color: #000000;\n",
       "}\n",
       "</style>\n",
       "<table id=\"T_b98d0\">\n",
       "  <thead>\n",
       "    <tr>\n",
       "      <th class=\"index_name level0\" >class</th>\n",
       "      <th id=\"T_b98d0_level0_col0\" class=\"col_heading level0 col0\" >Negative</th>\n",
       "      <th id=\"T_b98d0_level0_col1\" class=\"col_heading level0 col1\" >Positive</th>\n",
       "    </tr>\n",
       "    <tr>\n",
       "      <th class=\"index_name level0\" >muscle stiffness</th>\n",
       "      <th class=\"blank col0\" >&nbsp;</th>\n",
       "      <th class=\"blank col1\" >&nbsp;</th>\n",
       "    </tr>\n",
       "  </thead>\n",
       "  <tbody>\n",
       "    <tr>\n",
       "      <th id=\"T_b98d0_level0_row0\" class=\"row_heading level0 row0\" >No</th>\n",
       "      <td id=\"T_b98d0_row0_col0\" class=\"data row0 col0\" >70.000000</td>\n",
       "      <td id=\"T_b98d0_row0_col1\" class=\"data row0 col1\" >57.810000</td>\n",
       "    </tr>\n",
       "    <tr>\n",
       "      <th id=\"T_b98d0_level0_row1\" class=\"row_heading level0 row1\" >Yes</th>\n",
       "      <td id=\"T_b98d0_row1_col0\" class=\"data row1 col0\" >30.000000</td>\n",
       "      <td id=\"T_b98d0_row1_col1\" class=\"data row1 col1\" >42.190000</td>\n",
       "    </tr>\n",
       "  </tbody>\n",
       "</table>\n"
      ],
      "text/plain": [
       "<pandas.io.formats.style.Styler at 0x7f27e6ee1a60>"
      ]
     },
     "execution_count": 17,
     "metadata": {},
     "output_type": "execute_result"
    },
    {
     "data": {
      "image/png": "[encoded data removed]",
      "text/plain": [
       "<Figure size 640x480 with 1 Axes>"
      ]
     },
     "metadata": {},
     "output_type": "display_data"
    }
   ],
   "source": [
    "sns.countplot(x=df['muscle stiffness'],hue=df['class'], data=df)\n",
    "\n",
    "\n",
    "plot_criteria= ['muscle stiffness', 'class']\n",
    "cm = sns.light_palette(\"red\", as_cmap=True)\n",
    "(round(pd.crosstab(df[plot_criteria[0]], df[plot_criteria[1]], normalize='columns') * 100,2)).style.background_gradient(cmap = cm)"
   ]
  },
  {
   "cell_type": "markdown",
   "id": "ee62c271",
   "metadata": {
    "papermill": {
     "duration": 0.027618,
     "end_time": "2022-11-11T21:11:07.993489",
     "exception": false,
     "start_time": "2022-11-11T21:11:07.965871",
     "status": "completed"
    },
    "tags": []
   },
   "source": [
    "> **Distribution of Alopecia**"
   ]
  },
  {
   "cell_type": "code",
   "execution_count": 18,
   "id": "11487558",
   "metadata": {
    "execution": {
     "iopub.execute_input": "2022-11-11T21:11:08.051686Z",
     "iopub.status.busy": "2022-11-11T21:11:08.050550Z",
     "iopub.status.idle": "2022-11-11T21:11:08.297531Z",
     "shell.execute_reply": "2022-11-11T21:11:08.296270Z"
    },
    "papermill": {
     "duration": 0.278848,
     "end_time": "2022-11-11T21:11:08.300329",
     "exception": false,
     "start_time": "2022-11-11T21:11:08.021481",
     "status": "completed"
    },
    "tags": []
   },
   "outputs": [
    {
     "data": {
      "text/html": [
       "<style type=\"text/css\">\n",
       "#T_dc4d1_row0_col0, #T_dc4d1_row1_col1 {\n",
       "  background-color: #f3f0f0;\n",
       "  color: #000000;\n",
       "}\n",
       "#T_dc4d1_row0_col1, #T_dc4d1_row1_col0 {\n",
       "  background-color: #ff0000;\n",
       "  color: #f1f1f1;\n",
       "}\n",
       "</style>\n",
       "<table id=\"T_dc4d1\">\n",
       "  <thead>\n",
       "    <tr>\n",
       "      <th class=\"index_name level0\" >class</th>\n",
       "      <th id=\"T_dc4d1_level0_col0\" class=\"col_heading level0 col0\" >Negative</th>\n",
       "      <th id=\"T_dc4d1_level0_col1\" class=\"col_heading level0 col1\" >Positive</th>\n",
       "    </tr>\n",
       "    <tr>\n",
       "      <th class=\"index_name level0\" >Alopecia</th>\n",
       "      <th class=\"blank col0\" >&nbsp;</th>\n",
       "      <th class=\"blank col1\" >&nbsp;</th>\n",
       "    </tr>\n",
       "  </thead>\n",
       "  <tbody>\n",
       "    <tr>\n",
       "      <th id=\"T_dc4d1_level0_row0\" class=\"row_heading level0 row0\" >No</th>\n",
       "      <td id=\"T_dc4d1_row0_col0\" class=\"data row0 col0\" >49.500000</td>\n",
       "      <td id=\"T_dc4d1_row0_col1\" class=\"data row0 col1\" >75.620000</td>\n",
       "    </tr>\n",
       "    <tr>\n",
       "      <th id=\"T_dc4d1_level0_row1\" class=\"row_heading level0 row1\" >Yes</th>\n",
       "      <td id=\"T_dc4d1_row1_col0\" class=\"data row1 col0\" >50.500000</td>\n",
       "      <td id=\"T_dc4d1_row1_col1\" class=\"data row1 col1\" >24.380000</td>\n",
       "    </tr>\n",
       "  </tbody>\n",
       "</table>\n"
      ],
      "text/plain": [
       "<pandas.io.formats.style.Styler at 0x7f27e8dd5b20>"
      ]
     },
     "execution_count": 18,
     "metadata": {},
     "output_type": "execute_result"
    },
    {
     "data": {
      "image/png": "[encoded data removed]",
      "text/plain": [
       "<Figure size 640x480 with 1 Axes>"
      ]
     },
     "metadata": {},
     "output_type": "display_data"
    }
   ],
   "source": [
    "sns.countplot(x=df['Alopecia'],hue=df['class'], data=df)\n",
    "\n",
    "\n",
    "plot_criteria= ['Alopecia', 'class']\n",
    "cm = sns.light_palette(\"red\", as_cmap=True)\n",
    "(round(pd.crosstab(df[plot_criteria[0]], df[plot_criteria[1]], normalize='columns') * 100,2)).style.background_gradient(cmap = cm)"
   ]
  },
  {
   "cell_type": "markdown",
   "id": "72d0b542",
   "metadata": {
    "papermill": {
     "duration": 0.028341,
     "end_time": "2022-11-11T21:11:08.356623",
     "exception": false,
     "start_time": "2022-11-11T21:11:08.328282",
     "status": "completed"
    },
    "tags": []
   },
   "source": [
    "> **Distribution of Obesity**"
   ]
  },
  {
   "cell_type": "code",
   "execution_count": 19,
   "id": "c8d211f7",
   "metadata": {
    "execution": {
     "iopub.execute_input": "2022-11-11T21:11:08.414785Z",
     "iopub.status.busy": "2022-11-11T21:11:08.414332Z",
     "iopub.status.idle": "2022-11-11T21:11:08.659053Z",
     "shell.execute_reply": "2022-11-11T21:11:08.657716Z"
    },
    "papermill": {
     "duration": 0.277467,
     "end_time": "2022-11-11T21:11:08.661859",
     "exception": false,
     "start_time": "2022-11-11T21:11:08.384392",
     "status": "completed"
    },
    "tags": []
   },
   "outputs": [
    {
     "data": {
      "text/html": [
       "<style type=\"text/css\">\n",
       "#T_ba00a_row0_col0, #T_ba00a_row0_col1 {\n",
       "  background-color: #ff0000;\n",
       "  color: #f1f1f1;\n",
       "}\n",
       "#T_ba00a_row1_col0, #T_ba00a_row1_col1 {\n",
       "  background-color: #f3f0f0;\n",
       "  color: #000000;\n",
       "}\n",
       "</style>\n",
       "<table id=\"T_ba00a\">\n",
       "  <thead>\n",
       "    <tr>\n",
       "      <th class=\"index_name level0\" >class</th>\n",
       "      <th id=\"T_ba00a_level0_col0\" class=\"col_heading level0 col0\" >Negative</th>\n",
       "      <th id=\"T_ba00a_level0_col1\" class=\"col_heading level0 col1\" >Positive</th>\n",
       "    </tr>\n",
       "    <tr>\n",
       "      <th class=\"index_name level0\" >Obesity</th>\n",
       "      <th class=\"blank col0\" >&nbsp;</th>\n",
       "      <th class=\"blank col1\" >&nbsp;</th>\n",
       "    </tr>\n",
       "  </thead>\n",
       "  <tbody>\n",
       "    <tr>\n",
       "      <th id=\"T_ba00a_level0_row0\" class=\"row_heading level0 row0\" >No</th>\n",
       "      <td id=\"T_ba00a_row0_col0\" class=\"data row0 col0\" >86.500000</td>\n",
       "      <td id=\"T_ba00a_row0_col1\" class=\"data row0 col1\" >80.940000</td>\n",
       "    </tr>\n",
       "    <tr>\n",
       "      <th id=\"T_ba00a_level0_row1\" class=\"row_heading level0 row1\" >Yes</th>\n",
       "      <td id=\"T_ba00a_row1_col0\" class=\"data row1 col0\" >13.500000</td>\n",
       "      <td id=\"T_ba00a_row1_col1\" class=\"data row1 col1\" >19.060000</td>\n",
       "    </tr>\n",
       "  </tbody>\n",
       "</table>\n"
      ],
      "text/plain": [
       "<pandas.io.formats.style.Styler at 0x7f27e6f22400>"
      ]
     },
     "execution_count": 19,
     "metadata": {},
     "output_type": "execute_result"
    },
    {
     "data": {
      "image/png": "[encoded data removed]",
      "text/plain": [
       "<Figure size 640x480 with 1 Axes>"
      ]
     },
     "metadata": {},
     "output_type": "display_data"
    }
   ],
   "source": [
    "sns.countplot(x=df['Obesity'],hue=df['class'], data=df)\n",
    "\n",
    "\n",
    "plot_criteria= ['Obesity', 'class']\n",
    "cm = sns.light_palette(\"red\", as_cmap=True)\n",
    "(round(pd.crosstab(df[plot_criteria[0]], df[plot_criteria[1]], normalize='columns') * 100,2)).style.background_gradient(cmap = cm)"
   ]
  },
  {
   "cell_type": "markdown",
   "id": "c60fc7b7",
   "metadata": {
    "papermill": {
     "duration": 0.028866,
     "end_time": "2022-11-11T21:11:08.720350",
     "exception": false,
     "start_time": "2022-11-11T21:11:08.691484",
     "status": "completed"
    },
    "tags": []
   },
   "source": [
    "# **Automated EDA using sweetviz and autoviz**"
   ]
  },
  {
   "cell_type": "code",
   "execution_count": 20,
   "id": "e61c628e",
   "metadata": {
    "execution": {
     "iopub.execute_input": "2022-11-11T21:11:08.778790Z",
     "iopub.status.busy": "2022-11-11T21:11:08.778377Z",
     "iopub.status.idle": "2022-11-11T21:11:23.333161Z",
     "shell.execute_reply": "2022-11-11T21:11:23.331449Z"
    },
    "papermill": {
     "duration": 14.586898,
     "end_time": "2022-11-11T21:11:23.335969",
     "exception": false,
     "start_time": "2022-11-11T21:11:08.749071",
     "status": "completed"
    },
    "tags": []
   },
   "outputs": [],
   "source": [
    "# pip install sweetviz"
   ]
  },
  {
   "cell_type": "code",
   "execution_count": 21,
   "id": "86d7862e",
   "metadata": {
    "execution": {
     "iopub.execute_input": "2022-11-11T21:11:23.396878Z",
     "iopub.status.busy": "2022-11-11T21:11:23.396397Z",
     "iopub.status.idle": "2022-11-11T21:11:23.421267Z",
     "shell.execute_reply": "2022-11-11T21:11:23.420255Z"
    },
    "papermill": {
     "duration": 0.058321,
     "end_time": "2022-11-11T21:11:23.423817",
     "exception": false,
     "start_time": "2022-11-11T21:11:23.365496",
     "status": "completed"
    },
    "tags": []
   },
   "outputs": [],
   "source": [
    "import sweetviz as sv"
   ]
  },
  {
   "cell_type": "code",
   "execution_count": 22,
   "id": "0945a8c4",
   "metadata": {
    "execution": {
     "iopub.execute_input": "2022-11-11T21:11:23.485485Z",
     "iopub.status.busy": "2022-11-11T21:11:23.485071Z",
     "iopub.status.idle": "2022-11-11T21:11:30.342484Z",
     "shell.execute_reply": "2022-11-11T21:11:30.340714Z"
    },
    "papermill": {
     "duration": 6.896115,
     "end_time": "2022-11-11T21:11:30.350227",
     "exception": false,
     "start_time": "2022-11-11T21:11:23.454112",
     "status": "completed"
    },
    "tags": []
   },
   "outputs": [
    {
     "data": {
      "application/vnd.jupyter.widget-view+json": {
       "model_id": "f112b1971a1a49ecacf20e7502cb0248",
       "version_major": 2,
       "version_minor": 0
      },
      "text/plain": [
       "                                             |             | [  0%]   00:00 -> (? left)"
      ]
     },
     "metadata": {},
     "output_type": "display_data"
    }
   ],
   "source": [
    "#create a object \n",
    "report=sv.analyze(df)"
   ]
  },
  {
   "cell_type": "markdown",
   "id": "d3992940",
   "metadata": {
    "papermill": {
     "duration": 0.029783,
     "end_time": "2022-11-11T21:11:30.450342",
     "exception": false,
     "start_time": "2022-11-11T21:11:30.420559",
     "status": "completed"
    },
    "tags": []
   },
   "source": [
    "**The output of sweetviz library is a html file. We need to provide a filename with html tag in show_html function.**"
   ]
  },
  {
   "cell_type": "code",
   "execution_count": 23,
   "id": "47b44358",
   "metadata": {
    "execution": {
     "iopub.execute_input": "2022-11-11T21:11:30.512746Z",
     "iopub.status.busy": "2022-11-11T21:11:30.512105Z",
     "iopub.status.idle": "2022-11-11T21:11:30.733711Z",
     "shell.execute_reply": "2022-11-11T21:11:30.732214Z"
    },
    "papermill": {
     "duration": 0.256191,
     "end_time": "2022-11-11T21:11:30.736329",
     "exception": false,
     "start_time": "2022-11-11T21:11:30.480138",
     "status": "completed"
    },
    "tags": []
   },
   "outputs": [
    {
     "name": "stdout",
     "output_type": "stream",
     "text": [
      "Report my_first_eda_sweetviz.html was generated! NOTEBOOK/COLAB USERS: the web browser MAY not pop up, regardless, the report IS saved in your notebook/colab files.\n"
     ]
    }
   ],
   "source": [
    "report.show_html(\"my_first_eda_sweetviz.html\")"
   ]
  },
  {
   "cell_type": "markdown",
   "id": "f5d39360",
   "metadata": {
    "papermill": {
     "duration": 0.029436,
     "end_time": "2022-11-11T21:11:30.795755",
     "exception": false,
     "start_time": "2022-11-11T21:11:30.766319",
     "status": "completed"
    },
    "tags": []
   },
   "source": [
    "> *If you are working on kaggle then you can download this file from kaggle output folder. After downloading this file you can run it on your browse*"
   ]
  },
  {
   "cell_type": "markdown",
   "id": "14c04f8f",
   "metadata": {
    "papermill": {
     "duration": 0.029367,
     "end_time": "2022-11-11T21:11:30.855001",
     "exception": false,
     "start_time": "2022-11-11T21:11:30.825634",
     "status": "completed"
    },
    "tags": []
   },
   "source": [
    "> **EDA Using AutoViz**"
   ]
  },
  {
   "cell_type": "code",
   "execution_count": 24,
   "id": "3fc7b667",
   "metadata": {
    "execution": {
     "iopub.execute_input": "2022-11-11T21:11:30.916703Z",
     "iopub.status.busy": "2022-11-11T21:11:30.916244Z",
     "iopub.status.idle": "2022-11-11T21:11:53.990156Z",
     "shell.execute_reply": "2022-11-11T21:11:53.988517Z"
    },
    "papermill": {
     "duration": 23.10868,
     "end_time": "2022-11-11T21:11:53.993292",
     "exception": false,
     "start_time": "2022-11-11T21:11:30.884612",
     "status": "completed"
    },
    "tags": []
   },
   "outputs": [],
   "source": [
    "# !pip install autoviz\n",
    "# !pip install Django\n",
    "# !pip install channels"
   ]
  },
  {
   "cell_type": "code",
   "execution_count": 25,
   "id": "b0b069ae",
   "metadata": {
    "execution": {
     "iopub.execute_input": "2022-11-11T21:11:54.064779Z",
     "iopub.status.busy": "2022-11-11T21:11:54.064332Z",
     "iopub.status.idle": "2022-11-11T21:11:58.012909Z",
     "shell.execute_reply": "2022-11-11T21:11:58.011058Z"
    },
    "papermill": {
     "duration": 3.988296,
     "end_time": "2022-11-11T21:11:58.016173",
     "exception": false,
     "start_time": "2022-11-11T21:11:54.027877",
     "status": "completed"
    },
    "tags": []
   },
   "outputs": [],
   "source": [
    "# import autoviz\n",
    "# from autoviz.AutoViz_Class import AutoViz_Class"
   ]
  },
  {
   "cell_type": "code",
   "execution_count": 26,
   "id": "034d5364",
   "metadata": {
    "execution": {
     "iopub.execute_input": "2022-11-11T21:11:58.331871Z",
     "iopub.status.busy": "2022-11-11T21:11:58.331089Z",
     "iopub.status.idle": "2022-11-11T21:11:58.397020Z",
     "shell.execute_reply": "2022-11-11T21:11:58.395906Z"
    },
    "papermill": {
     "duration": 0.220233,
     "end_time": "2022-11-11T21:11:58.399828",
     "exception": false,
     "start_time": "2022-11-11T21:11:58.179595",
     "status": "completed"
    },
    "tags": []
   },
   "outputs": [],
   "source": [
    "#run this cell to understand autoviz class\n",
    "\n",
    "# ?AutoViz_Class"
   ]
  },
  {
   "cell_type": "code",
   "execution_count": 27,
   "id": "84fb3851",
   "metadata": {
    "execution": {
     "iopub.execute_input": "2022-11-11T21:11:58.683762Z",
     "iopub.status.busy": "2022-11-11T21:11:58.682852Z",
     "iopub.status.idle": "2022-11-11T21:11:58.688009Z",
     "shell.execute_reply": "2022-11-11T21:11:58.687179Z"
    },
    "papermill": {
     "duration": 0.146351,
     "end_time": "2022-11-11T21:11:58.690312",
     "exception": false,
     "start_time": "2022-11-11T21:11:58.543961",
     "status": "completed"
    },
    "tags": []
   },
   "outputs": [],
   "source": [
    "# av=AutoViz_Class()"
   ]
  },
  {
   "cell_type": "code",
   "execution_count": 28,
   "id": "9478689e",
   "metadata": {
    "execution": {
     "iopub.execute_input": "2022-11-11T21:11:58.966540Z",
     "iopub.status.busy": "2022-11-11T21:11:58.965381Z",
     "iopub.status.idle": "2022-11-11T21:12:03.498324Z",
     "shell.execute_reply": "2022-11-11T21:12:03.496944Z"
    },
    "papermill": {
     "duration": 4.676632,
     "end_time": "2022-11-11T21:12:03.503927",
     "exception": false,
     "start_time": "2022-11-11T21:11:58.827295",
     "status": "completed"
    },
    "tags": []
   },
   "outputs": [],
   "source": [
    "# autoviz_eda=av.AutoViz('diabetes_data.csv',verbose=0)"
   ]
  },
  {
   "cell_type": "markdown",
   "id": "8b7e8f29",
   "metadata": {
    "papermill": {
     "duration": 0.168188,
     "end_time": "2022-11-11T21:12:03.831535",
     "exception": false,
     "start_time": "2022-11-11T21:12:03.663347",
     "status": "completed"
    },
    "tags": []
   },
   "source": [
    "**EDA using Pandas Profiling**"
   ]
  },
  {
   "cell_type": "code",
   "execution_count": 29,
   "id": "1dfb2cb9",
   "metadata": {
    "execution": {
     "iopub.execute_input": "2022-11-11T21:12:04.170580Z",
     "iopub.status.busy": "2022-11-11T21:12:04.170132Z",
     "iopub.status.idle": "2022-11-11T21:12:05.931759Z",
     "shell.execute_reply": "2022-11-11T21:12:05.930032Z"
    },
    "papermill": {
     "duration": 1.929864,
     "end_time": "2022-11-11T21:12:05.934878",
     "exception": false,
     "start_time": "2022-11-11T21:12:04.005014",
     "status": "completed"
    },
    "tags": []
   },
   "outputs": [],
   "source": [
    "import pandas as pd\n",
    "from pandas_profiling import ProfileReport"
   ]
  },
  {
   "cell_type": "code",
   "execution_count": 30,
   "id": "38ac4c35",
   "metadata": {
    "execution": {
     "iopub.execute_input": "2022-11-11T21:12:06.231488Z",
     "iopub.status.busy": "2022-11-11T21:12:06.230535Z",
     "iopub.status.idle": "2022-11-11T21:12:15.442314Z",
     "shell.execute_reply": "2022-11-11T21:12:15.441056Z"
    },
    "papermill": {
     "duration": 9.366682,
     "end_time": "2022-11-11T21:12:15.450881",
     "exception": false,
     "start_time": "2022-11-11T21:12:06.084199",
     "status": "completed"
    },
    "tags": []
   },
   "outputs": [
    {
     "data": {
      "application/vnd.jupyter.widget-view+json": {
       "model_id": "bad8b796bea840aa81f733503992bf75",
       "version_major": 2,
       "version_minor": 0
      },
      "text/plain": [
       "Summarize dataset:   0%|          | 0/5 [00:00<?, ?it/s]"
      ]
     },
     "metadata": {},
     "output_type": "display_data"
    },
    {
     "name": "stderr",
     "output_type": "stream",
     "text": [
      "\n",
      "(brave:64788): Gtk-WARNING **: 00:32:48.565: Theme parsing error: gtk.css:1413:23: 'font-feature-settings' is not a valid property name\n",
      "\n",
      "(brave:64788): Gtk-WARNING **: 00:32:48.573: Theme parsing error: gtk.css:3286:25: 'font-feature-settings' is not a valid property name\n",
      "\n",
      "(brave:64788): Gtk-WARNING **: 00:32:48.575: Theme parsing error: gtk.css:3748:23: 'font-feature-settings' is not a valid property name\n",
      "Gtk-Message: 00:32:48.643: Failed to load module \"canberra-gtk-module\"\n",
      "Gtk-Message: 00:32:48.647: Failed to load module \"canberra-gtk-module\"\n"
     ]
    },
    {
     "name": "stdout",
     "output_type": "stream",
     "text": [
      "Opening in existing browser session.\n"
     ]
    },
    {
     "data": {
      "application/vnd.jupyter.widget-view+json": {
       "model_id": "6fad1a112ab3465fae65020248566ba8",
       "version_major": 2,
       "version_minor": 0
      },
      "text/plain": [
       "Generate report structure:   0%|          | 0/1 [00:00<?, ?it/s]"
      ]
     },
     "metadata": {},
     "output_type": "display_data"
    },
    {
     "data": {
      "application/vnd.jupyter.widget-view+json": {
       "model_id": "6a66a53f572747d1aeacf246e2b7f0ca",
       "version_major": 2,
       "version_minor": 0
      },
      "text/plain": [
       "Render HTML:   0%|          | 0/1 [00:00<?, ?it/s]"
      ]
     },
     "metadata": {},
     "output_type": "display_data"
    },
    {
     "data": {
      "application/vnd.jupyter.widget-view+json": {
       "model_id": "6ac3a45d0912496daa77517f77502d10",
       "version_major": 2,
       "version_minor": 0
      },
      "text/plain": [
       "Export report to file:   0%|          | 0/1 [00:00<?, ?it/s]"
      ]
     },
     "metadata": {},
     "output_type": "display_data"
    }
   ],
   "source": [
    "design_report = ProfileReport(df)\n",
    "design_report.to_file(output_file='report.html')"
   ]
  },
  {
   "cell_type": "code",
   "execution_count": 31,
   "id": "3b2b89e4",
   "metadata": {
    "execution": {
     "iopub.execute_input": "2022-11-11T21:12:15.743615Z",
     "iopub.status.busy": "2022-11-11T21:12:15.742932Z",
     "iopub.status.idle": "2022-11-11T21:12:16.010527Z",
     "shell.execute_reply": "2022-11-11T21:12:16.009328Z"
    },
    "papermill": {
     "duration": 0.41748,
     "end_time": "2022-11-11T21:12:16.014308",
     "exception": false,
     "start_time": "2022-11-11T21:12:15.596828",
     "status": "completed"
    },
    "tags": []
   },
   "outputs": [],
   "source": [
    "# df1=pd.read_html(io='report.html')"
   ]
  },
  {
   "cell_type": "markdown",
   "id": "aa17bdc6",
   "metadata": {
    "papermill": {
     "duration": 0.149969,
     "end_time": "2022-11-11T21:12:16.311042",
     "exception": false,
     "start_time": "2022-11-11T21:12:16.161073",
     "status": "completed"
    },
    "tags": []
   },
   "source": [
    "**I personally found pandas profiling more effective in this case****"
   ]
  },
  {
   "cell_type": "markdown",
   "id": "37de4fc4",
   "metadata": {
    "papermill": {
     "duration": 0.148097,
     "end_time": "2022-11-11T21:12:16.605665",
     "exception": false,
     "start_time": "2022-11-11T21:12:16.457568",
     "status": "completed"
    },
    "tags": []
   },
   "source": [
    "# **Data pre processing**"
   ]
  },
  {
   "cell_type": "markdown",
   "id": "f4961da5",
   "metadata": {
    "papermill": {
     "duration": 0.148827,
     "end_time": "2022-11-11T21:12:16.906585",
     "exception": false,
     "start_time": "2022-11-11T21:12:16.757758",
     "status": "completed"
    },
    "tags": []
   },
   "source": [
    "> **Changing target values into numerical values , basically converting 'positive' to 1 and 'negative'  to 0**"
   ]
  },
  {
   "cell_type": "code",
   "execution_count": 32,
   "id": "68ecaba1",
   "metadata": {
    "execution": {
     "iopub.execute_input": "2022-11-11T21:12:17.206048Z",
     "iopub.status.busy": "2022-11-11T21:12:17.204824Z",
     "iopub.status.idle": "2022-11-11T21:12:17.217781Z",
     "shell.execute_reply": "2022-11-11T21:12:17.216548Z"
    },
    "papermill": {
     "duration": 0.164834,
     "end_time": "2022-11-11T21:12:17.220577",
     "exception": false,
     "start_time": "2022-11-11T21:12:17.055743",
     "status": "completed"
    },
    "tags": []
   },
   "outputs": [
    {
     "data": {
      "text/plain": [
       "0    1\n",
       "1    1\n",
       "Name: class, dtype: int64"
      ]
     },
     "execution_count": 32,
     "metadata": {},
     "output_type": "execute_result"
    }
   ],
   "source": [
    "df['class'] = df['class'].apply(lambda x: 0 if x=='Negative' else 1)\n",
    "df['class'].head(2)"
   ]
  },
  {
   "cell_type": "markdown",
   "id": "d9fa2485",
   "metadata": {
    "papermill": {
     "duration": 0.142923,
     "end_time": "2022-11-11T21:12:17.524227",
     "exception": false,
     "start_time": "2022-11-11T21:12:17.381304",
     "status": "completed"
    },
    "tags": []
   },
   "source": [
    "> **Separating Target feature**"
   ]
  },
  {
   "cell_type": "code",
   "execution_count": 33,
   "id": "f5dc4d59",
   "metadata": {
    "execution": {
     "iopub.execute_input": "2022-11-11T21:12:17.816237Z",
     "iopub.status.busy": "2022-11-11T21:12:17.815833Z",
     "iopub.status.idle": "2022-11-11T21:12:17.823681Z",
     "shell.execute_reply": "2022-11-11T21:12:17.822670Z"
    },
    "papermill": {
     "duration": 0.159249,
     "end_time": "2022-11-11T21:12:17.827347",
     "exception": false,
     "start_time": "2022-11-11T21:12:17.668098",
     "status": "completed"
    },
    "tags": []
   },
   "outputs": [],
   "source": [
    "\n",
    "inp = df.drop(['class'], axis=1)\n",
    "outp = df['class']"
   ]
  },
  {
   "cell_type": "markdown",
   "id": "44568707",
   "metadata": {
    "papermill": {
     "duration": 0.143764,
     "end_time": "2022-11-11T21:12:18.122648",
     "exception": false,
     "start_time": "2022-11-11T21:12:17.978884",
     "status": "completed"
    },
    "tags": []
   },
   "source": [
    "> **Storing Features**"
   ]
  },
  {
   "cell_type": "code",
   "execution_count": 34,
   "id": "1ccfc3d1",
   "metadata": {
    "execution": {
     "iopub.execute_input": "2022-11-11T21:12:18.419223Z",
     "iopub.status.busy": "2022-11-11T21:12:18.418485Z",
     "iopub.status.idle": "2022-11-11T21:12:18.426664Z",
     "shell.execute_reply": "2022-11-11T21:12:18.425446Z"
    },
    "papermill": {
     "duration": 0.162545,
     "end_time": "2022-11-11T21:12:18.428983",
     "exception": false,
     "start_time": "2022-11-11T21:12:18.266438",
     "status": "completed"
    },
    "tags": []
   },
   "outputs": [
    {
     "name": "stdout",
     "output_type": "stream",
     "text": [
      "Index(['Gender', 'Polyuria', 'Polydipsia', 'sudden weight loss', 'weakness',\n",
      "       'Polyphagia', 'Genital thrush', 'visual blurring', 'Itching',\n",
      "       'Irritability', 'delayed healing', 'partial paresis',\n",
      "       'muscle stiffness', 'Alopecia', 'Obesity'],\n",
      "      dtype='object')\n"
     ]
    }
   ],
   "source": [
    "objectList = inp.select_dtypes(include = \"object\").columns\n",
    "print(objectList)"
   ]
  },
  {
   "cell_type": "markdown",
   "id": "6f5fd723",
   "metadata": {
    "papermill": {
     "duration": 0.150366,
     "end_time": "2022-11-11T21:12:18.726019",
     "exception": false,
     "start_time": "2022-11-11T21:12:18.575653",
     "status": "completed"
    },
    "tags": []
   },
   "source": [
    "> **Label encoding using sklearn**"
   ]
  },
  {
   "cell_type": "code",
   "execution_count": 35,
   "id": "e88bc065",
   "metadata": {
    "execution": {
     "iopub.execute_input": "2022-11-11T21:12:19.022560Z",
     "iopub.status.busy": "2022-11-11T21:12:19.022126Z",
     "iopub.status.idle": "2022-11-11T21:12:19.051004Z",
     "shell.execute_reply": "2022-11-11T21:12:19.049630Z"
    },
    "papermill": {
     "duration": 0.182213,
     "end_time": "2022-11-11T21:12:19.053488",
     "exception": false,
     "start_time": "2022-11-11T21:12:18.871275",
     "status": "completed"
    },
    "tags": []
   },
   "outputs": [
    {
     "name": "stdout",
     "output_type": "stream",
     "text": [
      "<class 'pandas.core.frame.DataFrame'>\n",
      "RangeIndex: 520 entries, 0 to 519\n",
      "Data columns (total 16 columns):\n",
      " #   Column              Non-Null Count  Dtype\n",
      "---  ------              --------------  -----\n",
      " 0   Age                 520 non-null    int64\n",
      " 1   Gender              520 non-null    int64\n",
      " 2   Polyuria            520 non-null    int64\n",
      " 3   Polydipsia          520 non-null    int64\n",
      " 4   sudden weight loss  520 non-null    int64\n",
      " 5   weakness            520 non-null    int64\n",
      " 6   Polyphagia          520 non-null    int64\n",
      " 7   Genital thrush      520 non-null    int64\n",
      " 8   visual blurring     520 non-null    int64\n",
      " 9   Itching             520 non-null    int64\n",
      " 10  Irritability        520 non-null    int64\n",
      " 11  delayed healing     520 non-null    int64\n",
      " 12  partial paresis     520 non-null    int64\n",
      " 13  muscle stiffness    520 non-null    int64\n",
      " 14  Alopecia            520 non-null    int64\n",
      " 15  Obesity             520 non-null    int64\n",
      "dtypes: int64(16)\n",
      "memory usage: 65.1 KB\n",
      "None\n"
     ]
    }
   ],
   "source": [
    "from sklearn.preprocessing import LabelEncoder\n",
    "le = LabelEncoder()\n",
    "\n",
    "for feature in objectList:\n",
    "    inp[feature] = le.fit_transform(inp[feature].astype(str))  \n",
    "\n",
    "print (inp.info())"
   ]
  },
  {
   "cell_type": "markdown",
   "id": "6730f26a",
   "metadata": {
    "papermill": {
     "duration": 0.148962,
     "end_time": "2022-11-11T21:12:19.346081",
     "exception": false,
     "start_time": "2022-11-11T21:12:19.197119",
     "status": "completed"
    },
    "tags": []
   },
   "source": [
    "Here astype is used for casting the data type into int64"
   ]
  },
  {
   "cell_type": "code",
   "execution_count": 36,
   "id": "6e533fb1",
   "metadata": {
    "execution": {
     "iopub.execute_input": "2022-11-11T21:12:19.648567Z",
     "iopub.status.busy": "2022-11-11T21:12:19.648162Z",
     "iopub.status.idle": "2022-11-11T21:12:19.664497Z",
     "shell.execute_reply": "2022-11-11T21:12:19.663153Z"
    },
    "papermill": {
     "duration": 0.170669,
     "end_time": "2022-11-11T21:12:19.667101",
     "exception": false,
     "start_time": "2022-11-11T21:12:19.496432",
     "status": "completed"
    },
    "tags": []
   },
   "outputs": [
    {
     "data": {
      "text/html": [
       "<div>\n",
       "<style scoped>\n",
       "    .dataframe tbody tr th:only-of-type {\n",
       "        vertical-align: middle;\n",
       "    }\n",
       "\n",
       "    .dataframe tbody tr th {\n",
       "        vertical-align: top;\n",
       "    }\n",
       "\n",
       "    .dataframe thead th {\n",
       "        text-align: right;\n",
       "    }\n",
       "</style>\n",
       "<table border=\"1\" class=\"dataframe\">\n",
       "  <thead>\n",
       "    <tr style=\"text-align: right;\">\n",
       "      <th></th>\n",
       "      <th>Age</th>\n",
       "      <th>Gender</th>\n",
       "      <th>Polyuria</th>\n",
       "      <th>Polydipsia</th>\n",
       "      <th>sudden weight loss</th>\n",
       "      <th>weakness</th>\n",
       "      <th>Polyphagia</th>\n",
       "      <th>Genital thrush</th>\n",
       "      <th>visual blurring</th>\n",
       "      <th>Itching</th>\n",
       "      <th>Irritability</th>\n",
       "      <th>delayed healing</th>\n",
       "      <th>partial paresis</th>\n",
       "      <th>muscle stiffness</th>\n",
       "      <th>Alopecia</th>\n",
       "      <th>Obesity</th>\n",
       "    </tr>\n",
       "  </thead>\n",
       "  <tbody>\n",
       "    <tr>\n",
       "      <th>0</th>\n",
       "      <td>40</td>\n",
       "      <td>1</td>\n",
       "      <td>0</td>\n",
       "      <td>1</td>\n",
       "      <td>0</td>\n",
       "      <td>1</td>\n",
       "      <td>0</td>\n",
       "      <td>0</td>\n",
       "      <td>0</td>\n",
       "      <td>1</td>\n",
       "      <td>0</td>\n",
       "      <td>1</td>\n",
       "      <td>0</td>\n",
       "      <td>1</td>\n",
       "      <td>1</td>\n",
       "      <td>1</td>\n",
       "    </tr>\n",
       "    <tr>\n",
       "      <th>1</th>\n",
       "      <td>58</td>\n",
       "      <td>1</td>\n",
       "      <td>0</td>\n",
       "      <td>0</td>\n",
       "      <td>0</td>\n",
       "      <td>1</td>\n",
       "      <td>0</td>\n",
       "      <td>0</td>\n",
       "      <td>1</td>\n",
       "      <td>0</td>\n",
       "      <td>0</td>\n",
       "      <td>0</td>\n",
       "      <td>1</td>\n",
       "      <td>0</td>\n",
       "      <td>1</td>\n",
       "      <td>0</td>\n",
       "    </tr>\n",
       "    <tr>\n",
       "      <th>2</th>\n",
       "      <td>41</td>\n",
       "      <td>1</td>\n",
       "      <td>1</td>\n",
       "      <td>0</td>\n",
       "      <td>0</td>\n",
       "      <td>1</td>\n",
       "      <td>1</td>\n",
       "      <td>0</td>\n",
       "      <td>0</td>\n",
       "      <td>1</td>\n",
       "      <td>0</td>\n",
       "      <td>1</td>\n",
       "      <td>0</td>\n",
       "      <td>1</td>\n",
       "      <td>1</td>\n",
       "      <td>0</td>\n",
       "    </tr>\n",
       "    <tr>\n",
       "      <th>3</th>\n",
       "      <td>45</td>\n",
       "      <td>1</td>\n",
       "      <td>0</td>\n",
       "      <td>0</td>\n",
       "      <td>1</td>\n",
       "      <td>1</td>\n",
       "      <td>1</td>\n",
       "      <td>1</td>\n",
       "      <td>0</td>\n",
       "      <td>1</td>\n",
       "      <td>0</td>\n",
       "      <td>1</td>\n",
       "      <td>0</td>\n",
       "      <td>0</td>\n",
       "      <td>0</td>\n",
       "      <td>0</td>\n",
       "    </tr>\n",
       "    <tr>\n",
       "      <th>4</th>\n",
       "      <td>60</td>\n",
       "      <td>1</td>\n",
       "      <td>1</td>\n",
       "      <td>1</td>\n",
       "      <td>1</td>\n",
       "      <td>1</td>\n",
       "      <td>1</td>\n",
       "      <td>0</td>\n",
       "      <td>1</td>\n",
       "      <td>1</td>\n",
       "      <td>1</td>\n",
       "      <td>1</td>\n",
       "      <td>1</td>\n",
       "      <td>1</td>\n",
       "      <td>1</td>\n",
       "      <td>1</td>\n",
       "    </tr>\n",
       "  </tbody>\n",
       "</table>\n",
       "</div>"
      ],
      "text/plain": [
       "   Age  Gender  Polyuria  Polydipsia  sudden weight loss  weakness  \\\n",
       "0   40       1         0           1                   0         1   \n",
       "1   58       1         0           0                   0         1   \n",
       "2   41       1         1           0                   0         1   \n",
       "3   45       1         0           0                   1         1   \n",
       "4   60       1         1           1                   1         1   \n",
       "\n",
       "   Polyphagia  Genital thrush  visual blurring  Itching  Irritability  \\\n",
       "0           0               0                0        1             0   \n",
       "1           0               0                1        0             0   \n",
       "2           1               0                0        1             0   \n",
       "3           1               1                0        1             0   \n",
       "4           1               0                1        1             1   \n",
       "\n",
       "   delayed healing  partial paresis  muscle stiffness  Alopecia  Obesity  \n",
       "0                1                0                 1         1        1  \n",
       "1                0                1                 0         1        0  \n",
       "2                1                0                 1         1        0  \n",
       "3                1                0                 0         0        0  \n",
       "4                1                1                 1         1        1  "
      ]
     },
     "execution_count": 36,
     "metadata": {},
     "output_type": "execute_result"
    }
   ],
   "source": [
    "inp.head()"
   ]
  },
  {
   "cell_type": "markdown",
   "id": "6ea34633",
   "metadata": {
    "papermill": {
     "duration": 0.149701,
     "end_time": "2022-11-11T21:12:19.965156",
     "exception": false,
     "start_time": "2022-11-11T21:12:19.815455",
     "status": "completed"
    },
    "tags": []
   },
   "source": [
    "# **Correlation between features**"
   ]
  },
  {
   "cell_type": "code",
   "execution_count": 37,
   "id": "3fc6aa3d",
   "metadata": {
    "execution": {
     "iopub.execute_input": "2022-11-11T21:12:20.288875Z",
     "iopub.status.busy": "2022-11-11T21:12:20.288455Z",
     "iopub.status.idle": "2022-11-11T21:12:20.304247Z",
     "shell.execute_reply": "2022-11-11T21:12:20.303005Z"
    },
    "papermill": {
     "duration": 0.166202,
     "end_time": "2022-11-11T21:12:20.306893",
     "exception": false,
     "start_time": "2022-11-11T21:12:20.140691",
     "status": "completed"
    },
    "tags": []
   },
   "outputs": [
    {
     "data": {
      "text/plain": [
       "Age                   0.108679\n",
       "Gender               -0.449233\n",
       "Polyuria              0.665922\n",
       "Polydipsia            0.648734\n",
       "sudden weight loss    0.436568\n",
       "weakness              0.243275\n",
       "Polyphagia            0.342504\n",
       "Genital thrush        0.110288\n",
       "visual blurring       0.251300\n",
       "Itching              -0.013384\n",
       "Irritability          0.299467\n",
       "delayed healing       0.046980\n",
       "partial paresis       0.432288\n",
       "muscle stiffness      0.122474\n",
       "Alopecia             -0.267512\n",
       "Obesity               0.072173\n",
       "dtype: float64"
      ]
     },
     "execution_count": 37,
     "metadata": {},
     "output_type": "execute_result"
    }
   ],
   "source": [
    "inp.corrwith(outp)"
   ]
  },
  {
   "cell_type": "markdown",
   "id": "49a87646",
   "metadata": {
    "papermill": {
     "duration": 0.151454,
     "end_time": "2022-11-11T21:12:20.604238",
     "exception": false,
     "start_time": "2022-11-11T21:12:20.452784",
     "status": "completed"
    },
    "tags": []
   },
   "source": [
    "> **Correlation with Response Variable class**"
   ]
  },
  {
   "cell_type": "code",
   "execution_count": 38,
   "id": "1ef52091",
   "metadata": {
    "execution": {
     "iopub.execute_input": "2022-11-11T21:12:20.897684Z",
     "iopub.status.busy": "2022-11-11T21:12:20.896992Z",
     "iopub.status.idle": "2022-11-11T21:12:21.367407Z",
     "shell.execute_reply": "2022-11-11T21:12:21.366199Z"
    },
    "papermill": {
     "duration": 0.619442,
     "end_time": "2022-11-11T21:12:21.370074",
     "exception": false,
     "start_time": "2022-11-11T21:12:20.750632",
     "status": "completed"
    },
    "tags": []
   },
   "outputs": [
    {
     "data": {
      "text/plain": [
       "<AxesSubplot:title={'center':'Correlation with Diabetes'}>"
      ]
     },
     "execution_count": 38,
     "metadata": {},
     "output_type": "execute_result"
    },
    {
     "data": {
      "image/png": "[encoded data removed]",
      "text/plain": [
       "<Figure size 1600x600 with 1 Axes>"
      ]
     },
     "metadata": {},
     "output_type": "display_data"
    }
   ],
   "source": [
    "inp.corrwith(outp).plot.bar(\n",
    "        figsize = (16, 6), title = \"Correlation with Diabetes\", fontsize = 15,\n",
    "        rot = 90, grid = True)\n"
   ]
  },
  {
   "cell_type": "markdown",
   "id": "2cd5403d",
   "metadata": {
    "papermill": {
     "duration": 0.148321,
     "end_time": "2022-11-11T21:12:21.680587",
     "exception": false,
     "start_time": "2022-11-11T21:12:21.532266",
     "status": "completed"
    },
    "tags": []
   },
   "source": [
    "# **Feature Selection**"
   ]
  },
  {
   "cell_type": "code",
   "execution_count": 39,
   "id": "92987659",
   "metadata": {
    "execution": {
     "iopub.execute_input": "2022-11-11T21:12:21.979065Z",
     "iopub.status.busy": "2022-11-11T21:12:21.977949Z",
     "iopub.status.idle": "2022-11-11T21:12:21.984944Z",
     "shell.execute_reply": "2022-11-11T21:12:21.983865Z"
    },
    "papermill": {
     "duration": 0.159282,
     "end_time": "2022-11-11T21:12:21.987209",
     "exception": false,
     "start_time": "2022-11-11T21:12:21.827927",
     "status": "completed"
    },
    "tags": []
   },
   "outputs": [
    {
     "data": {
      "text/plain": [
       "Index(['Age', 'Gender', 'Polyuria', 'Polydipsia', 'sudden weight loss',\n",
       "       'weakness', 'Polyphagia', 'Genital thrush', 'visual blurring',\n",
       "       'Itching', 'Irritability', 'delayed healing', 'partial paresis',\n",
       "       'muscle stiffness', 'Alopecia', 'Obesity'],\n",
       "      dtype='object')"
      ]
     },
     "execution_count": 39,
     "metadata": {},
     "output_type": "execute_result"
    }
   ],
   "source": [
    "inp.columns"
   ]
  },
  {
   "cell_type": "code",
   "execution_count": 40,
   "id": "6a12c940",
   "metadata": {},
   "outputs": [
    {
     "name": "stdout",
     "output_type": "stream",
     "text": [
      "Best alpha using builtin lassocv %f 0.0006418639053254438\n",
      "Best score using builtin lassocv 0.652283\n",
      "Lasso picked 15variables and eliminated the other 1variables\n",
      "Age                  -0.000537\n",
      "Gender               -0.258130\n",
      "Polyuria              0.319249\n",
      "Polydipsia            0.279533\n",
      "sudden weight loss    0.044944\n",
      "weakness              0.021560\n",
      "Polyphagia            0.041213\n",
      "Genital thrush        0.173057\n",
      "visual blurring       0.053579\n",
      "Itching              -0.111312\n",
      "Irritability          0.152045\n",
      "delayed healing      -0.080602\n",
      "partial paresis       0.063026\n",
      "muscle stiffness     -0.018624\n",
      "Alopecia             -0.000000\n",
      "Obesity              -0.047056\n",
      "dtype: float64\n"
     ]
    },
    {
     "data": {
      "image/png": "[encoded data removed]",
      "text/plain": [
       "<Figure size 640x480 with 1 Axes>"
      ]
     },
     "metadata": {},
     "output_type": "display_data"
    }
   ],
   "source": [
    "from sklearn.linear_model import LassoCV\n",
    "import matplotlib as matplotlib\n",
    "reg = LassoCV()\n",
    "reg.fit(inp,outp)\n",
    "print(\"Best alpha using builtin lassocv %f\" ,reg.alpha_)\n",
    "print(\"Best score using builtin lassocv %f\" %reg.score(inp,outp))\n",
    "coef = pd.Series(reg.coef_,index=inp.columns)\n",
    "print(\"Lasso picked \"+ str(sum(coef!=0))+ \"variables and eliminated the other \" + str(sum(coef==0)) + \"variables\" )\n",
    "imp_coef = coef.sort_values()\n",
    "# matplotlib.rcparams['figure.figsize'] =(8.0,10.0)\n",
    "imp_coef.plot(kind=\"barh\")\n",
    "plt.title(\"feature importance using Lasso model\")\n",
    "print(coef)\n"
   ]
  },
  {
   "cell_type": "code",
   "execution_count": 41,
   "id": "740051f1",
   "metadata": {
    "execution": {
     "iopub.execute_input": "2022-11-11T21:12:22.285201Z",
     "iopub.status.busy": "2022-11-11T21:12:22.284129Z",
     "iopub.status.idle": "2022-11-11T21:12:22.296833Z",
     "shell.execute_reply": "2022-11-11T21:12:22.290245Z"
    },
    "papermill": {
     "duration": 0.167048,
     "end_time": "2022-11-11T21:12:22.300642",
     "exception": false,
     "start_time": "2022-11-11T21:12:22.133594",
     "status": "completed"
    },
    "tags": []
   },
   "outputs": [
    {
     "data": {
      "text/plain": [
       "16"
      ]
     },
     "execution_count": 41,
     "metadata": {},
     "output_type": "execute_result"
    }
   ],
   "source": [
    "inp.shape[1]"
   ]
  },
  {
   "cell_type": "code",
   "execution_count": 42,
   "id": "c17f2580",
   "metadata": {
    "execution": {
     "iopub.execute_input": "2022-11-11T21:12:22.609692Z",
     "iopub.status.busy": "2022-11-11T21:12:22.608582Z",
     "iopub.status.idle": "2022-11-11T21:12:22.616019Z",
     "shell.execute_reply": "2022-11-11T21:12:22.614951Z"
    },
    "papermill": {
     "duration": 0.158513,
     "end_time": "2022-11-11T21:12:22.618518",
     "exception": false,
     "start_time": "2022-11-11T21:12:22.460005",
     "status": "completed"
    },
    "tags": []
   },
   "outputs": [],
   "source": [
    "inp_FS = inp = inp.drop(['Alopecia'], axis=1)"
   ]
  },
  {
   "cell_type": "code",
   "execution_count": 43,
   "id": "5963c5b3",
   "metadata": {
    "execution": {
     "iopub.execute_input": "2022-11-11T21:12:22.914708Z",
     "iopub.status.busy": "2022-11-11T21:12:22.914004Z",
     "iopub.status.idle": "2022-11-11T21:12:22.920581Z",
     "shell.execute_reply": "2022-11-11T21:12:22.919704Z"
    },
    "papermill": {
     "duration": 0.157558,
     "end_time": "2022-11-11T21:12:22.922950",
     "exception": false,
     "start_time": "2022-11-11T21:12:22.765392",
     "status": "completed"
    },
    "tags": []
   },
   "outputs": [
    {
     "data": {
      "text/plain": [
       "15"
      ]
     },
     "execution_count": 43,
     "metadata": {},
     "output_type": "execute_result"
    }
   ],
   "source": [
    "inp_FS.shape[1]"
   ]
  },
  {
   "cell_type": "code",
   "execution_count": 44,
   "id": "cbfe7716",
   "metadata": {
    "execution": {
     "iopub.execute_input": "2022-11-11T21:12:23.224948Z",
     "iopub.status.busy": "2022-11-11T21:12:23.224236Z",
     "iopub.status.idle": "2022-11-11T21:12:23.230504Z",
     "shell.execute_reply": "2022-11-11T21:12:23.229426Z"
    },
    "papermill": {
     "duration": 0.160769,
     "end_time": "2022-11-11T21:12:23.232747",
     "exception": false,
     "start_time": "2022-11-11T21:12:23.071978",
     "status": "completed"
    },
    "tags": []
   },
   "outputs": [
    {
     "data": {
      "text/plain": [
       "Index(['Age', 'Gender', 'Polyuria', 'Polydipsia', 'sudden weight loss',\n",
       "       'weakness', 'Polyphagia', 'Genital thrush', 'visual blurring',\n",
       "       'Itching', 'Irritability', 'delayed healing', 'partial paresis',\n",
       "       'muscle stiffness', 'Obesity'],\n",
       "      dtype='object')"
      ]
     },
     "execution_count": 44,
     "metadata": {},
     "output_type": "execute_result"
    }
   ],
   "source": [
    "inp_FS.columns"
   ]
  },
  {
   "cell_type": "code",
   "execution_count": 45,
   "id": "3523a893",
   "metadata": {
    "execution": {
     "iopub.execute_input": "2022-11-11T21:12:23.534683Z",
     "iopub.status.busy": "2022-11-11T21:12:23.533385Z",
     "iopub.status.idle": "2022-11-11T21:12:23.539001Z",
     "shell.execute_reply": "2022-11-11T21:12:23.537975Z"
    },
    "papermill": {
     "duration": 0.161566,
     "end_time": "2022-11-11T21:12:23.541515",
     "exception": false,
     "start_time": "2022-11-11T21:12:23.379949",
     "status": "completed"
    },
    "tags": []
   },
   "outputs": [],
   "source": [
    "l1 = list(inp.columns)\n",
    "l2 = list(inp_FS.columns)"
   ]
  },
  {
   "cell_type": "markdown",
   "id": "1ea45f09",
   "metadata": {
    "papermill": {
     "duration": 0.151431,
     "end_time": "2022-11-11T21:12:23.840571",
     "exception": false,
     "start_time": "2022-11-11T21:12:23.689140",
     "status": "completed"
    },
    "tags": []
   },
   "source": [
    "> **These features are not included in our model**"
   ]
  },
  {
   "cell_type": "code",
   "execution_count": 46,
   "id": "4d64bd6f",
   "metadata": {
    "execution": {
     "iopub.execute_input": "2022-11-11T21:12:24.151313Z",
     "iopub.status.busy": "2022-11-11T21:12:24.150919Z",
     "iopub.status.idle": "2022-11-11T21:12:24.157781Z",
     "shell.execute_reply": "2022-11-11T21:12:24.156355Z"
    },
    "papermill": {
     "duration": 0.166306,
     "end_time": "2022-11-11T21:12:24.160410",
     "exception": false,
     "start_time": "2022-11-11T21:12:23.994104",
     "status": "completed"
    },
    "tags": []
   },
   "outputs": [
    {
     "name": "stdout",
     "output_type": "stream",
     "text": [
      "[]\n"
     ]
    }
   ],
   "source": [
    "miss = []\n",
    "for i in l1:\n",
    "    if i not in l2:\n",
    "        miss.append(i)\n",
    "print(miss)"
   ]
  },
  {
   "cell_type": "markdown",
   "id": "90ee30e9",
   "metadata": {
    "papermill": {
     "duration": 0.147478,
     "end_time": "2022-11-11T21:12:24.454918",
     "exception": false,
     "start_time": "2022-11-11T21:12:24.307440",
     "status": "completed"
    },
    "tags": []
   },
   "source": [
    "# **Splitting into training and testing**"
   ]
  },
  {
   "cell_type": "code",
   "execution_count": 47,
   "id": "5255088b",
   "metadata": {
    "execution": {
     "iopub.execute_input": "2022-11-11T21:12:24.753654Z",
     "iopub.status.busy": "2022-11-11T21:12:24.752562Z",
     "iopub.status.idle": "2022-11-11T21:12:24.762891Z",
     "shell.execute_reply": "2022-11-11T21:12:24.761770Z"
    },
    "papermill": {
     "duration": 0.162747,
     "end_time": "2022-11-11T21:12:24.765385",
     "exception": false,
     "start_time": "2022-11-11T21:12:24.602638",
     "status": "completed"
    },
    "tags": []
   },
   "outputs": [],
   "source": [
    "x_train, x_test, y_train,y_test = train_test_split(inp_FS,outp, test_size = 0.2, stratify = outp, random_state = 12345)"
   ]
  },
  {
   "cell_type": "markdown",
   "id": "afa5dfc0",
   "metadata": {
    "papermill": {
     "duration": 0.145925,
     "end_time": "2022-11-11T21:12:25.058292",
     "exception": false,
     "start_time": "2022-11-11T21:12:24.912367",
     "status": "completed"
    },
    "tags": []
   },
   "source": [
    "# **Data Normalization:**\n",
    "\n",
    "Here we have used minmax normalization technique for normalizing the age attribute"
   ]
  },
  {
   "cell_type": "code",
   "execution_count": 48,
   "id": "b11f2e17",
   "metadata": {
    "execution": {
     "iopub.execute_input": "2022-11-11T21:12:25.354198Z",
     "iopub.status.busy": "2022-11-11T21:12:25.353215Z",
     "iopub.status.idle": "2022-11-11T21:12:25.367694Z",
     "shell.execute_reply": "2022-11-11T21:12:25.366681Z"
    },
    "papermill": {
     "duration": 0.165466,
     "end_time": "2022-11-11T21:12:25.370292",
     "exception": false,
     "start_time": "2022-11-11T21:12:25.204826",
     "status": "completed"
    },
    "tags": []
   },
   "outputs": [],
   "source": [
    "minmax = MinMaxScaler()\n",
    "x_train[['Age']] = minmax.fit_transform(x_train[['Age']])\n",
    "x_test[['Age']] = minmax.transform(x_test[['Age']])"
   ]
  },
  {
   "cell_type": "markdown",
   "id": "f5460cfc",
   "metadata": {
    "papermill": {
     "duration": 0.164363,
     "end_time": "2022-11-11T21:12:25.684328",
     "exception": false,
     "start_time": "2022-11-11T21:12:25.519965",
     "status": "completed"
    },
    "tags": []
   },
   "source": [
    "# **Model Building **\n",
    "Let's jump into the interesting part which is building models and apply them in our dataset. We have applied the following models into our training sets:\n",
    "1. Logistic Regression\n",
    "2. "
   ]
  },
  {
   "cell_type": "markdown",
   "id": "c9ade052",
   "metadata": {
    "papermill": {
     "duration": 0.14687,
     "end_time": "2022-11-11T21:12:25.985430",
     "exception": false,
     "start_time": "2022-11-11T21:12:25.838560",
     "status": "completed"
    },
    "tags": []
   },
   "source": [
    "# **Logistic Regression**"
   ]
  },
  {
   "cell_type": "code",
   "execution_count": 49,
   "id": "13e31a13",
   "metadata": {
    "execution": {
     "iopub.execute_input": "2022-11-11T21:12:26.281900Z",
     "iopub.status.busy": "2022-11-11T21:12:26.280917Z",
     "iopub.status.idle": "2022-11-11T21:12:26.348601Z",
     "shell.execute_reply": "2022-11-11T21:12:26.347378Z"
    },
    "papermill": {
     "duration": 0.217999,
     "end_time": "2022-11-11T21:12:26.351156",
     "exception": false,
     "start_time": "2022-11-11T21:12:26.133157",
     "status": "completed"
    },
    "tags": []
   },
   "outputs": [
    {
     "data": {
      "text/html": [
       "<style>#sk-container-id-1 {color: black;background-color: white;}#sk-container-id-1 pre{padding: 0;}#sk-container-id-1 div.sk-toggleable {background-color: white;}#sk-container-id-1 label.sk-toggleable__label {cursor: pointer;display: block;width: 100%;margin-bottom: 0;padding: 0.3em;box-sizing: border-box;text-align: center;}#sk-container-id-1 label.sk-toggleable__label-arrow:before {content: \"▸\";float: left;margin-right: 0.25em;color: #696969;}#sk-container-id-1 label.sk-toggleable__label-arrow:hover:before {color: black;}#sk-container-id-1 div.sk-estimator:hover label.sk-toggleable__label-arrow:before {color: black;}#sk-container-id-1 div.sk-toggleable__content {max-height: 0;max-width: 0;overflow: hidden;text-align: left;background-color: #f0f8ff;}#sk-container-id-1 div.sk-toggleable__content pre {margin: 0.2em;color: black;border-radius: 0.25em;background-color: #f0f8ff;}#sk-container-id-1 input.sk-toggleable__control:checked~div.sk-toggleable__content {max-height: 200px;max-width: 100%;overflow: auto;}#sk-container-id-1 input.sk-toggleable__control:checked~label.sk-toggleable__label-arrow:before {content: \"▾\";}#sk-container-id-1 div.sk-estimator input.sk-toggleable__control:checked~label.sk-toggleable__label {background-color: #d4ebff;}#sk-container-id-1 div.sk-label input.sk-toggleable__control:checked~label.sk-toggleable__label {background-color: #d4ebff;}#sk-container-id-1 input.sk-hidden--visually {border: 0;clip: rect(1px 1px 1px 1px);clip: rect(1px, 1px, 1px, 1px);height: 1px;margin: -1px;overflow: hidden;padding: 0;position: absolute;width: 1px;}#sk-container-id-1 div.sk-estimator {font-family: monospace;background-color: #f0f8ff;border: 1px dotted black;border-radius: 0.25em;box-sizing: border-box;margin-bottom: 0.5em;}#sk-container-id-1 div.sk-estimator:hover {background-color: #d4ebff;}#sk-container-id-1 div.sk-parallel-item::after {content: \"\";width: 100%;border-bottom: 1px solid gray;flex-grow: 1;}#sk-container-id-1 div.sk-label:hover label.sk-toggleable__label {background-color: #d4ebff;}#sk-container-id-1 div.sk-serial::before {content: \"\";position: absolute;border-left: 1px solid gray;box-sizing: border-box;top: 0;bottom: 0;left: 50%;z-index: 0;}#sk-container-id-1 div.sk-serial {display: flex;flex-direction: column;align-items: center;background-color: white;padding-right: 0.2em;padding-left: 0.2em;position: relative;}#sk-container-id-1 div.sk-item {position: relative;z-index: 1;}#sk-container-id-1 div.sk-parallel {display: flex;align-items: stretch;justify-content: center;background-color: white;position: relative;}#sk-container-id-1 div.sk-item::before, #sk-container-id-1 div.sk-parallel-item::before {content: \"\";position: absolute;border-left: 1px solid gray;box-sizing: border-box;top: 0;bottom: 0;left: 50%;z-index: -1;}#sk-container-id-1 div.sk-parallel-item {display: flex;flex-direction: column;z-index: 1;position: relative;background-color: white;}#sk-container-id-1 div.sk-parallel-item:first-child::after {align-self: flex-end;width: 50%;}#sk-container-id-1 div.sk-parallel-item:last-child::after {align-self: flex-start;width: 50%;}#sk-container-id-1 div.sk-parallel-item:only-child::after {width: 0;}#sk-container-id-1 div.sk-dashed-wrapped {border: 1px dashed gray;margin: 0 0.4em 0.5em 0.4em;box-sizing: border-box;padding-bottom: 0.4em;background-color: white;}#sk-container-id-1 div.sk-label label {font-family: monospace;font-weight: bold;display: inline-block;line-height: 1.2em;}#sk-container-id-1 div.sk-label-container {text-align: center;}#sk-container-id-1 div.sk-container {/* jupyter's `normalize.less` sets `[hidden] { display: none; }` but bootstrap.min.css set `[hidden] { display: none !important; }` so we also need the `!important` here to be able to override the default hidden behavior on the sphinx rendered scikit-learn.org. See: https://github.com/scikit-learn/scikit-learn/issues/21755 */display: inline-block !important;position: relative;}#sk-container-id-1 div.sk-text-repr-fallback {display: none;}</style><div id=\"sk-container-id-1\" class=\"sk-top-container\"><div class=\"sk-text-repr-fallback\"><pre>LogisticRegression(random_state=0)</pre><b>In a Jupyter environment, please rerun this cell to show the HTML representation or trust the notebook. <br />On GitHub, the HTML representation is unable to render, please try loading this page with nbviewer.org.</b></div><div class=\"sk-container\" hidden><div class=\"sk-item\"><div class=\"sk-estimator sk-toggleable\"><input class=\"sk-toggleable__control sk-hidden--visually\" id=\"sk-estimator-id-1\" type=\"checkbox\" checked><label for=\"sk-estimator-id-1\" class=\"sk-toggleable__label sk-toggleable__label-arrow\">LogisticRegression</label><div class=\"sk-toggleable__content\"><pre>LogisticRegression(random_state=0)</pre></div></div></div></div></div>"
      ],
      "text/plain": [
       "LogisticRegression(random_state=0)"
      ]
     },
     "execution_count": 49,
     "metadata": {},
     "output_type": "execute_result"
    }
   ],
   "source": [
    "logic = LogisticRegression(random_state = 0,  penalty='l2')\n",
    "logic.fit(x_train, y_train)"
   ]
  },
  {
   "cell_type": "markdown",
   "id": "68ffdaef",
   "metadata": {
    "papermill": {
     "duration": 0.146838,
     "end_time": "2022-11-11T21:12:26.645576",
     "exception": false,
     "start_time": "2022-11-11T21:12:26.498738",
     "status": "completed"
    },
    "tags": []
   },
   "source": [
    "# **k-Fold cross-validation**\n",
    "k-Fold cross-validation is a technique that minimizes the disadvantages of the hold-out method. k-Fold introduces a new way of splitting the dataset which helps to overcome the “test only once bottleneck”.\n",
    "\n",
    "The algorithm of the k-Fold technique:\n",
    "\n",
    "Pick a number of folds – k. Usually, k is 5 or 10 but you can choose any number which is less than the dataset’s length.\n",
    "Split the dataset into k equal (if possible) parts (they are called folds)\n",
    "Choose k – 1 folds as the training set. The remaining fold will be the test set\n",
    "Train the model on the training set. On each iteration of cross-validation, you must train a new model independently of the model trained on the previous iteration\n",
    "Validate on the test set\n",
    "Save the result of the validation\n",
    "Repeat steps 3 – 6 k times. Each time use the remaining  fold as the test set. In the end, you should have validated the model on every fold that you have.\n",
    "To get the final score average the results that you got on step 6.\n",
    "\n",
    "![k-Fold cross validation](https://i0.wp.com/neptune.ai/wp-content/uploads/Cross-validation-k-fold.jpg?resize=525%2C525&ssl=1)\n",
    "\n",
    "[Reference](https://neptune.ai/blog/cross-validation-in-machine-learning-how-to-do-it-right)"
   ]
  },
  {
   "cell_type": "code",
   "execution_count": 50,
   "id": "ff11fc04",
   "metadata": {
    "execution": {
     "iopub.execute_input": "2022-11-11T21:12:26.941226Z",
     "iopub.status.busy": "2022-11-11T21:12:26.940779Z",
     "iopub.status.idle": "2022-11-11T21:12:27.039711Z",
     "shell.execute_reply": "2022-11-11T21:12:27.038542Z"
    },
    "papermill": {
     "duration": 0.25025,
     "end_time": "2022-11-11T21:12:27.042440",
     "exception": false,
     "start_time": "2022-11-11T21:12:26.792190",
     "status": "completed"
    },
    "tags": []
   },
   "outputs": [],
   "source": [
    "kfold = model_selection.KFold(n_splits=8, random_state=7,shuffle = True)\n",
    "\n",
    "acc_logis = cross_val_score(estimator=logic,X = x_train,y =y_train, cv = kfold,scoring='accuracy')"
   ]
  },
  {
   "cell_type": "markdown",
   "id": "68a37cdf",
   "metadata": {
    "papermill": {
     "duration": 0.152377,
     "end_time": "2022-11-11T21:12:27.341397",
     "exception": false,
     "start_time": "2022-11-11T21:12:27.189020",
     "status": "completed"
    },
    "tags": []
   },
   "source": [
    "# **Model evaluation (Logistic Regression) :**"
   ]
  },
  {
   "cell_type": "code",
   "execution_count": 51,
   "id": "8f5dc8b2",
   "metadata": {
    "execution": {
     "iopub.execute_input": "2022-11-11T21:12:27.645576Z",
     "iopub.status.busy": "2022-11-11T21:12:27.644341Z",
     "iopub.status.idle": "2022-11-11T21:12:27.667664Z",
     "shell.execute_reply": "2022-11-11T21:12:27.666454Z"
    },
    "papermill": {
     "duration": 0.178571,
     "end_time": "2022-11-11T21:12:27.670325",
     "exception": false,
     "start_time": "2022-11-11T21:12:27.491754",
     "status": "completed"
    },
    "tags": []
   },
   "outputs": [
    {
     "data": {
      "text/html": [
       "<div>\n",
       "<style scoped>\n",
       "    .dataframe tbody tr th:only-of-type {\n",
       "        vertical-align: middle;\n",
       "    }\n",
       "\n",
       "    .dataframe tbody tr th {\n",
       "        vertical-align: top;\n",
       "    }\n",
       "\n",
       "    .dataframe thead th {\n",
       "        text-align: right;\n",
       "    }\n",
       "</style>\n",
       "<table border=\"1\" class=\"dataframe\">\n",
       "  <thead>\n",
       "    <tr style=\"text-align: right;\">\n",
       "      <th></th>\n",
       "      <th>Model</th>\n",
       "      <th>Accuracy</th>\n",
       "      <th>Cross Val Accuracy</th>\n",
       "      <th>Precision</th>\n",
       "      <th>Recall</th>\n",
       "      <th>F1 Score</th>\n",
       "      <th>ROC</th>\n",
       "    </tr>\n",
       "  </thead>\n",
       "  <tbody>\n",
       "    <tr>\n",
       "      <th>0</th>\n",
       "      <td>Logistic Regression</td>\n",
       "      <td>0.951923</td>\n",
       "      <td>0.915865</td>\n",
       "      <td>0.940299</td>\n",
       "      <td>0.984375</td>\n",
       "      <td>0.961832</td>\n",
       "      <td>0.942187</td>\n",
       "    </tr>\n",
       "  </tbody>\n",
       "</table>\n",
       "</div>"
      ],
      "text/plain": [
       "                 Model  Accuracy  Cross Val Accuracy  Precision    Recall  \\\n",
       "0  Logistic Regression  0.951923            0.915865   0.940299  0.984375   \n",
       "\n",
       "   F1 Score       ROC  \n",
       "0  0.961832  0.942187  "
      ]
     },
     "execution_count": 51,
     "metadata": {},
     "output_type": "execute_result"
    }
   ],
   "source": [
    "# Model Evaluation\n",
    "y_predict_logi = logic.predict(x_test)\n",
    "acc = accuracy_score(y_test, y_predict_logi)\n",
    "roc = roc_auc_score(y_test, y_predict_logi)\n",
    "prec = precision_score(y_test, y_predict_logi)\n",
    "rec = recall_score(y_test, y_predict_logi)\n",
    "f1 = f1_score(y_test, y_predict_logi)\n",
    "\n",
    "results = pd.DataFrame([['Logistic Regression',acc, acc_logis.mean(), prec, rec, f1,roc]], columns = ['Model', 'Accuracy','Cross Val Accuracy', 'Precision', 'Recall', 'F1 Score','ROC'])\n",
    "results"
   ]
  },
  {
   "cell_type": "code",
   "execution_count": 52,
   "id": "8eb41585",
   "metadata": {
    "execution": {
     "iopub.execute_input": "2022-11-11T21:12:27.978063Z",
     "iopub.status.busy": "2022-11-11T21:12:27.976938Z",
     "iopub.status.idle": "2022-11-11T21:12:27.986763Z",
     "shell.execute_reply": "2022-11-11T21:12:27.985606Z"
    },
    "papermill": {
     "duration": 0.168542,
     "end_time": "2022-11-11T21:12:27.989251",
     "exception": false,
     "start_time": "2022-11-11T21:12:27.820709",
     "status": "completed"
    },
    "tags": []
   },
   "outputs": [
    {
     "name": "stdout",
     "output_type": "stream",
     "text": [
      "              precision    recall  f1-score   support\n",
      "\n",
      "           0       0.90      0.97      0.94        37\n",
      "           1       0.98      0.94      0.96        67\n",
      "\n",
      "    accuracy                           0.95       104\n",
      "   macro avg       0.94      0.96      0.95       104\n",
      "weighted avg       0.95      0.95      0.95       104\n",
      "\n"
     ]
    }
   ],
   "source": [
    "print(classification_report(y_predict_logi,y_test))"
   ]
  },
  {
   "cell_type": "markdown",
   "id": "0fa4cf98",
   "metadata": {
    "papermill": {
     "duration": 0.149246,
     "end_time": "2022-11-11T21:12:28.287874",
     "exception": false,
     "start_time": "2022-11-11T21:12:28.138628",
     "status": "completed"
    },
    "tags": []
   },
   "source": [
    "# **Model evaluation (Random Forest) :**"
   ]
  },
  {
   "cell_type": "code",
   "execution_count": 53,
   "id": "93c7f369",
   "metadata": {
    "execution": {
     "iopub.execute_input": "2022-11-11T21:12:28.595205Z",
     "iopub.status.busy": "2022-11-11T21:12:28.594320Z",
     "iopub.status.idle": "2022-11-11T21:12:28.763822Z",
     "shell.execute_reply": "2022-11-11T21:12:28.762692Z"
    },
    "papermill": {
     "duration": 0.329516,
     "end_time": "2022-11-11T21:12:28.766214",
     "exception": false,
     "start_time": "2022-11-11T21:12:28.436698",
     "status": "completed"
    },
    "tags": []
   },
   "outputs": [
    {
     "data": {
      "text/html": [
       "<style>#sk-container-id-2 {color: black;background-color: white;}#sk-container-id-2 pre{padding: 0;}#sk-container-id-2 div.sk-toggleable {background-color: white;}#sk-container-id-2 label.sk-toggleable__label {cursor: pointer;display: block;width: 100%;margin-bottom: 0;padding: 0.3em;box-sizing: border-box;text-align: center;}#sk-container-id-2 label.sk-toggleable__label-arrow:before {content: \"▸\";float: left;margin-right: 0.25em;color: #696969;}#sk-container-id-2 label.sk-toggleable__label-arrow:hover:before {color: black;}#sk-container-id-2 div.sk-estimator:hover label.sk-toggleable__label-arrow:before {color: black;}#sk-container-id-2 div.sk-toggleable__content {max-height: 0;max-width: 0;overflow: hidden;text-align: left;background-color: #f0f8ff;}#sk-container-id-2 div.sk-toggleable__content pre {margin: 0.2em;color: black;border-radius: 0.25em;background-color: #f0f8ff;}#sk-container-id-2 input.sk-toggleable__control:checked~div.sk-toggleable__content {max-height: 200px;max-width: 100%;overflow: auto;}#sk-container-id-2 input.sk-toggleable__control:checked~label.sk-toggleable__label-arrow:before {content: \"▾\";}#sk-container-id-2 div.sk-estimator input.sk-toggleable__control:checked~label.sk-toggleable__label {background-color: #d4ebff;}#sk-container-id-2 div.sk-label input.sk-toggleable__control:checked~label.sk-toggleable__label {background-color: #d4ebff;}#sk-container-id-2 input.sk-hidden--visually {border: 0;clip: rect(1px 1px 1px 1px);clip: rect(1px, 1px, 1px, 1px);height: 1px;margin: -1px;overflow: hidden;padding: 0;position: absolute;width: 1px;}#sk-container-id-2 div.sk-estimator {font-family: monospace;background-color: #f0f8ff;border: 1px dotted black;border-radius: 0.25em;box-sizing: border-box;margin-bottom: 0.5em;}#sk-container-id-2 div.sk-estimator:hover {background-color: #d4ebff;}#sk-container-id-2 div.sk-parallel-item::after {content: \"\";width: 100%;border-bottom: 1px solid gray;flex-grow: 1;}#sk-container-id-2 div.sk-label:hover label.sk-toggleable__label {background-color: #d4ebff;}#sk-container-id-2 div.sk-serial::before {content: \"\";position: absolute;border-left: 1px solid gray;box-sizing: border-box;top: 0;bottom: 0;left: 50%;z-index: 0;}#sk-container-id-2 div.sk-serial {display: flex;flex-direction: column;align-items: center;background-color: white;padding-right: 0.2em;padding-left: 0.2em;position: relative;}#sk-container-id-2 div.sk-item {position: relative;z-index: 1;}#sk-container-id-2 div.sk-parallel {display: flex;align-items: stretch;justify-content: center;background-color: white;position: relative;}#sk-container-id-2 div.sk-item::before, #sk-container-id-2 div.sk-parallel-item::before {content: \"\";position: absolute;border-left: 1px solid gray;box-sizing: border-box;top: 0;bottom: 0;left: 50%;z-index: -1;}#sk-container-id-2 div.sk-parallel-item {display: flex;flex-direction: column;z-index: 1;position: relative;background-color: white;}#sk-container-id-2 div.sk-parallel-item:first-child::after {align-self: flex-end;width: 50%;}#sk-container-id-2 div.sk-parallel-item:last-child::after {align-self: flex-start;width: 50%;}#sk-container-id-2 div.sk-parallel-item:only-child::after {width: 0;}#sk-container-id-2 div.sk-dashed-wrapped {border: 1px dashed gray;margin: 0 0.4em 0.5em 0.4em;box-sizing: border-box;padding-bottom: 0.4em;background-color: white;}#sk-container-id-2 div.sk-label label {font-family: monospace;font-weight: bold;display: inline-block;line-height: 1.2em;}#sk-container-id-2 div.sk-label-container {text-align: center;}#sk-container-id-2 div.sk-container {/* jupyter's `normalize.less` sets `[hidden] { display: none; }` but bootstrap.min.css set `[hidden] { display: none !important; }` so we also need the `!important` here to be able to override the default hidden behavior on the sphinx rendered scikit-learn.org. See: https://github.com/scikit-learn/scikit-learn/issues/21755 */display: inline-block !important;position: relative;}#sk-container-id-2 div.sk-text-repr-fallback {display: none;}</style><div id=\"sk-container-id-2\" class=\"sk-top-container\"><div class=\"sk-text-repr-fallback\"><pre>RandomForestClassifier()</pre><b>In a Jupyter environment, please rerun this cell to show the HTML representation or trust the notebook. <br />On GitHub, the HTML representation is unable to render, please try loading this page with nbviewer.org.</b></div><div class=\"sk-container\" hidden><div class=\"sk-item\"><div class=\"sk-estimator sk-toggleable\"><input class=\"sk-toggleable__control sk-hidden--visually\" id=\"sk-estimator-id-2\" type=\"checkbox\" checked><label for=\"sk-estimator-id-2\" class=\"sk-toggleable__label sk-toggleable__label-arrow\">RandomForestClassifier</label><div class=\"sk-toggleable__content\"><pre>RandomForestClassifier()</pre></div></div></div></div></div>"
      ],
      "text/plain": [
       "RandomForestClassifier()"
      ]
     },
     "execution_count": 53,
     "metadata": {},
     "output_type": "execute_result"
    }
   ],
   "source": [
    "rf = RandomForestClassifier(criterion='gini',n_estimators=100,)\n",
    "rf.fit(x_train,y_train)"
   ]
  },
  {
   "cell_type": "code",
   "execution_count": 54,
   "id": "926da4ec",
   "metadata": {
    "execution": {
     "iopub.execute_input": "2022-11-11T21:12:29.072251Z",
     "iopub.status.busy": "2022-11-11T21:12:29.070918Z",
     "iopub.status.idle": "2022-11-11T21:12:30.416762Z",
     "shell.execute_reply": "2022-11-11T21:12:30.415547Z"
    },
    "papermill": {
     "duration": 1.502297,
     "end_time": "2022-11-11T21:12:30.419604",
     "exception": false,
     "start_time": "2022-11-11T21:12:28.917307",
     "status": "completed"
    },
    "tags": []
   },
   "outputs": [],
   "source": [
    "kfold = model_selection.KFold(n_splits=8, random_state=7,shuffle = True)\n",
    "\n",
    "acc_rf = cross_val_score(estimator=rf\n",
    ",X = x_train,y =y_train, cv = kfold,scoring='accuracy')"
   ]
  },
  {
   "cell_type": "code",
   "execution_count": 55,
   "id": "0c3531c7",
   "metadata": {
    "execution": {
     "iopub.execute_input": "2022-11-11T21:12:30.803368Z",
     "iopub.status.busy": "2022-11-11T21:12:30.802979Z",
     "iopub.status.idle": "2022-11-11T21:12:30.845685Z",
     "shell.execute_reply": "2022-11-11T21:12:30.844413Z"
    },
    "papermill": {
     "duration": 0.204783,
     "end_time": "2022-11-11T21:12:30.848663",
     "exception": false,
     "start_time": "2022-11-11T21:12:30.643880",
     "status": "completed"
    },
    "tags": []
   },
   "outputs": [
    {
     "data": {
      "text/html": [
       "<div>\n",
       "<style scoped>\n",
       "    .dataframe tbody tr th:only-of-type {\n",
       "        vertical-align: middle;\n",
       "    }\n",
       "\n",
       "    .dataframe tbody tr th {\n",
       "        vertical-align: top;\n",
       "    }\n",
       "\n",
       "    .dataframe thead th {\n",
       "        text-align: right;\n",
       "    }\n",
       "</style>\n",
       "<table border=\"1\" class=\"dataframe\">\n",
       "  <thead>\n",
       "    <tr style=\"text-align: right;\">\n",
       "      <th></th>\n",
       "      <th>Model</th>\n",
       "      <th>Accuracy</th>\n",
       "      <th>Cross Val Accuracy</th>\n",
       "      <th>Precision</th>\n",
       "      <th>Recall</th>\n",
       "      <th>F1 Score</th>\n",
       "      <th>ROC</th>\n",
       "    </tr>\n",
       "  </thead>\n",
       "  <tbody>\n",
       "    <tr>\n",
       "      <th>0</th>\n",
       "      <td>Logistic Regression</td>\n",
       "      <td>0.951923</td>\n",
       "      <td>0.915865</td>\n",
       "      <td>0.940299</td>\n",
       "      <td>0.984375</td>\n",
       "      <td>0.961832</td>\n",
       "      <td>0.942187</td>\n",
       "    </tr>\n",
       "    <tr>\n",
       "      <th>1</th>\n",
       "      <td>Random Forest</td>\n",
       "      <td>1.000000</td>\n",
       "      <td>0.973558</td>\n",
       "      <td>1.000000</td>\n",
       "      <td>1.000000</td>\n",
       "      <td>1.000000</td>\n",
       "      <td>1.000000</td>\n",
       "    </tr>\n",
       "  </tbody>\n",
       "</table>\n",
       "</div>"
      ],
      "text/plain": [
       "                 Model  Accuracy  Cross Val Accuracy  Precision    Recall  \\\n",
       "0  Logistic Regression  0.951923            0.915865   0.940299  0.984375   \n",
       "1        Random Forest  1.000000            0.973558   1.000000  1.000000   \n",
       "\n",
       "   F1 Score       ROC  \n",
       "0  0.961832  0.942187  \n",
       "1  1.000000  1.000000  "
      ]
     },
     "execution_count": 55,
     "metadata": {},
     "output_type": "execute_result"
    }
   ],
   "source": [
    "# Model Evaluation\n",
    "y_predict_r = rf.predict(x_test)\n",
    "roc=roc_auc_score(y_test, y_predict_r)\n",
    "acc = accuracy_score(y_test, y_predict_r)\n",
    "prec = precision_score(y_test, y_predict_r)\n",
    "rec = recall_score(y_test, y_predict_r)\n",
    "f1 = f1_score(y_test, y_predict_r)\n",
    "\n",
    "model_results = pd.DataFrame([['Random Forest',acc, acc_rf.mean(),prec,rec, f1,roc]], columns = ['Model', 'Accuracy','Cross Val Accuracy', 'Precision', 'Recall', 'F1 Score','ROC'])\n",
    "\n",
    "results = results.append(model_results, ignore_index = True)\n",
    "\n",
    "#results = results.drop(results.index[[1,9]], inplace=True)\n",
    "results"
   ]
  },
  {
   "cell_type": "code",
   "execution_count": 56,
   "id": "7ea3923d",
   "metadata": {
    "execution": {
     "iopub.execute_input": "2022-11-11T21:12:31.181933Z",
     "iopub.status.busy": "2022-11-11T21:12:31.181143Z",
     "iopub.status.idle": "2022-11-11T21:12:31.190794Z",
     "shell.execute_reply": "2022-11-11T21:12:31.189381Z"
    },
    "papermill": {
     "duration": 0.18763,
     "end_time": "2022-11-11T21:12:31.193322",
     "exception": false,
     "start_time": "2022-11-11T21:12:31.005692",
     "status": "completed"
    },
    "tags": []
   },
   "outputs": [
    {
     "name": "stdout",
     "output_type": "stream",
     "text": [
      "              precision    recall  f1-score   support\n",
      "\n",
      "           0       1.00      1.00      1.00        40\n",
      "           1       1.00      1.00      1.00        64\n",
      "\n",
      "    accuracy                           1.00       104\n",
      "   macro avg       1.00      1.00      1.00       104\n",
      "weighted avg       1.00      1.00      1.00       104\n",
      "\n"
     ]
    }
   ],
   "source": [
    "print(classification_report(y_predict_r,y_test))"
   ]
  },
  {
   "cell_type": "markdown",
   "id": "6b1ac011",
   "metadata": {
    "papermill": {
     "duration": 0.149109,
     "end_time": "2022-11-11T21:12:31.489937",
     "exception": false,
     "start_time": "2022-11-11T21:12:31.340828",
     "status": "completed"
    },
    "tags": []
   },
   "source": [
    "# **Model evaluation (SVM) :**"
   ]
  },
  {
   "cell_type": "code",
   "execution_count": 57,
   "id": "730f3eb0",
   "metadata": {
    "execution": {
     "iopub.execute_input": "2022-11-11T21:12:31.798423Z",
     "iopub.status.busy": "2022-11-11T21:12:31.798015Z",
     "iopub.status.idle": "2022-11-11T21:12:31.814553Z",
     "shell.execute_reply": "2022-11-11T21:12:31.813343Z"
    },
    "papermill": {
     "duration": 0.171568,
     "end_time": "2022-11-11T21:12:31.816936",
     "exception": false,
     "start_time": "2022-11-11T21:12:31.645368",
     "status": "completed"
    },
    "tags": []
   },
   "outputs": [
    {
     "data": {
      "text/html": [
       "<style>#sk-container-id-3 {color: black;background-color: white;}#sk-container-id-3 pre{padding: 0;}#sk-container-id-3 div.sk-toggleable {background-color: white;}#sk-container-id-3 label.sk-toggleable__label {cursor: pointer;display: block;width: 100%;margin-bottom: 0;padding: 0.3em;box-sizing: border-box;text-align: center;}#sk-container-id-3 label.sk-toggleable__label-arrow:before {content: \"▸\";float: left;margin-right: 0.25em;color: #696969;}#sk-container-id-3 label.sk-toggleable__label-arrow:hover:before {color: black;}#sk-container-id-3 div.sk-estimator:hover label.sk-toggleable__label-arrow:before {color: black;}#sk-container-id-3 div.sk-toggleable__content {max-height: 0;max-width: 0;overflow: hidden;text-align: left;background-color: #f0f8ff;}#sk-container-id-3 div.sk-toggleable__content pre {margin: 0.2em;color: black;border-radius: 0.25em;background-color: #f0f8ff;}#sk-container-id-3 input.sk-toggleable__control:checked~div.sk-toggleable__content {max-height: 200px;max-width: 100%;overflow: auto;}#sk-container-id-3 input.sk-toggleable__control:checked~label.sk-toggleable__label-arrow:before {content: \"▾\";}#sk-container-id-3 div.sk-estimator input.sk-toggleable__control:checked~label.sk-toggleable__label {background-color: #d4ebff;}#sk-container-id-3 div.sk-label input.sk-toggleable__control:checked~label.sk-toggleable__label {background-color: #d4ebff;}#sk-container-id-3 input.sk-hidden--visually {border: 0;clip: rect(1px 1px 1px 1px);clip: rect(1px, 1px, 1px, 1px);height: 1px;margin: -1px;overflow: hidden;padding: 0;position: absolute;width: 1px;}#sk-container-id-3 div.sk-estimator {font-family: monospace;background-color: #f0f8ff;border: 1px dotted black;border-radius: 0.25em;box-sizing: border-box;margin-bottom: 0.5em;}#sk-container-id-3 div.sk-estimator:hover {background-color: #d4ebff;}#sk-container-id-3 div.sk-parallel-item::after {content: \"\";width: 100%;border-bottom: 1px solid gray;flex-grow: 1;}#sk-container-id-3 div.sk-label:hover label.sk-toggleable__label {background-color: #d4ebff;}#sk-container-id-3 div.sk-serial::before {content: \"\";position: absolute;border-left: 1px solid gray;box-sizing: border-box;top: 0;bottom: 0;left: 50%;z-index: 0;}#sk-container-id-3 div.sk-serial {display: flex;flex-direction: column;align-items: center;background-color: white;padding-right: 0.2em;padding-left: 0.2em;position: relative;}#sk-container-id-3 div.sk-item {position: relative;z-index: 1;}#sk-container-id-3 div.sk-parallel {display: flex;align-items: stretch;justify-content: center;background-color: white;position: relative;}#sk-container-id-3 div.sk-item::before, #sk-container-id-3 div.sk-parallel-item::before {content: \"\";position: absolute;border-left: 1px solid gray;box-sizing: border-box;top: 0;bottom: 0;left: 50%;z-index: -1;}#sk-container-id-3 div.sk-parallel-item {display: flex;flex-direction: column;z-index: 1;position: relative;background-color: white;}#sk-container-id-3 div.sk-parallel-item:first-child::after {align-self: flex-end;width: 50%;}#sk-container-id-3 div.sk-parallel-item:last-child::after {align-self: flex-start;width: 50%;}#sk-container-id-3 div.sk-parallel-item:only-child::after {width: 0;}#sk-container-id-3 div.sk-dashed-wrapped {border: 1px dashed gray;margin: 0 0.4em 0.5em 0.4em;box-sizing: border-box;padding-bottom: 0.4em;background-color: white;}#sk-container-id-3 div.sk-label label {font-family: monospace;font-weight: bold;display: inline-block;line-height: 1.2em;}#sk-container-id-3 div.sk-label-container {text-align: center;}#sk-container-id-3 div.sk-container {/* jupyter's `normalize.less` sets `[hidden] { display: none; }` but bootstrap.min.css set `[hidden] { display: none !important; }` so we also need the `!important` here to be able to override the default hidden behavior on the sphinx rendered scikit-learn.org. See: https://github.com/scikit-learn/scikit-learn/issues/21755 */display: inline-block !important;position: relative;}#sk-container-id-3 div.sk-text-repr-fallback {display: none;}</style><div id=\"sk-container-id-3\" class=\"sk-top-container\"><div class=\"sk-text-repr-fallback\"><pre>SVC(kernel=&#x27;linear&#x27;, random_state=0)</pre><b>In a Jupyter environment, please rerun this cell to show the HTML representation or trust the notebook. <br />On GitHub, the HTML representation is unable to render, please try loading this page with nbviewer.org.</b></div><div class=\"sk-container\" hidden><div class=\"sk-item\"><div class=\"sk-estimator sk-toggleable\"><input class=\"sk-toggleable__control sk-hidden--visually\" id=\"sk-estimator-id-3\" type=\"checkbox\" checked><label for=\"sk-estimator-id-3\" class=\"sk-toggleable__label sk-toggleable__label-arrow\">SVC</label><div class=\"sk-toggleable__content\"><pre>SVC(kernel=&#x27;linear&#x27;, random_state=0)</pre></div></div></div></div></div>"
      ],
      "text/plain": [
       "SVC(kernel='linear', random_state=0)"
      ]
     },
     "execution_count": 57,
     "metadata": {},
     "output_type": "execute_result"
    }
   ],
   "source": [
    "sv=SVC(kernel='linear',random_state=0)\n",
    "sv.fit(x_train,y_train)"
   ]
  },
  {
   "cell_type": "code",
   "execution_count": 58,
   "id": "623034a5",
   "metadata": {
    "execution": {
     "iopub.execute_input": "2022-11-11T21:12:32.113947Z",
     "iopub.status.busy": "2022-11-11T21:12:32.113572Z",
     "iopub.status.idle": "2022-11-11T21:12:32.186972Z",
     "shell.execute_reply": "2022-11-11T21:12:32.185872Z"
    },
    "papermill": {
     "duration": 0.225438,
     "end_time": "2022-11-11T21:12:32.189934",
     "exception": false,
     "start_time": "2022-11-11T21:12:31.964496",
     "status": "completed"
    },
    "tags": []
   },
   "outputs": [],
   "source": [
    "kfold = model_selection.KFold(n_splits=8, random_state=7,shuffle = True)\n",
    "\n",
    "acc_sv = cross_val_score(estimator=sv,X = x_train,y =y_train, cv = kfold,scoring='accuracy')"
   ]
  },
  {
   "cell_type": "code",
   "execution_count": 59,
   "id": "a6ab297b",
   "metadata": {
    "execution": {
     "iopub.execute_input": "2022-11-11T21:12:32.487902Z",
     "iopub.status.busy": "2022-11-11T21:12:32.487531Z",
     "iopub.status.idle": "2022-11-11T21:12:32.530640Z",
     "shell.execute_reply": "2022-11-11T21:12:32.529406Z"
    },
    "papermill": {
     "duration": 0.196211,
     "end_time": "2022-11-11T21:12:32.533843",
     "exception": false,
     "start_time": "2022-11-11T21:12:32.337632",
     "status": "completed"
    },
    "tags": []
   },
   "outputs": [
    {
     "data": {
      "text/html": [
       "<div>\n",
       "<style scoped>\n",
       "    .dataframe tbody tr th:only-of-type {\n",
       "        vertical-align: middle;\n",
       "    }\n",
       "\n",
       "    .dataframe tbody tr th {\n",
       "        vertical-align: top;\n",
       "    }\n",
       "\n",
       "    .dataframe thead th {\n",
       "        text-align: right;\n",
       "    }\n",
       "</style>\n",
       "<table border=\"1\" class=\"dataframe\">\n",
       "  <thead>\n",
       "    <tr style=\"text-align: right;\">\n",
       "      <th></th>\n",
       "      <th>Model</th>\n",
       "      <th>Accuracy</th>\n",
       "      <th>Cross Val Accuracy</th>\n",
       "      <th>Precision</th>\n",
       "      <th>Recall</th>\n",
       "      <th>F1 Score</th>\n",
       "      <th>ROC</th>\n",
       "    </tr>\n",
       "  </thead>\n",
       "  <tbody>\n",
       "    <tr>\n",
       "      <th>0</th>\n",
       "      <td>Logistic Regression</td>\n",
       "      <td>0.951923</td>\n",
       "      <td>0.915865</td>\n",
       "      <td>0.940299</td>\n",
       "      <td>0.984375</td>\n",
       "      <td>0.961832</td>\n",
       "      <td>0.942187</td>\n",
       "    </tr>\n",
       "    <tr>\n",
       "      <th>1</th>\n",
       "      <td>Random Forest</td>\n",
       "      <td>1.000000</td>\n",
       "      <td>0.973558</td>\n",
       "      <td>1.000000</td>\n",
       "      <td>1.000000</td>\n",
       "      <td>1.000000</td>\n",
       "      <td>1.000000</td>\n",
       "    </tr>\n",
       "    <tr>\n",
       "      <th>2</th>\n",
       "      <td>SVC</td>\n",
       "      <td>1.000000</td>\n",
       "      <td>0.913462</td>\n",
       "      <td>1.000000</td>\n",
       "      <td>1.000000</td>\n",
       "      <td>1.000000</td>\n",
       "      <td>1.000000</td>\n",
       "    </tr>\n",
       "  </tbody>\n",
       "</table>\n",
       "</div>"
      ],
      "text/plain": [
       "                 Model  Accuracy  Cross Val Accuracy  Precision    Recall  \\\n",
       "0  Logistic Regression  0.951923            0.915865   0.940299  0.984375   \n",
       "1        Random Forest  1.000000            0.973558   1.000000  1.000000   \n",
       "2                  SVC  1.000000            0.913462   1.000000  1.000000   \n",
       "\n",
       "   F1 Score       ROC  \n",
       "0  0.961832  0.942187  \n",
       "1  1.000000  1.000000  \n",
       "2  1.000000  1.000000  "
      ]
     },
     "execution_count": 59,
     "metadata": {},
     "output_type": "execute_result"
    }
   ],
   "source": [
    "# Model Evaluation\n",
    "y_predict_svm = rf.predict(x_test)\n",
    "roc=roc_auc_score(y_test, y_predict_svm)\n",
    "acc = accuracy_score(y_test, y_predict_svm)\n",
    "prec = precision_score(y_test, y_predict_svm)\n",
    "rec = recall_score(y_test, y_predict_svm)\n",
    "f1 = f1_score(y_test, y_predict_svm)\n",
    "\n",
    "model_results = pd.DataFrame([['SVC',acc, acc_sv.mean(),prec,rec, f1,roc]], columns = ['Model', 'Accuracy','Cross Val Accuracy', 'Precision', 'Recall', 'F1 Score','ROC'])\n",
    "\n",
    "results = results.append(model_results, ignore_index = True)\n",
    "#results.drop(results.index[len(results)-1])\n",
    "#results = results.drop(results.index[[2]], inplace=True,axis =1)\n",
    "results.head()"
   ]
  },
  {
   "cell_type": "code",
   "execution_count": 60,
   "id": "98d919bd",
   "metadata": {
    "execution": {
     "iopub.execute_input": "2022-11-11T21:12:32.858592Z",
     "iopub.status.busy": "2022-11-11T21:12:32.857888Z",
     "iopub.status.idle": "2022-11-11T21:12:32.869976Z",
     "shell.execute_reply": "2022-11-11T21:12:32.868650Z"
    },
    "papermill": {
     "duration": 0.175737,
     "end_time": "2022-11-11T21:12:32.872440",
     "exception": false,
     "start_time": "2022-11-11T21:12:32.696703",
     "status": "completed"
    },
    "tags": []
   },
   "outputs": [
    {
     "name": "stdout",
     "output_type": "stream",
     "text": [
      "              precision    recall  f1-score   support\n",
      "\n",
      "           0       1.00      1.00      1.00        40\n",
      "           1       1.00      1.00      1.00        64\n",
      "\n",
      "    accuracy                           1.00       104\n",
      "   macro avg       1.00      1.00      1.00       104\n",
      "weighted avg       1.00      1.00      1.00       104\n",
      "\n"
     ]
    }
   ],
   "source": [
    "print(classification_report(y_predict_svm,y_test))"
   ]
  },
  {
   "cell_type": "markdown",
   "id": "5a344ddc",
   "metadata": {
    "papermill": {
     "duration": 0.148266,
     "end_time": "2022-11-11T21:12:33.169334",
     "exception": false,
     "start_time": "2022-11-11T21:12:33.021068",
     "status": "completed"
    },
    "tags": []
   },
   "source": [
    "# **Model evaluation (KNN) :**\n",
    "We have tested with k values 1 to 10 to check which one is giving the best result"
   ]
  },
  {
   "cell_type": "code",
   "execution_count": 61,
   "id": "774b064d",
   "metadata": {
    "execution": {
     "iopub.execute_input": "2022-11-11T21:12:33.468710Z",
     "iopub.status.busy": "2022-11-11T21:12:33.467676Z",
     "iopub.status.idle": "2022-11-11T21:12:33.623930Z",
     "shell.execute_reply": "2022-11-11T21:12:33.622279Z"
    },
    "papermill": {
     "duration": 0.311265,
     "end_time": "2022-11-11T21:12:33.628537",
     "exception": false,
     "start_time": "2022-11-11T21:12:33.317272",
     "status": "completed"
    },
    "tags": []
   },
   "outputs": [],
   "source": [
    "scores = []\n",
    "dic = {}\n",
    "for i in range(1,10):\n",
    "    knn = KNeighborsClassifier(n_neighbors = i,metric='minkowski',p=2)  #minkowski and p = 2 ,euclidean distance\n",
    "    knn.fit(x_train,y_train)\n",
    "    predict = knn.predict(x_test)\n",
    "    score = accuracy_score(predict, y_test)\n",
    "    scores.append(round(100*score,2))\n",
    "   # print(i)\n",
    "    #print(score)"
   ]
  },
  {
   "cell_type": "code",
   "execution_count": 62,
   "id": "28fe1057",
   "metadata": {
    "execution": {
     "iopub.execute_input": "2022-11-11T21:12:33.988253Z",
     "iopub.status.busy": "2022-11-11T21:12:33.987585Z",
     "iopub.status.idle": "2022-11-11T21:12:33.994740Z",
     "shell.execute_reply": "2022-11-11T21:12:33.993520Z"
    },
    "papermill": {
     "duration": 0.159719,
     "end_time": "2022-11-11T21:12:33.998224",
     "exception": false,
     "start_time": "2022-11-11T21:12:33.838505",
     "status": "completed"
    },
    "tags": []
   },
   "outputs": [
    {
     "name": "stdout",
     "output_type": "stream",
     "text": [
      "[99.04, 99.04, 98.08, 98.08, 97.12, 97.12, 97.12, 96.15, 96.15]\n"
     ]
    }
   ],
   "source": [
    "print(sorted(scores, reverse = True))"
   ]
  },
  {
   "cell_type": "code",
   "execution_count": 63,
   "id": "288cf84d",
   "metadata": {
    "execution": {
     "iopub.execute_input": "2022-11-11T21:12:34.294734Z",
     "iopub.status.busy": "2022-11-11T21:12:34.294322Z",
     "iopub.status.idle": "2022-11-11T21:12:34.464343Z",
     "shell.execute_reply": "2022-11-11T21:12:34.463176Z"
    },
    "papermill": {
     "duration": 0.322761,
     "end_time": "2022-11-11T21:12:34.468326",
     "exception": false,
     "start_time": "2022-11-11T21:12:34.145565",
     "status": "completed"
    },
    "tags": []
   },
   "outputs": [
    {
     "data": {
      "text/html": [
       "<div>\n",
       "<style scoped>\n",
       "    .dataframe tbody tr th:only-of-type {\n",
       "        vertical-align: middle;\n",
       "    }\n",
       "\n",
       "    .dataframe tbody tr th {\n",
       "        vertical-align: top;\n",
       "    }\n",
       "\n",
       "    .dataframe thead th {\n",
       "        text-align: right;\n",
       "    }\n",
       "</style>\n",
       "<table border=\"1\" class=\"dataframe\">\n",
       "  <thead>\n",
       "    <tr style=\"text-align: right;\">\n",
       "      <th></th>\n",
       "      <th>Model</th>\n",
       "      <th>Accuracy</th>\n",
       "      <th>Cross Val Accuracy</th>\n",
       "      <th>Precision</th>\n",
       "      <th>Recall</th>\n",
       "      <th>F1 Score</th>\n",
       "      <th>ROC</th>\n",
       "    </tr>\n",
       "  </thead>\n",
       "  <tbody>\n",
       "    <tr>\n",
       "      <th>0</th>\n",
       "      <td>Logistic Regression</td>\n",
       "      <td>0.951923</td>\n",
       "      <td>0.915865</td>\n",
       "      <td>0.940299</td>\n",
       "      <td>0.984375</td>\n",
       "      <td>0.961832</td>\n",
       "      <td>0.942187</td>\n",
       "    </tr>\n",
       "    <tr>\n",
       "      <th>1</th>\n",
       "      <td>Random Forest</td>\n",
       "      <td>1.000000</td>\n",
       "      <td>0.973558</td>\n",
       "      <td>1.000000</td>\n",
       "      <td>1.000000</td>\n",
       "      <td>1.000000</td>\n",
       "      <td>1.000000</td>\n",
       "    </tr>\n",
       "    <tr>\n",
       "      <th>2</th>\n",
       "      <td>SVC</td>\n",
       "      <td>1.000000</td>\n",
       "      <td>0.913462</td>\n",
       "      <td>1.000000</td>\n",
       "      <td>1.000000</td>\n",
       "      <td>1.000000</td>\n",
       "      <td>1.000000</td>\n",
       "    </tr>\n",
       "    <tr>\n",
       "      <th>3</th>\n",
       "      <td>KNN</td>\n",
       "      <td>0.990385</td>\n",
       "      <td>0.959135</td>\n",
       "      <td>0.984615</td>\n",
       "      <td>1.000000</td>\n",
       "      <td>0.992248</td>\n",
       "      <td>1.000000</td>\n",
       "    </tr>\n",
       "  </tbody>\n",
       "</table>\n",
       "</div>"
      ],
      "text/plain": [
       "                 Model  Accuracy  Cross Val Accuracy  Precision    Recall  \\\n",
       "0  Logistic Regression  0.951923            0.915865   0.940299  0.984375   \n",
       "1        Random Forest  1.000000            0.973558   1.000000  1.000000   \n",
       "2                  SVC  1.000000            0.913462   1.000000  1.000000   \n",
       "3                  KNN  0.990385            0.959135   0.984615  1.000000   \n",
       "\n",
       "   F1 Score       ROC  \n",
       "0  0.961832  0.942187  \n",
       "1  1.000000  1.000000  \n",
       "2  1.000000  1.000000  \n",
       "3  0.992248  1.000000  "
      ]
     },
     "execution_count": 63,
     "metadata": {},
     "output_type": "execute_result"
    }
   ],
   "source": [
    "# Model Evaluation\n",
    "knn = KNeighborsClassifier(n_neighbors = 1,metric='minkowski',p=2)  #minkowski and p = 2 ,euclidean distance\n",
    "knn.fit(x_train,y_train)\n",
    "predict = knn.predict(x_test)\n",
    "score = accuracy_score(predict, y_test)\n",
    "\n",
    "#y_predict_svm = rf.predict(x_test)\n",
    "#roc=roc_auc_score(y_test, y_predict_svm)\n",
    "#acc = accuracy_score(y_test, y_predict_svm)\n",
    "prec = precision_score(y_test, predict)\n",
    "rec = recall_score(y_test, predict)\n",
    "f1 = f1_score(y_test, predict)\n",
    "\n",
    "\n",
    "kfold = model_selection.KFold(n_splits=8, random_state=7,shuffle = True)\n",
    "\n",
    "acc_knn = cross_val_score(estimator=knn,X = x_train,y =y_train, cv = kfold,scoring='accuracy')\n",
    "\n",
    "\n",
    "model_results = pd.DataFrame([['KNN',score, acc_knn.mean(),prec,rec, f1,roc]], columns = ['Model', 'Accuracy','Cross Val Accuracy', 'Precision', 'Recall', 'F1 Score','ROC'])\n",
    "\n",
    "results = results.append(model_results, ignore_index = True)\n",
    "#results.drop(results.index[len(results)-1])\n",
    "#results = results.drop(results.index[[3,5]], inplace=True)\n",
    "results"
   ]
  },
  {
   "cell_type": "markdown",
   "id": "ee4ba42c",
   "metadata": {
    "papermill": {
     "duration": 0.15996,
     "end_time": "2022-11-11T21:12:34.829714",
     "exception": false,
     "start_time": "2022-11-11T21:12:34.669754",
     "status": "completed"
    },
    "tags": []
   },
   "source": [
    "# **Model evaluation (Naive bayes-Gaussian NB) :**"
   ]
  },
  {
   "cell_type": "code",
   "execution_count": 64,
   "id": "71212138",
   "metadata": {
    "execution": {
     "iopub.execute_input": "2022-11-11T21:12:35.171285Z",
     "iopub.status.busy": "2022-11-11T21:12:35.170877Z",
     "iopub.status.idle": "2022-11-11T21:12:35.182895Z",
     "shell.execute_reply": "2022-11-11T21:12:35.181559Z"
    },
    "papermill": {
     "duration": 0.179108,
     "end_time": "2022-11-11T21:12:35.185399",
     "exception": false,
     "start_time": "2022-11-11T21:12:35.006291",
     "status": "completed"
    },
    "tags": []
   },
   "outputs": [
    {
     "data": {
      "text/html": [
       "<style>#sk-container-id-4 {color: black;background-color: white;}#sk-container-id-4 pre{padding: 0;}#sk-container-id-4 div.sk-toggleable {background-color: white;}#sk-container-id-4 label.sk-toggleable__label {cursor: pointer;display: block;width: 100%;margin-bottom: 0;padding: 0.3em;box-sizing: border-box;text-align: center;}#sk-container-id-4 label.sk-toggleable__label-arrow:before {content: \"▸\";float: left;margin-right: 0.25em;color: #696969;}#sk-container-id-4 label.sk-toggleable__label-arrow:hover:before {color: black;}#sk-container-id-4 div.sk-estimator:hover label.sk-toggleable__label-arrow:before {color: black;}#sk-container-id-4 div.sk-toggleable__content {max-height: 0;max-width: 0;overflow: hidden;text-align: left;background-color: #f0f8ff;}#sk-container-id-4 div.sk-toggleable__content pre {margin: 0.2em;color: black;border-radius: 0.25em;background-color: #f0f8ff;}#sk-container-id-4 input.sk-toggleable__control:checked~div.sk-toggleable__content {max-height: 200px;max-width: 100%;overflow: auto;}#sk-container-id-4 input.sk-toggleable__control:checked~label.sk-toggleable__label-arrow:before {content: \"▾\";}#sk-container-id-4 div.sk-estimator input.sk-toggleable__control:checked~label.sk-toggleable__label {background-color: #d4ebff;}#sk-container-id-4 div.sk-label input.sk-toggleable__control:checked~label.sk-toggleable__label {background-color: #d4ebff;}#sk-container-id-4 input.sk-hidden--visually {border: 0;clip: rect(1px 1px 1px 1px);clip: rect(1px, 1px, 1px, 1px);height: 1px;margin: -1px;overflow: hidden;padding: 0;position: absolute;width: 1px;}#sk-container-id-4 div.sk-estimator {font-family: monospace;background-color: #f0f8ff;border: 1px dotted black;border-radius: 0.25em;box-sizing: border-box;margin-bottom: 0.5em;}#sk-container-id-4 div.sk-estimator:hover {background-color: #d4ebff;}#sk-container-id-4 div.sk-parallel-item::after {content: \"\";width: 100%;border-bottom: 1px solid gray;flex-grow: 1;}#sk-container-id-4 div.sk-label:hover label.sk-toggleable__label {background-color: #d4ebff;}#sk-container-id-4 div.sk-serial::before {content: \"\";position: absolute;border-left: 1px solid gray;box-sizing: border-box;top: 0;bottom: 0;left: 50%;z-index: 0;}#sk-container-id-4 div.sk-serial {display: flex;flex-direction: column;align-items: center;background-color: white;padding-right: 0.2em;padding-left: 0.2em;position: relative;}#sk-container-id-4 div.sk-item {position: relative;z-index: 1;}#sk-container-id-4 div.sk-parallel {display: flex;align-items: stretch;justify-content: center;background-color: white;position: relative;}#sk-container-id-4 div.sk-item::before, #sk-container-id-4 div.sk-parallel-item::before {content: \"\";position: absolute;border-left: 1px solid gray;box-sizing: border-box;top: 0;bottom: 0;left: 50%;z-index: -1;}#sk-container-id-4 div.sk-parallel-item {display: flex;flex-direction: column;z-index: 1;position: relative;background-color: white;}#sk-container-id-4 div.sk-parallel-item:first-child::after {align-self: flex-end;width: 50%;}#sk-container-id-4 div.sk-parallel-item:last-child::after {align-self: flex-start;width: 50%;}#sk-container-id-4 div.sk-parallel-item:only-child::after {width: 0;}#sk-container-id-4 div.sk-dashed-wrapped {border: 1px dashed gray;margin: 0 0.4em 0.5em 0.4em;box-sizing: border-box;padding-bottom: 0.4em;background-color: white;}#sk-container-id-4 div.sk-label label {font-family: monospace;font-weight: bold;display: inline-block;line-height: 1.2em;}#sk-container-id-4 div.sk-label-container {text-align: center;}#sk-container-id-4 div.sk-container {/* jupyter's `normalize.less` sets `[hidden] { display: none; }` but bootstrap.min.css set `[hidden] { display: none !important; }` so we also need the `!important` here to be able to override the default hidden behavior on the sphinx rendered scikit-learn.org. See: https://github.com/scikit-learn/scikit-learn/issues/21755 */display: inline-block !important;position: relative;}#sk-container-id-4 div.sk-text-repr-fallback {display: none;}</style><div id=\"sk-container-id-4\" class=\"sk-top-container\"><div class=\"sk-text-repr-fallback\"><pre>GaussianNB()</pre><b>In a Jupyter environment, please rerun this cell to show the HTML representation or trust the notebook. <br />On GitHub, the HTML representation is unable to render, please try loading this page with nbviewer.org.</b></div><div class=\"sk-container\" hidden><div class=\"sk-item\"><div class=\"sk-estimator sk-toggleable\"><input class=\"sk-toggleable__control sk-hidden--visually\" id=\"sk-estimator-id-4\" type=\"checkbox\" checked><label for=\"sk-estimator-id-4\" class=\"sk-toggleable__label sk-toggleable__label-arrow\">GaussianNB</label><div class=\"sk-toggleable__content\"><pre>GaussianNB()</pre></div></div></div></div></div>"
      ],
      "text/plain": [
       "GaussianNB()"
      ]
     },
     "execution_count": 64,
     "metadata": {},
     "output_type": "execute_result"
    }
   ],
   "source": [
    "gb=GaussianNB()\n",
    "gb.fit(x_train,y_train)\n"
   ]
  },
  {
   "cell_type": "code",
   "execution_count": 65,
   "id": "da414068",
   "metadata": {
    "execution": {
     "iopub.execute_input": "2022-11-11T21:12:35.490276Z",
     "iopub.status.busy": "2022-11-11T21:12:35.489435Z",
     "iopub.status.idle": "2022-11-11T21:12:35.541198Z",
     "shell.execute_reply": "2022-11-11T21:12:35.540174Z"
    },
    "papermill": {
     "duration": 0.208242,
     "end_time": "2022-11-11T21:12:35.544386",
     "exception": false,
     "start_time": "2022-11-11T21:12:35.336144",
     "status": "completed"
    },
    "tags": []
   },
   "outputs": [],
   "source": [
    "kfold = model_selection.KFold(n_splits=8, random_state=7,shuffle = True)\n",
    "\n",
    "acc_gb = cross_val_score(estimator=gb,X = x_train,y =y_train, cv = kfold,scoring='accuracy')"
   ]
  },
  {
   "cell_type": "code",
   "execution_count": 66,
   "id": "95e9d1d5",
   "metadata": {
    "execution": {
     "iopub.execute_input": "2022-11-11T21:12:35.870544Z",
     "iopub.status.busy": "2022-11-11T21:12:35.870076Z",
     "iopub.status.idle": "2022-11-11T21:12:35.898685Z",
     "shell.execute_reply": "2022-11-11T21:12:35.897287Z"
    },
    "papermill": {
     "duration": 0.19442,
     "end_time": "2022-11-11T21:12:35.901407",
     "exception": false,
     "start_time": "2022-11-11T21:12:35.706987",
     "status": "completed"
    },
    "tags": []
   },
   "outputs": [
    {
     "data": {
      "text/html": [
       "<div>\n",
       "<style scoped>\n",
       "    .dataframe tbody tr th:only-of-type {\n",
       "        vertical-align: middle;\n",
       "    }\n",
       "\n",
       "    .dataframe tbody tr th {\n",
       "        vertical-align: top;\n",
       "    }\n",
       "\n",
       "    .dataframe thead th {\n",
       "        text-align: right;\n",
       "    }\n",
       "</style>\n",
       "<table border=\"1\" class=\"dataframe\">\n",
       "  <thead>\n",
       "    <tr style=\"text-align: right;\">\n",
       "      <th></th>\n",
       "      <th>Model</th>\n",
       "      <th>Accuracy</th>\n",
       "      <th>Cross Val Accuracy</th>\n",
       "      <th>Precision</th>\n",
       "      <th>Recall</th>\n",
       "      <th>F1 Score</th>\n",
       "      <th>ROC</th>\n",
       "    </tr>\n",
       "  </thead>\n",
       "  <tbody>\n",
       "    <tr>\n",
       "      <th>0</th>\n",
       "      <td>Logistic Regression</td>\n",
       "      <td>0.951923</td>\n",
       "      <td>0.915865</td>\n",
       "      <td>0.940299</td>\n",
       "      <td>0.984375</td>\n",
       "      <td>0.961832</td>\n",
       "      <td>0.942187</td>\n",
       "    </tr>\n",
       "    <tr>\n",
       "      <th>1</th>\n",
       "      <td>Random Forest</td>\n",
       "      <td>1.000000</td>\n",
       "      <td>0.973558</td>\n",
       "      <td>1.000000</td>\n",
       "      <td>1.000000</td>\n",
       "      <td>1.000000</td>\n",
       "      <td>1.000000</td>\n",
       "    </tr>\n",
       "    <tr>\n",
       "      <th>2</th>\n",
       "      <td>SVC</td>\n",
       "      <td>1.000000</td>\n",
       "      <td>0.913462</td>\n",
       "      <td>1.000000</td>\n",
       "      <td>1.000000</td>\n",
       "      <td>1.000000</td>\n",
       "      <td>1.000000</td>\n",
       "    </tr>\n",
       "    <tr>\n",
       "      <th>3</th>\n",
       "      <td>KNN</td>\n",
       "      <td>0.990385</td>\n",
       "      <td>0.959135</td>\n",
       "      <td>0.984615</td>\n",
       "      <td>1.000000</td>\n",
       "      <td>0.992248</td>\n",
       "      <td>1.000000</td>\n",
       "    </tr>\n",
       "    <tr>\n",
       "      <th>4</th>\n",
       "      <td>GB</td>\n",
       "      <td>0.884615</td>\n",
       "      <td>0.882212</td>\n",
       "      <td>0.861111</td>\n",
       "      <td>0.968750</td>\n",
       "      <td>0.911765</td>\n",
       "      <td>0.859375</td>\n",
       "    </tr>\n",
       "  </tbody>\n",
       "</table>\n",
       "</div>"
      ],
      "text/plain": [
       "                 Model  Accuracy  Cross Val Accuracy  Precision    Recall  \\\n",
       "0  Logistic Regression  0.951923            0.915865   0.940299  0.984375   \n",
       "1        Random Forest  1.000000            0.973558   1.000000  1.000000   \n",
       "2                  SVC  1.000000            0.913462   1.000000  1.000000   \n",
       "3                  KNN  0.990385            0.959135   0.984615  1.000000   \n",
       "4                   GB  0.884615            0.882212   0.861111  0.968750   \n",
       "\n",
       "   F1 Score       ROC  \n",
       "0  0.961832  0.942187  \n",
       "1  1.000000  1.000000  \n",
       "2  1.000000  1.000000  \n",
       "3  0.992248  1.000000  \n",
       "4  0.911765  0.859375  "
      ]
     },
     "execution_count": 66,
     "metadata": {},
     "output_type": "execute_result"
    }
   ],
   "source": [
    "# Model Evaluation\n",
    "y_predict_gb = gb.predict(x_test)\n",
    "roc=roc_auc_score(y_test, y_predict_gb)\n",
    "acc = accuracy_score(y_test, y_predict_gb)\n",
    "prec = precision_score(y_test, y_predict_gb)\n",
    "rec = recall_score(y_test, y_predict_gb)\n",
    "f1 = f1_score(y_test, y_predict_gb)\n",
    "\n",
    "model_results = pd.DataFrame([['GB',acc, acc_gb.mean(),prec,rec, f1,roc]], columns = ['Model', 'Accuracy','Cross Val Accuracy', 'Precision', 'Recall', 'F1 Score','ROC'])\n",
    "\n",
    "results = results.append(model_results, ignore_index = True)\n",
    "#results.drop(results.index[len(results)-1])\n",
    "#results = results.drop(results.index[[2]], inplace=True,axis =1)\n",
    "results.head()"
   ]
  },
  {
   "cell_type": "code",
   "execution_count": 67,
   "id": "963e6004",
   "metadata": {
    "papermill": {
     "duration": 0.153946,
     "end_time": "2022-11-11T21:12:36.205539",
     "exception": false,
     "start_time": "2022-11-11T21:12:36.051593",
     "status": "completed"
    },
    "tags": []
   },
   "outputs": [
    {
     "data": {
      "text/plain": [
       "['gb.joblib']"
      ]
     },
     "execution_count": 67,
     "metadata": {},
     "output_type": "execute_result"
    }
   ],
   "source": [
    "# export models\n",
    "import joblib\n",
    "filename = \"logic.joblib\"\n",
    "joblib.dump(logic, filename)\n",
    "filename = \"rf.joblib\"\n",
    "joblib.dump(rf, filename)\n",
    "filename = \"sv.joblib\"\n",
    "joblib.dump(sv, filename)\n",
    "filename = \"knn.joblib\"\n",
    "joblib.dump(knn, filename)\n",
    "filename = \"gb.joblib\"\n",
    "joblib.dump(gb, filename)"
   ]
  },
  {
   "cell_type": "code",
   "execution_count": null,
   "id": "c2a51aec",
   "metadata": {},
   "outputs": [],
   "source": []
  }
 ],
 "metadata": {
  "kernelspec": {
   "display_name": ".env",
   "language": "python",
   "name": "python3"
  },
  "language_info": {
   "codemirror_mode": {
    "name": "ipython",
    "version": 3
   },
   "file_extension": ".py",
   "mimetype": "text/x-python",
   "name": "python",
   "nbconvert_exporter": "python",
   "pygments_lexer": "ipython3",
   "version": "3.8.10"
  },
  "papermill": {
   "default_parameters": {},
   "duration": 106.982898,
   "end_time": "2022-11-11T21:12:38.981663",
   "environment_variables": {},
   "exception": null,
   "input_path": "__notebook__.ipynb",
   "output_path": "__notebook__.ipynb",
   "parameters": {},
   "start_time": "2022-11-11T21:10:51.998765",
   "version": "2.3.4"
  },
  "vscode": {
   "interpreter": {
    "hash": "daa0377fd6d116cca581a736e0c0870b5e8fdbb7df2fbca7a8f6a2a86c8e2e95"
   }
  },
  "widgets": {
   "application/vnd.jupyter.widget-state+json": {
    "state": {
     "066388f555b04258bc79975be612995d": {
      "model_module": "@jupyter-widgets/controls",
      "model_module_version": "1.5.0",
      "model_name": "HTMLModel",
      "state": {
       "_dom_classes": [],
       "_model_module": "@jupyter-widgets/controls",
       "_model_module_version": "1.5.0",
       "_model_name": "HTMLModel",
       "_view_count": null,
       "_view_module": "@jupyter-widgets/controls",
       "_view_module_version": "1.5.0",
       "_view_name": "HTMLView",
       "description": "",
       "description_tooltip": null,
       "layout": "IPY_MODEL_1dd7704516a94caeb03119e530a74b85",
       "placeholder": "​",
       "style": "IPY_MODEL_71216f705b824f2599531d626674256b",
       "value": " 1/1 [00:00&lt;00:00, 31.46it/s]"
      }
     },
     "09f1ab6190764090a88d6602eb2a76e3": {
      "model_module": "@jupyter-widgets/base",
      "model_module_version": "1.2.0",
      "model_name": "LayoutModel",
      "state": {
       "_model_module": "@jupyter-widgets/base",
       "_model_module_version": "1.2.0",
       "_model_name": "LayoutModel",
       "_view_count": null,
       "_view_module": "@jupyter-widgets/base",
       "_view_module_version": "1.2.0",
       "_view_name": "LayoutView",
       "align_content": null,
       "align_items": null,
       "align_self": null,
       "border": null,
       "bottom": null,
       "display": null,
       "flex": null,
       "flex_flow": null,
       "grid_area": null,
       "grid_auto_columns": null,
       "grid_auto_flow": null,
       "grid_auto_rows": null,
       "grid_column": null,
       "grid_gap": null,
       "grid_row": null,
       "grid_template_areas": null,
       "grid_template_columns": null,
       "grid_template_rows": null,
       "height": null,
       "justify_content": null,
       "justify_items": null,
       "left": null,
       "margin": null,
       "max_height": null,
       "max_width": null,
       "min_height": null,
       "min_width": null,
       "object_fit": null,
       "object_position": null,
       "order": null,
       "overflow": null,
       "overflow_x": null,
       "overflow_y": null,
       "padding": null,
       "right": null,
       "top": null,
       "visibility": null,
       "width": null
      }
     },
     "0a621e3b84cb4387bbe57674d139f9ce": {
      "model_module": "@jupyter-widgets/controls",
      "model_module_version": "1.5.0",
      "model_name": "DescriptionStyleModel",
      "state": {
       "_model_module": "@jupyter-widgets/controls",
       "_model_module_version": "1.5.0",
       "_model_name": "DescriptionStyleModel",
       "_view_count": null,
       "_view_module": "@jupyter-widgets/base",
       "_view_module_version": "1.2.0",
       "_view_name": "StyleView",
       "description_width": ""
      }
     },
     "0aa17d9c42484c1a8d19f3eca589b432": {
      "model_module": "@jupyter-widgets/controls",
      "model_module_version": "1.5.0",
      "model_name": "HBoxModel",
      "state": {
       "_dom_classes": [],
       "_model_module": "@jupyter-widgets/controls",
       "_model_module_version": "1.5.0",
       "_model_name": "HBoxModel",
       "_view_count": null,
       "_view_module": "@jupyter-widgets/controls",
       "_view_module_version": "1.5.0",
       "_view_name": "HBoxView",
       "box_style": "",
       "children": [
        "IPY_MODEL_b4b624fa7e0c4107ab96981be94ac5ad",
        "IPY_MODEL_5c17d82891eb4007bb4d64979f62d129",
        "IPY_MODEL_90da7973ab7641438b8ad642844d7e7f"
       ],
       "layout": "IPY_MODEL_94c3cbc2b36643d3b0d1e1004c936352"
      }
     },
     "0d62d79d63d243049645e9441d9d1782": {
      "model_module": "@jupyter-widgets/controls",
      "model_module_version": "1.5.0",
      "model_name": "HTMLModel",
      "state": {
       "_dom_classes": [],
       "_model_module": "@jupyter-widgets/controls",
       "_model_module_version": "1.5.0",
       "_model_name": "HTMLModel",
       "_view_count": null,
       "_view_module": "@jupyter-widgets/controls",
       "_view_module_version": "1.5.0",
       "_view_name": "HTMLView",
       "description": "",
       "description_tooltip": null,
       "layout": "IPY_MODEL_677900d98f9d4ad2a10ebcdcd390e554",
       "placeholder": "​",
       "style": "IPY_MODEL_eefd703f272446b29e03ea0d8a51a74e",
       "value": " [100%]   00:01 -&gt; (00:00 left)"
      }
     },
     "0ebf933a8ffa46918de1324ecbe77ef5": {
      "model_module": "@jupyter-widgets/base",
      "model_module_version": "1.2.0",
      "model_name": "LayoutModel",
      "state": {
       "_model_module": "@jupyter-widgets/base",
       "_model_module_version": "1.2.0",
       "_model_name": "LayoutModel",
       "_view_count": null,
       "_view_module": "@jupyter-widgets/base",
       "_view_module_version": "1.2.0",
       "_view_name": "LayoutView",
       "align_content": null,
       "align_items": null,
       "align_self": null,
       "border": null,
       "bottom": null,
       "display": null,
       "flex": null,
       "flex_flow": null,
       "grid_area": null,
       "grid_auto_columns": null,
       "grid_auto_flow": null,
       "grid_auto_rows": null,
       "grid_column": null,
       "grid_gap": null,
       "grid_row": null,
       "grid_template_areas": null,
       "grid_template_columns": null,
       "grid_template_rows": null,
       "height": null,
       "justify_content": null,
       "justify_items": null,
       "left": null,
       "margin": null,
       "max_height": null,
       "max_width": null,
       "min_height": null,
       "min_width": null,
       "object_fit": null,
       "object_position": null,
       "order": null,
       "overflow": null,
       "overflow_x": null,
       "overflow_y": null,
       "padding": null,
       "right": null,
       "top": null,
       "visibility": null,
       "width": null
      }
     },
     "10a7d43dcb1a4afe907c82b0b4fae4e1": {
      "model_module": "@jupyter-widgets/controls",
      "model_module_version": "1.5.0",
      "model_name": "FloatProgressModel",
      "state": {
       "_dom_classes": [],
       "_model_module": "@jupyter-widgets/controls",
       "_model_module_version": "1.5.0",
       "_model_name": "FloatProgressModel",
       "_view_count": null,
       "_view_module": "@jupyter-widgets/controls",
       "_view_module_version": "1.5.0",
       "_view_name": "ProgressView",
       "bar_style": "success",
       "description": "",
       "description_tooltip": null,
       "layout": "IPY_MODEL_5f1cb476531d45a887321e4249db2c39",
       "max": 5,
       "min": 0,
       "orientation": "horizontal",
       "style": "IPY_MODEL_6047109f943d4e8c94ef417a77cccbf0",
       "value": 5
      }
     },
     "1221484284a8413991382b483bb7c988": {
      "model_module": "@jupyter-widgets/base",
      "model_module_version": "1.2.0",
      "model_name": "LayoutModel",
      "state": {
       "_model_module": "@jupyter-widgets/base",
       "_model_module_version": "1.2.0",
       "_model_name": "LayoutModel",
       "_view_count": null,
       "_view_module": "@jupyter-widgets/base",
       "_view_module_version": "1.2.0",
       "_view_name": "LayoutView",
       "align_content": null,
       "align_items": null,
       "align_self": null,
       "border": null,
       "bottom": null,
       "display": null,
       "flex": null,
       "flex_flow": null,
       "grid_area": null,
       "grid_auto_columns": null,
       "grid_auto_flow": null,
       "grid_auto_rows": null,
       "grid_column": null,
       "grid_gap": null,
       "grid_row": null,
       "grid_template_areas": null,
       "grid_template_columns": null,
       "grid_template_rows": null,
       "height": null,
       "justify_content": null,
       "justify_items": null,
       "left": null,
       "margin": null,
       "max_height": null,
       "max_width": null,
       "min_height": null,
       "min_width": null,
       "object_fit": null,
       "object_position": null,
       "order": null,
       "overflow": null,
       "overflow_x": null,
       "overflow_y": null,
       "padding": null,
       "right": null,
       "top": null,
       "visibility": null,
       "width": null
      }
     },
     "15109bb60abd4fbaa595a1fd9e0b434c": {
      "model_module": "@jupyter-widgets/controls",
      "model_module_version": "1.5.0",
      "model_name": "ProgressStyleModel",
      "state": {
       "_model_module": "@jupyter-widgets/controls",
       "_model_module_version": "1.5.0",
       "_model_name": "ProgressStyleModel",
       "_view_count": null,
       "_view_module": "@jupyter-widgets/base",
       "_view_module_version": "1.2.0",
       "_view_name": "StyleView",
       "bar_color": null,
       "description_width": ""
      }
     },
     "1dd7704516a94caeb03119e530a74b85": {
      "model_module": "@jupyter-widgets/base",
      "model_module_version": "1.2.0",
      "model_name": "LayoutModel",
      "state": {
       "_model_module": "@jupyter-widgets/base",
       "_model_module_version": "1.2.0",
       "_model_name": "LayoutModel",
       "_view_count": null,
       "_view_module": "@jupyter-widgets/base",
       "_view_module_version": "1.2.0",
       "_view_name": "LayoutView",
       "align_content": null,
       "align_items": null,
       "align_self": null,
       "border": null,
       "bottom": null,
       "display": null,
       "flex": null,
       "flex_flow": null,
       "grid_area": null,
       "grid_auto_columns": null,
       "grid_auto_flow": null,
       "grid_auto_rows": null,
       "grid_column": null,
       "grid_gap": null,
       "grid_row": null,
       "grid_template_areas": null,
       "grid_template_columns": null,
       "grid_template_rows": null,
       "height": null,
       "justify_content": null,
       "justify_items": null,
       "left": null,
       "margin": null,
       "max_height": null,
       "max_width": null,
       "min_height": null,
       "min_width": null,
       "object_fit": null,
       "object_position": null,
       "order": null,
       "overflow": null,
       "overflow_x": null,
       "overflow_y": null,
       "padding": null,
       "right": null,
       "top": null,
       "visibility": null,
       "width": null
      }
     },
     "249991677022448dbcba53a5f7f36cb8": {
      "model_module": "@jupyter-widgets/base",
      "model_module_version": "1.2.0",
      "model_name": "LayoutModel",
      "state": {
       "_model_module": "@jupyter-widgets/base",
       "_model_module_version": "1.2.0",
       "_model_name": "LayoutModel",
       "_view_count": null,
       "_view_module": "@jupyter-widgets/base",
       "_view_module_version": "1.2.0",
       "_view_name": "LayoutView",
       "align_content": null,
       "align_items": null,
       "align_self": null,
       "border": null,
       "bottom": null,
       "display": null,
       "flex": null,
       "flex_flow": null,
       "grid_area": null,
       "grid_auto_columns": null,
       "grid_auto_flow": null,
       "grid_auto_rows": null,
       "grid_column": null,
       "grid_gap": null,
       "grid_row": null,
       "grid_template_areas": null,
       "grid_template_columns": null,
       "grid_template_rows": null,
       "height": null,
       "justify_content": null,
       "justify_items": null,
       "left": null,
       "margin": null,
       "max_height": null,
       "max_width": null,
       "min_height": null,
       "min_width": null,
       "object_fit": null,
       "object_position": null,
       "order": null,
       "overflow": null,
       "overflow_x": null,
       "overflow_y": null,
       "padding": null,
       "right": null,
       "top": null,
       "visibility": null,
       "width": null
      }
     },
     "25b3f6fc15094d7ab095afe5b5831120": {
      "model_module": "@jupyter-widgets/base",
      "model_module_version": "1.2.0",
      "model_name": "LayoutModel",
      "state": {
       "_model_module": "@jupyter-widgets/base",
       "_model_module_version": "1.2.0",
       "_model_name": "LayoutModel",
       "_view_count": null,
       "_view_module": "@jupyter-widgets/base",
       "_view_module_version": "1.2.0",
       "_view_name": "LayoutView",
       "align_content": null,
       "align_items": null,
       "align_self": null,
       "border": null,
       "bottom": null,
       "display": null,
       "flex": null,
       "flex_flow": null,
       "grid_area": null,
       "grid_auto_columns": null,
       "grid_auto_flow": null,
       "grid_auto_rows": null,
       "grid_column": null,
       "grid_gap": null,
       "grid_row": null,
       "grid_template_areas": null,
       "grid_template_columns": null,
       "grid_template_rows": null,
       "height": null,
       "justify_content": null,
       "justify_items": null,
       "left": null,
       "margin": null,
       "max_height": null,
       "max_width": null,
       "min_height": null,
       "min_width": null,
       "object_fit": null,
       "object_position": null,
       "order": null,
       "overflow": null,
       "overflow_x": null,
       "overflow_y": null,
       "padding": null,
       "right": null,
       "top": null,
       "visibility": null,
       "width": null
      }
     },
     "36d0971476d34bac9bce92ab2938f180": {
      "model_module": "@jupyter-widgets/base",
      "model_module_version": "1.2.0",
      "model_name": "LayoutModel",
      "state": {
       "_model_module": "@jupyter-widgets/base",
       "_model_module_version": "1.2.0",
       "_model_name": "LayoutModel",
       "_view_count": null,
       "_view_module": "@jupyter-widgets/base",
       "_view_module_version": "1.2.0",
       "_view_name": "LayoutView",
       "align_content": null,
       "align_items": null,
       "align_self": null,
       "border": null,
       "bottom": null,
       "display": null,
       "flex": null,
       "flex_flow": null,
       "grid_area": null,
       "grid_auto_columns": null,
       "grid_auto_flow": null,
       "grid_auto_rows": null,
       "grid_column": null,
       "grid_gap": null,
       "grid_row": null,
       "grid_template_areas": null,
       "grid_template_columns": null,
       "grid_template_rows": null,
       "height": null,
       "justify_content": null,
       "justify_items": null,
       "left": null,
       "margin": null,
       "max_height": null,
       "max_width": null,
       "min_height": null,
       "min_width": null,
       "object_fit": null,
       "object_position": null,
       "order": null,
       "overflow": null,
       "overflow_x": null,
       "overflow_y": null,
       "padding": null,
       "right": null,
       "top": null,
       "visibility": null,
       "width": null
      }
     },
     "3be042bb63b44cc3b44d0c6b2bd7fad2": {
      "model_module": "@jupyter-widgets/controls",
      "model_module_version": "1.5.0",
      "model_name": "ProgressStyleModel",
      "state": {
       "_model_module": "@jupyter-widgets/controls",
       "_model_module_version": "1.5.0",
       "_model_name": "ProgressStyleModel",
       "_view_count": null,
       "_view_module": "@jupyter-widgets/base",
       "_view_module_version": "1.2.0",
       "_view_name": "StyleView",
       "bar_color": null,
       "description_width": ""
      }
     },
     "410f8bc83f894e7da738beed358b1fbf": {
      "model_module": "@jupyter-widgets/controls",
      "model_module_version": "1.5.0",
      "model_name": "DescriptionStyleModel",
      "state": {
       "_model_module": "@jupyter-widgets/controls",
       "_model_module_version": "1.5.0",
       "_model_name": "DescriptionStyleModel",
       "_view_count": null,
       "_view_module": "@jupyter-widgets/base",
       "_view_module_version": "1.2.0",
       "_view_name": "StyleView",
       "description_width": ""
      }
     },
     "42b648c5fc7a401c8067c05175adcf3a": {
      "model_module": "@jupyter-widgets/controls",
      "model_module_version": "1.5.0",
      "model_name": "HTMLModel",
      "state": {
       "_dom_classes": [],
       "_model_module": "@jupyter-widgets/controls",
       "_model_module_version": "1.5.0",
       "_model_name": "HTMLModel",
       "_view_count": null,
       "_view_module": "@jupyter-widgets/controls",
       "_view_module_version": "1.5.0",
       "_view_name": "HTMLView",
       "description": "",
       "description_tooltip": null,
       "layout": "IPY_MODEL_09f1ab6190764090a88d6602eb2a76e3",
       "placeholder": "​",
       "style": "IPY_MODEL_0a621e3b84cb4387bbe57674d139f9ce",
       "value": "Render HTML: 100%"
      }
     },
     "478deaf4961146ee9762e2a511ed1500": {
      "model_module": "@jupyter-widgets/base",
      "model_module_version": "1.2.0",
      "model_name": "LayoutModel",
      "state": {
       "_model_module": "@jupyter-widgets/base",
       "_model_module_version": "1.2.0",
       "_model_name": "LayoutModel",
       "_view_count": null,
       "_view_module": "@jupyter-widgets/base",
       "_view_module_version": "1.2.0",
       "_view_name": "LayoutView",
       "align_content": null,
       "align_items": null,
       "align_self": null,
       "border": null,
       "bottom": null,
       "display": null,
       "flex": null,
       "flex_flow": null,
       "grid_area": null,
       "grid_auto_columns": null,
       "grid_auto_flow": null,
       "grid_auto_rows": null,
       "grid_column": null,
       "grid_gap": null,
       "grid_row": null,
       "grid_template_areas": null,
       "grid_template_columns": null,
       "grid_template_rows": null,
       "height": null,
       "justify_content": null,
       "justify_items": null,
       "left": null,
       "margin": null,
       "max_height": null,
       "max_width": null,
       "min_height": null,
       "min_width": null,
       "object_fit": null,
       "object_position": null,
       "order": null,
       "overflow": null,
       "overflow_x": null,
       "overflow_y": null,
       "padding": null,
       "right": null,
       "top": null,
       "visibility": null,
       "width": null
      }
     },
     "4b2de17fee79408d88d4ca4bddfe17bd": {
      "model_module": "@jupyter-widgets/controls",
      "model_module_version": "1.5.0",
      "model_name": "HBoxModel",
      "state": {
       "_dom_classes": [],
       "_model_module": "@jupyter-widgets/controls",
       "_model_module_version": "1.5.0",
       "_model_name": "HBoxModel",
       "_view_count": null,
       "_view_module": "@jupyter-widgets/controls",
       "_view_module_version": "1.5.0",
       "_view_name": "HBoxView",
       "box_style": "",
       "children": [
        "IPY_MODEL_a333440bbaaf44348af72c1e45550049",
        "IPY_MODEL_abdcade99e37479f8c7c2b6ca399ecea",
        "IPY_MODEL_066388f555b04258bc79975be612995d"
       ],
       "layout": "IPY_MODEL_478deaf4961146ee9762e2a511ed1500"
      }
     },
     "4c3e0622e4c640eabeb6b32de0295217": {
      "model_module": "@jupyter-widgets/controls",
      "model_module_version": "1.5.0",
      "model_name": "DescriptionStyleModel",
      "state": {
       "_model_module": "@jupyter-widgets/controls",
       "_model_module_version": "1.5.0",
       "_model_name": "DescriptionStyleModel",
       "_view_count": null,
       "_view_module": "@jupyter-widgets/base",
       "_view_module_version": "1.2.0",
       "_view_name": "StyleView",
       "description_width": ""
      }
     },
     "568cdc97e6de4d4d81e767ce573496b2": {
      "model_module": "@jupyter-widgets/base",
      "model_module_version": "1.2.0",
      "model_name": "LayoutModel",
      "state": {
       "_model_module": "@jupyter-widgets/base",
       "_model_module_version": "1.2.0",
       "_model_name": "LayoutModel",
       "_view_count": null,
       "_view_module": "@jupyter-widgets/base",
       "_view_module_version": "1.2.0",
       "_view_name": "LayoutView",
       "align_content": null,
       "align_items": null,
       "align_self": null,
       "border": null,
       "bottom": null,
       "display": null,
       "flex": null,
       "flex_flow": null,
       "grid_area": null,
       "grid_auto_columns": null,
       "grid_auto_flow": null,
       "grid_auto_rows": null,
       "grid_column": null,
       "grid_gap": null,
       "grid_row": null,
       "grid_template_areas": null,
       "grid_template_columns": null,
       "grid_template_rows": null,
       "height": null,
       "justify_content": null,
       "justify_items": null,
       "left": null,
       "margin": null,
       "max_height": null,
       "max_width": null,
       "min_height": null,
       "min_width": null,
       "object_fit": null,
       "object_position": null,
       "order": null,
       "overflow": null,
       "overflow_x": null,
       "overflow_y": null,
       "padding": null,
       "right": null,
       "top": null,
       "visibility": null,
       "width": null
      }
     },
     "5c17d82891eb4007bb4d64979f62d129": {
      "model_module": "@jupyter-widgets/controls",
      "model_module_version": "1.5.0",
      "model_name": "FloatProgressModel",
      "state": {
       "_dom_classes": [],
       "_model_module": "@jupyter-widgets/controls",
       "_model_module_version": "1.5.0",
       "_model_name": "FloatProgressModel",
       "_view_count": null,
       "_view_module": "@jupyter-widgets/controls",
       "_view_module_version": "1.5.0",
       "_view_name": "ProgressView",
       "bar_style": "success",
       "description": "",
       "description_tooltip": null,
       "layout": "IPY_MODEL_0ebf933a8ffa46918de1324ecbe77ef5",
       "max": 1,
       "min": 0,
       "orientation": "horizontal",
       "style": "IPY_MODEL_15109bb60abd4fbaa595a1fd9e0b434c",
       "value": 1
      }
     },
     "5f1cb476531d45a887321e4249db2c39": {
      "model_module": "@jupyter-widgets/base",
      "model_module_version": "1.2.0",
      "model_name": "LayoutModel",
      "state": {
       "_model_module": "@jupyter-widgets/base",
       "_model_module_version": "1.2.0",
       "_model_name": "LayoutModel",
       "_view_count": null,
       "_view_module": "@jupyter-widgets/base",
       "_view_module_version": "1.2.0",
       "_view_name": "LayoutView",
       "align_content": null,
       "align_items": null,
       "align_self": null,
       "border": null,
       "bottom": null,
       "display": null,
       "flex": null,
       "flex_flow": null,
       "grid_area": null,
       "grid_auto_columns": null,
       "grid_auto_flow": null,
       "grid_auto_rows": null,
       "grid_column": null,
       "grid_gap": null,
       "grid_row": null,
       "grid_template_areas": null,
       "grid_template_columns": null,
       "grid_template_rows": null,
       "height": null,
       "justify_content": null,
       "justify_items": null,
       "left": null,
       "margin": null,
       "max_height": null,
       "max_width": null,
       "min_height": null,
       "min_width": null,
       "object_fit": null,
       "object_position": null,
       "order": null,
       "overflow": null,
       "overflow_x": null,
       "overflow_y": null,
       "padding": null,
       "right": null,
       "top": null,
       "visibility": null,
       "width": null
      }
     },
     "6047109f943d4e8c94ef417a77cccbf0": {
      "model_module": "@jupyter-widgets/controls",
      "model_module_version": "1.5.0",
      "model_name": "ProgressStyleModel",
      "state": {
       "_model_module": "@jupyter-widgets/controls",
       "_model_module_version": "1.5.0",
       "_model_name": "ProgressStyleModel",
       "_view_count": null,
       "_view_module": "@jupyter-widgets/base",
       "_view_module_version": "1.2.0",
       "_view_name": "StyleView",
       "bar_color": null,
       "description_width": ""
      }
     },
     "677900d98f9d4ad2a10ebcdcd390e554": {
      "model_module": "@jupyter-widgets/base",
      "model_module_version": "1.2.0",
      "model_name": "LayoutModel",
      "state": {
       "_model_module": "@jupyter-widgets/base",
       "_model_module_version": "1.2.0",
       "_model_name": "LayoutModel",
       "_view_count": null,
       "_view_module": "@jupyter-widgets/base",
       "_view_module_version": "1.2.0",
       "_view_name": "LayoutView",
       "align_content": null,
       "align_items": null,
       "align_self": null,
       "border": null,
       "bottom": null,
       "display": null,
       "flex": null,
       "flex_flow": null,
       "grid_area": null,
       "grid_auto_columns": null,
       "grid_auto_flow": null,
       "grid_auto_rows": null,
       "grid_column": null,
       "grid_gap": null,
       "grid_row": null,
       "grid_template_areas": null,
       "grid_template_columns": null,
       "grid_template_rows": null,
       "height": null,
       "justify_content": null,
       "justify_items": null,
       "left": null,
       "margin": null,
       "max_height": null,
       "max_width": null,
       "min_height": null,
       "min_width": null,
       "object_fit": null,
       "object_position": null,
       "order": null,
       "overflow": null,
       "overflow_x": null,
       "overflow_y": null,
       "padding": null,
       "right": null,
       "top": null,
       "visibility": null,
       "width": null
      }
     },
     "67b8333565df4888a929765d2ce67303": {
      "model_module": "@jupyter-widgets/controls",
      "model_module_version": "1.5.0",
      "model_name": "HTMLModel",
      "state": {
       "_dom_classes": [],
       "_model_module": "@jupyter-widgets/controls",
       "_model_module_version": "1.5.0",
       "_model_name": "HTMLModel",
       "_view_count": null,
       "_view_module": "@jupyter-widgets/controls",
       "_view_module_version": "1.5.0",
       "_view_name": "HTMLView",
       "description": "",
       "description_tooltip": null,
       "layout": "IPY_MODEL_249991677022448dbcba53a5f7f36cb8",
       "placeholder": "​",
       "style": "IPY_MODEL_4c3e0622e4c640eabeb6b32de0295217",
       "value": " 31/31 [00:05&lt;00:00,  3.06it/s, Completed]"
      }
     },
     "6904f35963104a71885482250019f988": {
      "model_module": "@jupyter-widgets/base",
      "model_module_version": "1.2.0",
      "model_name": "LayoutModel",
      "state": {
       "_model_module": "@jupyter-widgets/base",
       "_model_module_version": "1.2.0",
       "_model_name": "LayoutModel",
       "_view_count": null,
       "_view_module": "@jupyter-widgets/base",
       "_view_module_version": "1.2.0",
       "_view_name": "LayoutView",
       "align_content": null,
       "align_items": null,
       "align_self": null,
       "border": null,
       "bottom": null,
       "display": null,
       "flex": null,
       "flex_flow": null,
       "grid_area": null,
       "grid_auto_columns": null,
       "grid_auto_flow": null,
       "grid_auto_rows": null,
       "grid_column": null,
       "grid_gap": null,
       "grid_row": null,
       "grid_template_areas": null,
       "grid_template_columns": null,
       "grid_template_rows": null,
       "height": null,
       "justify_content": null,
       "justify_items": null,
       "left": null,
       "margin": null,
       "max_height": null,
       "max_width": null,
       "min_height": null,
       "min_width": null,
       "object_fit": null,
       "object_position": null,
       "order": null,
       "overflow": null,
       "overflow_x": null,
       "overflow_y": null,
       "padding": null,
       "right": null,
       "top": null,
       "visibility": null,
       "width": null
      }
     },
     "6d0c3240e820446f93ac875870408c90": {
      "model_module": "@jupyter-widgets/controls",
      "model_module_version": "1.5.0",
      "model_name": "DescriptionStyleModel",
      "state": {
       "_model_module": "@jupyter-widgets/controls",
       "_model_module_version": "1.5.0",
       "_model_name": "DescriptionStyleModel",
       "_view_count": null,
       "_view_module": "@jupyter-widgets/base",
       "_view_module_version": "1.2.0",
       "_view_name": "StyleView",
       "description_width": ""
      }
     },
     "6ec9dfb9601e486aa0883e05fa8a685f": {
      "model_module": "@jupyter-widgets/controls",
      "model_module_version": "1.5.0",
      "model_name": "HTMLModel",
      "state": {
       "_dom_classes": [],
       "_model_module": "@jupyter-widgets/controls",
       "_model_module_version": "1.5.0",
       "_model_name": "HTMLModel",
       "_view_count": null,
       "_view_module": "@jupyter-widgets/controls",
       "_view_module_version": "1.5.0",
       "_view_name": "HTMLView",
       "description": "",
       "description_tooltip": null,
       "layout": "IPY_MODEL_6904f35963104a71885482250019f988",
       "placeholder": "​",
       "style": "IPY_MODEL_9ba371e461e94d019f9a7ce868d0a18c",
       "value": "Done! Use &#x27;show&#x27; commands to display/save.   "
      }
     },
     "6efe165975904bb191ff5a4c5edf0640": {
      "model_module": "@jupyter-widgets/controls",
      "model_module_version": "1.5.0",
      "model_name": "ProgressStyleModel",
      "state": {
       "_model_module": "@jupyter-widgets/controls",
       "_model_module_version": "1.5.0",
       "_model_name": "ProgressStyleModel",
       "_view_count": null,
       "_view_module": "@jupyter-widgets/base",
       "_view_module_version": "1.2.0",
       "_view_name": "StyleView",
       "bar_color": null,
       "description_width": ""
      }
     },
     "71216f705b824f2599531d626674256b": {
      "model_module": "@jupyter-widgets/controls",
      "model_module_version": "1.5.0",
      "model_name": "DescriptionStyleModel",
      "state": {
       "_model_module": "@jupyter-widgets/controls",
       "_model_module_version": "1.5.0",
       "_model_name": "DescriptionStyleModel",
       "_view_count": null,
       "_view_module": "@jupyter-widgets/base",
       "_view_module_version": "1.2.0",
       "_view_name": "StyleView",
       "description_width": ""
      }
     },
     "75440a31349b4cb58595aa384dca8b89": {
      "model_module": "@jupyter-widgets/controls",
      "model_module_version": "1.5.0",
      "model_name": "HBoxModel",
      "state": {
       "_dom_classes": [],
       "_model_module": "@jupyter-widgets/controls",
       "_model_module_version": "1.5.0",
       "_model_name": "HBoxModel",
       "_view_count": null,
       "_view_module": "@jupyter-widgets/controls",
       "_view_module_version": "1.5.0",
       "_view_name": "HBoxView",
       "box_style": "",
       "children": [
        "IPY_MODEL_6ec9dfb9601e486aa0883e05fa8a685f",
        "IPY_MODEL_8948f13ebd59445d9bfee35fbd336d28",
        "IPY_MODEL_0d62d79d63d243049645e9441d9d1782"
       ],
       "layout": "IPY_MODEL_fc17bfc338bc495eb41d15440cc29c1b"
      }
     },
     "761df81e519a4e67af0b1f61e35ecfec": {
      "model_module": "@jupyter-widgets/controls",
      "model_module_version": "1.5.0",
      "model_name": "HBoxModel",
      "state": {
       "_dom_classes": [],
       "_model_module": "@jupyter-widgets/controls",
       "_model_module_version": "1.5.0",
       "_model_name": "HBoxModel",
       "_view_count": null,
       "_view_module": "@jupyter-widgets/controls",
       "_view_module_version": "1.5.0",
       "_view_name": "HBoxView",
       "box_style": "",
       "children": [
        "IPY_MODEL_9744a69a369c47688cd69cc06fd3e3b3",
        "IPY_MODEL_10a7d43dcb1a4afe907c82b0b4fae4e1",
        "IPY_MODEL_67b8333565df4888a929765d2ce67303"
       ],
       "layout": "IPY_MODEL_905f75a6d1214fb59e1501500fea8c5a"
      }
     },
     "762da78f2b454640a2df375585cf664a": {
      "model_module": "@jupyter-widgets/controls",
      "model_module_version": "1.5.0",
      "model_name": "ProgressStyleModel",
      "state": {
       "_model_module": "@jupyter-widgets/controls",
       "_model_module_version": "1.5.0",
       "_model_name": "ProgressStyleModel",
       "_view_count": null,
       "_view_module": "@jupyter-widgets/base",
       "_view_module_version": "1.2.0",
       "_view_name": "StyleView",
       "bar_color": null,
       "description_width": ""
      }
     },
     "77daa84ad27340d8a4295d1403917191": {
      "model_module": "@jupyter-widgets/base",
      "model_module_version": "1.2.0",
      "model_name": "LayoutModel",
      "state": {
       "_model_module": "@jupyter-widgets/base",
       "_model_module_version": "1.2.0",
       "_model_name": "LayoutModel",
       "_view_count": null,
       "_view_module": "@jupyter-widgets/base",
       "_view_module_version": "1.2.0",
       "_view_name": "LayoutView",
       "align_content": null,
       "align_items": null,
       "align_self": null,
       "border": null,
       "bottom": null,
       "display": null,
       "flex": null,
       "flex_flow": null,
       "grid_area": null,
       "grid_auto_columns": null,
       "grid_auto_flow": null,
       "grid_auto_rows": null,
       "grid_column": null,
       "grid_gap": null,
       "grid_row": null,
       "grid_template_areas": null,
       "grid_template_columns": null,
       "grid_template_rows": null,
       "height": null,
       "justify_content": null,
       "justify_items": null,
       "left": null,
       "margin": null,
       "max_height": null,
       "max_width": null,
       "min_height": null,
       "min_width": null,
       "object_fit": null,
       "object_position": null,
       "order": null,
       "overflow": null,
       "overflow_x": null,
       "overflow_y": null,
       "padding": null,
       "right": null,
       "top": null,
       "visibility": null,
       "width": null
      }
     },
     "78ad71e4e92240fa8df647a4db2c8720": {
      "model_module": "@jupyter-widgets/base",
      "model_module_version": "1.2.0",
      "model_name": "LayoutModel",
      "state": {
       "_model_module": "@jupyter-widgets/base",
       "_model_module_version": "1.2.0",
       "_model_name": "LayoutModel",
       "_view_count": null,
       "_view_module": "@jupyter-widgets/base",
       "_view_module_version": "1.2.0",
       "_view_name": "LayoutView",
       "align_content": null,
       "align_items": null,
       "align_self": null,
       "border": null,
       "bottom": null,
       "display": null,
       "flex": null,
       "flex_flow": null,
       "grid_area": null,
       "grid_auto_columns": null,
       "grid_auto_flow": null,
       "grid_auto_rows": null,
       "grid_column": null,
       "grid_gap": null,
       "grid_row": null,
       "grid_template_areas": null,
       "grid_template_columns": null,
       "grid_template_rows": null,
       "height": null,
       "justify_content": null,
       "justify_items": null,
       "left": null,
       "margin": null,
       "max_height": null,
       "max_width": null,
       "min_height": null,
       "min_width": null,
       "object_fit": null,
       "object_position": null,
       "order": null,
       "overflow": null,
       "overflow_x": null,
       "overflow_y": null,
       "padding": null,
       "right": null,
       "top": null,
       "visibility": null,
       "width": null
      }
     },
     "7b282fadc94b4a66ad7d0e22d9aca07a": {
      "model_module": "@jupyter-widgets/base",
      "model_module_version": "1.2.0",
      "model_name": "LayoutModel",
      "state": {
       "_model_module": "@jupyter-widgets/base",
       "_model_module_version": "1.2.0",
       "_model_name": "LayoutModel",
       "_view_count": null,
       "_view_module": "@jupyter-widgets/base",
       "_view_module_version": "1.2.0",
       "_view_name": "LayoutView",
       "align_content": null,
       "align_items": null,
       "align_self": null,
       "border": null,
       "bottom": null,
       "display": null,
       "flex": null,
       "flex_flow": null,
       "grid_area": null,
       "grid_auto_columns": null,
       "grid_auto_flow": null,
       "grid_auto_rows": null,
       "grid_column": null,
       "grid_gap": null,
       "grid_row": null,
       "grid_template_areas": null,
       "grid_template_columns": null,
       "grid_template_rows": null,
       "height": null,
       "justify_content": null,
       "justify_items": null,
       "left": null,
       "margin": null,
       "max_height": null,
       "max_width": null,
       "min_height": null,
       "min_width": null,
       "object_fit": null,
       "object_position": null,
       "order": null,
       "overflow": null,
       "overflow_x": null,
       "overflow_y": null,
       "padding": null,
       "right": null,
       "top": null,
       "visibility": null,
       "width": null
      }
     },
     "7e27ef64a9b244daaa3f7c240f9b9dd8": {
      "model_module": "@jupyter-widgets/controls",
      "model_module_version": "1.5.0",
      "model_name": "FloatProgressModel",
      "state": {
       "_dom_classes": [],
       "_model_module": "@jupyter-widgets/controls",
       "_model_module_version": "1.5.0",
       "_model_name": "FloatProgressModel",
       "_view_count": null,
       "_view_module": "@jupyter-widgets/controls",
       "_view_module_version": "1.5.0",
       "_view_name": "ProgressView",
       "bar_style": "success",
       "description": "",
       "description_tooltip": null,
       "layout": "IPY_MODEL_77daa84ad27340d8a4295d1403917191",
       "max": 1,
       "min": 0,
       "orientation": "horizontal",
       "style": "IPY_MODEL_6efe165975904bb191ff5a4c5edf0640",
       "value": 1
      }
     },
     "8948f13ebd59445d9bfee35fbd336d28": {
      "model_module": "@jupyter-widgets/controls",
      "model_module_version": "1.5.0",
      "model_name": "FloatProgressModel",
      "state": {
       "_dom_classes": [],
       "_model_module": "@jupyter-widgets/controls",
       "_model_module_version": "1.5.0",
       "_model_name": "FloatProgressModel",
       "_view_count": null,
       "_view_module": "@jupyter-widgets/controls",
       "_view_module_version": "1.5.0",
       "_view_name": "ProgressView",
       "bar_style": "success",
       "description": "",
       "description_tooltip": null,
       "layout": "IPY_MODEL_f7009099d9fa483fb7353701b25c9307",
       "max": 1,
       "min": 0,
       "orientation": "horizontal",
       "style": "IPY_MODEL_762da78f2b454640a2df375585cf664a",
       "value": 1
      }
     },
     "905f75a6d1214fb59e1501500fea8c5a": {
      "model_module": "@jupyter-widgets/base",
      "model_module_version": "1.2.0",
      "model_name": "LayoutModel",
      "state": {
       "_model_module": "@jupyter-widgets/base",
       "_model_module_version": "1.2.0",
       "_model_name": "LayoutModel",
       "_view_count": null,
       "_view_module": "@jupyter-widgets/base",
       "_view_module_version": "1.2.0",
       "_view_name": "LayoutView",
       "align_content": null,
       "align_items": null,
       "align_self": null,
       "border": null,
       "bottom": null,
       "display": null,
       "flex": null,
       "flex_flow": null,
       "grid_area": null,
       "grid_auto_columns": null,
       "grid_auto_flow": null,
       "grid_auto_rows": null,
       "grid_column": null,
       "grid_gap": null,
       "grid_row": null,
       "grid_template_areas": null,
       "grid_template_columns": null,
       "grid_template_rows": null,
       "height": null,
       "justify_content": null,
       "justify_items": null,
       "left": null,
       "margin": null,
       "max_height": null,
       "max_width": null,
       "min_height": null,
       "min_width": null,
       "object_fit": null,
       "object_position": null,
       "order": null,
       "overflow": null,
       "overflow_x": null,
       "overflow_y": null,
       "padding": null,
       "right": null,
       "top": null,
       "visibility": null,
       "width": null
      }
     },
     "90da7973ab7641438b8ad642844d7e7f": {
      "model_module": "@jupyter-widgets/controls",
      "model_module_version": "1.5.0",
      "model_name": "HTMLModel",
      "state": {
       "_dom_classes": [],
       "_model_module": "@jupyter-widgets/controls",
       "_model_module_version": "1.5.0",
       "_model_name": "HTMLModel",
       "_view_count": null,
       "_view_module": "@jupyter-widgets/controls",
       "_view_module_version": "1.5.0",
       "_view_name": "HTMLView",
       "description": "",
       "description_tooltip": null,
       "layout": "IPY_MODEL_f4c4ec0b5e4e4d8db515520ec4016293",
       "placeholder": "​",
       "style": "IPY_MODEL_410f8bc83f894e7da738beed358b1fbf",
       "value": " 1/1 [00:02&lt;00:00,  2.65s/it]"
      }
     },
     "94c3cbc2b36643d3b0d1e1004c936352": {
      "model_module": "@jupyter-widgets/base",
      "model_module_version": "1.2.0",
      "model_name": "LayoutModel",
      "state": {
       "_model_module": "@jupyter-widgets/base",
       "_model_module_version": "1.2.0",
       "_model_name": "LayoutModel",
       "_view_count": null,
       "_view_module": "@jupyter-widgets/base",
       "_view_module_version": "1.2.0",
       "_view_name": "LayoutView",
       "align_content": null,
       "align_items": null,
       "align_self": null,
       "border": null,
       "bottom": null,
       "display": null,
       "flex": null,
       "flex_flow": null,
       "grid_area": null,
       "grid_auto_columns": null,
       "grid_auto_flow": null,
       "grid_auto_rows": null,
       "grid_column": null,
       "grid_gap": null,
       "grid_row": null,
       "grid_template_areas": null,
       "grid_template_columns": null,
       "grid_template_rows": null,
       "height": null,
       "justify_content": null,
       "justify_items": null,
       "left": null,
       "margin": null,
       "max_height": null,
       "max_width": null,
       "min_height": null,
       "min_width": null,
       "object_fit": null,
       "object_position": null,
       "order": null,
       "overflow": null,
       "overflow_x": null,
       "overflow_y": null,
       "padding": null,
       "right": null,
       "top": null,
       "visibility": null,
       "width": null
      }
     },
     "9744a69a369c47688cd69cc06fd3e3b3": {
      "model_module": "@jupyter-widgets/controls",
      "model_module_version": "1.5.0",
      "model_name": "HTMLModel",
      "state": {
       "_dom_classes": [],
       "_model_module": "@jupyter-widgets/controls",
       "_model_module_version": "1.5.0",
       "_model_name": "HTMLModel",
       "_view_count": null,
       "_view_module": "@jupyter-widgets/controls",
       "_view_module_version": "1.5.0",
       "_view_name": "HTMLView",
       "description": "",
       "description_tooltip": null,
       "layout": "IPY_MODEL_36d0971476d34bac9bce92ab2938f180",
       "placeholder": "​",
       "style": "IPY_MODEL_a801d8c984e64f23abf1493009eb406c",
       "value": "Summarize dataset: 100%"
      }
     },
     "9ba371e461e94d019f9a7ce868d0a18c": {
      "model_module": "@jupyter-widgets/controls",
      "model_module_version": "1.5.0",
      "model_name": "DescriptionStyleModel",
      "state": {
       "_model_module": "@jupyter-widgets/controls",
       "_model_module_version": "1.5.0",
       "_model_name": "DescriptionStyleModel",
       "_view_count": null,
       "_view_module": "@jupyter-widgets/base",
       "_view_module_version": "1.2.0",
       "_view_name": "StyleView",
       "description_width": ""
      }
     },
     "a333440bbaaf44348af72c1e45550049": {
      "model_module": "@jupyter-widgets/controls",
      "model_module_version": "1.5.0",
      "model_name": "HTMLModel",
      "state": {
       "_dom_classes": [],
       "_model_module": "@jupyter-widgets/controls",
       "_model_module_version": "1.5.0",
       "_model_name": "HTMLModel",
       "_view_count": null,
       "_view_module": "@jupyter-widgets/controls",
       "_view_module_version": "1.5.0",
       "_view_name": "HTMLView",
       "description": "",
       "description_tooltip": null,
       "layout": "IPY_MODEL_568cdc97e6de4d4d81e767ce573496b2",
       "placeholder": "​",
       "style": "IPY_MODEL_e2c30841341b4d619cfcc0432c099c27",
       "value": "Export report to file: 100%"
      }
     },
     "a801d8c984e64f23abf1493009eb406c": {
      "model_module": "@jupyter-widgets/controls",
      "model_module_version": "1.5.0",
      "model_name": "DescriptionStyleModel",
      "state": {
       "_model_module": "@jupyter-widgets/controls",
       "_model_module_version": "1.5.0",
       "_model_name": "DescriptionStyleModel",
       "_view_count": null,
       "_view_module": "@jupyter-widgets/base",
       "_view_module_version": "1.2.0",
       "_view_name": "StyleView",
       "description_width": ""
      }
     },
     "abdcade99e37479f8c7c2b6ca399ecea": {
      "model_module": "@jupyter-widgets/controls",
      "model_module_version": "1.5.0",
      "model_name": "FloatProgressModel",
      "state": {
       "_dom_classes": [],
       "_model_module": "@jupyter-widgets/controls",
       "_model_module_version": "1.5.0",
       "_model_name": "FloatProgressModel",
       "_view_count": null,
       "_view_module": "@jupyter-widgets/controls",
       "_view_module_version": "1.5.0",
       "_view_name": "ProgressView",
       "bar_style": "success",
       "description": "",
       "description_tooltip": null,
       "layout": "IPY_MODEL_1221484284a8413991382b483bb7c988",
       "max": 1,
       "min": 0,
       "orientation": "horizontal",
       "style": "IPY_MODEL_3be042bb63b44cc3b44d0c6b2bd7fad2",
       "value": 1
      }
     },
     "b4b624fa7e0c4107ab96981be94ac5ad": {
      "model_module": "@jupyter-widgets/controls",
      "model_module_version": "1.5.0",
      "model_name": "HTMLModel",
      "state": {
       "_dom_classes": [],
       "_model_module": "@jupyter-widgets/controls",
       "_model_module_version": "1.5.0",
       "_model_name": "HTMLModel",
       "_view_count": null,
       "_view_module": "@jupyter-widgets/controls",
       "_view_module_version": "1.5.0",
       "_view_name": "HTMLView",
       "description": "",
       "description_tooltip": null,
       "layout": "IPY_MODEL_7b282fadc94b4a66ad7d0e22d9aca07a",
       "placeholder": "​",
       "style": "IPY_MODEL_dfbb34dbd4394a2c952bdbd590f5307d",
       "value": "Generate report structure: 100%"
      }
     },
     "c5d7bae8b52b4b03b7d2c54b8ba556a5": {
      "model_module": "@jupyter-widgets/controls",
      "model_module_version": "1.5.0",
      "model_name": "HBoxModel",
      "state": {
       "_dom_classes": [],
       "_model_module": "@jupyter-widgets/controls",
       "_model_module_version": "1.5.0",
       "_model_name": "HBoxModel",
       "_view_count": null,
       "_view_module": "@jupyter-widgets/controls",
       "_view_module_version": "1.5.0",
       "_view_name": "HBoxView",
       "box_style": "",
       "children": [
        "IPY_MODEL_42b648c5fc7a401c8067c05175adcf3a",
        "IPY_MODEL_7e27ef64a9b244daaa3f7c240f9b9dd8",
        "IPY_MODEL_e72325e770e44821b25471dd0528ccc5"
       ],
       "layout": "IPY_MODEL_78ad71e4e92240fa8df647a4db2c8720"
      }
     },
     "dfbb34dbd4394a2c952bdbd590f5307d": {
      "model_module": "@jupyter-widgets/controls",
      "model_module_version": "1.5.0",
      "model_name": "DescriptionStyleModel",
      "state": {
       "_model_module": "@jupyter-widgets/controls",
       "_model_module_version": "1.5.0",
       "_model_name": "DescriptionStyleModel",
       "_view_count": null,
       "_view_module": "@jupyter-widgets/base",
       "_view_module_version": "1.2.0",
       "_view_name": "StyleView",
       "description_width": ""
      }
     },
     "e2c30841341b4d619cfcc0432c099c27": {
      "model_module": "@jupyter-widgets/controls",
      "model_module_version": "1.5.0",
      "model_name": "DescriptionStyleModel",
      "state": {
       "_model_module": "@jupyter-widgets/controls",
       "_model_module_version": "1.5.0",
       "_model_name": "DescriptionStyleModel",
       "_view_count": null,
       "_view_module": "@jupyter-widgets/base",
       "_view_module_version": "1.2.0",
       "_view_name": "StyleView",
       "description_width": ""
      }
     },
     "e72325e770e44821b25471dd0528ccc5": {
      "model_module": "@jupyter-widgets/controls",
      "model_module_version": "1.5.0",
      "model_name": "HTMLModel",
      "state": {
       "_dom_classes": [],
       "_model_module": "@jupyter-widgets/controls",
       "_model_module_version": "1.5.0",
       "_model_name": "HTMLModel",
       "_view_count": null,
       "_view_module": "@jupyter-widgets/controls",
       "_view_module_version": "1.5.0",
       "_view_name": "HTMLView",
       "description": "",
       "description_tooltip": null,
       "layout": "IPY_MODEL_25b3f6fc15094d7ab095afe5b5831120",
       "placeholder": "​",
       "style": "IPY_MODEL_6d0c3240e820446f93ac875870408c90",
       "value": " 1/1 [00:00&lt;00:00,  1.59it/s]"
      }
     },
     "eefd703f272446b29e03ea0d8a51a74e": {
      "model_module": "@jupyter-widgets/controls",
      "model_module_version": "1.5.0",
      "model_name": "DescriptionStyleModel",
      "state": {
       "_model_module": "@jupyter-widgets/controls",
       "_model_module_version": "1.5.0",
       "_model_name": "DescriptionStyleModel",
       "_view_count": null,
       "_view_module": "@jupyter-widgets/base",
       "_view_module_version": "1.2.0",
       "_view_name": "StyleView",
       "description_width": ""
      }
     },
     "f4c4ec0b5e4e4d8db515520ec4016293": {
      "model_module": "@jupyter-widgets/base",
      "model_module_version": "1.2.0",
      "model_name": "LayoutModel",
      "state": {
       "_model_module": "@jupyter-widgets/base",
       "_model_module_version": "1.2.0",
       "_model_name": "LayoutModel",
       "_view_count": null,
       "_view_module": "@jupyter-widgets/base",
       "_view_module_version": "1.2.0",
       "_view_name": "LayoutView",
       "align_content": null,
       "align_items": null,
       "align_self": null,
       "border": null,
       "bottom": null,
       "display": null,
       "flex": null,
       "flex_flow": null,
       "grid_area": null,
       "grid_auto_columns": null,
       "grid_auto_flow": null,
       "grid_auto_rows": null,
       "grid_column": null,
       "grid_gap": null,
       "grid_row": null,
       "grid_template_areas": null,
       "grid_template_columns": null,
       "grid_template_rows": null,
       "height": null,
       "justify_content": null,
       "justify_items": null,
       "left": null,
       "margin": null,
       "max_height": null,
       "max_width": null,
       "min_height": null,
       "min_width": null,
       "object_fit": null,
       "object_position": null,
       "order": null,
       "overflow": null,
       "overflow_x": null,
       "overflow_y": null,
       "padding": null,
       "right": null,
       "top": null,
       "visibility": null,
       "width": null
      }
     },
     "f7009099d9fa483fb7353701b25c9307": {
      "model_module": "@jupyter-widgets/base",
      "model_module_version": "1.2.0",
      "model_name": "LayoutModel",
      "state": {
       "_model_module": "@jupyter-widgets/base",
       "_model_module_version": "1.2.0",
       "_model_name": "LayoutModel",
       "_view_count": null,
       "_view_module": "@jupyter-widgets/base",
       "_view_module_version": "1.2.0",
       "_view_name": "LayoutView",
       "align_content": null,
       "align_items": null,
       "align_self": null,
       "border": null,
       "bottom": null,
       "display": null,
       "flex": "2",
       "flex_flow": null,
       "grid_area": null,
       "grid_auto_columns": null,
       "grid_auto_flow": null,
       "grid_auto_rows": null,
       "grid_column": null,
       "grid_gap": null,
       "grid_row": null,
       "grid_template_areas": null,
       "grid_template_columns": null,
       "grid_template_rows": null,
       "height": null,
       "justify_content": null,
       "justify_items": null,
       "left": null,
       "margin": null,
       "max_height": null,
       "max_width": null,
       "min_height": null,
       "min_width": null,
       "object_fit": null,
       "object_position": null,
       "order": null,
       "overflow": null,
       "overflow_x": null,
       "overflow_y": null,
       "padding": null,
       "right": null,
       "top": null,
       "visibility": null,
       "width": null
      }
     },
     "fc17bfc338bc495eb41d15440cc29c1b": {
      "model_module": "@jupyter-widgets/base",
      "model_module_version": "1.2.0",
      "model_name": "LayoutModel",
      "state": {
       "_model_module": "@jupyter-widgets/base",
       "_model_module_version": "1.2.0",
       "_model_name": "LayoutModel",
       "_view_count": null,
       "_view_module": "@jupyter-widgets/base",
       "_view_module_version": "1.2.0",
       "_view_name": "LayoutView",
       "align_content": null,
       "align_items": null,
       "align_self": null,
       "border": null,
       "bottom": null,
       "display": "inline-flex",
       "flex": null,
       "flex_flow": "row wrap",
       "grid_area": null,
       "grid_auto_columns": null,
       "grid_auto_flow": null,
       "grid_auto_rows": null,
       "grid_column": null,
       "grid_gap": null,
       "grid_row": null,
       "grid_template_areas": null,
       "grid_template_columns": null,
       "grid_template_rows": null,
       "height": null,
       "justify_content": null,
       "justify_items": null,
       "left": null,
       "margin": null,
       "max_height": null,
       "max_width": null,
       "min_height": null,
       "min_width": null,
       "object_fit": null,
       "object_position": null,
       "order": null,
       "overflow": null,
       "overflow_x": null,
       "overflow_y": null,
       "padding": null,
       "right": null,
       "top": null,
       "visibility": null,
       "width": "100%"
      }
     }
    },
    "version_major": 2,
    "version_minor": 0
   }
  }
 },
 "nbformat": 4,
 "nbformat_minor": 5
}
